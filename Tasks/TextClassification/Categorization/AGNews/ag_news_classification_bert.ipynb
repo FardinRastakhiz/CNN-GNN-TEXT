{
 "cells": [
  {
   "cell_type": "code",
   "execution_count": 1,
   "metadata": {
    "_cell_guid": "b1076dfc-b9ad-4769-8c92-a6c4dae69d19",
    "_uuid": "8f2839f25d086af736a60e9eeb907d3b93b6e0e5",
    "execution": {
     "iopub.execute_input": "2024-05-16T08:57:32.084590Z",
     "iopub.status.busy": "2024-05-16T08:57:32.084111Z",
     "iopub.status.idle": "2024-05-16T08:57:46.449731Z",
     "shell.execute_reply": "2024-05-16T08:57:46.448696Z",
     "shell.execute_reply.started": "2024-05-16T08:57:32.084551Z"
    },
    "trusted": true
   },
   "outputs": [],
   "source": [
    "# from IPython.display import clear_output\n",
    "# !pip install transformers datasets torch evaluate\n",
    "# clear_output()"
   ]
  },
  {
   "cell_type": "code",
   "execution_count": 2,
   "metadata": {
    "execution": {
     "iopub.execute_input": "2024-05-16T08:57:46.452604Z",
     "iopub.status.busy": "2024-05-16T08:57:46.452251Z",
     "iopub.status.idle": "2024-05-16T08:58:04.865742Z",
     "shell.execute_reply": "2024-05-16T08:58:04.864780Z",
     "shell.execute_reply.started": "2024-05-16T08:57:46.452570Z"
    },
    "trusted": true
   },
   "outputs": [],
   "source": [
    "# importing libraries \n",
    "import numpy as np\n",
    "import pandas as pd\n",
    "\n",
    "from sklearn import preprocessing\n",
    "from sklearn.model_selection import train_test_split\n",
    "\n",
    "import torch\n",
    "from transformers import BertTokenizer, BertForSequenceClassification, Trainer, TrainingArguments\n",
    "from datasets import Dataset\n",
    "\n",
    "from sklearn.preprocessing import LabelEncoder\n",
    "from sklearn.metrics import classification_report, confusion_matrix\n",
    "\n",
    "# Plots\n",
    "import matplotlib.pyplot as plt\n",
    "from sklearn.model_selection import KFold"
   ]
  },
  {
   "cell_type": "code",
   "execution_count": 3,
   "metadata": {
    "execution": {
     "iopub.execute_input": "2024-05-16T08:58:04.867916Z",
     "iopub.status.busy": "2024-05-16T08:58:04.867175Z",
     "iopub.status.idle": "2024-05-16T08:58:05.611442Z",
     "shell.execute_reply": "2024-05-16T08:58:05.610330Z",
     "shell.execute_reply.started": "2024-05-16T08:58:04.867888Z"
    },
    "trusted": true
   },
   "outputs": [],
   "source": [
    "# here in this dataset I found two datasets for training and testing purpose seprately\n",
    "df_train = pd.read_csv(r'data\\TextClassification\\AGNews\\train.csv', header=None)\n",
    "df_train.columns=['label', 'Title', 'Description']\n",
    "df_test = pd.read_csv(r'data\\TextClassification\\AGNews\\test.csv', header=None)\n",
    "df_test.columns=['label', 'Title', 'Description']"
   ]
  },
  {
   "cell_type": "code",
   "execution_count": 4,
   "metadata": {
    "execution": {
     "iopub.execute_input": "2024-05-16T08:58:05.615194Z",
     "iopub.status.busy": "2024-05-16T08:58:05.614368Z",
     "iopub.status.idle": "2024-05-16T08:58:05.619476Z",
     "shell.execute_reply": "2024-05-16T08:58:05.618695Z",
     "shell.execute_reply.started": "2024-05-16T08:58:05.615133Z"
    },
    "trusted": true
   },
   "outputs": [],
   "source": [
    "def combine_title_and_description(df):\n",
    "    # Returns a dataset with the title and description fields combined\n",
    "    df['text'] = df[['Title', 'Description']].agg('. '.join, axis=1)\n",
    "    df = df.drop(['Title', 'Description'], axis=1)\n",
    "    return df"
   ]
  },
  {
   "cell_type": "code",
   "execution_count": 5,
   "metadata": {
    "execution": {
     "iopub.execute_input": "2024-05-16T08:58:05.620936Z",
     "iopub.status.busy": "2024-05-16T08:58:05.620609Z",
     "iopub.status.idle": "2024-05-16T08:58:06.846880Z",
     "shell.execute_reply": "2024-05-16T08:58:06.845937Z",
     "shell.execute_reply.started": "2024-05-16T08:58:05.620906Z"
    },
    "trusted": true
   },
   "outputs": [
    {
     "data": {
      "text/html": [
       "<div>\n",
       "<style scoped>\n",
       "    .dataframe tbody tr th:only-of-type {\n",
       "        vertical-align: middle;\n",
       "    }\n",
       "\n",
       "    .dataframe tbody tr th {\n",
       "        vertical-align: top;\n",
       "    }\n",
       "\n",
       "    .dataframe thead th {\n",
       "        text-align: right;\n",
       "    }\n",
       "</style>\n",
       "<table border=\"1\" class=\"dataframe\">\n",
       "  <thead>\n",
       "    <tr style=\"text-align: right;\">\n",
       "      <th></th>\n",
       "      <th>label</th>\n",
       "      <th>text</th>\n",
       "    </tr>\n",
       "  </thead>\n",
       "  <tbody>\n",
       "    <tr>\n",
       "      <th>0</th>\n",
       "      <td>3</td>\n",
       "      <td>Wall St. Bears Claw Back Into the Black (Reute...</td>\n",
       "    </tr>\n",
       "    <tr>\n",
       "      <th>1</th>\n",
       "      <td>3</td>\n",
       "      <td>Carlyle Looks Toward Commercial Aerospace (Reu...</td>\n",
       "    </tr>\n",
       "    <tr>\n",
       "      <th>2</th>\n",
       "      <td>3</td>\n",
       "      <td>Oil and Economy Cloud Stocks' Outlook (Reuters...</td>\n",
       "    </tr>\n",
       "    <tr>\n",
       "      <th>3</th>\n",
       "      <td>3</td>\n",
       "      <td>Iraq Halts Oil Exports from Main Southern Pipe...</td>\n",
       "    </tr>\n",
       "    <tr>\n",
       "      <th>4</th>\n",
       "      <td>3</td>\n",
       "      <td>Oil prices soar to all-time record, posing new...</td>\n",
       "    </tr>\n",
       "  </tbody>\n",
       "</table>\n",
       "</div>"
      ],
      "text/plain": [
       "   label                                               text\n",
       "0      3  Wall St. Bears Claw Back Into the Black (Reute...\n",
       "1      3  Carlyle Looks Toward Commercial Aerospace (Reu...\n",
       "2      3  Oil and Economy Cloud Stocks' Outlook (Reuters...\n",
       "3      3  Iraq Halts Oil Exports from Main Southern Pipe...\n",
       "4      3  Oil prices soar to all-time record, posing new..."
      ]
     },
     "execution_count": 5,
     "metadata": {},
     "output_type": "execute_result"
    }
   ],
   "source": [
    "df_train = combine_title_and_description(df_train)\n",
    "df_test = combine_title_and_description(df_test)\n",
    "df_train.head()"
   ]
  },
  {
   "cell_type": "code",
   "execution_count": 6,
   "metadata": {
    "execution": {
     "iopub.execute_input": "2024-05-16T08:58:06.848267Z",
     "iopub.status.busy": "2024-05-16T08:58:06.847976Z",
     "iopub.status.idle": "2024-05-16T08:58:07.405883Z",
     "shell.execute_reply": "2024-05-16T08:58:07.404985Z",
     "shell.execute_reply.started": "2024-05-16T08:58:06.848243Z"
    },
    "trusted": true
   },
   "outputs": [
    {
     "name": "stderr",
     "output_type": "stream",
     "text": [
      "[nltk_data] Downloading package stopwords to\n",
      "[nltk_data]     C:\\Users\\fardi\\AppData\\Roaming\\nltk_data...\n",
      "[nltk_data]   Package stopwords is already up-to-date!\n"
     ]
    }
   ],
   "source": [
    "#Tockenize and removing stopwords,punctuations and other irrelevant characters  \n",
    "import nltk\n",
    "from nltk.corpus import stopwords\n",
    "from nltk.tokenize import word_tokenize\n",
    "import multiprocessing as mp\n",
    "\n",
    "nltk.download('stopwords')\n",
    "stop_words = set(stopwords.words('english'))\n",
    "\n",
    "def remove_stopwords(text):\n",
    "    words = text.split()\n",
    "    words = [word for word in words if word.lower() not in stop_words]\n",
    "    return \" \".join(words)\n"
   ]
  },
  {
   "cell_type": "code",
   "execution_count": 7,
   "metadata": {
    "execution": {
     "iopub.execute_input": "2024-05-16T08:58:07.407603Z",
     "iopub.status.busy": "2024-05-16T08:58:07.407055Z",
     "iopub.status.idle": "2024-05-16T09:07:16.079397Z",
     "shell.execute_reply": "2024-05-16T09:07:16.078481Z",
     "shell.execute_reply.started": "2024-05-16T08:58:07.407578Z"
    },
    "trusted": true
   },
   "outputs": [],
   "source": [
    "df_train['text'] = df_train['text'].apply(remove_stopwords)\n",
    "df_train['label'] = df_train['label']-1"
   ]
  },
  {
   "cell_type": "code",
   "execution_count": 8,
   "metadata": {
    "execution": {
     "iopub.execute_input": "2024-05-16T09:07:16.080899Z",
     "iopub.status.busy": "2024-05-16T09:07:16.080608Z",
     "iopub.status.idle": "2024-05-16T09:07:50.799363Z",
     "shell.execute_reply": "2024-05-16T09:07:50.798583Z",
     "shell.execute_reply.started": "2024-05-16T09:07:16.080876Z"
    },
    "trusted": true
   },
   "outputs": [],
   "source": [
    "df_test['text']=df_test['text'].apply(remove_stopwords)\n",
    "df_test['label'] = df_test['label']-1"
   ]
  },
  {
   "cell_type": "code",
   "execution_count": 9,
   "metadata": {
    "execution": {
     "iopub.execute_input": "2024-05-16T09:07:50.800693Z",
     "iopub.status.busy": "2024-05-16T09:07:50.800419Z",
     "iopub.status.idle": "2024-05-16T09:07:51.017640Z",
     "shell.execute_reply": "2024-05-16T09:07:51.016760Z",
     "shell.execute_reply.started": "2024-05-16T09:07:50.800670Z"
    },
    "trusted": true
   },
   "outputs": [],
   "source": [
    "train_dataset = Dataset.from_pandas(df_train)\n",
    "test_dataset = Dataset.from_pandas(df_test)"
   ]
  },
  {
   "cell_type": "code",
   "execution_count": 10,
   "metadata": {
    "execution": {
     "iopub.execute_input": "2024-05-16T09:07:51.020476Z",
     "iopub.status.busy": "2024-05-16T09:07:51.020179Z",
     "iopub.status.idle": "2024-05-16T09:07:54.301932Z",
     "shell.execute_reply": "2024-05-16T09:07:54.300986Z",
     "shell.execute_reply.started": "2024-05-16T09:07:51.020451Z"
    },
    "trusted": true
   },
   "outputs": [
    {
     "name": "stderr",
     "output_type": "stream",
     "text": [
      "Some weights of BertForSequenceClassification were not initialized from the model checkpoint at bert-base-uncased and are newly initialized: ['classifier.bias', 'classifier.weight']\n",
      "You should probably TRAIN this model on a down-stream task to be able to use it for predictions and inference.\n"
     ]
    }
   ],
   "source": [
    "tokenizer = BertTokenizer.from_pretrained('bert-base-uncased')\n",
    "model = BertForSequenceClassification.from_pretrained('bert-base-uncased', num_labels=4)"
   ]
  },
  {
   "cell_type": "code",
   "execution_count": 11,
   "metadata": {
    "execution": {
     "iopub.execute_input": "2024-05-16T09:07:54.303453Z",
     "iopub.status.busy": "2024-05-16T09:07:54.303139Z",
     "iopub.status.idle": "2024-05-16T09:11:23.861624Z",
     "shell.execute_reply": "2024-05-16T09:11:23.860497Z",
     "shell.execute_reply.started": "2024-05-16T09:07:54.303429Z"
    },
    "trusted": true
   },
   "outputs": [
    {
     "data": {
      "application/vnd.jupyter.widget-view+json": {
       "model_id": "977398633d5144f2b9aac6d464acc6b0",
       "version_major": 2,
       "version_minor": 0
      },
      "text/plain": [
       "Map:   0%|          | 0/120000 [00:00<?, ? examples/s]"
      ]
     },
     "metadata": {},
     "output_type": "display_data"
    },
    {
     "data": {
      "application/vnd.jupyter.widget-view+json": {
       "model_id": "041d3f5229b3458e845f35850c0378e1",
       "version_major": 2,
       "version_minor": 0
      },
      "text/plain": [
       "Map:   0%|          | 0/7600 [00:00<?, ? examples/s]"
      ]
     },
     "metadata": {},
     "output_type": "display_data"
    }
   ],
   "source": [
    "def tokenize_function(examples):\n",
    "    return tokenizer(examples['text'], padding='max_length', truncation=True)\n",
    "\n",
    "train_dataset = train_dataset.map(tokenize_function, batched=True)\n",
    "test_dataset = test_dataset.map(tokenize_function, batched=True)"
   ]
  },
  {
   "cell_type": "code",
   "execution_count": 12,
   "metadata": {
    "execution": {
     "iopub.execute_input": "2024-05-16T09:11:23.863061Z",
     "iopub.status.busy": "2024-05-16T09:11:23.862769Z",
     "iopub.status.idle": "2024-05-16T09:11:23.873032Z",
     "shell.execute_reply": "2024-05-16T09:11:23.872307Z",
     "shell.execute_reply.started": "2024-05-16T09:11:23.863035Z"
    },
    "trusted": true
   },
   "outputs": [],
   "source": [
    "# Set the format for PyTorch\n",
    "train_dataset = train_dataset.rename_column('label', 'labels')\n",
    "test_dataset = test_dataset.rename_column('label', 'labels')\n",
    "train_dataset.set_format('torch', columns=['input_ids', 'attention_mask', 'labels'])\n",
    "test_dataset.set_format('torch', columns=['input_ids', 'attention_mask', 'labels'])"
   ]
  },
  {
   "cell_type": "code",
   "execution_count": null,
   "metadata": {
    "execution": {
     "iopub.execute_input": "2024-05-16T11:29:14.966512Z",
     "iopub.status.busy": "2024-05-16T11:29:14.965672Z",
     "iopub.status.idle": "2024-05-16T11:29:16.450870Z",
     "shell.execute_reply": "2024-05-16T11:29:16.449785Z",
     "shell.execute_reply.started": "2024-05-16T11:29:14.966480Z"
    },
    "trusted": true
   },
   "outputs": [
    {
     "name": "stderr",
     "output_type": "stream",
     "text": [
      "Using the latest cached version of the module from C:\\Users\\fardin\\.cache\\huggingface\\modules\\evaluate_modules\\metrics\\evaluate-metric--accuracy\\f887c0aab52c2d38e1f8a215681126379eca617f96c447638f751434e8e65b14 (last modified on Sat May 18 18:36:55 2024) since it couldn't be found locally at evaluate-metric--accuracy, or remotely on the Hugging Face Hub.\n",
      "Using the latest cached version of the module from C:\\Users\\fardin\\.cache\\huggingface\\modules\\evaluate_modules\\metrics\\evaluate-metric--precision\\4e7f439a346715f68500ce6f2be82bf3272abd3f20bdafd203a2c4f85b61dd5f (last modified on Sat May 18 18:37:00 2024) since it couldn't be found locally at evaluate-metric--precision, or remotely on the Hugging Face Hub.\n",
      "Using the latest cached version of the module from C:\\Users\\fardin\\.cache\\huggingface\\modules\\evaluate_modules\\metrics\\evaluate-metric--recall\\e40e6e98d18ff3f210f4d0b26fa721bfaa80704b1fdf890fa551cfabf94fc185 (last modified on Sat May 18 18:37:06 2024) since it couldn't be found locally at evaluate-metric--recall, or remotely on the Hugging Face Hub.\n",
      "c:\\Users\\fardin\\AppData\\Local\\Programs\\Python\\Python311\\Lib\\site-packages\\accelerate\\accelerator.py:446: FutureWarning: Passing the following arguments to `Accelerator` is deprecated and will be removed in version 1.0 of Accelerate: dict_keys(['dispatch_batches', 'split_batches']). Please pass an `accelerate.DataLoaderConfiguration` instead: \n",
      "dataloader_config = DataLoaderConfiguration(dispatch_batches=None, split_batches=False)\n",
      "  warnings.warn(\n"
     ]
    }
   ],
   "source": [
    "training_args = TrainingArguments(\n",
    "    output_dir=r'logs/OtherModels/bert_ag_results',\n",
    "    eval_strategy='epoch',\n",
    "    learning_rate=2e-5,\n",
    "    per_device_train_batch_size=10,\n",
    "    per_device_eval_batch_size=10,\n",
    "    overwrite_output_dir=True,\n",
    "    num_train_epochs=5,\n",
    "    weight_decay=0.01,\n",
    "    save_total_limit=3,\n",
    "    save_strategy=\"no\"\n",
    ")\n",
    "\n",
    "# Load the metrics\n",
    "import evaluate;\n",
    "accuracy_metric = evaluate.load('accuracy', trust_remote_code=True)\n",
    "precision_metric = evaluate.load('precision', trust_remote_code=True)\n",
    "recall_metric = evaluate.load('recall', trust_remote_code=True)\n",
    "\n",
    "def compute_metrics(p):\n",
    "    predictions, labels = p.predictions, p.label_ids\n",
    "    predictions = np.argmax(predictions, axis=1)\n",
    "\n",
    "    accuracy = accuracy_metric.compute(predictions=predictions, references=labels)\n",
    "    precision = precision_metric.compute(predictions=predictions, references=labels, average=\"macro\")\n",
    "    recall = recall_metric.compute(predictions=predictions, references=labels, average=\"macro\")\n",
    "    \n",
    "    return {\n",
    "        'accuracy': accuracy['accuracy'],\n",
    "        'precision': precision['precision'],\n",
    "        'recall': recall['recall']\n",
    "    }\n",
    "\n",
    "trainer = Trainer(\n",
    "    model=model,\n",
    "    args=training_args,\n",
    "    train_dataset=train_dataset,\n",
    "    eval_dataset=test_dataset,\n",
    "    compute_metrics=compute_metrics,\n",
    ")\n"
   ]
  },
  {
   "cell_type": "code",
   "execution_count": null,
   "metadata": {},
   "outputs": [
    {
     "data": {
      "text/plain": [
       "0"
      ]
     },
     "execution_count": 22,
     "metadata": {},
     "output_type": "execute_result"
    }
   ],
   "source": [
    "torch.cuda.empty_cache()\n",
    "import gc\n",
    "gc.collect()"
   ]
  },
  {
   "cell_type": "code",
   "execution_count": null,
   "metadata": {
    "execution": {
     "iopub.execute_input": "2024-05-16T11:29:28.366599Z",
     "iopub.status.busy": "2024-05-16T11:29:28.365913Z"
    },
    "trusted": true
   },
   "outputs": [
    {
     "data": {
      "application/vnd.jupyter.widget-view+json": {
       "model_id": "c825436b95874673b092d61a6f159fa4",
       "version_major": 2,
       "version_minor": 0
      },
      "text/plain": [
       "  0%|          | 0/60000 [00:00<?, ?it/s]"
      ]
     },
     "metadata": {},
     "output_type": "display_data"
    },
    {
     "name": "stdout",
     "output_type": "stream",
     "text": [
      "{'loss': 0.0783, 'learning_rate': 1.9833333333333335e-05, 'epoch': 3.04}\n",
      "{'loss': 0.0981, 'learning_rate': 1.9666666666666666e-05, 'epoch': 3.08}\n",
      "{'loss': 0.1018, 'learning_rate': 1.95e-05, 'epoch': 3.12}\n",
      "{'loss': 0.1081, 'learning_rate': 1.9333333333333333e-05, 'epoch': 3.17}\n",
      "{'loss': 0.0962, 'learning_rate': 1.916666666666667e-05, 'epoch': 3.21}\n",
      "{'loss': 0.1299, 'learning_rate': 1.9e-05, 'epoch': 3.25}\n",
      "{'loss': 0.1446, 'learning_rate': 1.8833333333333335e-05, 'epoch': 3.29}\n",
      "{'loss': 0.1502, 'learning_rate': 1.866666666666667e-05, 'epoch': 3.33}\n",
      "{'loss': 0.1424, 'learning_rate': 1.8500000000000002e-05, 'epoch': 3.38}\n",
      "{'loss': 0.1447, 'learning_rate': 1.8333333333333333e-05, 'epoch': 3.42}\n",
      "{'loss': 0.1395, 'learning_rate': 1.8166666666666667e-05, 'epoch': 3.46}\n",
      "{'loss': 0.1446, 'learning_rate': 1.8e-05, 'epoch': 3.5}\n",
      "{'loss': 0.1424, 'learning_rate': 1.7833333333333334e-05, 'epoch': 3.54}\n",
      "{'loss': 0.143, 'learning_rate': 1.7666666666666668e-05, 'epoch': 3.58}\n",
      "{'loss': 0.1505, 'learning_rate': 1.7500000000000002e-05, 'epoch': 3.62}\n",
      "{'loss': 0.1494, 'learning_rate': 1.7333333333333336e-05, 'epoch': 3.67}\n",
      "{'loss': 0.1612, 'learning_rate': 1.7166666666666666e-05, 'epoch': 3.71}\n",
      "{'loss': 0.1501, 'learning_rate': 1.7e-05, 'epoch': 3.75}\n",
      "{'loss': 0.1425, 'learning_rate': 1.6833333333333334e-05, 'epoch': 3.79}\n",
      "{'loss': 0.1541, 'learning_rate': 1.6666666666666667e-05, 'epoch': 3.83}\n",
      "{'loss': 0.1529, 'learning_rate': 1.65e-05, 'epoch': 3.88}\n",
      "{'loss': 0.1574, 'learning_rate': 1.6333333333333335e-05, 'epoch': 3.92}\n",
      "{'loss': 0.139, 'learning_rate': 1.616666666666667e-05, 'epoch': 3.96}\n",
      "{'loss': 0.1317, 'learning_rate': 1.6000000000000003e-05, 'epoch': 4.0}\n"
     ]
    },
    {
     "data": {
      "application/vnd.jupyter.widget-view+json": {
       "model_id": "ad9a16fb1e86418c8dccfbb3808e0cc6",
       "version_major": 2,
       "version_minor": 0
      },
      "text/plain": [
       "  0%|          | 0/760 [00:00<?, ?it/s]"
      ]
     },
     "metadata": {},
     "output_type": "display_data"
    },
    {
     "name": "stdout",
     "output_type": "stream",
     "text": [
      "{'eval_loss': 0.27091148495674133, 'eval_accuracy': 0.9425, 'eval_precision': 0.943124051263504, 'eval_recall': 0.9425, 'eval_runtime': 79.415, 'eval_samples_per_second': 95.7, 'eval_steps_per_second': 9.57, 'epoch': 4.0}\n",
      "{'loss': 0.0916, 'learning_rate': 1.5833333333333333e-05, 'epoch': 4.04}\n",
      "{'loss': 0.0826, 'learning_rate': 1.5666666666666667e-05, 'epoch': 4.08}\n",
      "{'loss': 0.0728, 'learning_rate': 1.55e-05, 'epoch': 4.12}\n",
      "{'loss': 0.082, 'learning_rate': 1.5333333333333334e-05, 'epoch': 4.17}\n",
      "{'loss': 0.0937, 'learning_rate': 1.5166666666666667e-05, 'epoch': 4.21}\n",
      "{'loss': 0.0829, 'learning_rate': 1.5000000000000002e-05, 'epoch': 4.25}\n",
      "{'loss': 0.094, 'learning_rate': 1.4833333333333336e-05, 'epoch': 4.29}\n",
      "{'loss': 0.0885, 'learning_rate': 1.4666666666666666e-05, 'epoch': 4.33}\n",
      "{'loss': 0.0826, 'learning_rate': 1.45e-05, 'epoch': 4.38}\n",
      "{'loss': 0.0956, 'learning_rate': 1.4333333333333334e-05, 'epoch': 4.42}\n",
      "{'loss': 0.0739, 'learning_rate': 1.416666666666667e-05, 'epoch': 4.46}\n",
      "{'loss': 0.0886, 'learning_rate': 1.4e-05, 'epoch': 4.5}\n",
      "{'loss': 0.1033, 'learning_rate': 1.3833333333333334e-05, 'epoch': 4.54}\n",
      "{'loss': 0.1037, 'learning_rate': 1.3666666666666667e-05, 'epoch': 4.58}\n",
      "{'loss': 0.1084, 'learning_rate': 1.3500000000000001e-05, 'epoch': 4.62}\n",
      "{'loss': 0.0843, 'learning_rate': 1.3333333333333333e-05, 'epoch': 4.67}\n",
      "{'loss': 0.1023, 'learning_rate': 1.3166666666666667e-05, 'epoch': 4.71}\n",
      "{'loss': 0.1034, 'learning_rate': 1.3000000000000001e-05, 'epoch': 4.75}\n",
      "{'loss': 0.0995, 'learning_rate': 1.2833333333333335e-05, 'epoch': 4.79}\n",
      "{'loss': 0.1066, 'learning_rate': 1.2666666666666667e-05, 'epoch': 4.83}\n",
      "{'loss': 0.1107, 'learning_rate': 1.25e-05, 'epoch': 4.88}\n",
      "{'loss': 0.109, 'learning_rate': 1.2333333333333334e-05, 'epoch': 4.92}\n",
      "{'loss': 0.1137, 'learning_rate': 1.2166666666666667e-05, 'epoch': 4.96}\n",
      "{'loss': 0.1058, 'learning_rate': 1.2e-05, 'epoch': 5.0}\n"
     ]
    },
    {
     "data": {
      "application/vnd.jupyter.widget-view+json": {
       "model_id": "0e05f3449d3247b1a41d293f49c2a79f",
       "version_major": 2,
       "version_minor": 0
      },
      "text/plain": [
       "  0%|          | 0/760 [00:00<?, ?it/s]"
      ]
     },
     "metadata": {},
     "output_type": "display_data"
    },
    {
     "name": "stdout",
     "output_type": "stream",
     "text": [
      "{'eval_loss': 0.30075618624687195, 'eval_accuracy': 0.9432894736842106, 'eval_precision': 0.943577994956708, 'eval_recall': 0.9432894736842106, 'eval_runtime': 75.42, 'eval_samples_per_second': 100.769, 'eval_steps_per_second': 10.077, 'epoch': 5.0}\n",
      "{'train_runtime': 7461.525, 'train_samples_per_second': 80.413, 'train_steps_per_second': 8.041, 'train_loss': 0.04610097599029541, 'epoch': 5.0}\n"
     ]
    },
    {
     "data": {
      "application/vnd.jupyter.widget-view+json": {
       "model_id": "ce3adbdfcd0841d2bbadce09f273f520",
       "version_major": 2,
       "version_minor": 0
      },
      "text/plain": [
       "  0%|          | 0/760 [00:00<?, ?it/s]"
      ]
     },
     "metadata": {},
     "output_type": "display_data"
    },
    {
     "name": "stdout",
     "output_type": "stream",
     "text": [
      "Evaluation results: {'eval_loss': 0.30075618624687195, 'eval_accuracy': 0.9432894736842106, 'eval_precision': 0.943577994956708, 'eval_recall': 0.9432894736842106, 'eval_runtime': 75.204, 'eval_samples_per_second': 101.058, 'eval_steps_per_second': 10.106, 'epoch': 5.0}\n"
     ]
    }
   ],
   "source": [
    "# Train the model\n",
    "trainer.train(resume_from_checkpoint=r\"logs/OtherModels/bert_ag_results/last_epoch\")\n",
    "\n",
    "# Evaluate the model\n",
    "eval_results = trainer.evaluate()\n",
    "print(f\"Evaluation results: {eval_results}\")"
   ]
  },
  {
   "cell_type": "code",
   "execution_count": null,
   "metadata": {
    "trusted": true
   },
   "outputs": [],
   "source": [
    "trainer.save_model(r\"logs/OtherModels/bert_ag_results/last_epoch\")"
   ]
  },
  {
   "cell_type": "code",
   "execution_count": null,
   "metadata": {},
   "outputs": [],
   "source": [
    "Evaluation results: {'eval_loss': 0.24346782267093658, 'eval_accuracy': 0.9488157894736842, 'eval_precision': 0.9489294182155664, 'eval_recall': 0.9488157894736842, 'eval_runtime': 78.778, 'eval_samples_per_second': 96.474, 'eval_steps_per_second': 9.647, 'epoch': 3.0}"
   ]
  }
 ],
 "metadata": {
  "kaggle": {
   "accelerator": "gpu",
   "dataSources": [
    {
     "datasetId": 612351,
     "sourceId": 1095715,
     "sourceType": "datasetVersion"
    }
   ],
   "dockerImageVersionId": 30699,
   "isGpuEnabled": true,
   "isInternetEnabled": true,
   "language": "python",
   "sourceType": "notebook"
  },
  "kernelspec": {
   "display_name": "venv",
   "language": "python",
   "name": "python3"
  },
  "language_info": {
   "codemirror_mode": {
    "name": "ipython",
    "version": 3
   },
   "file_extension": ".py",
   "mimetype": "text/x-python",
   "name": "python",
   "nbconvert_exporter": "python",
   "pygments_lexer": "ipython3",
   "version": "3.11.9"
  }
 },
 "nbformat": 4,
 "nbformat_minor": 4
}
