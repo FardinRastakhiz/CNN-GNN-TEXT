{
 "cells": [
  {
   "cell_type": "code",
   "execution_count": 1,
   "metadata": {
    "_cell_guid": "b1076dfc-b9ad-4769-8c92-a6c4dae69d19",
    "_uuid": "8f2839f25d086af736a60e9eeb907d3b93b6e0e5",
    "execution": {
     "iopub.execute_input": "2024-05-16T08:57:32.084590Z",
     "iopub.status.busy": "2024-05-16T08:57:32.084111Z",
     "iopub.status.idle": "2024-05-16T08:57:46.449731Z",
     "shell.execute_reply": "2024-05-16T08:57:46.448696Z",
     "shell.execute_reply.started": "2024-05-16T08:57:32.084551Z"
    },
    "trusted": true
   },
   "outputs": [],
   "source": [
    "# from IPython.display import clear_output\n",
    "# !pip install transformers datasets torch evaluate\n",
    "# clear_output()"
   ]
  },
  {
   "cell_type": "code",
   "execution_count": 1,
   "metadata": {
    "execution": {
     "iopub.execute_input": "2024-05-16T08:57:46.452604Z",
     "iopub.status.busy": "2024-05-16T08:57:46.452251Z",
     "iopub.status.idle": "2024-05-16T08:58:04.865742Z",
     "shell.execute_reply": "2024-05-16T08:58:04.864780Z",
     "shell.execute_reply.started": "2024-05-16T08:57:46.452570Z"
    },
    "trusted": true
   },
   "outputs": [],
   "source": [
    "# importing libraries \n",
    "import numpy as np\n",
    "import pandas as pd\n",
    "\n",
    "from sklearn import preprocessing\n",
    "from sklearn.model_selection import train_test_split\n",
    "\n",
    "import torch\n",
    "from transformers import DistilBertTokenizer, DistilBertForSequenceClassification, Trainer, TrainingArguments\n",
    "from datasets import Dataset\n",
    "\n",
    "from sklearn.preprocessing import LabelEncoder\n",
    "from sklearn.metrics import classification_report, confusion_matrix\n",
    "\n",
    "# Plots\n",
    "import matplotlib.pyplot as plt\n",
    "from sklearn.model_selection import KFold"
   ]
  },
  {
   "cell_type": "code",
   "execution_count": 3,
   "metadata": {
    "execution": {
     "iopub.execute_input": "2024-05-16T08:58:04.867916Z",
     "iopub.status.busy": "2024-05-16T08:58:04.867175Z",
     "iopub.status.idle": "2024-05-16T08:58:05.611442Z",
     "shell.execute_reply": "2024-05-16T08:58:05.610330Z",
     "shell.execute_reply.started": "2024-05-16T08:58:04.867888Z"
    },
    "trusted": true
   },
   "outputs": [],
   "source": [
    "# here in this dataset I found two datasets for training and testing purpose seprately\n",
    "df_train = pd.read_csv(r'data\\TextClassification\\AGNews\\train.csv', header=None)\n",
    "df_train.columns=['label', 'Title', 'Description']\n",
    "df_test = pd.read_csv(r'data\\TextClassification\\AGNews\\test.csv', header=None)\n",
    "df_test.columns=['label', 'Title', 'Description']"
   ]
  },
  {
   "cell_type": "code",
   "execution_count": 4,
   "metadata": {
    "execution": {
     "iopub.execute_input": "2024-05-16T08:58:05.615194Z",
     "iopub.status.busy": "2024-05-16T08:58:05.614368Z",
     "iopub.status.idle": "2024-05-16T08:58:05.619476Z",
     "shell.execute_reply": "2024-05-16T08:58:05.618695Z",
     "shell.execute_reply.started": "2024-05-16T08:58:05.615133Z"
    },
    "trusted": true
   },
   "outputs": [],
   "source": [
    "def combine_title_and_description(df):\n",
    "    # Returns a dataset with the title and description fields combined\n",
    "    df['text'] = df[['Title', 'Description']].agg('. '.join, axis=1)\n",
    "    df = df.drop(['Title', 'Description'], axis=1)\n",
    "    return df"
   ]
  },
  {
   "cell_type": "code",
   "execution_count": 5,
   "metadata": {
    "execution": {
     "iopub.execute_input": "2024-05-16T08:58:05.620936Z",
     "iopub.status.busy": "2024-05-16T08:58:05.620609Z",
     "iopub.status.idle": "2024-05-16T08:58:06.846880Z",
     "shell.execute_reply": "2024-05-16T08:58:06.845937Z",
     "shell.execute_reply.started": "2024-05-16T08:58:05.620906Z"
    },
    "trusted": true
   },
   "outputs": [
    {
     "data": {
      "text/html": [
       "<div>\n",
       "<style scoped>\n",
       "    .dataframe tbody tr th:only-of-type {\n",
       "        vertical-align: middle;\n",
       "    }\n",
       "\n",
       "    .dataframe tbody tr th {\n",
       "        vertical-align: top;\n",
       "    }\n",
       "\n",
       "    .dataframe thead th {\n",
       "        text-align: right;\n",
       "    }\n",
       "</style>\n",
       "<table border=\"1\" class=\"dataframe\">\n",
       "  <thead>\n",
       "    <tr style=\"text-align: right;\">\n",
       "      <th></th>\n",
       "      <th>label</th>\n",
       "      <th>text</th>\n",
       "    </tr>\n",
       "  </thead>\n",
       "  <tbody>\n",
       "    <tr>\n",
       "      <th>0</th>\n",
       "      <td>3</td>\n",
       "      <td>Wall St. Bears Claw Back Into the Black (Reute...</td>\n",
       "    </tr>\n",
       "    <tr>\n",
       "      <th>1</th>\n",
       "      <td>3</td>\n",
       "      <td>Carlyle Looks Toward Commercial Aerospace (Reu...</td>\n",
       "    </tr>\n",
       "    <tr>\n",
       "      <th>2</th>\n",
       "      <td>3</td>\n",
       "      <td>Oil and Economy Cloud Stocks' Outlook (Reuters...</td>\n",
       "    </tr>\n",
       "    <tr>\n",
       "      <th>3</th>\n",
       "      <td>3</td>\n",
       "      <td>Iraq Halts Oil Exports from Main Southern Pipe...</td>\n",
       "    </tr>\n",
       "    <tr>\n",
       "      <th>4</th>\n",
       "      <td>3</td>\n",
       "      <td>Oil prices soar to all-time record, posing new...</td>\n",
       "    </tr>\n",
       "  </tbody>\n",
       "</table>\n",
       "</div>"
      ],
      "text/plain": [
       "   label                                               text\n",
       "0      3  Wall St. Bears Claw Back Into the Black (Reute...\n",
       "1      3  Carlyle Looks Toward Commercial Aerospace (Reu...\n",
       "2      3  Oil and Economy Cloud Stocks' Outlook (Reuters...\n",
       "3      3  Iraq Halts Oil Exports from Main Southern Pipe...\n",
       "4      3  Oil prices soar to all-time record, posing new..."
      ]
     },
     "execution_count": 5,
     "metadata": {},
     "output_type": "execute_result"
    }
   ],
   "source": [
    "df_train = combine_title_and_description(df_train)\n",
    "df_test = combine_title_and_description(df_test)\n",
    "df_train.head()"
   ]
  },
  {
   "cell_type": "code",
   "execution_count": 6,
   "metadata": {
    "execution": {
     "iopub.execute_input": "2024-05-16T08:58:06.848267Z",
     "iopub.status.busy": "2024-05-16T08:58:06.847976Z",
     "iopub.status.idle": "2024-05-16T08:58:07.405883Z",
     "shell.execute_reply": "2024-05-16T08:58:07.404985Z",
     "shell.execute_reply.started": "2024-05-16T08:58:06.848243Z"
    },
    "trusted": true
   },
   "outputs": [
    {
     "name": "stderr",
     "output_type": "stream",
     "text": [
      "[nltk_data] Downloading package stopwords to\n",
      "[nltk_data]     C:\\Users\\fardin\\AppData\\Roaming\\nltk_data...\n",
      "[nltk_data]   Package stopwords is already up-to-date!\n"
     ]
    }
   ],
   "source": [
    "#Tockenize and removing stopwords,punctuations and other irrelevant characters  \n",
    "import nltk\n",
    "from nltk.corpus import stopwords\n",
    "from nltk.tokenize import word_tokenize\n",
    "import multiprocessing as mp\n",
    "\n",
    "nltk.download('stopwords')\n",
    "stop_words = set(stopwords.words('english'))\n",
    "\n",
    "def remove_stopwords(text):\n",
    "    words = text.split()\n",
    "    words = [word for word in words if word.lower() not in stop_words]\n",
    "    return \" \".join(words)\n"
   ]
  },
  {
   "cell_type": "code",
   "execution_count": 7,
   "metadata": {
    "execution": {
     "iopub.execute_input": "2024-05-16T08:58:07.407603Z",
     "iopub.status.busy": "2024-05-16T08:58:07.407055Z",
     "iopub.status.idle": "2024-05-16T09:07:16.079397Z",
     "shell.execute_reply": "2024-05-16T09:07:16.078481Z",
     "shell.execute_reply.started": "2024-05-16T08:58:07.407578Z"
    },
    "trusted": true
   },
   "outputs": [],
   "source": [
    "df_train['text'] = df_train['text'].apply(remove_stopwords)\n",
    "df_train['label'] = df_train['label']-1"
   ]
  },
  {
   "cell_type": "code",
   "execution_count": 8,
   "metadata": {
    "execution": {
     "iopub.execute_input": "2024-05-16T09:07:16.080899Z",
     "iopub.status.busy": "2024-05-16T09:07:16.080608Z",
     "iopub.status.idle": "2024-05-16T09:07:50.799363Z",
     "shell.execute_reply": "2024-05-16T09:07:50.798583Z",
     "shell.execute_reply.started": "2024-05-16T09:07:16.080876Z"
    },
    "trusted": true
   },
   "outputs": [],
   "source": [
    "df_test['text']=df_test['text'].apply(remove_stopwords)\n",
    "df_test['label'] = df_test['label']-1"
   ]
  },
  {
   "cell_type": "code",
   "execution_count": 2,
   "metadata": {
    "execution": {
     "iopub.execute_input": "2024-05-16T09:07:51.020476Z",
     "iopub.status.busy": "2024-05-16T09:07:51.020179Z",
     "iopub.status.idle": "2024-05-16T09:07:54.301932Z",
     "shell.execute_reply": "2024-05-16T09:07:54.300986Z",
     "shell.execute_reply.started": "2024-05-16T09:07:51.020451Z"
    },
    "trusted": true
   },
   "outputs": [
    {
     "data": {
      "application/vnd.jupyter.widget-view+json": {
       "model_id": "1d850fccc0674f7eb35ee73c8ea68853",
       "version_major": 2,
       "version_minor": 0
      },
      "text/plain": [
       "tokenizer_config.json:   0%|          | 0.00/48.0 [00:00<?, ?B/s]"
      ]
     },
     "metadata": {},
     "output_type": "display_data"
    },
    {
     "name": "stderr",
     "output_type": "stream",
     "text": [
      "f:\\Articles\\CGNet\\venv\\Lib\\site-packages\\huggingface_hub\\file_download.py:143: UserWarning: `huggingface_hub` cache-system uses symlinks by default to efficiently store duplicated files but your machine does not support them in C:\\Users\\fardi\\.cache\\huggingface\\hub\\models--distilbert-base-uncased. Caching files will still work but in a degraded version that might require more space on your disk. This warning can be disabled by setting the `HF_HUB_DISABLE_SYMLINKS_WARNING` environment variable. For more details, see https://huggingface.co/docs/huggingface_hub/how-to-cache#limitations.\n",
      "To support symlinks on Windows, you either need to activate Developer Mode or to run Python as an administrator. In order to activate developer mode, see this article: https://docs.microsoft.com/en-us/windows/apps/get-started/enable-your-device-for-development\n",
      "  warnings.warn(message)\n"
     ]
    },
    {
     "data": {
      "application/vnd.jupyter.widget-view+json": {
       "model_id": "5bb995f75fcd4c70a83732131b6c31ef",
       "version_major": 2,
       "version_minor": 0
      },
      "text/plain": [
       "vocab.txt:   0%|          | 0.00/232k [00:00<?, ?B/s]"
      ]
     },
     "metadata": {},
     "output_type": "display_data"
    },
    {
     "data": {
      "application/vnd.jupyter.widget-view+json": {
       "model_id": "682497cd65944fe99c407091f1be3b4f",
       "version_major": 2,
       "version_minor": 0
      },
      "text/plain": [
       "tokenizer.json:   0%|          | 0.00/466k [00:00<?, ?B/s]"
      ]
     },
     "metadata": {},
     "output_type": "display_data"
    },
    {
     "data": {
      "application/vnd.jupyter.widget-view+json": {
       "model_id": "94b5e60862d54a5a87c4aff549372588",
       "version_major": 2,
       "version_minor": 0
      },
      "text/plain": [
       "config.json:   0%|          | 0.00/483 [00:00<?, ?B/s]"
      ]
     },
     "metadata": {},
     "output_type": "display_data"
    },
    {
     "name": "stderr",
     "output_type": "stream",
     "text": [
      "Xet Storage is enabled for this repo, but the 'hf_xet' package is not installed. Falling back to regular HTTP download. For better performance, install the package with: `pip install huggingface_hub[hf_xet]` or `pip install hf_xet`\n"
     ]
    },
    {
     "data": {
      "application/vnd.jupyter.widget-view+json": {
       "model_id": "2077db37e8a64a74a15ba9ac7e086c84",
       "version_major": 2,
       "version_minor": 0
      },
      "text/plain": [
       "model.safetensors:   0%|          | 0.00/268M [00:00<?, ?B/s]"
      ]
     },
     "metadata": {},
     "output_type": "display_data"
    },
    {
     "name": "stderr",
     "output_type": "stream",
     "text": [
      "Some weights of DistilBertForSequenceClassification were not initialized from the model checkpoint at distilbert-base-uncased and are newly initialized: ['classifier.bias', 'classifier.weight', 'pre_classifier.bias', 'pre_classifier.weight']\n",
      "You should probably TRAIN this model on a down-stream task to be able to use it for predictions and inference.\n"
     ]
    }
   ],
   "source": [
    "tokenizer = DistilBertTokenizer.from_pretrained('distilbert-base-uncased')\n",
    "model = DistilBertForSequenceClassification.from_pretrained('distilbert-base-uncased', num_labels=4)"
   ]
  },
  {
   "cell_type": "code",
   "execution_count": 10,
   "metadata": {
    "execution": {
     "iopub.execute_input": "2024-05-16T09:07:50.800693Z",
     "iopub.status.busy": "2024-05-16T09:07:50.800419Z",
     "iopub.status.idle": "2024-05-16T09:07:51.017640Z",
     "shell.execute_reply": "2024-05-16T09:07:51.016760Z",
     "shell.execute_reply.started": "2024-05-16T09:07:50.800670Z"
    },
    "trusted": true
   },
   "outputs": [],
   "source": [
    "train_dataset = Dataset.from_pandas(df_train)\n",
    "test_dataset = Dataset.from_pandas(df_test)"
   ]
  },
  {
   "cell_type": "code",
   "execution_count": 11,
   "metadata": {
    "execution": {
     "iopub.execute_input": "2024-05-16T09:07:54.303453Z",
     "iopub.status.busy": "2024-05-16T09:07:54.303139Z",
     "iopub.status.idle": "2024-05-16T09:11:23.861624Z",
     "shell.execute_reply": "2024-05-16T09:11:23.860497Z",
     "shell.execute_reply.started": "2024-05-16T09:07:54.303429Z"
    },
    "trusted": true
   },
   "outputs": [
    {
     "data": {
      "application/vnd.jupyter.widget-view+json": {
       "model_id": "015327b39153451b8833abacb75557ca",
       "version_major": 2,
       "version_minor": 0
      },
      "text/plain": [
       "Map:   0%|          | 0/120000 [00:00<?, ? examples/s]"
      ]
     },
     "metadata": {},
     "output_type": "display_data"
    },
    {
     "data": {
      "application/vnd.jupyter.widget-view+json": {
       "model_id": "79c1ac6b8def4484a5d30fd6aaca3bf9",
       "version_major": 2,
       "version_minor": 0
      },
      "text/plain": [
       "Map:   0%|          | 0/7600 [00:00<?, ? examples/s]"
      ]
     },
     "metadata": {},
     "output_type": "display_data"
    }
   ],
   "source": [
    "def tokenize_function(examples):\n",
    "    return tokenizer(examples['text'], padding='max_length', truncation=True)\n",
    "\n",
    "train_dataset = train_dataset.map(tokenize_function, batched=True)\n",
    "test_dataset = test_dataset.map(tokenize_function, batched=True)"
   ]
  },
  {
   "cell_type": "code",
   "execution_count": 12,
   "metadata": {
    "execution": {
     "iopub.execute_input": "2024-05-16T09:11:23.863061Z",
     "iopub.status.busy": "2024-05-16T09:11:23.862769Z",
     "iopub.status.idle": "2024-05-16T09:11:23.873032Z",
     "shell.execute_reply": "2024-05-16T09:11:23.872307Z",
     "shell.execute_reply.started": "2024-05-16T09:11:23.863035Z"
    },
    "trusted": true
   },
   "outputs": [],
   "source": [
    "# Set the format for PyTorch\n",
    "train_dataset = train_dataset.rename_column('label', 'labels')\n",
    "test_dataset = test_dataset.rename_column('label', 'labels')\n",
    "train_dataset.set_format('torch', columns=['input_ids', 'attention_mask', 'labels'])\n",
    "test_dataset.set_format('torch', columns=['input_ids', 'attention_mask', 'labels'])"
   ]
  },
  {
   "cell_type": "code",
   "execution_count": 13,
   "metadata": {
    "execution": {
     "iopub.execute_input": "2024-05-16T11:29:14.966512Z",
     "iopub.status.busy": "2024-05-16T11:29:14.965672Z",
     "iopub.status.idle": "2024-05-16T11:29:16.450870Z",
     "shell.execute_reply": "2024-05-16T11:29:16.449785Z",
     "shell.execute_reply.started": "2024-05-16T11:29:14.966480Z"
    },
    "trusted": true
   },
   "outputs": [
    {
     "name": "stderr",
     "output_type": "stream",
     "text": [
      "c:\\Users\\fardin\\AppData\\Local\\Programs\\Python\\Python311\\Lib\\site-packages\\accelerate\\accelerator.py:446: FutureWarning: Passing the following arguments to `Accelerator` is deprecated and will be removed in version 1.0 of Accelerate: dict_keys(['dispatch_batches', 'split_batches']). Please pass an `accelerate.DataLoaderConfiguration` instead: \n",
      "dataloader_config = DataLoaderConfiguration(dispatch_batches=None, split_batches=False)\n",
      "  warnings.warn(\n"
     ]
    }
   ],
   "source": [
    "training_args = TrainingArguments(\n",
    "    output_dir=r'logs/OtherModels/bert_ag_results',\n",
    "    eval_strategy='epoch',\n",
    "    learning_rate=2e-5,\n",
    "    per_device_train_batch_size=20,\n",
    "    per_device_eval_batch_size=20,\n",
    "    overwrite_output_dir=True,\n",
    "    num_train_epochs=5,\n",
    "    weight_decay=0.01,\n",
    "    save_total_limit=3,\n",
    "    save_strategy=\"no\"\n",
    ")\n",
    "\n",
    "# Load the metrics\n",
    "import evaluate;\n",
    "accuracy_metric = evaluate.load('accuracy', trust_remote_code=True)\n",
    "precision_metric = evaluate.load('precision', trust_remote_code=True)\n",
    "recall_metric = evaluate.load('recall', trust_remote_code=True)\n",
    "\n",
    "def compute_metrics(p):\n",
    "    predictions, labels = p.predictions, p.label_ids\n",
    "    predictions = np.argmax(predictions, axis=1)\n",
    "\n",
    "    accuracy = accuracy_metric.compute(predictions=predictions, references=labels)\n",
    "    precision = precision_metric.compute(predictions=predictions, references=labels, average=\"macro\")\n",
    "    recall = recall_metric.compute(predictions=predictions, references=labels, average=\"macro\")\n",
    "    \n",
    "    return {\n",
    "        'accuracy': accuracy['accuracy'],\n",
    "        'precision': precision['precision'],\n",
    "        'recall': recall['recall']\n",
    "    }\n",
    "\n",
    "trainer = Trainer(\n",
    "    model=model,\n",
    "    args=training_args,\n",
    "    train_dataset=train_dataset,\n",
    "    eval_dataset=test_dataset,\n",
    "    compute_metrics=compute_metrics,\n",
    ")\n"
   ]
  },
  {
   "cell_type": "code",
   "execution_count": 15,
   "metadata": {},
   "outputs": [
    {
     "data": {
      "text/plain": [
       "0"
      ]
     },
     "execution_count": 15,
     "metadata": {},
     "output_type": "execute_result"
    }
   ],
   "source": [
    "torch.cuda.empty_cache()\n",
    "import gc\n",
    "gc.collect()"
   ]
  },
  {
   "cell_type": "code",
   "execution_count": 16,
   "metadata": {
    "execution": {
     "iopub.execute_input": "2024-05-16T11:29:28.366599Z",
     "iopub.status.busy": "2024-05-16T11:29:28.365913Z"
    },
    "trusted": true
   },
   "outputs": [
    {
     "data": {
      "application/vnd.jupyter.widget-view+json": {
       "model_id": "2e43a3abbebc45f8ae38cb74900f11e8",
       "version_major": 2,
       "version_minor": 0
      },
      "text/plain": [
       "  0%|          | 0/30000 [00:00<?, ?it/s]"
      ]
     },
     "metadata": {},
     "output_type": "display_data"
    },
    {
     "name": "stdout",
     "output_type": "stream",
     "text": [
      "{'loss': 0.4025, 'learning_rate': 1.9666666666666666e-05, 'epoch': 0.08}\n",
      "{'loss': 0.2708, 'learning_rate': 1.9333333333333333e-05, 'epoch': 0.17}\n",
      "{'loss': 0.2411, 'learning_rate': 1.9e-05, 'epoch': 0.25}\n",
      "{'loss': 0.223, 'learning_rate': 1.866666666666667e-05, 'epoch': 0.33}\n",
      "{'loss': 0.2246, 'learning_rate': 1.8333333333333333e-05, 'epoch': 0.42}\n",
      "{'loss': 0.2065, 'learning_rate': 1.8e-05, 'epoch': 0.5}\n",
      "{'loss': 0.2057, 'learning_rate': 1.7666666666666668e-05, 'epoch': 0.58}\n",
      "{'loss': 0.2105, 'learning_rate': 1.7333333333333336e-05, 'epoch': 0.67}\n",
      "{'loss': 0.206, 'learning_rate': 1.7e-05, 'epoch': 0.75}\n",
      "{'loss': 0.1943, 'learning_rate': 1.6666666666666667e-05, 'epoch': 0.83}\n",
      "{'loss': 0.2022, 'learning_rate': 1.6333333333333335e-05, 'epoch': 0.92}\n",
      "{'loss': 0.1784, 'learning_rate': 1.6000000000000003e-05, 'epoch': 1.0}\n"
     ]
    },
    {
     "data": {
      "application/vnd.jupyter.widget-view+json": {
       "model_id": "99b45ba7d72b46d59e9378421fa12990",
       "version_major": 2,
       "version_minor": 0
      },
      "text/plain": [
       "  0%|          | 0/380 [00:00<?, ?it/s]"
      ]
     },
     "metadata": {},
     "output_type": "display_data"
    },
    {
     "name": "stdout",
     "output_type": "stream",
     "text": [
      "{'eval_loss': 0.18419606983661652, 'eval_accuracy': 0.9421052631578948, 'eval_precision': 0.94236472615576, 'eval_recall': 0.9421052631578948, 'eval_runtime': 43.32, 'eval_samples_per_second': 175.439, 'eval_steps_per_second': 8.772, 'epoch': 1.0}\n",
      "{'loss': 0.1419, 'learning_rate': 1.5666666666666667e-05, 'epoch': 1.08}\n",
      "{'loss': 0.1491, 'learning_rate': 1.5333333333333334e-05, 'epoch': 1.17}\n",
      "{'loss': 0.1426, 'learning_rate': 1.5000000000000002e-05, 'epoch': 1.25}\n",
      "{'loss': 0.1479, 'learning_rate': 1.4666666666666666e-05, 'epoch': 1.33}\n",
      "{'loss': 0.1436, 'learning_rate': 1.4333333333333334e-05, 'epoch': 1.42}\n",
      "{'loss': 0.1371, 'learning_rate': 1.4e-05, 'epoch': 1.5}\n",
      "{'loss': 0.1372, 'learning_rate': 1.3666666666666667e-05, 'epoch': 1.58}\n",
      "{'loss': 0.1483, 'learning_rate': 1.3333333333333333e-05, 'epoch': 1.67}\n",
      "{'loss': 0.1459, 'learning_rate': 1.3000000000000001e-05, 'epoch': 1.75}\n",
      "{'loss': 0.1452, 'learning_rate': 1.2666666666666667e-05, 'epoch': 1.83}\n",
      "{'loss': 0.1425, 'learning_rate': 1.2333333333333334e-05, 'epoch': 1.92}\n",
      "{'loss': 0.1332, 'learning_rate': 1.2e-05, 'epoch': 2.0}\n"
     ]
    },
    {
     "data": {
      "application/vnd.jupyter.widget-view+json": {
       "model_id": "566eaff1e7a940bbbba648e182aa9d56",
       "version_major": 2,
       "version_minor": 0
      },
      "text/plain": [
       "  0%|          | 0/380 [00:00<?, ?it/s]"
      ]
     },
     "metadata": {},
     "output_type": "display_data"
    },
    {
     "name": "stdout",
     "output_type": "stream",
     "text": [
      "{'eval_loss': 0.18927596509456635, 'eval_accuracy': 0.9438157894736842, 'eval_precision': 0.9440456695811128, 'eval_recall': 0.9438157894736842, 'eval_runtime': 43.707, 'eval_samples_per_second': 173.885, 'eval_steps_per_second': 8.694, 'epoch': 2.0}\n",
      "{'loss': 0.0968, 'learning_rate': 1.1666666666666668e-05, 'epoch': 2.08}\n",
      "{'loss': 0.0922, 'learning_rate': 1.1333333333333334e-05, 'epoch': 2.17}\n",
      "{'loss': 0.1038, 'learning_rate': 1.1000000000000001e-05, 'epoch': 2.25}\n",
      "{'loss': 0.0977, 'learning_rate': 1.0666666666666667e-05, 'epoch': 2.33}\n",
      "{'loss': 0.0954, 'learning_rate': 1.0333333333333335e-05, 'epoch': 2.42}\n",
      "{'loss': 0.092, 'learning_rate': 1e-05, 'epoch': 2.5}\n",
      "{'loss': 0.1046, 'learning_rate': 9.666666666666667e-06, 'epoch': 2.58}\n",
      "{'loss': 0.0994, 'learning_rate': 9.333333333333334e-06, 'epoch': 2.67}\n",
      "{'loss': 0.1, 'learning_rate': 9e-06, 'epoch': 2.75}\n",
      "{'loss': 0.1006, 'learning_rate': 8.666666666666668e-06, 'epoch': 2.83}\n",
      "{'loss': 0.1026, 'learning_rate': 8.333333333333334e-06, 'epoch': 2.92}\n",
      "{'loss': 0.1045, 'learning_rate': 8.000000000000001e-06, 'epoch': 3.0}\n"
     ]
    },
    {
     "data": {
      "application/vnd.jupyter.widget-view+json": {
       "model_id": "d4d32abb700d4b988dd2694403140c87",
       "version_major": 2,
       "version_minor": 0
      },
      "text/plain": [
       "  0%|          | 0/380 [00:00<?, ?it/s]"
      ]
     },
     "metadata": {},
     "output_type": "display_data"
    },
    {
     "name": "stdout",
     "output_type": "stream",
     "text": [
      "{'eval_loss': 0.20638681948184967, 'eval_accuracy': 0.9478947368421052, 'eval_precision': 0.9479190574041219, 'eval_recall': 0.9478947368421052, 'eval_runtime': 43.422, 'eval_samples_per_second': 175.026, 'eval_steps_per_second': 8.751, 'epoch': 3.0}\n",
      "{'loss': 0.0569, 'learning_rate': 7.666666666666667e-06, 'epoch': 3.08}\n",
      "{'loss': 0.0681, 'learning_rate': 7.333333333333333e-06, 'epoch': 3.17}\n",
      "{'loss': 0.0598, 'learning_rate': 7e-06, 'epoch': 3.25}\n",
      "{'loss': 0.0681, 'learning_rate': 6.666666666666667e-06, 'epoch': 3.33}\n",
      "{'loss': 0.0726, 'learning_rate': 6.333333333333333e-06, 'epoch': 3.42}\n",
      "{'loss': 0.0665, 'learning_rate': 6e-06, 'epoch': 3.5}\n",
      "{'loss': 0.0719, 'learning_rate': 5.666666666666667e-06, 'epoch': 3.58}\n",
      "{'loss': 0.0622, 'learning_rate': 5.333333333333334e-06, 'epoch': 3.67}\n",
      "{'loss': 0.0681, 'learning_rate': 5e-06, 'epoch': 3.75}\n",
      "{'loss': 0.0669, 'learning_rate': 4.666666666666667e-06, 'epoch': 3.83}\n",
      "{'loss': 0.0676, 'learning_rate': 4.333333333333334e-06, 'epoch': 3.92}\n",
      "{'loss': 0.0683, 'learning_rate': 4.000000000000001e-06, 'epoch': 4.0}\n"
     ]
    },
    {
     "data": {
      "application/vnd.jupyter.widget-view+json": {
       "model_id": "fa68d8ef20304fedb2840f9780d4a114",
       "version_major": 2,
       "version_minor": 0
      },
      "text/plain": [
       "  0%|          | 0/380 [00:00<?, ?it/s]"
      ]
     },
     "metadata": {},
     "output_type": "display_data"
    },
    {
     "name": "stdout",
     "output_type": "stream",
     "text": [
      "{'eval_loss': 0.25739216804504395, 'eval_accuracy': 0.9455263157894737, 'eval_precision': 0.9455351814280115, 'eval_recall': 0.9455263157894737, 'eval_runtime': 43.005, 'eval_samples_per_second': 176.724, 'eval_steps_per_second': 8.836, 'epoch': 4.0}\n"
     ]
    },
    {
     "ename": "KeyboardInterrupt",
     "evalue": "",
     "output_type": "error",
     "traceback": [
      "\u001b[1;31m---------------------------------------------------------------------------\u001b[0m",
      "\u001b[1;31mKeyboardInterrupt\u001b[0m                         Traceback (most recent call last)",
      "\u001b[1;32mc:\\Users\\fardin\\Projects\\Form&ColorIntelligence\\notebooks\\Task1_X_3\\TestOtherModels\\DistilBERT\\ag-news-classification-bert.ipynb Cell 15\u001b[0m line \u001b[0;36m3\n\u001b[0;32m      <a href='vscode-notebook-cell:/c%3A/Users/fardin/Projects/Form%26ColorIntelligence/notebooks/Task1_X_3/TestOtherModels/DistilBERT/ag-news-classification-bert.ipynb#X20sZmlsZQ%3D%3D?line=0'>1</a>\u001b[0m \u001b[39m# Train the model\u001b[39;00m\n\u001b[0;32m      <a href='vscode-notebook-cell:/c%3A/Users/fardin/Projects/Form%26ColorIntelligence/notebooks/Task1_X_3/TestOtherModels/DistilBERT/ag-news-classification-bert.ipynb#X20sZmlsZQ%3D%3D?line=1'>2</a>\u001b[0m \u001b[39m# trainer.train(resume_from_checkpoint=r\"logs/OtherModels/bert_ag_results/last_epoch\")\u001b[39;00m\n\u001b[1;32m----> <a href='vscode-notebook-cell:/c%3A/Users/fardin/Projects/Form%26ColorIntelligence/notebooks/Task1_X_3/TestOtherModels/DistilBERT/ag-news-classification-bert.ipynb#X20sZmlsZQ%3D%3D?line=2'>3</a>\u001b[0m trainer\u001b[39m.\u001b[39;49mtrain()\n\u001b[0;32m      <a href='vscode-notebook-cell:/c%3A/Users/fardin/Projects/Form%26ColorIntelligence/notebooks/Task1_X_3/TestOtherModels/DistilBERT/ag-news-classification-bert.ipynb#X20sZmlsZQ%3D%3D?line=4'>5</a>\u001b[0m \u001b[39m# Evaluate the model\u001b[39;00m\n\u001b[0;32m      <a href='vscode-notebook-cell:/c%3A/Users/fardin/Projects/Form%26ColorIntelligence/notebooks/Task1_X_3/TestOtherModels/DistilBERT/ag-news-classification-bert.ipynb#X20sZmlsZQ%3D%3D?line=5'>6</a>\u001b[0m eval_results \u001b[39m=\u001b[39m trainer\u001b[39m.\u001b[39mevaluate()\n",
      "File \u001b[1;32mc:\\Users\\fardin\\AppData\\Local\\Programs\\Python\\Python311\\Lib\\site-packages\\transformers\\trainer.py:1539\u001b[0m, in \u001b[0;36mTrainer.train\u001b[1;34m(self, resume_from_checkpoint, trial, ignore_keys_for_eval, **kwargs)\u001b[0m\n\u001b[0;32m   1537\u001b[0m         hf_hub_utils\u001b[39m.\u001b[39menable_progress_bars()\n\u001b[0;32m   1538\u001b[0m \u001b[39melse\u001b[39;00m:\n\u001b[1;32m-> 1539\u001b[0m     \u001b[39mreturn\u001b[39;00m inner_training_loop(\n\u001b[0;32m   1540\u001b[0m         args\u001b[39m=\u001b[39;49margs,\n\u001b[0;32m   1541\u001b[0m         resume_from_checkpoint\u001b[39m=\u001b[39;49mresume_from_checkpoint,\n\u001b[0;32m   1542\u001b[0m         trial\u001b[39m=\u001b[39;49mtrial,\n\u001b[0;32m   1543\u001b[0m         ignore_keys_for_eval\u001b[39m=\u001b[39;49mignore_keys_for_eval,\n\u001b[0;32m   1544\u001b[0m     )\n",
      "File \u001b[1;32mc:\\Users\\fardin\\AppData\\Local\\Programs\\Python\\Python311\\Lib\\site-packages\\transformers\\trainer.py:1874\u001b[0m, in \u001b[0;36mTrainer._inner_training_loop\u001b[1;34m(self, batch_size, args, resume_from_checkpoint, trial, ignore_keys_for_eval)\u001b[0m\n\u001b[0;32m   1868\u001b[0m \u001b[39mwith\u001b[39;00m \u001b[39mself\u001b[39m\u001b[39m.\u001b[39maccelerator\u001b[39m.\u001b[39maccumulate(model):\n\u001b[0;32m   1869\u001b[0m     tr_loss_step \u001b[39m=\u001b[39m \u001b[39mself\u001b[39m\u001b[39m.\u001b[39mtraining_step(model, inputs)\n\u001b[0;32m   1871\u001b[0m \u001b[39mif\u001b[39;00m (\n\u001b[0;32m   1872\u001b[0m     args\u001b[39m.\u001b[39mlogging_nan_inf_filter\n\u001b[0;32m   1873\u001b[0m     \u001b[39mand\u001b[39;00m \u001b[39mnot\u001b[39;00m is_torch_tpu_available()\n\u001b[1;32m-> 1874\u001b[0m     \u001b[39mand\u001b[39;00m (torch\u001b[39m.\u001b[39misnan(tr_loss_step) \u001b[39mor\u001b[39;00m torch\u001b[39m.\u001b[39;49misinf(tr_loss_step))\n\u001b[0;32m   1875\u001b[0m ):\n\u001b[0;32m   1876\u001b[0m     \u001b[39m# if loss is nan or inf simply add the average of previous logged losses\u001b[39;00m\n\u001b[0;32m   1877\u001b[0m     tr_loss \u001b[39m+\u001b[39m\u001b[39m=\u001b[39m tr_loss \u001b[39m/\u001b[39m (\u001b[39m1\u001b[39m \u001b[39m+\u001b[39m \u001b[39mself\u001b[39m\u001b[39m.\u001b[39mstate\u001b[39m.\u001b[39mglobal_step \u001b[39m-\u001b[39m \u001b[39mself\u001b[39m\u001b[39m.\u001b[39m_globalstep_last_logged)\n\u001b[0;32m   1878\u001b[0m \u001b[39melse\u001b[39;00m:\n",
      "\u001b[1;31mKeyboardInterrupt\u001b[0m: "
     ]
    }
   ],
   "source": [
    "# Train the model\n",
    "# trainer.train(resume_from_checkpoint=r\"logs/OtherModels/bert_ag_results/last_epoch\")\n",
    "trainer.train()\n",
    "\n",
    "# Evaluate the model\n",
    "eval_results = trainer.evaluate()\n",
    "print(f\"Evaluation results: {eval_results}\")"
   ]
  },
  {
   "cell_type": "code",
   "execution_count": 19,
   "metadata": {
    "trusted": true
   },
   "outputs": [],
   "source": [
    "trainer.save_model(r\"logs/OtherModels/bert_ag_results/last_epoch\")"
   ]
  },
  {
   "cell_type": "code",
   "execution_count": null,
   "metadata": {},
   "outputs": [],
   "source": [
    "{'eval_loss': 0.20638681948184967, 'eval_accuracy': 0.9478947368421052, 'eval_precision': 0.9479190574041219, 'eval_recall': 0.9478947368421052, 'eval_runtime': 43.422, 'eval_samples_per_second': 175.026, 'eval_steps_per_second': 8.751, 'epoch': 3.0}\n"
   ]
  }
 ],
 "metadata": {
  "kaggle": {
   "accelerator": "gpu",
   "dataSources": [
    {
     "datasetId": 612351,
     "sourceId": 1095715,
     "sourceType": "datasetVersion"
    }
   ],
   "dockerImageVersionId": 30699,
   "isGpuEnabled": true,
   "isInternetEnabled": true,
   "language": "python",
   "sourceType": "notebook"
  },
  "kernelspec": {
   "display_name": "venv",
   "language": "python",
   "name": "python3"
  },
  "language_info": {
   "codemirror_mode": {
    "name": "ipython",
    "version": 3
   },
   "file_extension": ".py",
   "mimetype": "text/x-python",
   "name": "python",
   "nbconvert_exporter": "python",
   "pygments_lexer": "ipython3",
   "version": "3.11.9"
  }
 },
 "nbformat": 4,
 "nbformat_minor": 4
}
