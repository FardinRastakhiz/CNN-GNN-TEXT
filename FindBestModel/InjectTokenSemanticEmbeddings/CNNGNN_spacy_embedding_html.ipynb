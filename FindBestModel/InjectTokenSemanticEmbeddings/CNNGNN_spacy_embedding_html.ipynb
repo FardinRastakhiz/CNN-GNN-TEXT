{
 "cells": [
  {
   "cell_type": "markdown",
   "metadata": {},
   "source": [
    "# Uninterrupted character-level input with token representation using GNN"
   ]
  },
  {
   "cell_type": "markdown",
   "metadata": {},
   "source": [
    "Ideas:<br>\n",
    " - Continuous unpadded/untruncated character sequences\n",
    " - Generate graph after token representation inside model\n",
    " - Using dynamic sparse GNN"
   ]
  },
  {
   "cell_type": "markdown",
   "metadata": {},
   "source": [
    "Test Results:\n",
    "| metric | test 1 | test 2 | test 3 | test 4 | test 5 | Average |\n",
    "|:---|:--:|:--:|:--:|:--:|:--:|:--:|\n",
    "| f1-score | \n",
    "| accuracy | \n",
    "| precision |\n",
    "| recall | \n",
    "| loss | "
   ]
  },
  {
   "cell_type": "markdown",
   "metadata": {},
   "source": [
    "## Import Packages"
   ]
  },
  {
   "cell_type": "code",
   "execution_count": 1,
   "metadata": {},
   "outputs": [],
   "source": [
    "import torch\n",
    "from torch import nn\n",
    "import torch.nn.functional as F\n",
    "import numpy as np\n",
    "import pandas as pd\n",
    "from torch.utils.data import Dataset\n",
    "from transformers import BertTokenizer\n",
    "from urllib.parse import urlparse\n",
    "from sklearn.model_selection import train_test_split\n",
    "from nltk.tokenize import word_tokenize, TweetTokenizer\n",
    "import time\n",
    "import matplotlib.pyplot as plt\n",
    "import random\n",
    "from torch_scatter import scatter_max, scatter_mean, scatter_sum, scatter_std\n",
    "import torchmetrics\n",
    "import lightning as L\n",
    "from torch_geometric.data import Batch, Data\n",
    "from torch_geometric.loader import DataLoader\n",
    "from copy import copy\n",
    "import spacy\n",
    "from umap import UMAP\n",
    "\n",
    "import os\n",
    "import PyPDF2\n",
    "from bs4 import BeautifulSoup\n",
    "import textract\n",
    "import json\n",
    "import gzip\n",
    "import re\n",
    "import collections\n",
    "import csv"
   ]
  },
  {
   "cell_type": "code",
   "execution_count": 2,
   "metadata": {},
   "outputs": [
    {
     "data": {
      "text/plain": [
       "device(type='cuda')"
      ]
     },
     "execution_count": 2,
     "metadata": {},
     "output_type": "execute_result"
    }
   ],
   "source": [
    "device = torch.device(\"cuda\" if torch.cuda.is_available() else \"cpu\")\n",
    "batch_size = 1\n",
    "device"
   ]
  },
  {
   "cell_type": "markdown",
   "metadata": {},
   "source": [
    "## Data Classes and Functions"
   ]
  },
  {
   "cell_type": "code",
   "execution_count": 105,
   "metadata": {},
   "outputs": [
    {
     "name": "stderr",
     "output_type": "stream",
     "text": [
      "The tokenizer class you load from this checkpoint is not the same type as the class this function is called from. It may result in unexpected tokenization. \n",
      "The tokenizer class you load from this checkpoint is 'DistilBertTokenizer'. \n",
      "The class this function is called from is 'BertTokenizer'.\n"
     ]
    }
   ],
   "source": [
    "model=\"lxyuan/distilbert-base-multilingual-cased-sentiments-student\"\n",
    "bert_tokenizer = BertTokenizer.from_pretrained(model)\n",
    "# tokenizer = TweetTokenizer()"
   ]
  },
  {
   "cell_type": "code",
   "execution_count": 4,
   "metadata": {},
   "outputs": [],
   "source": [
    "# nlp = spacy.load('en_core_web_lg', disable=['tok2vec','tagger', 'parser', 'attribute_ruler', 'lemmatizer', 'ner'])"
   ]
  },
  {
   "cell_type": "code",
   "execution_count": 5,
   "metadata": {},
   "outputs": [],
   "source": [
    "# reducer = UMAP(n_neighbors=15, n_components=64, verbose=True)\n",
    "# embeddings = reducer.fit_transform(all_vocab_vec)\n",
    "# embeddings.shape"
   ]
  },
  {
   "cell_type": "code",
   "execution_count": 6,
   "metadata": {},
   "outputs": [],
   "source": [
    "# with open(r'data\\spacy_embeddings\\spacy_lg_reduced_embeddings.npy', 'wb') as f:\n",
    "#     np.save(f, embeddings, False)"
   ]
  },
  {
   "cell_type": "code",
   "execution_count": 7,
   "metadata": {},
   "outputs": [],
   "source": [
    "folder_path = r'data\\CrawledWeb\\TopicClassification\\HTMLClassification\\htmls'\n",
    "urls_df = pd.read_csv(r'data\\CrawledWeb\\TopicClassification\\URLClassification\\url_classes2.csv')\n",
    "# df = pd.DataFrame(index=urls_df.index,columns=['file_name', 'content'])"
   ]
  },
  {
   "cell_type": "code",
   "execution_count": 8,
   "metadata": {},
   "outputs": [],
   "source": [
    "# urls_df.iloc[3067]"
   ]
  },
  {
   "cell_type": "code",
   "execution_count": 9,
   "metadata": {},
   "outputs": [],
   "source": [
    "# def read_pptx(file_path):\n",
    "#     # Extract text from the pptx file\n",
    "#     print(fr'file_path: {file_path}')\n",
    "#     text = textract.process(rf'{file_path}').decode('utf-8')\n",
    "#     return text"
   ]
  },
  {
   "cell_type": "code",
   "execution_count": 10,
   "metadata": {},
   "outputs": [],
   "source": [
    "# from pathlib import Path\n",
    "\n",
    "# for i in range(urls_df.shape[0]):\n",
    "#     if os.path.isfile(rf'data\\CrawledWeb\\TopicClassification\\HTMLClassification\\htmls\\link_{i}.octet_stream'):\n",
    "#         p = Path(rf'data\\CrawledWeb\\TopicClassification\\HTMLClassification\\htmls\\link_{i}.octet_stream')\n",
    "#         p.rename(p.with_suffix(f'.html'))"
   ]
  },
  {
   "cell_type": "code",
   "execution_count": 11,
   "metadata": {},
   "outputs": [],
   "source": [
    "# pptx_test = read_pptx(r'data\\CrawledWeb\\TopicClassification\\HTMLClassification\\htmls\\link_91.html')"
   ]
  },
  {
   "cell_type": "code",
   "execution_count": 12,
   "metadata": {},
   "outputs": [],
   "source": [
    "# pptx_test"
   ]
  },
  {
   "cell_type": "code",
   "execution_count": 13,
   "metadata": {},
   "outputs": [],
   "source": [
    "# contents_dict = {}"
   ]
  },
  {
   "cell_type": "code",
   "execution_count": 14,
   "metadata": {},
   "outputs": [],
   "source": [
    "# # Loop through all files in the folder\n",
    "# j=11208\n",
    "# for i in range(j, urls_df.shape[0]):\n",
    "#     filename = os.path.join(folder_path, f'link_{i}')\n",
    "#     data_type = ''\n",
    "#     if True:\n",
    "#         if os.path.isfile(filename+'.html'):\n",
    "#             data_type = 'html'\n",
    "#             file_path = filename+'.html'\n",
    "#         elif os.path.isfile(filename+'.aspx'):\n",
    "#             data_type = 'aspx'\n",
    "#             file_path = filename+'.aspx'\n",
    "#         elif os.path.isfile(filename+'.x_empty'):\n",
    "#             data_type = ''\n",
    "#             file_path = filename+'.x_empty'\n",
    "#         elif os.path.isfile(filename+'.octet_stream'):\n",
    "#             data_type = 'octet_stream'\n",
    "#             file_path = filename+'.octet_stream'\n",
    "#         elif os.path.isfile(filename+'.xml'):\n",
    "#             data_type = 'xml'\n",
    "#             file_path = filename+'.xml'\n",
    "#         elif os.path.isfile(filename+'.cpp'):\n",
    "#             data_type = 'cpp'\n",
    "#             file_path = filename+'.cpp'\n",
    "#         elif os.path.isfile(filename+'.c'):\n",
    "#             data_type = 'c'\n",
    "#             file_path = filename+'.c'\n",
    "#         elif os.path.isfile(filename+'.cfm'):\n",
    "#             data_type = 'cfm'\n",
    "#             file_path = filename+'.cfm'\n",
    "#         elif os.path.isfile(filename+'.cgi'):\n",
    "#             data_type = 'cgi'\n",
    "#             file_path = filename+'.cgi'\n",
    "#         elif os.path.isfile(filename+'.ashx'):\n",
    "#             data_type = 'ashx'\n",
    "#             file_path = filename+'.ashx'\n",
    "#         elif os.path.isfile(filename+'.asp'):\n",
    "#             data_type = 'asp'\n",
    "#             file_path = filename+'.asp'\n",
    "#         elif os.path.isfile(filename+'.cgi'):\n",
    "#             data_type = 'cgi'\n",
    "#             file_path = filename+'.cgi'\n",
    "#         elif os.path.isfile(filename+'.txt'):\n",
    "#             data_type = 'txt'\n",
    "#             file_path = filename+'.txt'\n",
    "#         elif os.path.isfile(filename+'.x_appleworks3'):\n",
    "#             data_type = 'x_appleworks3'\n",
    "#             file_path = filename+'.x_appleworks3'\n",
    "#         elif os.path.isfile(filename+'.page'):\n",
    "#             data_type = 'page'\n",
    "#             file_path = filename+'.page'\n",
    "#         elif os.path.isfile(filename+'.php'):\n",
    "#             data_type = 'php'\n",
    "#             file_path = filename+'.php'\n",
    "#         elif os.path.isfile(filename+'.rxml'):\n",
    "#             data_type = 'rxml'\n",
    "#             file_path = filename+'.rxml'\n",
    "#         elif os.path.isfile(filename+'.com'):\n",
    "#             data_type = 'com'\n",
    "#             file_path = filename+'.com'\n",
    "#         elif os.path.isfile(filename+'.cat'):\n",
    "#             data_type = 'cat'\n",
    "#             file_path = filename+'.cat'\n",
    "#         elif os.path.isfile(filename+'.txt'):\n",
    "#             data_type = 'txt'\n",
    "#             file_path = filename+'.txt'\n",
    "#         elif os.path.isfile(filename+'.xsp'):\n",
    "#             data_type = 'xsp'\n",
    "#             file_path = filename+'.xsp'\n",
    "#         elif os.path.isfile(filename + '.pptx'):\n",
    "#             data_type = 'pptx'\n",
    "#             file_path = filename+'.pptx'\n",
    "#         elif os.path.isfile(filename+'.pdf'):\n",
    "#             data_type = 'pdf'\n",
    "#             file_path = filename+'.pdf'\n",
    "    \n",
    "#     if data_type=='':\n",
    "#         continue\n",
    "        \n",
    "#     elif data_type == 'pptx' or data_type == 'pdf' or data_type == 'html':\n",
    "#         content =  read_pptx(rf'data\\CrawledWeb\\TopicClassification\\HTMLClassification\\htmls\\link_{i}.'+data_type)\n",
    "#         contents_dict[i] = content\n",
    "#     else:\n",
    "#         with open(file_path, 'rt', encoding='utf8') as file:\n",
    "#             contents_dict[i] = file.read()\n",
    "            \n",
    "# with gzip.open(rf'data\\CrawledWeb\\TopicClassification\\URLClassification\\id_content.json.gz', 'wt') as file:\n",
    "#     json.dump(contents_dict, file)"
   ]
  },
  {
   "cell_type": "code",
   "execution_count": 15,
   "metadata": {},
   "outputs": [],
   "source": [
    "import string\n",
    "# Create a set of all English characters, numbers, and punctuation\n",
    "allowed_chars = string.ascii_letters + string.digits + string.punctuation\n",
    "all_chars = set(allowed_chars)"
   ]
  },
  {
   "cell_type": "code",
   "execution_count": 16,
   "metadata": {},
   "outputs": [],
   "source": [
    "with open(r'data\\reduced_embeddings\\spacy_lg_reduced_embeddings.npy', 'rb') as f:\n",
    "    embeddings = np.load(f)\n",
    "nlp = spacy.load('en_core_web_lg', disable=['tok2vec','tagger', 'parser', 'attribute_ruler', 'lemmatizer', 'ner'])\n",
    "nlp.max_length = len(' '.join(list(nlp.vocab.strings)))+1\n",
    "all_vocab_doc = nlp(' '.join(list(nlp.vocab.strings)))\n",
    "all_vocab_str = [f'{t}' for t in all_vocab_doc]\n",
    "embeddings = torch.from_numpy(embeddings)\n",
    "embeddings = (embeddings - torch.min(embeddings)) / (torch.max(embeddings)-torch.min(embeddings))\n",
    "token_vocab_dict = dict(zip(all_vocab_str, embeddings))\n",
    "del all_vocab_str\n",
    "del all_vocab_doc"
   ]
  },
  {
   "cell_type": "code",
   "execution_count": 17,
   "metadata": {},
   "outputs": [
    {
     "data": {
      "text/plain": [
       "771063"
      ]
     },
     "execution_count": 17,
     "metadata": {},
     "output_type": "execute_result"
    }
   ],
   "source": [
    "len(token_vocab_dict)"
   ]
  },
  {
   "cell_type": "code",
   "execution_count": 18,
   "metadata": {},
   "outputs": [],
   "source": [
    "# token_vocab_dict = {k: v for k, v in token_vocab_dict.items() if set(k).issubset(all_chars)}\n",
    "# len(token_vocab_dict)"
   ]
  },
  {
   "cell_type": "code",
   "execution_count": 19,
   "metadata": {},
   "outputs": [],
   "source": [
    "# with gzip.open(rf'data\\CrawledWeb\\TopicClassification\\URLClassification\\id_content.json.gz', 'rt') as file:\n",
    "#     web_contents = json.load(file)"
   ]
  },
  {
   "cell_type": "code",
   "execution_count": 107,
   "metadata": {},
   "outputs": [],
   "source": [
    "chars_to_replace = string.punctuation + ' \\n\\t'\n",
    "def remove_residuals(s, tokenizer):\n",
    "    for i in range(2):\n",
    "        s = re.sub(r'([' + chars_to_replace + '])[' + chars_to_replace + ']*', r'\\1', s)\n",
    "        s = re.sub(r'([{}])\\1+'.format(re.escape(string.punctuation + ' ')), r'\\1', s)\n",
    "        s = re.sub(f'[^{re.escape(allowed_chars)}]', ' ', s)\n",
    "        s = re.sub(r'([0-9!\\\"#$%&\\'()*+,-./:;<=>?@[\\\\\\]^_`{|}~ \\t\\n\\r]{9,})', '', s)\n",
    "        s = re.sub( r'([a-zA-Z])\\1{3,}', r'\\1', s)\n",
    "        s = re.sub(r'((\\b\\w{1,2}\\b) ){4,}', '', s)\n",
    "        \n",
    "    tokenized_doc = tokenizer(s)\n",
    "    s = ' '.join([t for t in tokenized_doc if t in token_vocab_dict])\n",
    "    s = re.sub(r'([{}])\\1+'.format(re.escape(string.punctuation + ' ')), r'\\1', s)\n",
    "    s = re.sub(f'[^{re.escape(allowed_chars)}]', ' ', s)\n",
    "    s = re.sub(r'([0-9!\\\"#$%&\\'()*+,-./:;<=>?@[\\\\\\]^_`{|}~ \\t\\n\\r]{9,})', '', s)\n",
    "    s = re.sub( r'([a-zA-Z])\\1{3,}', r'\\1', s)\n",
    "    s = re.sub(r'\\s(.\\s){3,}', ' ', s)\n",
    "        \n",
    "    return s"
   ]
  },
  {
   "cell_type": "code",
   "execution_count": 72,
   "metadata": {},
   "outputs": [],
   "source": [
    "# with gzip.open(rf'data\\CrawledWeb\\TopicClassification\\URLClassification\\id_content.json.gz', 'rt') as file:\n",
    "#     web_contents = json.load(file)\n",
    "\n",
    "# doc_lengths = np.array([len(web_contents[i]) for i in web_contents])\n",
    "# nlp.max_length = np.max(doc_lengths)+1\n",
    "# web_contents = {int(k): remove_residuals(v) for k, v in web_contents.items()}\n",
    "    \n",
    "# # sstrip = lambda doc: re.sub(' +', ' ', doc)\n",
    "# # web_contents2 = {i:sstrip(web_contents[i]) for i in web_contents}\n",
    "# with gzip.open(rf'data\\CrawledWeb\\TopicClassification\\URLClassification\\id_content5.json.gz', 'wt') as file:\n",
    "#     json.dump(web_contents, file)"
   ]
  },
  {
   "cell_type": "code",
   "execution_count": 73,
   "metadata": {},
   "outputs": [],
   "source": [
    "# with gzip.open(rf'data\\CrawledWeb\\TopicClassification\\URLClassification\\id_content.json.gz', 'rt') as file:\n",
    "#     web_contents = json.load(file)"
   ]
  },
  {
   "cell_type": "code",
   "execution_count": 74,
   "metadata": {},
   "outputs": [],
   "source": [
    "# doc_lengths = np.array([len(web_contents[i]) for i in web_contents])\n",
    "# list(web_contents.keys())[np.argmax(doc_lengths)]"
   ]
  },
  {
   "cell_type": "code",
   "execution_count": 24,
   "metadata": {},
   "outputs": [
    {
     "data": {
      "text/plain": [
       "'15209'"
      ]
     },
     "execution_count": 24,
     "metadata": {},
     "output_type": "execute_result"
    }
   ],
   "source": [
    "with gzip.open(rf'data\\CrawledWeb\\TopicClassification\\URLClassification\\id_content5.json.gz', 'rt') as file:\n",
    "    web_contents = json.load(file)\n",
    "doc_lengths = np.array([len(web_contents[i]) for i in web_contents])\n",
    "list(web_contents.keys())[torch.topk(torch.from_numpy(doc_lengths), 5).indices[3].item()]"
   ]
  },
  {
   "cell_type": "code",
   "execution_count": 6,
   "metadata": {},
   "outputs": [
    {
     "name": "stderr",
     "output_type": "stream",
     "text": [
      "Detector is not able to detect the language reliably.\n"
     ]
    },
    {
     "name": "stdout",
     "output_type": "stream",
     "text": [
      "['Mynameisfardin', ',', 'howcanIregisterhere', '?']\n"
     ]
    }
   ],
   "source": [
    "from polyglot.text import Text\n",
    "text = \"Mynameisfardin,howcanIregisterhere?\"\n",
    "ptext = Text(text)\n",
    "print([str(word) for word in ptext.words])\n"
   ]
  },
  {
   "cell_type": "code",
   "execution_count": 102,
   "metadata": {},
   "outputs": [
    {
     "name": "stdout",
     "output_type": "stream",
     "text": [
      "\n",
      "  var opts = {\n",
      "    host: \"completion.amazon.com/search/complete\"\n",
      "  , marketId: \"1\"\n",
      "  , obfuscatedMarketId: \"ATVPDKIKX0DER\"\n",
      "  , searchAliases: [\"aps\",\"amazon-custom-products\",\"amazon-devices\",\"amazonbasics\",\"amazonfresh\",\"amazon-pharmacy\",\"wholefoods\",\"allthebestpets\",\"bartelldrugs\",\"bristolfarms\",\"cardenas\",\"familyfare\",\"freshthyme\",\"kegnbottle\",\"missionwinespirits\",\"petfoodexpress\",\"savemart\",\"sousaswineliquors\",\"surdyksliquorcheeseshop\",\"weis\",\"stripbooks\",\"popular\",\"apparel\",\"electronics\",\"sporting\",\"sports-and-fitness\",\"outdoor-recreation\",\"fan-shop\",\"garden\",\"videogames\",\"toys-and-games\",\"jewelry\",\"digital-text\",\"digital-music\",\"prime-digital-music\",\"watches\",\"grocery\",\"hpc\",\"instant-video\",\"handmade\",\"handmade-jewelry\",\"handmade-home-and-kitchen\",\"prime-instant-video\",\"shop-instant-video\",\"baby-products\",\"office-products\",\"software\",\"smart-home\",\"magazines\",\"tools\",\"automotive\",\"misc\",\"industrial\",\"mi\",\"pet-supplies\",\"digital-music-track\",\"digital-music-album\",\"mobile\",\"mobile-apps\",\"movies-tv\",\"music-artist\",\"music-album\",\"music-song\",\"stripbooks-spanish\",\"electronics-accessories\",\"photo\",\"audio-video\",\"computers\",\"furniture\",\"kitchen\",\"audible\",\"audiobooks\",\"beauty\",\"shoes\",\"arts-crafts\",\"appliances\",\"gift-cards\",\"pets\",\"outdoor\",\"lawngarden\",\"collectibles\",\"replacement-parts\",\"financial\",\"fine-art\",\"fashion\",\"fashion-womens\",\"fashion-womens-clothing\",\"fashion-womens-jewelry\",\"fashion-womens-shoes\",\"fashion-womens-watches\",\"fashion-womens-handbags\",\"fashion-mens\",\"fashion-mens-clothing\",\"fashion-mens-jewelry\",\"fashion-mens-shoes\",\"fashion-mens-watches\",\"fashion-girls\",\"fashion-girls-clothing\",\"fashion-girls-jewelry\",\"fashion-girls-shoes\",\"fashion-girls-watches\",\"fashion-boys\",\"fashion-boys-clothing\",\"fashion-boys-jewelry\",\"fashion-boys-shoes\",\"fashion-boys-watches\",\"fashion-baby\",\"fashion-baby-boys\",\"fashion-baby-girls\",\"fashion-luggage\",\"3d-printing\",\"tradein-aps\",\"todays-deals\",\"live-explorations\",\"local-services\",\"vehicles\",\"video-shorts\",\"warehouse-deals\",\"luxury-beauty\",\"banjo-apps\",\"black-friday\",\"cyber-monday\",\"alexa-skills\",\"subscribe-with-amazon\",\"courses\",\"edu-alt-content\",\"amazon-global-store\",\"prime-wardrobe\",\"under-ten-dollars\",\"tempo\",\"specialty-aps-sns\",\"luxury\"]\n",
      "  , filterAliases: []\n",
      "  , pageType: \"APBBrowse\"\n",
      "  , requestId: \"P7KWN1XQ2KF3MFPGGV1D\"\n",
      "  , sessionId: \"140-9752082-0182232\"\n",
      "  , language: \"en_US\"\n",
      "  , customerId: \"\"\n",
      "  , asin: \"\"\n",
      "  , b2b: 0\n",
      "  , fresh: 0\n",
      "  , isJpOrCn: 0\n",
      "  , isUseAuiIss: 1\n",
      "};\n",
      "2464\n"
     ]
    }
   ],
   "source": [
    "doc = r\"\"\"\n",
    "  var opts = {\n",
    "    host: \"completion.amazon.com/search/complete\"\n",
    "  , marketId: \"1\"\n",
    "  , obfuscatedMarketId: \"ATVPDKIKX0DER\"\n",
    "  , searchAliases: [\"aps\",\"amazon-custom-products\",\"amazon-devices\",\"amazonbasics\",\"amazonfresh\",\"amazon-pharmacy\",\"wholefoods\",\"allthebestpets\",\"bartelldrugs\",\"bristolfarms\",\"cardenas\",\"familyfare\",\"freshthyme\",\"kegnbottle\",\"missionwinespirits\",\"petfoodexpress\",\"savemart\",\"sousaswineliquors\",\"surdyksliquorcheeseshop\",\"weis\",\"stripbooks\",\"popular\",\"apparel\",\"electronics\",\"sporting\",\"sports-and-fitness\",\"outdoor-recreation\",\"fan-shop\",\"garden\",\"videogames\",\"toys-and-games\",\"jewelry\",\"digital-text\",\"digital-music\",\"prime-digital-music\",\"watches\",\"grocery\",\"hpc\",\"instant-video\",\"handmade\",\"handmade-jewelry\",\"handmade-home-and-kitchen\",\"prime-instant-video\",\"shop-instant-video\",\"baby-products\",\"office-products\",\"software\",\"smart-home\",\"magazines\",\"tools\",\"automotive\",\"misc\",\"industrial\",\"mi\",\"pet-supplies\",\"digital-music-track\",\"digital-music-album\",\"mobile\",\"mobile-apps\",\"movies-tv\",\"music-artist\",\"music-album\",\"music-song\",\"stripbooks-spanish\",\"electronics-accessories\",\"photo\",\"audio-video\",\"computers\",\"furniture\",\"kitchen\",\"audible\",\"audiobooks\",\"beauty\",\"shoes\",\"arts-crafts\",\"appliances\",\"gift-cards\",\"pets\",\"outdoor\",\"lawngarden\",\"collectibles\",\"replacement-parts\",\"financial\",\"fine-art\",\"fashion\",\"fashion-womens\",\"fashion-womens-clothing\",\"fashion-womens-jewelry\",\"fashion-womens-shoes\",\"fashion-womens-watches\",\"fashion-womens-handbags\",\"fashion-mens\",\"fashion-mens-clothing\",\"fashion-mens-jewelry\",\"fashion-mens-shoes\",\"fashion-mens-watches\",\"fashion-girls\",\"fashion-girls-clothing\",\"fashion-girls-jewelry\",\"fashion-girls-shoes\",\"fashion-girls-watches\",\"fashion-boys\",\"fashion-boys-clothing\",\"fashion-boys-jewelry\",\"fashion-boys-shoes\",\"fashion-boys-watches\",\"fashion-baby\",\"fashion-baby-boys\",\"fashion-baby-girls\",\"fashion-luggage\",\"3d-printing\",\"tradein-aps\",\"todays-deals\",\"live-explorations\",\"local-services\",\"vehicles\",\"video-shorts\",\"warehouse-deals\",\"luxury-beauty\",\"banjo-apps\",\"black-friday\",\"cyber-monday\",\"alexa-skills\",\"subscribe-with-amazon\",\"courses\",\"edu-alt-content\",\"amazon-global-store\",\"prime-wardrobe\",\"under-ten-dollars\",\"tempo\",\"specialty-aps-sns\",\"luxury\"]\n",
    "  , filterAliases: []\n",
    "  , pageType: \"APBBrowse\"\n",
    "  , requestId: \"P7KWN1XQ2KF3MFPGGV1D\"\n",
    "  , sessionId: \"140-9752082-0182232\"\n",
    "  , language: \"en_US\"\n",
    "  , customerId: \"\"\n",
    "  , asin: \"\"\n",
    "  , b2b: 0\n",
    "  , fresh: 0\n",
    "  , isJpOrCn: 0\n",
    "  , isUseAuiIss: 1\n",
    "};\"\"\"\n",
    "print(doc)\n",
    "print(len(doc))"
   ]
  },
  {
   "cell_type": "code",
   "execution_count": 108,
   "metadata": {},
   "outputs": [
    {
     "name": "stdout",
     "output_type": "stream",
     "text": [
      "var op host : completion . ama . com / search / complete \" market ob : ATV \" search : ap \" ama - custom - products \" ama - devices \" ama \" ama \" ama - ph \" whole \" allt \" bar \" br \" card \" family \" fresh \" ke \" mission \" pet \" save \" sous \" sur \" wei \" strip \" popular \" \" electronics \" sporting \" sports - and - fitness \" outdoor - re \" fan - shop \" garden \" video \" toy - and - games \" je \" digital - text \" digital - music \" prime - digital - music \" watch \" gr \" hp \" instant - video \" hand \" hand - je \" hand - home - and - kitchen \" prime - instant - video \" shop - instant - video \" baby - products \" office - products \" software \" smart - home \" magazines \" tools \" auto \" mis \" industrial \" mi \" pet - supplies \" digital - music - track \" digital - music - album \" mobile \" mobile - app \" movies - tv \" music - artist \" music - album \" music - song \" strip - span \" electronics - \" photo \" audio - video \" computers \" furniture \" kitchen \" au \" audio \" beauty \" sh \" arts - craft \" app \" gift - cards \" pet \" outdoor \" law \" collect \" replacement - parts \" financial \" fine - art \" fashion \" fashion - women \" fashion - women - clothing \" fashion - women - je \" fashion - women - sh \" fashion - women - watch \" fashion - women - hand \" fashion - mens \" fashion - mens - clothing \" fashion - mens - je \" fashion - mens - sh \" fashion - mens - watch \" fashion - girls \" fashion - girls - clothing \" fashion - girls - je \" fashion - girls - sh \" fashion - girls - watch \" fashion - boys \" fashion - boys - clothing \" fashion - boys - je \" fashion - boys - sh \" fashion - boys - watch \" fashion - baby \" fashion - baby - boys \" fashion - baby - girls \" fashion - lu printing \" trade - ap \" today - deals \" live - exploration \" local - services \" vehicles \" video - short \" ware - deals \" luxury - beauty \" banjo - app \" black - fri mond \" ale - skills \" sub - with - ama \" courses \" edu - alt - content \" ama - global - store \" prime - ward \" under - ten - dollars \" tempo \" special - ap luxury \" filter : page : AP \" request session : en _ US \" customer : asi fresh : 0 is : 0 is : 1\n",
      "2089\n"
     ]
    }
   ],
   "source": [
    "tokenizer = TweetTokenizer()\n",
    "reduced_doc = remove_residuals(doc, bert_tokenizer.tokenize)\n",
    "print(reduced_doc)\n",
    "print(len(reduced_doc))\n",
    "# bert_tokenizer.tokenize(reduced_doc)"
   ]
  },
  {
   "cell_type": "code",
   "execution_count": 94,
   "metadata": {},
   "outputs": [
    {
     "name": "stdout",
     "output_type": "stream",
     "text": [
      "( function function function string \" typeof httpsia null typeof function var e = 10 , d= new Date function ( returnfor ( var function if var c ; if for ( var d=\n",
      "161\n",
      "161\n"
     ]
    }
   ],
   "source": [
    "reduced_doc = remove_residuals(doc, tokenizer.tokenize)\n",
    "print(reduced_doc)\n",
    "print(len(reduced_doc))\n",
    "print(len(re.sub(r'\\s(.\\s){3,}', ' ', reduced_doc)))"
   ]
  },
  {
   "cell_type": "code",
   "execution_count": null,
   "metadata": {},
   "outputs": [],
   "source": [
    "r'\\(.*?\\)|&.*?\\s'\n",
    "r'\\(.*?\\)|&.*?\\s'"
   ]
  },
  {
   "cell_type": "code",
   "execution_count": 97,
   "metadata": {},
   "outputs": [
    {
     "data": {
      "text/plain": [
       "'\\n  var opts host: \"completion.amazon.com/search/complete\"\\n  , marketId: \"1\"\\n  , obfuscatedMarketId: \"ATVPDKIKX0DER\"\\n  , searchAliases: [\"aps\",\"amazon-custom-products\",\"amazon-devices\",\"amazonbasics\",\"amazonfresh\",\"amazon-pharmacy\",\"wholefoods\",\"allthebestpets\",\"bartelldrugs\",\"bristolfarms\",\"cardenas\",\"familyfare\",\"freshthyme\",\"kegnbottle\",\"missionwinespirits\",\"petfoodexpress\",\"savemart\",\"sousaswineliquors\",\"surdyksliquorcheeseshop\",\"weis\",\"stripbooks\",\"popular\",\"apparel\",\"electronics\",\"sporting\",\"sports-and-fitness\",\"outdoor-recreation\",\"fan-shop\",\"garden\",\"videogames\",\"toys-and-games\",\"jewelry\",\"digital-text\",\"digital-music\",\"prime-digital-music\",\"watches\",\"grocery\",\"hpc\",\"instant-video\",\"handmade\",\"handmade-jewelry\",\"handmade-home-and-kitchen\",\"prime-instant-video\",\"shop-instant-video\",\"baby-products\",\"office-products\",\"software\",\"smart-home\",\"magazines\",\"tools\",\"automotive\",\"misc\",\"industrial\",\"mi\",\"pet-supplies\",\"digital-music-track\",\"digital-music-album\",\"mobile\",\"mobile-apps\",\"movies-tv\",\"music-artist\",\"music-album\",\"music-song\",\"stripbooks-spanish\",\"electronics-accessories\",\"photo\",\"audio-video\",\"computers\",\"furniture\",\"kitchen\",\"audible\",\"audiobooks\",\"beauty\",\"shoes\",\"arts-crafts\",\"appliances\",\"gift-cards\",\"pets\",\"outdoor\",\"lawngarden\",\"collectibles\",\"replacement-parts\",\"financial\",\"fine-art\",\"fashion\",\"fashion-womens\",\"fashion-womens-clothing\",\"fashion-womens-jewelry\",\"fashion-womens-shoes\",\"fashion-womens-watches\",\"fashion-womens-handbags\",\"fashion-mens\",\"fashion-mens-clothing\",\"fashion-mens-jewelry\",\"fashion-mens-shoes\",\"fashion-mens-watches\",\"fashion-girls\",\"fashion-girls-clothing\",\"fashion-girls-jewelry\",\"fashion-girls-shoes\",\"fashion-girls-watches\",\"fashion-boys\",\"fashion-boys-clothing\",\"fashion-boys-jewelry\",\"fashion-boys-shoes\",\"fashion-boys-watches\",\"fashion-baby\",\"fashion-baby-boys\",\"fashion-baby-girls\",\"fashion-luggage\",\"3d-printing\",\"tradein-aps\",\"todays-deals\",\"live-explorations\",\"local-services\",\"vehicles\",\"video-shorts\",\"warehouse-deals\",\"luxury-beauty\",\"banjo-apps\",\"black-friday\",\"cyber-monday\",\"alexa-skills\",\"subscribe-with-amazon\",\"courses\",\"edu-alt-content\",\"amazon-global-store\",\"prime-wardrobe\",\"under-ten-dollars\",\"tempo\",\"specialty-aps-sns\",\"luxury\"]\\n  , filterAliases: []\\n  , pageType: \"APBBrowse\"\\n  , requestId: \"P7KWN1XQ2KF3MFPGGV1D\"\\n  , sessionId: \"140-9752082-0182232\"\\n  , language: \"en_US\"\\n  , customerId: \"\"\\n  , asin: \"\"\\n  , b2b: fresh: isJpOrCn: isUseAuiIss: 1\\n};'"
      ]
     },
     "execution_count": 97,
     "metadata": {},
     "output_type": "execute_result"
    }
   ],
   "source": [
    "s = \"I love ( function ( m , b ) function c ( k ) function f ( a ) a & string \"\n",
    "# pattern = r'((\\b[\\w'+re.escape(string.punctuation + ' ')+r']{1,2}\\b) ){3,}'\n",
    "pattern= r'\\s(.\\s){3,}'\n",
    "re.sub(pattern, ' ', doc)"
   ]
  },
  {
   "cell_type": "code",
   "execution_count": 3,
   "metadata": {},
   "outputs": [
    {
     "data": {
      "text/plain": [
       "0.728449645"
      ]
     },
     "execution_count": 3,
     "metadata": {},
     "output_type": "execute_result"
    }
   ],
   "source": [
    "import numpy as np\n",
    "np.mean(np.array([0.68131868, 0.81918819, 0.78275862, 0.8,        0.54355401, 0.68421053,\n",
    " 0.75457875, 0.90268456, 0.68608414, 0.62758621, 0.73529412, 0.72413793]))"
   ]
  },
  {
   "cell_type": "code",
   "execution_count": 4,
   "metadata": {},
   "outputs": [
    {
     "data": {
      "text/plain": [
       "74.90004268943436"
      ]
     },
     "execution_count": 4,
     "metadata": {},
     "output_type": "execute_result"
    }
   ],
   "source": [
    "(2*77.08*72.84)/(77.08+72.84)"
   ]
  },
  {
   "cell_type": "code",
   "execution_count": null,
   "metadata": {},
   "outputs": [],
   "source": [
    "re.sub(r'\\s+', ' ', reduced_doc)"
   ]
  },
  {
   "cell_type": "code",
   "execution_count": 142,
   "metadata": {},
   "outputs": [
    {
     "data": {
      "text/plain": [
       "False"
      ]
     },
     "execution_count": 142,
     "metadata": {},
     "output_type": "execute_result"
    }
   ],
   "source": [
    "'timeRemaining' in web_contents[f'{12}']"
   ]
  },
  {
   "cell_type": "code",
   "execution_count": 141,
   "metadata": {},
   "outputs": [
    {
     "name": "stdout",
     "output_type": "stream",
     "text": [
      "18369\n",
      "alob : producer i d and schema I d must be defined for = c. = , tr , merget = , : e , f , c , lnull , rE = , S = , b = , x = , OH = , W = , Y = , C = , F = , MX = , D = , J = = = Q = U = z = A = Gle = = : e = f = = , n , t , i , = = n , Q = t , U = i , G = onull , = w : , h : , x : , y : , :o , vppe , = = ve , = = ye , = = Ee , = = Se , = = be , f = q , n = = , n = n = - n , t = , i = e.w , r = = o = n = w : , h : , x : , y : = i , ri = - , ri , n = = ne , tin in n=1 - r / i , tte.t - P , nreturn tcarouseln , = i = = , o = , a = = - u = e : e , lt : n , a : riniema = l = new t = n = r = a = inlargest - contentful - enew tfirst - e = = , c , t , e = , r = , o = : e , lob : = = a producer custom logger must be = d. = d. = n = = , e = : pagec , : : dimensions : s , merge : = , n = : page : type given for counter name or counter value : in cc.l = e , : t , : : merge : in = = c.s , = c.linstance : new a , n = , r = , s = = t. r = i = , e = , o = : r , lob : a producer custom logger must be \n"
     ]
    }
   ],
   "source": [
    "print(len(web_contents[f'{12}']))\n",
    "print(web_contents[f'{12}'][15000:16000])"
   ]
  },
  {
   "cell_type": "code",
   "execution_count": 139,
   "metadata": {},
   "outputs": [],
   "source": [
    "with open(r'data\\CrawledWeb\\TopicClassification\\HTMLClassification\\htmls\\link_12.html', 'rt') as f:\n",
    "    html_content = f.read()"
   ]
  },
  {
   "cell_type": "code",
   "execution_count": 140,
   "metadata": {},
   "outputs": [
    {
     "data": {
      "text/plain": [
       "223368"
      ]
     },
     "execution_count": 140,
     "metadata": {},
     "output_type": "execute_result"
    }
   ],
   "source": [
    "len(html_content)"
   ]
  },
  {
   "cell_type": "code",
   "execution_count": 21,
   "metadata": {},
   "outputs": [
    {
     "data": {
      "text/plain": [
       "30000"
      ]
     },
     "execution_count": 21,
     "metadata": {},
     "output_type": "execute_result"
    }
   ],
   "source": [
    "with gzip.open(rf'data\\CrawledWeb\\TopicClassification\\URLClassification\\id_content5.json.gz', 'rt') as file:\n",
    "    web_contents = json.load(file)\n",
    "web_contents = {int(k): remove_residuals(v)[:30000] for k, v in web_contents.items()}\n",
    "doc_lengths = np.array([len(web_contents[i]) for i in web_contents])\n",
    "np.max(doc_lengths)"
   ]
  },
  {
   "cell_type": "code",
   "execution_count": 22,
   "metadata": {},
   "outputs": [
    {
     "data": {
      "image/png": "[encoded data removed]",
      "text/plain": [
       "<Figure size 640x480 with 1 Axes>"
      ]
     },
     "metadata": {},
     "output_type": "display_data"
    }
   ],
   "source": [
    "plt.plot(list(web_contents.keys())[12000:12500], doc_lengths[12000:12500])\n",
    "plt.show()"
   ]
  },
  {
   "cell_type": "code",
   "execution_count": 23,
   "metadata": {},
   "outputs": [],
   "source": [
    "# # Concatenate all string values\n",
    "# all_values = \"\".join(web_contents.values())\n",
    "\n",
    "# # Count the frequency of each character\n",
    "# counter = collections.Counter(all_values)\n",
    "\n",
    "# # Get the 1000 most common characters\n",
    "# most_common_chars = counter.most_common(1000)\n",
    "\n",
    "# # Save the results to a CSV file\n",
    "# with open(r'data\\CrawledWeb\\TopicClassification\\URLClassification\\most_common_chars.csv', 'w', newline='') as file:\n",
    "#     writer = csv.writer(file)\n",
    "#     writer.writerow(['character', 'repeated_counts'])  # Write header\n",
    "#     writer.writerows(most_common_chars)  # Write data"
   ]
  },
  {
   "cell_type": "code",
   "execution_count": 24,
   "metadata": {},
   "outputs": [],
   "source": [
    "# with open(r'data\\CrawledWeb\\TopicClassification\\URLClassification\\most_common_chars.csv', 'w', newline='') as file:\n",
    "#     writer = csv.writer(file)\n",
    "#     writer.writerow(['character', 'repeated_counts'])  # Write header\n",
    "#     writer.writerows(most_common_chars)  # Write data"
   ]
  },
  {
   "cell_type": "code",
   "execution_count": 25,
   "metadata": {},
   "outputs": [],
   "source": [
    "# print(loaded_dict[doc_args[np.argmax(doc_lengths)]][:100])"
   ]
  },
  {
   "cell_type": "code",
   "execution_count": 26,
   "metadata": {},
   "outputs": [],
   "source": [
    "# id_contents = pd.DataFrame((list(contents_dict.keys()), (list(contents_dict.values()))), columns=['ids', 'urls'])"
   ]
  },
  {
   "cell_type": "code",
   "execution_count": 27,
   "metadata": {},
   "outputs": [],
   "source": [
    "# id_contents.to_csv(rf'data\\CrawledWeb\\TopicClassification\\URLClassification\\id_content.csv')"
   ]
  },
  {
   "cell_type": "code",
   "execution_count": 28,
   "metadata": {},
   "outputs": [],
   "source": [
    "# active_indices = np.array(list(web_contents.keys()), dtype=np.int32)\n",
    "# df = pd.read_csv(r'data\\CrawledWeb\\TopicClassification\\URLClassification\\url_classes2.csv')\n",
    "# df = df.iloc[active_indices]"
   ]
  },
  {
   "cell_type": "code",
   "execution_count": 29,
   "metadata": {},
   "outputs": [],
   "source": [
    "# with gzip.open(rf'data\\CrawledWeb\\TopicClassification\\URLClassification\\id_content2.json.gz', 'rt') as file:\n",
    "#     web_contents = json.load(file)\n",
    "#     web_contents = {int(k): re.sub(' +', ' ', v) for k, v in web_contents.items()}\n"
   ]
  },
  {
   "cell_type": "code",
   "execution_count": 30,
   "metadata": {},
   "outputs": [],
   "source": [
    "active_indices = np.array(list(web_contents.keys()), dtype=np.int32)\n",
    "df = pd.read_csv(r'data\\CrawledWeb\\TopicClassification\\URLClassification\\url_classes2.csv')\n",
    "df = df.iloc[active_indices]\n",
    "train_indices, val_indices = train_test_split(active_indices, test_size=0.1)"
   ]
  },
  {
   "cell_type": "code",
   "execution_count": null,
   "metadata": {},
   "outputs": [],
   "source": []
  },
  {
   "cell_type": "code",
   "execution_count": 31,
   "metadata": {},
   "outputs": [],
   "source": [
    "nlp.max_length = np.max(doc_lengths)+1\n",
    "for i in web_contents:\n",
    "    doc = nlp(web_contents[i])\n",
    "    for t in doc:\n",
    "        if t.text not in token_vocab_dict:\n",
    "            token_vocab_dict[t.text] = torch.ones((64, ), dtype=torch.float32)\n",
    "# token_vocab_dict['\\x01'] = torch.zeros((64, ), dtype=torch.float32)"
   ]
  },
  {
   "cell_type": "code",
   "execution_count": 32,
   "metadata": {},
   "outputs": [
    {
     "name": "stdout",
     "output_type": "stream",
     "text": [
      "30000\n",
      "11\n"
     ]
    }
   ],
   "source": [
    "print(np.max(doc_lengths))\n",
    "print(list(web_contents.keys())[np.argmax(doc_lengths)])"
   ]
  },
  {
   "cell_type": "code",
   "execution_count": 33,
   "metadata": {},
   "outputs": [],
   "source": [
    "# tt = TweetTokenizer()\n",
    "# tweet_tokenized = tt.tokenize(web_contents[27473])\n",
    "# len(tweet_tokenized)"
   ]
  },
  {
   "cell_type": "code",
   "execution_count": 34,
   "metadata": {},
   "outputs": [],
   "source": [
    "# word_tokenized = word_tokenize(web_contents[27473])\n",
    "# len(word_tokenized)"
   ]
  },
  {
   "cell_type": "code",
   "execution_count": 35,
   "metadata": {},
   "outputs": [],
   "source": [
    "# nlp_tokenized = nlp(web_contents[27473])\n",
    "# len(nlp_tokenized)"
   ]
  },
  {
   "cell_type": "code",
   "execution_count": 36,
   "metadata": {},
   "outputs": [],
   "source": [
    "# tweet_tokenized[335000:336000]"
   ]
  },
  {
   "cell_type": "code",
   "execution_count": 37,
   "metadata": {},
   "outputs": [],
   "source": [
    "# print(f'tweet_tokenized: {len(set(tweet_tokenized))}')\n",
    "# print(f'word_tokenized: {len(set(word_tokenized))}')\n",
    "# print(f'nlp_tokenized: {len(set(nlp_tokenized))}')"
   ]
  },
  {
   "cell_type": "code",
   "execution_count": 38,
   "metadata": {},
   "outputs": [],
   "source": [
    "# i=0\n",
    "# for t in nlp(web_contents[27473]):\n",
    "#     print(f't_{i}: {t.text}')\n",
    "#     i+=1"
   ]
  },
  {
   "cell_type": "code",
   "execution_count": 39,
   "metadata": {},
   "outputs": [],
   "source": [
    "# embeddings2 = torch.from_numpy(embeddings2)"
   ]
  },
  {
   "cell_type": "code",
   "execution_count": 40,
   "metadata": {},
   "outputs": [],
   "source": [
    "# doc = nlp(df_test['Address'].values[0])\n",
    "# for t in doc:\n",
    "#     print(f'{t}')\n",
    "#     token_vocab_dict[t.text]\n",
    "# '\\x01' in list(nlp.vocab.strings)"
   ]
  },
  {
   "cell_type": "code",
   "execution_count": 41,
   "metadata": {},
   "outputs": [],
   "source": [
    "# lstr = list(nlp.vocab.strings)\n",
    "# for tstr in lstr:\n",
    "#     if len(tstr) < 3:\n",
    "#         print(tstr)"
   ]
  },
  {
   "cell_type": "code",
   "execution_count": 42,
   "metadata": {},
   "outputs": [],
   "source": [
    "# ord('✭')"
   ]
  },
  {
   "cell_type": "code",
   "execution_count": 43,
   "metadata": {},
   "outputs": [],
   "source": [
    "# nlp('best game ever ✭')"
   ]
  },
  {
   "cell_type": "code",
   "execution_count": 44,
   "metadata": {},
   "outputs": [],
   "source": [
    "# df = pd.read_csv(r'data\\CrawledWeb\\TopicClassification\\URLClassification\\url_classes2.csv')\n",
    "# df = pd.read_csv(r'C:\\Users\\fardin\\Project\\SEOIntelligence\\data\\url_classes.csv')\n",
    "# df.dropna(inplace=True)\n",
    "class_list = df.Topic.unique()\n",
    "class_id = {t:i for i, t in enumerate(class_list)}\n",
    "id_class = {i:t for i, t in enumerate(class_list)}\n",
    "# df_train, df_test = train_test_split(df, test_size=0.1, shuffle=True)"
   ]
  },
  {
   "cell_type": "code",
   "execution_count": 45,
   "metadata": {},
   "outputs": [
    {
     "data": {
      "text/plain": [
       "1670"
      ]
     },
     "execution_count": 45,
     "metadata": {},
     "output_type": "execute_result"
    }
   ],
   "source": [
    "# chars = set([c for i in web_contents for c in ' '.join([t.text for t in nlp(web_contents[i])])])\n",
    "chars = set([c for t in token_vocab_dict for c in t])\n",
    "vocab_dict = {c:i for i, c in enumerate(chars)}\n",
    "if '\\x01' not in vocab_dict:\n",
    "    vocab_dict['\\x01'] = len(vocab_dict)\n",
    "np.max(list(vocab_dict.values()))\n",
    "del chars"
   ]
  },
  {
   "cell_type": "code",
   "execution_count": 46,
   "metadata": {},
   "outputs": [],
   "source": [
    "class CharacterandTokenLevelCustomDataset(Dataset):\n",
    "    \n",
    "    def __init__(self, X, y, indices, num_classes, char_dict, token_dict, tokenizer) -> None:\n",
    "        super().__init__()\n",
    "        y = y[indices].values\n",
    "        y = torch.from_numpy(np.array([class_id[c] for c in y], dtype=np.longlong))\n",
    "        self.y = torch.nn.functional.one_hot(y, num_classes=num_classes).float()\n",
    "        \n",
    "        self.char_dict = char_dict\n",
    "        self.vocab_size = len(self.char_dict)\n",
    "        self.tokenizer = tokenizer\n",
    "        \n",
    "        self.all_data = []# torch.zeros((len(X), self.doc_char_length), dtype=torch.long)\n",
    "        # self.token_lengths = torch.zeros((len(X), self.doc_teken_length), dtype=torch.int)\n",
    "        # self.token_indices = torch.zeros((len(X), self.doc_char_length), dtype=torch.long)\n",
    "        self.token_lengths = []\n",
    "        \n",
    "        self.token_embeddign_ids = []\n",
    "        for i in indices:\n",
    "            doc=X[i]\n",
    "            tokens = self.tokenizer(doc)\n",
    "            tokens = [t.text for t in tokens if t.text in token_dict]\n",
    "            tokens.append('\\x01')\n",
    "            token_embs = [token_dict[t] if t in token_dict else torch.zeros((64, ), dtype=torch.float32) for t in tokens]\n",
    "            token_embs = torch.from_numpy(np.array(token_embs, dtype=np.float32))\n",
    "            doc = ' '.join(tokens)\n",
    "            \n",
    "            characters = torch.from_numpy(np.array([self.char_dict[t] for t in doc if t in self.char_dict], dtype=np.longlong))\n",
    "            # char_pad_size = max(self.doc_char_length - len(indices), 0)\n",
    "            # indices = torch.nn.functional.pad(indices[:self.doc_char_length], (0,char_pad_size))\n",
    "            \n",
    "            token_lengths = torch.from_numpy(np.array([len(t) for t in tokens], dtype=np.longlong))+1\n",
    "            token_lengths[-1] -= 1\n",
    "            token_indices = torch.repeat_interleave(torch.arange(len(token_lengths), dtype=torch.long), token_lengths)\n",
    "            # token_indices = torch.nn.functional.pad(token_indices[:self.doc_char_length], (0,char_pad_size), value=len(token_lengths)-1)\n",
    "            \n",
    "            # self.token_embeddign_ids.append(token_embs)\n",
    "            g_data = Data(x=characters,\n",
    "                          character_length = len(characters),\n",
    "                          num_tokens = len(token_lengths),\n",
    "                          token_indices=token_indices,\n",
    "                          token_lengths=token_lengths,\n",
    "                          token_embeddings=token_embs)\n",
    "            \n",
    "                        #   character_token_lengths = torch.repeat_interleave(token_lengths, token_lengths)\n",
    "            \n",
    "            self.all_data.append(g_data)\n",
    "            # self.token_lengths.append(token_lengths)\n",
    "        \n",
    "        \n",
    "    def __getitem__(self, index):\n",
    "        # emb_data = Data(x=self.token_embeddigns[self.token_embeddign_ids[index]])\n",
    "        return self.all_data[index], self.y[index]#, Batch.from_data_list([emb_data])\n",
    "        \n",
    "    def __len__(self):\n",
    "        return len(self.y)\n",
    "        "
   ]
  },
  {
   "cell_type": "code",
   "execution_count": 47,
   "metadata": {},
   "outputs": [],
   "source": [
    "from typing import List\n",
    "import torch\n",
    "from torch_geometric.loader import DataLoader\n",
    "\n",
    "# from scripts.data.datasets.GraphConstructorDataset3 import WordGraphLabeledDataset\n",
    "\n",
    "\n",
    "class CharacterandTokenLevelDataLoader(DataLoader):\n",
    "    def __init__(\n",
    "        self,\n",
    "        dataset,\n",
    "        batch_size: int = 1,\n",
    "        shuffle: bool = False,\n",
    "        follow_batch: List[str] | None = None,\n",
    "        exclude_keys: List[str] | None = None,\n",
    "        **kwargs,\n",
    "    ):\n",
    "        super(CharacterandTokenLevelDataLoader, self).__init__(\n",
    "            dataset, batch_size, shuffle, follow_batch, exclude_keys, **kwargs\n",
    "        )\n",
    "\n",
    "    def __iter__(self):\n",
    "        base_iterator = super(CharacterandTokenLevelDataLoader, self).__iter__()\n",
    "        for batch in base_iterator:\n",
    "            cumsum_vals = torch.cumsum(batch[0].num_tokens, dim=0).roll(1)\n",
    "            cumsum_vals[0] = 0\n",
    "            additions = torch.repeat_interleave(cumsum_vals, batch[0].character_length)\n",
    "            batch[0].cumulative_token_indices = batch[0].token_indices + additions\n",
    "            yield batch\n"
   ]
  },
  {
   "cell_type": "markdown",
   "metadata": {},
   "source": [
    "## Prepare Data"
   ]
  },
  {
   "cell_type": "code",
   "execution_count": 48,
   "metadata": {},
   "outputs": [],
   "source": [
    "batch_size = 8"
   ]
  },
  {
   "cell_type": "code",
   "execution_count": 49,
   "metadata": {},
   "outputs": [],
   "source": [
    "train_dataset = CharacterandTokenLevelCustomDataset(web_contents, df.Topic, train_indices, len(class_id), vocab_dict, token_vocab_dict, nlp)\n",
    "test_dataset = CharacterandTokenLevelCustomDataset(web_contents, df.Topic, val_indices, len(class_id), vocab_dict, token_vocab_dict, nlp)\n",
    "train_dataloader = CharacterandTokenLevelDataLoader(train_dataset, batch_size=batch_size, drop_last=True, shuffle=False)\n",
    "test_dataloader = CharacterandTokenLevelDataLoader(test_dataset, batch_size=batch_size, drop_last=True, shuffle=False)"
   ]
  },
  {
   "cell_type": "code",
   "execution_count": 82,
   "metadata": {},
   "outputs": [],
   "source": [
    "num_embedding = len(vocab_dict)\n",
    "del web_contents\n",
    "del train_indices\n",
    "del vocab_dict\n",
    "del token_vocab_dict\n",
    "del nlp\n",
    "del val_indices\n",
    "del df\n",
    "del active_indices\n",
    "del doc_lengths\n",
    "del embeddings"
   ]
  },
  {
   "cell_type": "code",
   "execution_count": 97,
   "metadata": {},
   "outputs": [],
   "source": [
    "batch_size = 12\n",
    "train_dataloader = CharacterandTokenLevelDataLoader(train_dataset, batch_size=batch_size, drop_last=True, shuffle=False)\n",
    "test_dataloader = CharacterandTokenLevelDataLoader(test_dataset, batch_size=batch_size, drop_last=True, shuffle=False)"
   ]
  },
  {
   "cell_type": "code",
   "execution_count": 51,
   "metadata": {},
   "outputs": [],
   "source": [
    "# X,y = next(iter(test_dataset))\n",
    "# print(f'X.character_length: {X.character_length}')\n",
    "# print(f'X.num_tokens: {X.num_tokens}')\n",
    "# print(f'X.token_indices: {X.token_indices}')\n",
    "# print(f'len(X.token_indices): {len(X.token_indices)}')\n",
    "# print(f'sum(X.token_lengths): {sum(X.token_lengths)}')\n",
    "# print(f'X.token_embeddings.shape: {X.token_embeddings.shape}')"
   ]
  },
  {
   "cell_type": "code",
   "execution_count": 98,
   "metadata": {},
   "outputs": [],
   "source": [
    "X, y = next(iter(test_dataloader))"
   ]
  },
  {
   "cell_type": "code",
   "execution_count": 53,
   "metadata": {},
   "outputs": [],
   "source": [
    "x_shapes = []\n",
    "for X, y in test_dataloader:\n",
    "    x_shapes.append(X.x.shape[0])"
   ]
  },
  {
   "cell_type": "code",
   "execution_count": 54,
   "metadata": {},
   "outputs": [
    {
     "data": {
      "image/png": "[encoded data removed]",
      "text/plain": [
       "<Figure size 640x480 with 1 Axes>"
      ]
     },
     "metadata": {},
     "output_type": "display_data"
    }
   ],
   "source": [
    "# Create a histogram\n",
    "plt.hist(x_shapes, bins='auto', edgecolor='black')\n",
    "\n",
    "# Add labels and title\n",
    "plt.xlabel('String Lengths')\n",
    "plt.ylabel('Frequency')\n",
    "plt.title('Distribution of String Lengths')\n",
    "\n",
    "# Show the chart\n",
    "plt.show()"
   ]
  },
  {
   "cell_type": "code",
   "execution_count": 55,
   "metadata": {},
   "outputs": [
    {
     "data": {
      "text/plain": [
       "DataBatch(x=[91223], character_length=[8], num_tokens=[8], token_indices=[91223], token_lengths=[14636], token_embeddings=[14636, 64], batch=[91223], ptr=[9], cumulative_token_indices=[91223])"
      ]
     },
     "execution_count": 55,
     "metadata": {},
     "output_type": "execute_result"
    }
   ],
   "source": [
    "X"
   ]
  },
  {
   "cell_type": "markdown",
   "metadata": {},
   "source": [
    "## Model Classes and Functions"
   ]
  },
  {
   "cell_type": "code",
   "execution_count": 56,
   "metadata": {},
   "outputs": [],
   "source": [
    "# token_reps = scatter_mean(X.x, X.cumulative_token_indices)"
   ]
  },
  {
   "cell_type": "code",
   "execution_count": 57,
   "metadata": {},
   "outputs": [],
   "source": [
    "class AdaptiveScatterPooling(nn.Module):\n",
    "\n",
    "    def __init__(self, num_features=128, *args, **kwargs) -> None:\n",
    "        super().__init__(*args, **kwargs)\n",
    "        self.epsilon = nn.Parameter(torch.randn((num_features,1, 1)))\n",
    "        \n",
    "    def forward(self, x, index):\n",
    "        sc_max = scatter_max(x, index, dim=1)[0]\n",
    "        sc_mean = scatter_mean(x, index, dim=1)\n",
    "        return sc_mean +  + (sc_max-sc_mean) * self.epsilon\n"
   ]
  },
  {
   "cell_type": "code",
   "execution_count": 58,
   "metadata": {},
   "outputs": [],
   "source": [
    "base_range = torch.arange(1000000, device=device)\n",
    "for i in range(50000):\n",
    "    rr = base_range[:50000]\n",
    "    # rr = torch.arange(50000, device=device)"
   ]
  },
  {
   "cell_type": "code",
   "execution_count": 59,
   "metadata": {},
   "outputs": [],
   "source": [
    "from torch_geometric.nn import GATv2Conv, SimpleConv\n",
    "\n",
    "\n",
    "class GCNN(nn.Module):\n",
    "    def __init__(self, hidden_dim, *args, **kwargs):\n",
    "        super(GCNN, self).__init__(*args, **kwargs)\n",
    "        # self.hidden_dim = hidden_dim\n",
    "        self.gnn = GATv2Conv(hidden_dim, hidden_dim//8, heads=4)\n",
    "        # self.gnn = SimpleConv(aggr='mean')\n",
    "        self.conv = nn.Conv1d(hidden_dim, hidden_dim//2, kernel_size=3, padding=1)\n",
    "        self.fc = nn.Linear(hidden_dim//2, hidden_dim)\n",
    "        # self.out_fc = nn.Linear(2*hidden_dim, hidden_dim)\n",
    "        self.bn1 = nn.BatchNorm1d(hidden_dim//2)\n",
    "        # self.bn2 = nn.BatchNorm1d(hidden_dim)\n",
    "        self.bn3 = nn.BatchNorm1d(hidden_dim)\n",
    "        # self.bn4 = nn.BatchNorm1d(hidden_dim)\n",
    "        \n",
    "    def forward(self, x, graph, total_token_count, return_attention_weights = False):\n",
    "        x1, edge_weights = self.gnn(x, graph.edge_index, return_attention_weights=return_attention_weights) \n",
    "        x2 = F.relu(self.conv(x[:total_token_count].T).T)#self.bn2(self.conv(x[:total_token_count].T).T))\n",
    "        x3 =  F.leaky_relu_(self.bn3(self.fc(x1[total_token_count:])))\n",
    "        x1 = F.leaky_relu_(self.bn1(x1[:total_token_count]))\n",
    "        x = torch.cat([x1, x2], dim=1)\n",
    "        x = torch.cat([x, x3], dim=0)\n",
    "        # x = self.bn4(x)\n",
    "        return x, edge_weights #F.leaky_relu_(self.bn4(self.out_fc(x)))"
   ]
  },
  {
   "cell_type": "code",
   "execution_count": 60,
   "metadata": {},
   "outputs": [],
   "source": [
    "import networkx as nx\n",
    "from torch_geometric.utils import to_networkx, to_undirected\n",
    "\n",
    "class GenGraph(nn.Module):\n",
    "    \n",
    "    def __init__(self, hidden_dim, virtual_nodes, lattice_step, *args, **kwargs):\n",
    "        super(GenGraph, self).__init__(*args, **kwargs)\n",
    "        self.hidden_dim = hidden_dim\n",
    "        self.virtual_nodes = virtual_nodes\n",
    "        self.lattice_step = lattice_step\n",
    "        self.virtual_node_embeddings = nn.Embedding(self.virtual_nodes, hidden_dim)\n",
    "        \n",
    "    def gen_graph(self, x, total_token_coutns, token_counts, random_edges, lattice_edges, lattice_start_distance=2):\n",
    "        random_links, lattice_links, tc_range = self.calculate_graph(x, total_token_coutns, token_counts, random_edges, lattice_edges, lattice_start_distance)\n",
    "        v_n_e_counts = total_token_coutns*self.virtual_nodes\n",
    "        base_numel = random_links.numel() + lattice_links.numel()*2\n",
    "        edge_index = torch.empty((2, base_numel + v_n_e_counts*2), dtype=torch.int64, device=x.device)\n",
    "        self.fill_lattice_and_random_edges(edge_index, random_links, lattice_links, tc_range)\n",
    "        # for i in range(0, lattice_links.shape[1]*2, step=2):\n",
    "        #     edge_index[:, i*lattice_links.shape[0]:(i+1)*lattice_links.shape[0]] = torch.cat([lattice_links[:,i].view(1,-1), tc_range], dim=0)\n",
    "        #     edge_index[:, (i+1)*lattice_links.shape[0]:(i+2)*lattice_links.shape[0]] = edge_index[:, i*lattice_links.shape[0]:(i+1)*lattice_links.shape[0]][[1, 0]]\n",
    "        # for i in range(lattice_links.shape[1]*2, lattice_links.shape[1]*2+random_links.shape[1]):\n",
    "        #     edge_index[:, i*random_links.shape[0]:(i+1)*random_links.shape[0]] = torch.cat([random_links[:,i].view(1,-1), tc_range], dim=0)\n",
    "            \n",
    "        if self.virtual_nodes > 0:\n",
    "            virtual_nodes_range = torch.arange(self.virtual_nodes, device=x.device).view(1, -1)\n",
    "            virtual_nodes_ids = torch.repeat_interleave(virtual_nodes_range, len(token_counts), dim=0)\n",
    "            v_n_idx = (virtual_nodes_ids + torch.arange(0, len(token_counts)*self.virtual_nodes, self.virtual_nodes, device=x.device).view(-1, 1) + total_token_coutns )\n",
    "            virtual_edge_ids = torch.repeat_interleave(v_n_idx.view(-1), token_counts.view(-1, 1).expand(len(token_counts), self.virtual_nodes).reshape(-1), dim=0).view(1, -1)\n",
    "            \n",
    "            embs = self.virtual_node_embeddings(virtual_nodes_ids.T).view(-1, self.hidden_dim)\n",
    "            x_extended = torch.cat([x, embs], dim=0)\n",
    "            x_index = torch.arange(total_token_coutns, device=x.device).repeat(self.virtual_nodes).view(1, -1)\n",
    "            edge_index[:, base_numel:base_numel+v_n_e_counts] = torch.cat([x_index, virtual_edge_ids], dim=0)\n",
    "            edge_index[:, base_numel+v_n_e_counts:] = torch.cat([virtual_edge_ids, x_index], dim=0)\n",
    "            x = x_extended\n",
    "        \n",
    "        return Batch.from_data_list([Data(x=x, edge_index=edge_index)])\n",
    "        \n",
    "    def re_gen_graph(self, x, edge_index, total_token_coutns, token_counts, random_edges, lattice_edges, lattice_start_distance=2):\n",
    "        random_links, lattice_links, tc_range = self.calculate_graph(x, total_token_coutns, token_counts, random_edges, lattice_edges, lattice_start_distance)\n",
    "        base_numel = random_links.numel() + lattice_links.numel()*2\n",
    "        \n",
    "        self.fill_lattice_and_random_edges(edge_index, random_links, lattice_links, tc_range)\n",
    "        # for i in range(base.shape[1]):\n",
    "        #     edge_index[:, i*base.shape[0]:(i+1)*base.shape[0]] = torch.cat([tc_range, base[:,i].view(1,-1)], dim=0)\n",
    "            \n",
    "        return Batch.from_data_list([Data(x=x, edge_index=edge_index)])\n",
    "    \n",
    "    def replace_unimportant_edges(self, edge_weights, x, edge_index, total_token_coutns, token_counts, random_edges, lattice_edges, p_keep=1, lattice_start_distance=2):\n",
    "        v_n_e_counts = total_token_coutns*self.virtual_nodes\n",
    "        if v_n_e_counts>0:\n",
    "            important_indices = torch.topk(edge_weights[:-2*v_n_e_counts].view(-1, total_token_coutns), p_keep, dim=0).indices\n",
    "        else:\n",
    "            important_indices = torch.topk(edge_weights.view(-1, total_token_coutns), p_keep, dim=0).indices\n",
    "        # important_indices = torch.topk(edge_weights[:-1*total_token_coutns].view(-1, total_token_coutns), 1, dim=0).indices.squeeze()\n",
    "\n",
    "        important_indices = torch.arange(total_token_coutns, dtype=torch.int64, device=x.device) + important_indices*total_token_coutns\n",
    "        important_indices = important_indices.view(-1)\n",
    "        random_links, lattice_links, tc_range = self.calculate_graph(x, total_token_coutns, token_counts, random_edges, lattice_edges, lattice_start_distance)\n",
    "        base_numel = random_links.numel() + lattice_links.numel()*2\n",
    "        \n",
    "        new_edge_index = torch.empty((2, base_numel + important_indices.shape[0] + 2*v_n_e_counts), dtype=torch.int64, device=x.device)\n",
    "        self.fill_lattice_and_random_edges(new_edge_index, random_links, lattice_links, tc_range)\n",
    "        new_edge_index[:, base_numel:base_numel+important_indices.shape[0]] = edge_index[:, important_indices]\n",
    "        if(self.virtual_nodes>0):\n",
    "            new_edge_index[:, -2*v_n_e_counts:] = edge_index[:, -2*v_n_e_counts:]\n",
    "            \n",
    "        # for i in range(base.shape[1]):\n",
    "        #     new_edge_index[:, i*base.shape[0]:(i+1)*base.shape[0]] = torch.cat([tc_range, base[:,i].view(1,-1)], dim=0)\n",
    "        \n",
    "        return Batch.from_data_list([Data(x=x, edge_index=new_edge_index)])\n",
    "         \n",
    "    def calculate_graph(self, x, total_token_coutns, token_counts, random_edges, lattice_edges, lattice_start_distance):\n",
    "        tc_extended = torch.repeat_interleave(token_counts, token_counts, dim=0).view(-1,1)\n",
    "        tc_lower_bound = torch.empty((len(token_counts)+1), dtype=torch.long, device=x.device) #torch.cuda.IntTensor(len(token_counts)+1) #\n",
    "        tc_lower_bound[0] = 0\n",
    "        tc_lower_bound[1:] = torch.cumsum(token_counts, dim=0)\n",
    "        tc_lower_bound_extended = torch.repeat_interleave(tc_lower_bound[:-1], token_counts, dim=0).view(-1,1)\n",
    "        tc_range = torch.arange(tc_lower_bound[-1], device=x.device).view(-1,1)\n",
    "        # torch.arange(tc_lower_bound[-1], dtype=torch.int32, device=x.device).view(-1,1)\n",
    "        random_ints = torch.randint(0, 2*total_token_coutns, (total_token_coutns, random_edges), device=x.device) # torch.cuda.IntTensor(len(token_lengths), random_edges).random_()\n",
    "        lattice = torch.arange(lattice_start_distance, self.lattice_step*lattice_edges+1, self.lattice_step, device=x.device).view(1, -1)\n",
    "\n",
    "        # exponentials = torch.pow(2, torch.arange(1, self.exp_edges+1, device=x.device)).view(1, -1)\n",
    "        tc_local_range = tc_range - tc_lower_bound_extended\n",
    "        random_links = (((random_ints % (tc_extended - 1))+1 + tc_local_range) % tc_extended)+tc_lower_bound_extended\n",
    "        lattice_links = ((lattice + tc_local_range) % tc_extended)+tc_lower_bound_extended\n",
    "        # base = torch.cat([base1, base2], dim=1)\n",
    "        tc_range = tc_range.view(1,-1)\n",
    "        return random_links, lattice_links, tc_range\n",
    "    \n",
    "    def fill_lattice_and_random_edges(self, edge_index, random_links, lattice_links, tc_range):\n",
    "        for i in range(0, lattice_links.shape[1]*2, 2):\n",
    "            edge_index[:, i*lattice_links.shape[0]:(i+1)*lattice_links.shape[0]] = torch.cat([lattice_links[:,i//2].view(1,-1), tc_range], dim=0)\n",
    "            edge_index[:, (i+1)*lattice_links.shape[0]:(i+2)*lattice_links.shape[0]] = edge_index[:, i*lattice_links.shape[0]:(i+1)*lattice_links.shape[0]][[1, 0]]\n",
    "            \n",
    "        for i in range(random_links.shape[1]):\n",
    "            j = i + lattice_links.shape[1]*2\n",
    "            edge_index[:, j*random_links.shape[0]:(j+1)*random_links.shape[0]] = torch.cat([random_links[:,i].view(1,-1), tc_range], dim=0)"
   ]
  },
  {
   "cell_type": "code",
   "execution_count": 61,
   "metadata": {},
   "outputs": [],
   "source": [
    "# torch.max(X.x)"
   ]
  },
  {
   "cell_type": "code",
   "execution_count": 62,
   "metadata": {},
   "outputs": [],
   "source": [
    "# embedding = nn.Embedding(len(vocab_dict), 64)\n",
    "# x = embedding(X.x)\n",
    "# x = scatter_mean(x.T, X.cumulative_token_indices, dim=1)\n",
    "\n",
    "# graph_generator = GenGraph(64, 1, 2)\n",
    "# graph = graph_generator.gen_graph(x.T, len(X.token_lengths), X.num_tokens, 2, 2)\n",
    "# gcnn1 = GCNN(64)\n",
    "# x, edge_weights = gcnn1(graph.x, graph, len(X.token_lengths), return_attention_weights = True)\n",
    "# edge_weights = edge_weights[1][:graph.edge_index.shape[1], 0]\n",
    "# # edge_weights = torch.sum(edge_weights[1][:graph.edge_index.shape[1], :],dim=1)\n",
    "# graph = graph_generator.replace_unimportant_edges(edge_weights, x, graph.edge_index, len(X.token_lengths), X.num_tokens, 4, 4, p_keep=2, lattice_start_distance=3)\n",
    "# graph"
   ]
  },
  {
   "cell_type": "code",
   "execution_count": 63,
   "metadata": {},
   "outputs": [],
   "source": [
    "# weights.T[0].view(-1, len(X.token_lengths))"
   ]
  },
  {
   "cell_type": "code",
   "execution_count": 64,
   "metadata": {},
   "outputs": [],
   "source": [
    "# r_v = torch.randn(5, 6)\n",
    "# torch.topk(r_v, 2, dim=0)\n",
    "# r_v\n",
    "# len(graph.x)\n",
    "# edge_weights.view(-1, len(X.token_lengths))\n",
    "# important_indices = torch.topk(weights.T[0][:-1*len(X.token_lengths)].view(-1, len(X.token_lengths)), 1, dim=0).indices.squeeze()\n",
    "# print(important_indices)\n",
    "# print(torch.arange(important_indices.shape[0]) + important_indices*important_indices.shape[0])"
   ]
  },
  {
   "cell_type": "code",
   "execution_count": 65,
   "metadata": {},
   "outputs": [],
   "source": [
    "from torch_geometric.nn import GATv2Conv, SimpleConv, summary\n",
    "\n",
    "class CNN_for_Text(nn.Module):\n",
    "    \n",
    "    def __init__(self, num_embedding, batch_size, max_char_count, embedding_dim=64, hidden_dim=64, dropout=0.3, num_out_features=4, seed=-1, random_edges=4, lattice_edges=10, virtual_nodes=1, lattice_step=2, lattice_start_distance=2, *args, **kwargs) -> None:\n",
    "        super(CNN_for_Text, self).__init__(*args, **kwargs)\n",
    "        self.batch_size = batch_size\n",
    "        self.max_char_count = max_char_count\n",
    "        self.hidden_dim = hidden_dim\n",
    "        self.virtual_nodes = virtual_nodes\n",
    "        self.base_random_edges = random_edges\n",
    "        self.base_lattice_edges = lattice_edges\n",
    "        self.lattice_start_distance = lattice_start_distance\n",
    "        if seed>-1:\n",
    "            torch.manual_seed(seed)\n",
    "        \n",
    "        self.embedding = nn.Embedding(num_embedding, embedding_dim)\n",
    "\n",
    "        self.conv1 = nn.Conv1d(embedding_dim, hidden_dim, kernel_size=5, padding=2)\n",
    "        self.pool1 = nn.MaxPool1d(2)\n",
    "        self.conv2 = nn.Conv1d(hidden_dim, hidden_dim, kernel_size=5, padding=2)\n",
    "        self.conv3 = nn.Conv1d(2*hidden_dim, hidden_dim, kernel_size=3, padding=1)\n",
    "        self.conv4 = nn.Conv1d(hidden_dim, hidden_dim, kernel_size=3, padding=1)\n",
    "\n",
    "        # self.conv5 = nn.Conv1d(2*hidden_dim, hidden_dim, kernel_size=3, padding=1)\n",
    "        \n",
    "        self.gcnn1 = GCNN(hidden_dim)\n",
    "        self.gcnn2 = GCNN(2*hidden_dim)\n",
    "        self.graph_generator = GenGraph(hidden_dim, virtual_nodes, lattice_step)\n",
    "        \n",
    "        k = 32\n",
    "        self.fc0 =  nn.Linear(hidden_dim , 2*hidden_dim)\n",
    "        self.fc1 = nn.Linear(2*hidden_dim , hidden_dim * k)\n",
    "        self.fc2 = nn.Linear(hidden_dim * (2+virtual_nodes) * k , 32)\n",
    "        # self.fc3 = nn.Linear(hidden_dim * k, 32)\n",
    "        self.dropout = nn.Dropout(dropout)\n",
    "        self.fc_out = nn.Linear(32, num_out_features)\n",
    "    \n",
    "    def forward(self, g_data):\n",
    "        # rand_edges = self.get_random_edge_count(g_data.x.shape[0])\n",
    "        x = self.embedding(g_data.x)\n",
    "        x = self.dropout(x)\n",
    "        x = x.T\n",
    "        x = F.relu(self.conv1(x))\n",
    "        x = F.relu(self.conv2(x))\n",
    "        x = self.dropout(x)\n",
    "        x1 = scatter_max(x, g_data.cumulative_token_indices, dim=1)[0]\n",
    "        x2 = scatter_mean(x, g_data.cumulative_token_indices, dim=1)\n",
    "\n",
    "        x = torch.cat([x1, x2], dim=0)\n",
    "\n",
    "        x = F.relu(self.conv3(x)) \n",
    "        \n",
    "        # x = self.dropout(x)\n",
    "        rand_edges, lattice_edges = self.base_random_edges, self.base_lattice_edges\n",
    "        graph = self.graph_generator.gen_graph(x.T, len(g_data.token_lengths), g_data.num_tokens, rand_edges, lattice_edges, lattice_start_distance=self.lattice_start_distance)\n",
    "        rand_edges = rand_edges-1 # max(1, rand_edges-1)\n",
    "        lattice_edges = lattice_edges-1 # max(1, lattice_edges-1)\n",
    "        # self.gen_graph(x.T, len(g_data.token_lengths), g_data.num_tokens)\n",
    "        # x = torch.cat([graph.x, g_data.token_embeddings], dim=1)\n",
    "        \n",
    "        x, edge_weights = self.gcnn1(graph.x, graph, len(g_data.token_lengths), return_attention_weights = True)\n",
    "        # edge_weights = torch.sum(edge_weights[1][:graph.edge_index.shape[1], :],dim=1)\n",
    "        edge_weights = edge_weights[1][:graph.edge_index.shape[1], 0]\n",
    "        \n",
    "        graph = self.graph_generator.replace_unimportant_edges(edge_weights, x, graph.edge_index, len(g_data.token_lengths), g_data.num_tokens, rand_edges, lattice_edges, p_keep=2, lattice_start_distance=self.lattice_start_distance+1)\n",
    "        \n",
    "        x = torch.cat([graph.x[:g_data.token_embeddings.shape[0]], g_data.token_embeddings], dim=1)\n",
    "        x1 = F.relu(self.fc0(graph.x[g_data.token_embeddings.shape[0]:]))\n",
    "        x = torch.cat([x, x1], dim=0)\n",
    "        \n",
    "        # x = x + graph.x  /////\n",
    "        # graph = self.graph_generator.re_gen_graph(x, graph.edge_index, len(g_data.token_lengths), g_data.num_tokens)    //////\n",
    "        #self.re_gen_graph(x, graph.edge_index, len(g_data.token_lengths), g_data.num_tokens)\n",
    "        x, edge_weights = self.gcnn2(x, graph, len(g_data.token_lengths))\n",
    "        # x = x + x1  /////\n",
    "        x = F.elu_(self.fc1(x))\n",
    "        doc_token_index = torch.repeat_interleave(torch.arange(len(g_data.num_tokens), device=x.device), g_data.num_tokens)\n",
    "        x1 = scatter_max(x[:len(g_data.token_lengths)], doc_token_index, dim=0)[0]\n",
    "        x2 = scatter_mean(x[:len(g_data.token_lengths)], doc_token_index, dim=0)\n",
    "        vn_embs = x[len(g_data.token_lengths):]\n",
    "        x_for_cat = [x1, x2]\n",
    "        x_for_cat.extend([vn_embs[i*x1.shape[0]:(i+1)*x1.shape[0]] for i in range(self.virtual_nodes)])\n",
    "        x = torch.cat(x_for_cat, dim=1)\n",
    "        \n",
    "        x = F.elu_(self.fc2(x))\n",
    "        x = self.dropout(x)\n",
    "        x = self.fc_out(x)\n",
    "        return x\n",
    "\n",
    "    # def get_random_edge_count(self, input_char_count):\n",
    "    #     if input_char_count>390000:\n",
    "    #         print(f'input_char_count: {input_char_count}')\n",
    "    #         return 1\n",
    "    #     if input_char_count>300000:\n",
    "    #         return 2\n",
    "    #     if input_char_count>250000:\n",
    "    #         return 3\n",
    "    #     return 4"
   ]
  },
  {
   "cell_type": "code",
   "execution_count": null,
   "metadata": {},
   "outputs": [],
   "source": [
    "del nlp\n",
    "del val_indices\n",
    "del df\n",
    "del active_indices\n",
    "del doc_lengths\n",
    "del embeddings"
   ]
  },
  {
   "cell_type": "code",
   "execution_count": 103,
   "metadata": {},
   "outputs": [
    {
     "name": "stdout",
     "output_type": "stream",
     "text": [
      "+-------------------------------------------+------------------------------+----------------+----------+\n",
      "| Layer                                     | Input Shape                  | Output Shape   | #Param   |\n",
      "|-------------------------------------------+------------------------------+----------------+----------|\n",
      "| CNN_for_Text                              | [157807, 157807]             | [12, 12]       | 779,148  |\n",
      "| ├─(embedding)Embedding                    | [157807]                     | [157807, 128]  | 213,888  |\n",
      "| ├─(conv1)Conv1d                           | [128, 157807]                | [64, 157807]   | 41,024   |\n",
      "| ├─(pool1)MaxPool1d                        | --                           | --             | --       |\n",
      "| ├─(conv2)Conv1d                           | [64, 157807]                 | [64, 157807]   | 20,544   |\n",
      "| ├─(conv3)Conv1d                           | [128, 26080]                 | [64, 26080]    | 24,640   |\n",
      "| ├─(conv4)Conv1d                           | --                           | --             | 12,352   |\n",
      "| ├─(gcnn1)GCNN                             | [26080, 64], [26080, 26080]  | [26080, 64]    | 12,704   |\n",
      "| │    └─(gnn)GATv2Conv                     | [26080, 64], [2, 312960]     | [26080, 32]    | 4,224    |\n",
      "| │    └─(conv)Conv1d                       | [64, 26080]                  | [32, 26080]    | 6,176    |\n",
      "| │    └─(fc)Linear                         | [0, 32]                      | [0, 64]        | 2,112    |\n",
      "| │    └─(bn1)BatchNorm1d                   | [26080, 32]                  | [26080, 32]    | 64       |\n",
      "| │    └─(bn3)BatchNorm1d                   | [0, 64]                      | [0, 64]        | 128      |\n",
      "| ├─(gcnn2)GCNN                             | [26080, 128], [26080, 26080] | [26080, 128]   | 49,984   |\n",
      "| │    └─(gnn)GATv2Conv                     | [26080, 128], [2, 234720]    | [26080, 64]    | 16,640   |\n",
      "| │    └─(conv)Conv1d                       | [128, 26080]                 | [64, 26080]    | 24,640   |\n",
      "| │    └─(fc)Linear                         | [0, 64]                      | [0, 128]       | 8,320    |\n",
      "| │    └─(bn1)BatchNorm1d                   | [26080, 64]                  | [26080, 64]    | 128      |\n",
      "| │    └─(bn3)BatchNorm1d                   | [0, 128]                     | [0, 128]       | 256      |\n",
      "| ├─(graph_generator)GenGraph               | --                           | --             | --       |\n",
      "| │    └─(virtual_node_embeddings)Embedding | --                           | --             | --       |\n",
      "| ├─(fc0)Linear                             | [0, 64]                      | [0, 128]       | 8,320    |\n",
      "| ├─(fc1)Linear                             | [26080, 128]                 | [26080, 2048]  | 264,192  |\n",
      "| ├─(fc2)Linear                             | [12, 4096]                   | [12, 32]       | 131,104  |\n",
      "| ├─(dropout)Dropout                        | [157807, 128]                | [157807, 128]  | --       |\n",
      "| ├─(fc_out)Linear                          | [12, 32]                     | [12, 12]       | 396      |\n",
      "+-------------------------------------------+------------------------------+----------------+----------+\n"
     ]
    }
   ],
   "source": [
    "model = CNN_for_Text(num_embedding=num_embedding, batch_size=batch_size, max_char_count=256, embedding_dim=128, hidden_dim=64, num_out_features=len(class_id), random_edges=4, lattice_edges=4, virtual_nodes=0) #.to(device)\n",
    "print(summary(model, X.cpu()))\n",
    "del model"
   ]
  },
  {
   "cell_type": "code",
   "execution_count": 67,
   "metadata": {},
   "outputs": [],
   "source": [
    "# model = model.eval()\n",
    "# with torch.no_grad():\n",
    "#     model(X.cpu()).shape #.to(device)\n",
    "torch.cuda.empty_cache()"
   ]
  },
  {
   "cell_type": "code",
   "execution_count": 104,
   "metadata": {},
   "outputs": [],
   "source": [
    "\n",
    "class CnnGnnClassifierLightningModel(L.LightningModule):\n",
    "    def __init__(\n",
    "        self,\n",
    "        model,\n",
    "        num_classes,\n",
    "        optimizer=None,\n",
    "        loss_func=None,\n",
    "        learning_rate=0.01,\n",
    "        batch_size=64,\n",
    "        lr_scheduler=None,\n",
    "        user_lr_scheduler=False,\n",
    "        min_lr=0.0,\n",
    "    ):\n",
    "        super(CnnGnnClassifierLightningModel, self).__init__()\n",
    "        self.batch_size = batch_size\n",
    "        self.learning_rate = learning_rate\n",
    "        self.model = model\n",
    "        self.min_lr = min_lr\n",
    "        # self.save_hyperparameters(ignore=[\"model\"])\n",
    "        self.save_hyperparameters(\"model\", logger=False)\n",
    "        self.optimizer = self._get_optimizer(optimizer)\n",
    "        self.lr_scheduler = (\n",
    "            self._get_lr_scheduler(lr_scheduler) if user_lr_scheduler else None\n",
    "        )\n",
    "        self.loss_func = loss_func\n",
    "        self.train_losses = []\n",
    "        self.val_losses = []\n",
    "        self.train_acc = torchmetrics.Accuracy(task=\"multiclass\", num_classes=num_classes)\n",
    "        self.val_acc = torchmetrics.Accuracy(task=\"multiclass\", num_classes=num_classes)\n",
    "        self.test_acc = torchmetrics.Accuracy(task=\"multiclass\", num_classes=num_classes)\n",
    "\n",
    "    def forward(self, x, *args, **kwargs):\n",
    "        return self.model(x)\n",
    "\n",
    "    def on_train_epoch_start(self) -> None:\n",
    "        param_groups = next(iter(self.optimizer.param_groups))\n",
    "        if \"lr\" in param_groups and param_groups[\"lr\"] is not None:\n",
    "            current_learning_rate = float(param_groups[\"lr\"])\n",
    "            self.log(\n",
    "                \"lr\",\n",
    "                current_learning_rate,\n",
    "                batch_size=self.batch_size,\n",
    "                on_epoch=True,\n",
    "                on_step=False,\n",
    "            )\n",
    "\n",
    "    def training_step(self, batch, *args, **kwargs):\n",
    "        X, y = batch\n",
    "        X.to(self.device)\n",
    "        y.to(self.device)\n",
    "        \n",
    "        self.model.train()\n",
    "        y_out = self(X)\n",
    "\n",
    "        loss = self.loss_func(y_out.view(y.shape), y )\n",
    "        self.train_losses.append(loss.detach().item())\n",
    "        self.log(\n",
    "            \"train_loss\",\n",
    "            loss,\n",
    "            prog_bar=True,\n",
    "            batch_size=self.batch_size,\n",
    "            on_epoch=True,\n",
    "            on_step=True,\n",
    "        )\n",
    "        \n",
    "        self.train_acc(torch.argmax(y_out, dim=1), torch.argmax(y, dim=1))\n",
    "        self.log('train_acc', self.train_acc, prog_bar=True, on_epoch=True, on_step=True, batch_size=self.batch_size)\n",
    "        \n",
    "        return loss\n",
    "\n",
    "    def validation_step(self, batch, *args, **kwargs):\n",
    "        X, y = batch\n",
    "        X.to(self.device)\n",
    "        y.to(self.device)\n",
    "        \n",
    "        self.model.eval()\n",
    "        y_out = self(X)\n",
    "        loss = self.loss_func(y_out.view(y.shape), y )\n",
    "        self.val_losses.append(loss.detach().item())\n",
    "\n",
    "        self.log(\n",
    "            \"val_loss\",\n",
    "            loss,\n",
    "            prog_bar=True,\n",
    "            batch_size=self.batch_size,\n",
    "            on_epoch=True,\n",
    "            on_step=True,\n",
    "        )\n",
    "        \n",
    "        \n",
    "        self.val_acc(torch.argmax(y_out, dim=1), torch.argmax(y, dim=1))\n",
    "        self.log('val_acc', self.val_acc, prog_bar=True, on_epoch=True, on_step=True, batch_size=self.batch_size)\n",
    "\n",
    "    def configure_optimizers(self):\n",
    "        if self.lr_scheduler is None:\n",
    "            return self.optimizer\n",
    "\n",
    "        return {\n",
    "            \"optimizer\": self.optimizer,\n",
    "            \"lr_scheduler\": {\n",
    "                \"scheduler\": self.lr_scheduler,\n",
    "                \"monitor\": \"train_loss\",\n",
    "                \"interval\": \"epoch\",\n",
    "                \"frequency\": 1,\n",
    "            },\n",
    "        }\n",
    "\n",
    "    def update_learning_rate(self, learning_rate: float):\n",
    "        self.learning_rate = learning_rate\n",
    "        for g in self.optimizer.param_groups:\n",
    "            g[\"lr\"] = learning_rate\n",
    "\n",
    "    def _get_optimizer(self, optimizer):\n",
    "        return (\n",
    "            optimizer\n",
    "            if optimizer is not None\n",
    "            else torch.optim.Adam(self.model.parameters(), lr=self.learning_rate)\n",
    "        )\n",
    "\n",
    "    def _get_lr_scheduler(self, lr_scheduler):\n",
    "        return (\n",
    "            lr_scheduler\n",
    "            if lr_scheduler is not None\n",
    "            else torch.optim.lr_scheduler.ReduceLROnPlateau(\n",
    "                self.optimizer, patience=5, factor=0.5, mode=\"min\", min_lr=self.min_lr\n",
    "            )\n",
    "        )\n"
   ]
  },
  {
   "cell_type": "code",
   "execution_count": 105,
   "metadata": {},
   "outputs": [],
   "source": [
    "from tqdm import tqdm\n",
    "from sklearn.metrics import accuracy_score, precision_score, recall_score, f1_score, classification_report\n",
    "from torchmetrics import ConfusionMatrix\n",
    "\n",
    "\n",
    "def calculate_metrics(cl_model, dataloader):\n",
    "    cm = ConfusionMatrix(task=\"multiclass\", num_classes=len(class_id))\n",
    "\n",
    "    y_pred = []\n",
    "    y_true = []\n",
    "\n",
    "    cl_model = cl_model.eval()\n",
    "    cl_model.to(device)\n",
    "    for X, y in tqdm(dataloader):\n",
    "        X = X.to(device)\n",
    "        with torch.no_grad():\n",
    "            y_p = cl_model(X)\n",
    "            y_p = y_p.cpu()\n",
    "        y_pred.append(y_p)\n",
    "        y_true.append(y)\n",
    "    y_pred = torch.cat(y_pred, dim=0)\n",
    "    y_true = torch.cat(y_true, dim=0)\n",
    "    y_pred2 = torch.argmax(y_pred, dim=1)\n",
    "    y_true2 = torch.argmax(y_true, dim=1)\n",
    "    print(f'classification report: \\n {classification_report(y_true2, y_pred2, digits=4)}')\n",
    "    print(f'confusion matrix:\\n {cm(y_pred2, y_true2)}')\n",
    "    print('================================')\n"
   ]
  },
  {
   "cell_type": "markdown",
   "metadata": {},
   "source": [
    "## Test Model"
   ]
  },
  {
   "cell_type": "code",
   "execution_count": 106,
   "metadata": {},
   "outputs": [],
   "source": [
    "output_size = 128\n",
    "hidden_dim = 64\n",
    "embedding_dim = 64\n",
    "label_size = 1\n",
    "seed = 911"
   ]
  },
  {
   "cell_type": "code",
   "execution_count": 107,
   "metadata": {},
   "outputs": [
    {
     "name": "stdout",
     "output_type": "stream",
     "text": [
      "c:\\Users\\fardin\\Projects\\Form&ColorIntelligence\n"
     ]
    }
   ],
   "source": [
    "import os\n",
    "print(os.getcwd())"
   ]
  },
  {
   "cell_type": "code",
   "execution_count": 108,
   "metadata": {},
   "outputs": [],
   "source": [
    "# from scripts.managers.ClassifierModelManager import ClassifierModelManager\n",
    "from lightning.pytorch.loggers import CSVLogger\n",
    "import lightning as L\n",
    "# from scripts.managers.ClassifierModelManager import ClassifierModelManager"
   ]
  },
  {
   "cell_type": "code",
   "execution_count": 109,
   "metadata": {},
   "outputs": [],
   "source": [
    "# classifier_torch_model = CNN_for_Text(num_embedding=len(vocab_dict), batch_size=batch_size, hidden_dim=hidden_dim, embedding_dim=embedding_dim, max_char_count=256, dropout=0.2, num_out_features=len(class_id), seed=seed, random_edges=4, lattice_edges=3, lattice_step=2, virtual_nodes=0).to(device)\n",
    "# optimizer = torch.optim.Adam(classifier_torch_model.parameters(), lr=0.0032, weight_decay=0.000012)\n",
    "# # lr_scheduler = torch.optim.lr_scheduler.MultiStepLR(optimizer, milestones=[50, 100, 150, 200, 250, 300, 350],gamma=0.5, verbose=False)\n",
    "# lr_scheduler = torch.optim.lr_scheduler.MultiStepLR(optimizer, milestones=[20, 30, 40, 50, 60, 70, 80],gamma=0.5, verbose=False)\n",
    "# loss_func = torch.nn.BCEWithLogitsLoss()\n",
    "# classfier_lightning_model = CnnGnnClassifierLightningModel(classifier_torch_model, \n",
    "#                                                     num_classes=len(class_id),\n",
    "#                                             learning_rate=0.0032,\n",
    "#                                             batch_size=batch_size,\n",
    "#                                             optimizer=optimizer,\n",
    "#                                             loss_func=loss_func,\n",
    "#                                             lr_scheduler=lr_scheduler,\n",
    "#                                             user_lr_scheduler=True\n",
    "#                                             ).to(device)\n",
    "\n",
    "\n",
    "# model_manager = ClassifierModelManager(classifier_torch_model, classfier_lightning_model, log_name='CNN-GNN2',device=device, num_train_epoch=400)\n",
    "# # trainer = L.Trainer(\n",
    "# #             # callbacks=callbacks,\n",
    "# #             max_epochs=epochs,\n",
    "# #             accelerator= 'gpu' if torch.cuda.is_available() else 'cpu',\n",
    "# #             logger=CSVLogger(save_dir='logs/', name='log2'), \n",
    "# #             num_sanity_val_steps=0,\n",
    "# #         #     default_root_dir='models\\model2_word_embedding-256-2'\n",
    "# #         )\n",
    "\n",
    "# # model_manager.fit(train_dataloaders=train_dataloader, val_dataloaders=test_dataloader)\n",
    "# # model_manager.save_plot_csv_logger(loss_names=['train_loss_epoch', 'val_loss_epoch'], eval_names=['train_acc_epoch', 'val_acc_epoch'], name_prepend=f'tests_{dropout}_{weight_decay}_{lr}')\n",
    "# # model_manager.torch_model = model_manager.torch_model.to(device)\n",
    "# # model_manager.save_evaluation(test_dataloader, f'{dropout}_{weight_decay}_{lr}',True, True, True, True, True, True, True, multi_class=True)\n",
    "# # # trainer.fit(classfier_lightning_model, train_dataloaders=train_dataloader, val_dataloaders=test_dataloader)\n",
    "# # classfier_lightning_model.model = classfier_lightning_model.model.eval()\n",
    "# # classfier_lightning_model = classfier_lightning_model.eval()\n",
    "# # calculate_metrics(classfier_lightning_model, test_dataloader)\n",
    "# # return model_manager\\\n",
    "# model_manager.draw_summary(test_dataloader)\n",
    "# # print(summary(model_manager, X.to(device)))"
   ]
  },
  {
   "cell_type": "code",
   "execution_count": 110,
   "metadata": {},
   "outputs": [],
   "source": [
    "# from lightning.pytorch.tuner import Tuner\n",
    "# tuner = Tuner(model_manager.trainer)\n",
    "# tuning_result = tuner.lr_find(classfier_lightning_model, train_dataloaders=train_dataloader, val_dataloaders=test_dataloader, min_lr=0.00001,max_lr=0.01, num_training=100)\n",
    "\n",
    "# fig = tuning_result.plot(suggest=True)\n",
    "# fig.show()"
   ]
  },
  {
   "cell_type": "code",
   "execution_count": 111,
   "metadata": {},
   "outputs": [],
   "source": [
    "# Fardin Rastakhiz @ 2023\n",
    "from abc import ABC, abstractmethod\n",
    "from typing import List, Optional\n",
    "\n",
    "import torch\n",
    "import lightning as L\n",
    "from lightning.pytorch.callbacks import Callback, ModelCheckpoint, EarlyStopping\n",
    "from lightning.pytorch.loggers import Logger, CSVLogger\n",
    "from lightning.pytorch.tuner import Tuner\n",
    "from typing import List\n",
    "from pytorch_lightning.core.saving import save_hparams_to_yaml\n",
    "\n",
    "class ModelManager(ABC):\n",
    "\n",
    "    def __init__(self,\n",
    "                 torch_model: torch.nn.Module,\n",
    "                 lightning_model,\n",
    "                 model_save_dir: str = '~/Desktop',\n",
    "                 log_dir: str = 'logs/',\n",
    "                 log_name: str = 'model_logs',\n",
    "                 device='cpu',\n",
    "                 max_epochs = 100,\n",
    "                 ckpt_path: str|None=None,\n",
    "                 accumulate_grad_batches=1):\n",
    "        self.torch_model = torch_model\n",
    "        self.lightning_model = lightning_model\n",
    "        self.log_dir = log_dir\n",
    "        self.log_name = log_name\n",
    "        self.model_save_dir = model_save_dir\n",
    "        self.device = device\n",
    "        self.accelerator = 'cpu' if self.device=='cpu' else 'gpu'\n",
    "        self.max_epochs = max_epochs\n",
    "        self.ckpt_path = ckpt_path\n",
    "\n",
    "        self.logger = self._create_logger()\n",
    "        self.callbacks = self._create_callbacks()\n",
    "        self.trainer: L.Trainer = self._create_trainer(accumulate_grad_batches)\n",
    "        self.tuner = Tuner(self.trainer)\n",
    "        self.tuning_result = None\n",
    "\n",
    "    def tune(self, data_manager, draw_result=True, min_lr=0.0000001, max_lr=0.1):\n",
    "        self.tuning_result = self.tuner.lr_find(self.lightning_model, datamodule=data_manager, min_lr=min_lr,max_lr=max_lr)\n",
    "        if draw_result:\n",
    "            fig = self.tuning_result.plot(suggest=True)\n",
    "            fig.show()\n",
    "        self.update_learning_rate(self.tuning_result.suggestion())\n",
    "        return self.tuning_result.suggestion()\n",
    "    \n",
    "    def update_learning_rate(self, lr):\n",
    "        self.lightning_model.update_learning_rate(lr)\n",
    "\n",
    "    def fit(self, train_dataloaders=None, val_dataloaders=None, datamodule=None, max_epochs = -1, ckpt_path=None):\n",
    "        if ckpt_path is not None and ckpt_path != '':\n",
    "            self.ckpt_path = ckpt_path\n",
    "        if max_epochs>0:\n",
    "            self.trainer.fit_loop.max_epochs = max_epochs\n",
    "            # self.max_epochs = max_epochs\n",
    "            # self.trainer = self._create_trainer()\n",
    "        self.trainer.fit(self.lightning_model,\n",
    "                         datamodule=datamodule,\n",
    "                         train_dataloaders=train_dataloaders,\n",
    "                         val_dataloaders=val_dataloaders,\n",
    "                         ckpt_path = self.ckpt_path\n",
    "                         )\n",
    "\n",
    "    def validate(self, dataloaders=None, datamodule=None):\n",
    "        return self.trainer.validate(self.lightning_model,\n",
    "                             datamodule=datamodule,\n",
    "                             dataloaders=dataloaders)\n",
    "\n",
    "    def predict(self, dataloaders=None, datamodule=None):\n",
    "        return self.trainer.predict(self.lightning_model,\n",
    "                             datamodule=datamodule,\n",
    "                             dataloaders=dataloaders)\n",
    "\n",
    "    def _create_trainer(self, accumulate_grad_batches) -> L.Trainer:\n",
    "        return L.Trainer(\n",
    "            callbacks=self.callbacks,\n",
    "            max_epochs=self.max_epochs,\n",
    "            accelerator=self.accelerator,\n",
    "            logger=self.logger,\n",
    "            num_sanity_val_steps=0,\n",
    "            default_root_dir=self.model_save_dir,\n",
    "            accumulate_grad_batches=accumulate_grad_batches\n",
    "        )\n",
    "\n",
    "    @abstractmethod\n",
    "    def _create_callbacks(self) -> List[Callback]:\n",
    "        pass\n",
    "\n",
    "    def _create_logger(self) -> Logger:\n",
    "        return CSVLogger(save_dir=self.log_dir, name=self.log_name)\n",
    "\n",
    "    @abstractmethod\n",
    "    def draw_summary(self, dataloader):\n",
    "        pass\n",
    "\n",
    "    @abstractmethod\n",
    "    def plot_csv_logger(self, loss_names, eval_names):\n",
    "        pass\n",
    "    \n",
    "    def save_hyper_parameters(self):\n",
    "        mhparams = {\n",
    "            'start_lr': 0.045,\n",
    "            'ckpt_lrs' :  {51: 0.002, 65: 0.00058},\n",
    "            'last_lr' : 0.0003,\n",
    "            'ac_loss_factor': 0.0002,\n",
    "            'weight_decay': 0.0012\n",
    "        }\n",
    "        save_hparams_to_yaml(config_yaml=r'logs\\hetero_model_17_AG\\version_12\\hparams.yaml',\n",
    "                     hparams=mhparams)\n",
    "        \n",
    "    # def find_best_settings(data_manager,\n",
    "    #                        lrs: List[float]=[0.001], dropouts: List[float]=[0.2], \n",
    "    #                        weight_decays: List[float]=[0.00055], emb_factors: List[float]=[0.1], \n",
    "    #                        batch_sizes: List[int]=[128], log_name='find_best_settings'):\n",
    "    #     for lr in lrs:\n",
    "    #         for dropout in dropouts:\n",
    "    #             for wd in weight_decays:\n",
    "    #                 for emb_factor in emb_factors:\n",
    "    #                     for bs in batch_sizes:\n",
    "    #                         data_manager.update_batch_size(bs)\n",
    "    #                         torch_model = HeteroGcnGatModel1(300, 1, X1.metadata(), 128, dropout=dropout)\n",
    "    #                         lightning_model = HeteroBinaryLightningModel(torch_model,\n",
    "    #                                         torch.optim.Adam(torch_model.parameters(), lr=lr, weight_decay=wd),\n",
    "    #                                             loss_func=HeteroLoss1(exception_keys='word', enc_factor=emb_factor),\n",
    "    #                                             learning_rate=lr,\n",
    "    #                                             batch_size=bs,\n",
    "    #                                             user_lr_scheduler=True\n",
    "    #                                             ).to(device)\n",
    "    #                         model_manager = ClassifierModelManager(torch_model, lightning_model, log_name=log_name, device=device, num_train_epoch=10)\n",
    "    #                         model_manager.fit(datamodule=data_manager)\n",
    "    #                         model_manager.save_plot_csv_logger(name_prepend=f'{lr}_{dropout}_{wd}_{emb_factor}_{bs}', loss_names=['train_loss', 'val_loss'], eval_names=['train_acc_epoch', 'val_acc_epoch'])"
   ]
  },
  {
   "cell_type": "code",
   "execution_count": 112,
   "metadata": {},
   "outputs": [],
   "source": [
    "# Fardin Rastakhiz @ 2023\n",
    "import torch\n",
    "from scripts.managers.ModelManager import ModelManager\n",
    "import pandas as pd\n",
    "import matplotlib.pyplot as plt\n",
    "from typing import List\n",
    "from torch_geometric.nn import summary\n",
    "from lightning.pytorch.callbacks import Callback, ModelCheckpoint, EarlyStopping\n",
    "from os import path\n",
    "\n",
    "from sklearn.metrics import classification_report, f1_score, accuracy_score, precision_score, recall_score, confusion_matrix, hinge_loss\n",
    "\n",
    "import lightning as L\n",
    "\n",
    "class ClassifierModelManager(ModelManager):\n",
    "\n",
    "    def __init__(self,\n",
    "                 torch_model: torch.nn.Module,\n",
    "                 lightning_model,\n",
    "                 model_save_dir: str = '~/Desktop',\n",
    "                 log_dir: str = 'logs/',\n",
    "                 log_name: str = 'model_logs',\n",
    "                 device='cpu',\n",
    "                 num_train_epoch = 100,\n",
    "                 accumulate_grad_batches=1):\n",
    "        super(ClassifierModelManager, self).__init__(torch_model, lightning_model, model_save_dir, log_dir, log_name, device, num_train_epoch, accumulate_grad_batches=accumulate_grad_batches)\n",
    "\n",
    "    def _create_callbacks(self) -> List[Callback]:\n",
    "        return [\n",
    "            ModelCheckpoint(save_top_k=2, mode='max', monitor='val_acc', save_last=True),\n",
    "            # EarlyStopping(patience=50, mode='max', monitor='val_acc')\n",
    "        ]\n",
    "\n",
    "    def draw_summary(self, dataloader):\n",
    "        X, y = next(iter(dataloader))\n",
    "        print(summary(self.torch_model, X.to(self.device)))\n",
    "\n",
    "    def plot_csv_logger(self, loss_names=['train_loss', 'val_loss'], eval_names=['train_acc', 'val_acc']):\n",
    "        csv_path = path.join(self.log_dir, self.log_name, f'version_{self.logger.version}', 'metrics.csv')\n",
    "        metrics = pd.read_csv(csv_path)\n",
    "\n",
    "        aggregation_metrics = []\n",
    "        agg_col = 'epoch'\n",
    "        for i, dfg in metrics.groupby(agg_col):\n",
    "            agg = dict(dfg.mean())\n",
    "            agg[agg_col] = i\n",
    "            aggregation_metrics.append(agg)\n",
    "\n",
    "        df_metrics = pd.DataFrame(aggregation_metrics)\n",
    "        df_metrics[loss_names].plot(grid=True, legend=True, xlabel='Epoch', ylabel='loss')\n",
    "        df_metrics[eval_names].plot(grid=True, legend=True, xlabel='Epoch', ylabel='accuracy')\n",
    "        plt.show()\n",
    "\n",
    "    def save_plot_csv_logger(self, loss_names=['train_loss', 'val_loss'], eval_names=['train_acc', 'val_acc'], name_prepend: str=\"\"):\n",
    "        csv_path = path.join(self.log_dir, self.log_name, f'version_{self.logger.version}', 'metrics.csv')\n",
    "        metrics = pd.read_csv(csv_path)\n",
    "\n",
    "        aggregation_metrics = []\n",
    "        agg_col = 'epoch'\n",
    "        for i, dfg in metrics.groupby(agg_col):\n",
    "            agg = dict(dfg.mean())\n",
    "            agg[agg_col] = i\n",
    "            aggregation_metrics.append(agg)\n",
    "\n",
    "        df_metrics = pd.DataFrame(aggregation_metrics)\n",
    "        df_metrics[loss_names].plot(grid=True, legend=True, xlabel='Epoch', ylabel='loss')\n",
    "        \n",
    "        loss_png = path.join(self.log_dir, self.log_name, f'version_{self.logger.version}', f'{name_prepend}_loss_metric.png')\n",
    "        plt.savefig(loss_png)\n",
    "        \n",
    "        df_metrics[eval_names].plot(grid=True, legend=True, xlabel='Epoch', ylabel='accuracy')\n",
    "        \n",
    "        acc_png = path.join(self.log_dir, self.log_name, f'version_{self.logger.version}', f'{name_prepend}_acc_metric.png')\n",
    "        plt.savefig(acc_png)\n",
    "        \n",
    "        plt.close()\n",
    "    \n",
    "    def evaluate(self, eval_dataloader,\n",
    "                 give_confusion_matrix: bool=True, \n",
    "                 give_report: bool=True, \n",
    "                 give_f1_score: bool=False, \n",
    "                 give_accuracy_score: bool=False, \n",
    "                 give_precision_score: bool=False, \n",
    "                 give_recall_score: bool=False, \n",
    "                 give_hinge_loss: bool=False):\n",
    "        y_true = []\n",
    "        y_pred = []\n",
    "        self.lightning_model.eval()\n",
    "        for X, y in eval_dataloader:\n",
    "            y_p = self.lightning_model(X.to(self.device))\n",
    "            if type(y_p) is tuple:\n",
    "                y_p = y_p[0]\n",
    "            y_pred.append((y_p>0).to(torch.int32).detach().to(y.device))\n",
    "            y_true.append(y.to(torch.int32))\n",
    "        y_true = torch.concat(y_true)\n",
    "        y_pred = torch.concat(y_pred)\n",
    "        if(give_confusion_matrix):\n",
    "            print(f'confusion_matrix: \\n{confusion_matrix(y_true, y_pred)}')\n",
    "        if(give_report):\n",
    "            print(classification_report(y_true, y_pred))\n",
    "        if(give_f1_score):\n",
    "            print(f'f1_score: {f1_score(y_true, y_pred)}')\n",
    "        if(give_accuracy_score):\n",
    "            print(f'accuracy_score: {accuracy_score(y_true, y_pred)}')\n",
    "        if(give_precision_score):\n",
    "            print(f'precision_score: {precision_score(y_true, y_pred)}')\n",
    "        if(give_recall_score):\n",
    "            print(f'recall_score: {recall_score(y_true, y_pred)}')\n",
    "        if(give_hinge_loss):\n",
    "            print(f'hinge_loss: {hinge_loss(y_true, y_pred)}')\n",
    "                \n",
    "    def evaluate_best_models(self, lightning_type: L.LightningModule, eval_dataloader,\n",
    "                             give_confusion_matrix: bool=True, \n",
    "                             give_report: bool=True, \n",
    "                             give_f1_score: bool=False, \n",
    "                             give_accuracy_score: bool=False, \n",
    "                             give_precision_score: bool=False, \n",
    "                             give_recall_score: bool=False, \n",
    "                             give_hinge_loss: bool=False,\n",
    "                             multi_class: bool=False, **kwargs):\n",
    "        self.lightning_model = lightning_type.load_from_checkpoint(rf'{self.trainer.checkpoint_callback.best_model_path}', map_location=None, hparams_file=None, strict=True, **kwargs).eval()\n",
    "        self.save_evaluation(eval_dataloader, 'best_model', give_confusion_matrix, give_report,\n",
    "                             give_f1_score, give_accuracy_score, give_precision_score, give_recall_score, give_hinge_loss, multi_class)\n",
    "            \n",
    "    def save_evaluation(self, eval_dataloader, name_prepend: str='',\n",
    "                    give_confusion_matrix: bool=True, \n",
    "                    give_report: bool=True, \n",
    "                    give_f1_score: bool=False, \n",
    "                    give_accuracy_score: bool=False, \n",
    "                    give_precision_score: bool=False, \n",
    "                    give_recall_score: bool=False, \n",
    "                    give_hinge_loss: bool=False,\n",
    "                    multi_class: bool=False\n",
    "                    ):\n",
    "            \n",
    "            test_metrics_path = path.join(self.log_dir, self.log_name, f'version_{self.logger.version}', f'{name_prepend}_test_metrics.txt')\n",
    "            \n",
    "            y_true = []\n",
    "            y_pred = []\n",
    "            self.lightning_model.eval()\n",
    "            self.lightning_model.model.eval()\n",
    "            self.torch_model.eval()\n",
    "            self.trainer.model.eval()\n",
    "            for X, y in eval_dataloader:\n",
    "                with torch.no_grad():\n",
    "                    y_p = self.lightning_model(X.to(self.device))\n",
    "                if type(y_p) is tuple:\n",
    "                    y_p = y_p[0]\n",
    "                \n",
    "                if multi_class:\n",
    "                    y_pred.append(y_p.detach().to(y.device))\n",
    "                    y_true.append(y)\n",
    "                else:\n",
    "                    y_pred.append((y_p>0).to(torch.int32).detach().to(y.device))\n",
    "                    y_true.append(y.to(torch.int32))\n",
    "                    \n",
    "            y_true = torch.concat(y_true)\n",
    "            y_pred = torch.concat(y_pred)\n",
    "            print(y_true.shape)\n",
    "            print(y_pred.shape)\n",
    "            if multi_class:\n",
    "                y_true_num = torch.argmax(y_true, dim=1)\n",
    "                y_pred_num = torch.argmax(y_pred, dim=1)\n",
    "            else:\n",
    "                y_true_num = y_true\n",
    "                y_pred_num = y_pred\n",
    "                \n",
    "            print(y_true_num.shape)\n",
    "            print(y_pred_num.shape)\n",
    "            with open(test_metrics_path, 'at+') as f:\n",
    "                if(give_confusion_matrix):\n",
    "                    print(f'confusion_matrix: \\n{confusion_matrix(y_true_num, y_pred_num)}', file=f)\n",
    "                if(give_report):\n",
    "                    print(classification_report(y_true_num, y_pred_num), file=f)\n",
    "                if(give_f1_score):\n",
    "                    if multi_class:\n",
    "                        print(f'f1_score: {f1_score(y_true_num, y_pred_num, average=None)}', file=f)\n",
    "                    else:\n",
    "                        print(f'f1_score: {f1_score(y_true_num, y_pred_num)}', file=f)\n",
    "                if(give_accuracy_score):\n",
    "                    print(f'accuracy_score: {accuracy_score(y_true_num, y_pred_num)}', file=f)\n",
    "                if(give_precision_score):\n",
    "                    if multi_class:\n",
    "                        print(f'precision: {precision_score(y_true_num, y_pred_num, average=None)}', file=f)\n",
    "                    else:\n",
    "                        print(f'precision: {precision_score(y_true_num, y_pred_num)}', file=f)\n",
    "                if(give_recall_score):\n",
    "                    if multi_class:\n",
    "                        print(f'recall: {recall_score(y_true_num, y_pred_num, average=None)}', file=f)\n",
    "                    else:\n",
    "                        print(f'recall: {recall_score(y_true_num, y_pred_num)}', file=f)\n",
    "                if(give_hinge_loss):\n",
    "                    print(f'hinge_loss: {hinge_loss(y_true_num, y_pred)}', file=f)"
   ]
  },
  {
   "cell_type": "code",
   "execution_count": 113,
   "metadata": {},
   "outputs": [],
   "source": [
    "\n",
    "# for i in range(10):\n",
    "def train_model(epochs=30, dropout=0.2, weight_decay=0.00001, lr=0.0002):\n",
    "    classifier_torch_model = CNN_for_Text(num_embedding=num_embedding, batch_size=batch_size, hidden_dim=hidden_dim, embedding_dim=embedding_dim, max_char_count=256, dropout=dropout, num_out_features=len(class_id), seed=seed, random_edges=4, lattice_edges=4, lattice_step=2, virtual_nodes=0, lattice_start_distance=2).to(device)\n",
    "    optimizer = torch.optim.Adam(classifier_torch_model.parameters(), lr=lr, weight_decay=weight_decay)\n",
    "    # lr_scheduler = torch.optim.lr_scheduler.MultiStepLR(optimizer, milestones=[50, 100, 150, 200, 250, 300, 350],gamma=0.5, verbose=False)\n",
    "    lr_scheduler = torch.optim.lr_scheduler.MultiStepLR(optimizer, milestones=[20, 30, 32, 40, 42, 45, 50],gamma=0.5, verbose=False)\n",
    "    loss_func = torch.nn.BCEWithLogitsLoss()\n",
    "    classfier_lightning_model = CnnGnnClassifierLightningModel(classifier_torch_model, \n",
    "                                                        num_classes=len(class_id),\n",
    "                                                learning_rate=lr,\n",
    "                                                batch_size=batch_size,\n",
    "                                                optimizer=optimizer,\n",
    "                                                loss_func=loss_func,\n",
    "                                                lr_scheduler=lr_scheduler,\n",
    "                                                user_lr_scheduler=True\n",
    "                                                ).to(device)\n",
    "\n",
    "\n",
    "    model_manager = ClassifierModelManager(classifier_torch_model, classfier_lightning_model, log_name='CNN-GNN8_HTML_Spacy',device=device, num_train_epoch=epochs, accumulate_grad_batches=128)\n",
    "    # trainer = L.Trainer(\n",
    "    #             # callbacks=callbacks,\n",
    "    #             max_epochs=epochs,\n",
    "    #             accelerator= 'gpu' if torch.cuda.is_available() else 'cpu',\n",
    "    #             logger=CSVLogger(save_dir='logs/', name='log2'), \n",
    "    #             num_sanity_val_steps=0,\n",
    "    #         #     default_root_dir='models\\model2_word_embedding-256-2'\n",
    "    #         )\n",
    "\n",
    "    model_manager.fit(train_dataloaders=train_dataloader, val_dataloaders=test_dataloader)\n",
    "    model_manager.save_plot_csv_logger(loss_names=['train_loss_epoch', 'val_loss_epoch'], eval_names=['train_acc_epoch', 'val_acc_epoch'], name_prepend=f'spacy_embedding_tests_{dropout}_{weight_decay}_{lr}')\n",
    "    model_manager.torch_model = model_manager.torch_model.to(device)\n",
    "    model_manager.save_evaluation(test_dataloader, f'{dropout}_{weight_decay}_{lr}',True, True, True, True, True, True, True, multi_class=True)\n",
    "    # trainer.fit(classfier_lightning_model, train_dataloaders=train_dataloader, val_dataloaders=test_dataloader)\n",
    "    classfier_lightning_model.model = classfier_lightning_model.model.eval()\n",
    "    classfier_lightning_model = classfier_lightning_model.eval()\n",
    "    calculate_metrics(classfier_lightning_model, test_dataloader)\n",
    "    model_manager.evaluate_best_models(CnnGnnClassifierLightningModel, test_dataloader,True, True, True, True, True, True, True, multi_class=True, model=classifier_torch_model, num_classes=len(class_id))\n",
    "    return model_manager"
   ]
  },
  {
   "cell_type": "code",
   "execution_count": 114,
   "metadata": {},
   "outputs": [],
   "source": [
    "torch.cuda.empty_cache()"
   ]
  },
  {
   "cell_type": "code",
   "execution_count": 115,
   "metadata": {},
   "outputs": [
    {
     "data": {
      "text/plain": [
       "10892"
      ]
     },
     "execution_count": 115,
     "metadata": {},
     "output_type": "execute_result"
    }
   ],
   "source": [
    "import gc\n",
    "gc.collect()"
   ]
  },
  {
   "cell_type": "code",
   "execution_count": 116,
   "metadata": {},
   "outputs": [
    {
     "name": "stdout",
     "output_type": "stream",
     "text": [
      "|===========================================================================|\n",
      "|                  PyTorch CUDA memory summary, device ID 0                 |\n",
      "|---------------------------------------------------------------------------|\n",
      "|            CUDA OOMs: 0            |        cudaMalloc retries: 0         |\n",
      "|===========================================================================|\n",
      "|        Metric         | Cur Usage  | Peak Usage | Tot Alloc  | Tot Freed  |\n",
      "|---------------------------------------------------------------------------|\n",
      "| Allocated memory      |  24452 KiB |   1815 MiB |  13316 GiB |  13316 GiB |\n",
      "|       from large pool |  24452 KiB |   1802 MiB |  13181 GiB |  13181 GiB |\n",
      "|       from small pool |      0 KiB |     26 MiB |    134 GiB |    134 GiB |\n",
      "|---------------------------------------------------------------------------|\n",
      "| Active memory         |  24452 KiB |   1815 MiB |  13316 GiB |  13316 GiB |\n",
      "|       from large pool |  24452 KiB |   1802 MiB |  13181 GiB |  13181 GiB |\n",
      "|       from small pool |      0 KiB |     26 MiB |    134 GiB |    134 GiB |\n",
      "|---------------------------------------------------------------------------|\n",
      "| Requested memory      |  24452 KiB |   1813 MiB |  13237 GiB |  13237 GiB |\n",
      "|       from large pool |  24452 KiB |   1801 MiB |  13103 GiB |  13103 GiB |\n",
      "|       from small pool |      0 KiB |     26 MiB |    134 GiB |    134 GiB |\n",
      "|---------------------------------------------------------------------------|\n",
      "| GPU reserved memory   | 114688 KiB |   4656 MiB |   4656 MiB |   4544 MiB |\n",
      "|       from large pool |  90112 KiB |   4626 MiB |   4626 MiB |   4538 MiB |\n",
      "|       from small pool |  24576 KiB |     30 MiB |     30 MiB |      6 MiB |\n",
      "|---------------------------------------------------------------------------|\n",
      "| Non-releasable memory |  65659 KiB |   1277 MiB |   8305 GiB |   8305 GiB |\n",
      "|       from large pool |  65659 KiB |   1270 MiB |   8158 GiB |   8158 GiB |\n",
      "|       from small pool |      0 KiB |     15 MiB |    147 GiB |    147 GiB |\n",
      "|---------------------------------------------------------------------------|\n",
      "| Allocations           |       3    |     370    |    2042 K  |    2042 K  |\n",
      "|       from large pool |       3    |      45    |     704 K  |     704 K  |\n",
      "|       from small pool |       0    |     335    |    1338 K  |    1338 K  |\n",
      "|---------------------------------------------------------------------------|\n",
      "| Active allocs         |       3    |     370    |    2042 K  |    2042 K  |\n",
      "|       from large pool |       3    |      45    |     704 K  |     704 K  |\n",
      "|       from small pool |       0    |     335    |    1338 K  |    1338 K  |\n",
      "|---------------------------------------------------------------------------|\n",
      "| GPU reserved segments |      15    |      43    |      43    |      28    |\n",
      "|       from large pool |       3    |      28    |      28    |      25    |\n",
      "|       from small pool |      12    |      15    |      15    |       3    |\n",
      "|---------------------------------------------------------------------------|\n",
      "| Non-releasable allocs |       4    |      52    |    1090 K  |    1090 K  |\n",
      "|       from large pool |       4    |      26    |     449 K  |     449 K  |\n",
      "|       from small pool |       0    |      48    |     641 K  |     641 K  |\n",
      "|---------------------------------------------------------------------------|\n",
      "| Oversize allocations  |       0    |       0    |       0    |       0    |\n",
      "|---------------------------------------------------------------------------|\n",
      "| Oversize GPU segments |       0    |       0    |       0    |       0    |\n",
      "|===========================================================================|\n",
      "\n"
     ]
    }
   ],
   "source": [
    "print(torch.cuda.memory_summary(device=None, abbreviated=False))"
   ]
  },
  {
   "cell_type": "code",
   "execution_count": 117,
   "metadata": {},
   "outputs": [
    {
     "name": "stderr",
     "output_type": "stream",
     "text": [
      "c:\\Users\\fardin\\AppData\\Local\\Programs\\Python\\Python311\\Lib\\site-packages\\lightning\\pytorch\\utilities\\parsing.py:198: Attribute 'model' is an instance of `nn.Module` and is already saved during checkpointing. It is recommended to ignore them using `self.save_hyperparameters(ignore=['model'])`.\n",
      "GPU available: True (cuda), used: True\n",
      "TPU available: False, using: 0 TPU cores\n",
      "IPU available: False, using: 0 IPUs\n",
      "HPU available: False, using: 0 HPUs\n",
      "LOCAL_RANK: 0 - CUDA_VISIBLE_DEVICES: [0]\n",
      "\n",
      "  | Name      | Type               | Params\n",
      "-------------------------------------------------\n",
      "0 | model     | CNN_for_Text       | 651 K \n",
      "1 | loss_func | BCEWithLogitsLoss  | 0     \n",
      "2 | train_acc | MulticlassAccuracy | 0     \n",
      "3 | val_acc   | MulticlassAccuracy | 0     \n",
      "4 | test_acc  | MulticlassAccuracy | 0     \n",
      "-------------------------------------------------\n",
      "651 K     Trainable params\n",
      "0         Non-trainable params\n",
      "651 K     Total params\n",
      "2.607     Total estimated model params size (MB)\n",
      "c:\\Users\\fardin\\AppData\\Local\\Programs\\Python\\Python311\\Lib\\site-packages\\lightning\\pytorch\\trainer\\connectors\\data_connector.py:441: The 'train_dataloader' does not have many workers which may be a bottleneck. Consider increasing the value of the `num_workers` argument` to `num_workers=7` in the `DataLoader` to improve performance.\n",
      "c:\\Users\\fardin\\AppData\\Local\\Programs\\Python\\Python311\\Lib\\site-packages\\lightning\\pytorch\\trainer\\connectors\\data_connector.py:441: The 'val_dataloader' does not have many workers which may be a bottleneck. Consider increasing the value of the `num_workers` argument` to `num_workers=7` in the `DataLoader` to improve performance.\n"
     ]
    },
    {
     "data": {
      "application/vnd.jupyter.widget-view+json": {
       "model_id": "0dd701f498454ba1b6dd618f9ae94792",
       "version_major": 2,
       "version_minor": 0
      },
      "text/plain": [
       "Training: |          | 0/? [00:00<?, ?it/s]"
      ]
     },
     "metadata": {},
     "output_type": "display_data"
    },
    {
     "data": {
      "application/vnd.jupyter.widget-view+json": {
       "model_id": "388a750be8f5436eab69e584a022b2aa",
       "version_major": 2,
       "version_minor": 0
      },
      "text/plain": [
       "Validation: |          | 0/? [00:00<?, ?it/s]"
      ]
     },
     "metadata": {},
     "output_type": "display_data"
    },
    {
     "name": "stderr",
     "output_type": "stream",
     "text": [
      "c:\\Users\\fardin\\AppData\\Local\\Programs\\Python\\Python311\\Lib\\site-packages\\lightning\\pytorch\\trainer\\call.py:54: Detected KeyboardInterrupt, attempting graceful shutdown...\n"
     ]
    },
    {
     "ename": "KeyboardInterrupt",
     "evalue": "",
     "output_type": "error",
     "traceback": [
      "\u001b[1;31m---------------------------------------------------------------------------\u001b[0m",
      "\u001b[1;31mKeyboardInterrupt\u001b[0m                         Traceback (most recent call last)",
      "\u001b[1;32mc:\\Users\\fardin\\Projects\\Form&ColorIntelligence\\notebooks\\Task1_X_2\\1_RawHTMLClassification\\CNNGNN_spacy_embedding_html.ipynb Cell 96\u001b[0m line \u001b[0;36m2\n\u001b[0;32m      <a href='vscode-notebook-cell:/c%3A/Users/fardin/Projects/Form%26ColorIntelligence/notebooks/Task1_X_2/1_RawHTMLClassification/CNNGNN_spacy_embedding_html.ipynb#Y160sZmlsZQ%3D%3D?line=0'>1</a>\u001b[0m \u001b[39m# for i in range(5):\u001b[39;00m\n\u001b[1;32m----> <a href='vscode-notebook-cell:/c%3A/Users/fardin/Projects/Form%26ColorIntelligence/notebooks/Task1_X_2/1_RawHTMLClassification/CNNGNN_spacy_embedding_html.ipynb#Y160sZmlsZQ%3D%3D?line=1'>2</a>\u001b[0m model_mgr \u001b[39m=\u001b[39m train_model(\u001b[39m130\u001b[39;49m, \u001b[39m0.2\u001b[39;49m, \u001b[39m0.000012\u001b[39;49m, \u001b[39m0.0035\u001b[39;49m)\n",
      "\u001b[1;32mc:\\Users\\fardin\\Projects\\Form&ColorIntelligence\\notebooks\\Task1_X_2\\1_RawHTMLClassification\\CNNGNN_spacy_embedding_html.ipynb Cell 96\u001b[0m line \u001b[0;36m3\n\u001b[0;32m     <a href='vscode-notebook-cell:/c%3A/Users/fardin/Projects/Form%26ColorIntelligence/notebooks/Task1_X_2/1_RawHTMLClassification/CNNGNN_spacy_embedding_html.ipynb#Y160sZmlsZQ%3D%3D?line=29'>30</a>\u001b[0m model_manager\u001b[39m.\u001b[39msave_plot_csv_logger(loss_names\u001b[39m=\u001b[39m[\u001b[39m'\u001b[39m\u001b[39mtrain_loss_epoch\u001b[39m\u001b[39m'\u001b[39m, \u001b[39m'\u001b[39m\u001b[39mval_loss_epoch\u001b[39m\u001b[39m'\u001b[39m], eval_names\u001b[39m=\u001b[39m[\u001b[39m'\u001b[39m\u001b[39mtrain_acc_epoch\u001b[39m\u001b[39m'\u001b[39m, \u001b[39m'\u001b[39m\u001b[39mval_acc_epoch\u001b[39m\u001b[39m'\u001b[39m], name_prepend\u001b[39m=\u001b[39m\u001b[39mf\u001b[39m\u001b[39m'\u001b[39m\u001b[39mspacy_embedding_tests_\u001b[39m\u001b[39m{\u001b[39;00mdropout\u001b[39m}\u001b[39;00m\u001b[39m_\u001b[39m\u001b[39m{\u001b[39;00mweight_decay\u001b[39m}\u001b[39;00m\u001b[39m_\u001b[39m\u001b[39m{\u001b[39;00mlr\u001b[39m}\u001b[39;00m\u001b[39m'\u001b[39m)\n\u001b[0;32m     <a href='vscode-notebook-cell:/c%3A/Users/fardin/Projects/Form%26ColorIntelligence/notebooks/Task1_X_2/1_RawHTMLClassification/CNNGNN_spacy_embedding_html.ipynb#Y160sZmlsZQ%3D%3D?line=30'>31</a>\u001b[0m model_manager\u001b[39m.\u001b[39mtorch_model \u001b[39m=\u001b[39m model_manager\u001b[39m.\u001b[39mtorch_model\u001b[39m.\u001b[39mto(device)\n\u001b[1;32m---> <a href='vscode-notebook-cell:/c%3A/Users/fardin/Projects/Form%26ColorIntelligence/notebooks/Task1_X_2/1_RawHTMLClassification/CNNGNN_spacy_embedding_html.ipynb#Y160sZmlsZQ%3D%3D?line=31'>32</a>\u001b[0m model_manager\u001b[39m.\u001b[39;49msave_evaluation(test_dataloader, \u001b[39mf\u001b[39;49m\u001b[39m'\u001b[39;49m\u001b[39m{\u001b[39;49;00mdropout\u001b[39m}\u001b[39;49;00m\u001b[39m_\u001b[39;49m\u001b[39m{\u001b[39;49;00mweight_decay\u001b[39m}\u001b[39;49;00m\u001b[39m_\u001b[39;49m\u001b[39m{\u001b[39;49;00mlr\u001b[39m}\u001b[39;49;00m\u001b[39m'\u001b[39;49m,\u001b[39mTrue\u001b[39;49;00m, \u001b[39mTrue\u001b[39;49;00m, \u001b[39mTrue\u001b[39;49;00m, \u001b[39mTrue\u001b[39;49;00m, \u001b[39mTrue\u001b[39;49;00m, \u001b[39mTrue\u001b[39;49;00m, \u001b[39mTrue\u001b[39;49;00m, multi_class\u001b[39m=\u001b[39;49m\u001b[39mTrue\u001b[39;49;00m)\n\u001b[0;32m     <a href='vscode-notebook-cell:/c%3A/Users/fardin/Projects/Form%26ColorIntelligence/notebooks/Task1_X_2/1_RawHTMLClassification/CNNGNN_spacy_embedding_html.ipynb#Y160sZmlsZQ%3D%3D?line=32'>33</a>\u001b[0m \u001b[39m# trainer.fit(classfier_lightning_model, train_dataloaders=train_dataloader, val_dataloaders=test_dataloader)\u001b[39;00m\n\u001b[0;32m     <a href='vscode-notebook-cell:/c%3A/Users/fardin/Projects/Form%26ColorIntelligence/notebooks/Task1_X_2/1_RawHTMLClassification/CNNGNN_spacy_embedding_html.ipynb#Y160sZmlsZQ%3D%3D?line=33'>34</a>\u001b[0m classfier_lightning_model\u001b[39m.\u001b[39mmodel \u001b[39m=\u001b[39m classfier_lightning_model\u001b[39m.\u001b[39mmodel\u001b[39m.\u001b[39meval()\n",
      "\u001b[1;32mc:\\Users\\fardin\\Projects\\Form&ColorIntelligence\\notebooks\\Task1_X_2\\1_RawHTMLClassification\\CNNGNN_spacy_embedding_html.ipynb Cell 96\u001b[0m line \u001b[0;36m1\n\u001b[0;32m    <a href='vscode-notebook-cell:/c%3A/Users/fardin/Projects/Form%26ColorIntelligence/notebooks/Task1_X_2/1_RawHTMLClassification/CNNGNN_spacy_embedding_html.ipynb#Y160sZmlsZQ%3D%3D?line=143'>144</a>\u001b[0m \u001b[39mfor\u001b[39;00m X, y \u001b[39min\u001b[39;00m eval_dataloader:\n\u001b[0;32m    <a href='vscode-notebook-cell:/c%3A/Users/fardin/Projects/Form%26ColorIntelligence/notebooks/Task1_X_2/1_RawHTMLClassification/CNNGNN_spacy_embedding_html.ipynb#Y160sZmlsZQ%3D%3D?line=144'>145</a>\u001b[0m     \u001b[39mwith\u001b[39;00m torch\u001b[39m.\u001b[39mno_grad():\n\u001b[1;32m--> <a href='vscode-notebook-cell:/c%3A/Users/fardin/Projects/Form%26ColorIntelligence/notebooks/Task1_X_2/1_RawHTMLClassification/CNNGNN_spacy_embedding_html.ipynb#Y160sZmlsZQ%3D%3D?line=145'>146</a>\u001b[0m         y_p \u001b[39m=\u001b[39m \u001b[39mself\u001b[39;49m\u001b[39m.\u001b[39;49mlightning_model(X\u001b[39m.\u001b[39;49mto(\u001b[39mself\u001b[39;49m\u001b[39m.\u001b[39;49mdevice))\n\u001b[0;32m    <a href='vscode-notebook-cell:/c%3A/Users/fardin/Projects/Form%26ColorIntelligence/notebooks/Task1_X_2/1_RawHTMLClassification/CNNGNN_spacy_embedding_html.ipynb#Y160sZmlsZQ%3D%3D?line=146'>147</a>\u001b[0m     \u001b[39mif\u001b[39;00m \u001b[39mtype\u001b[39m(y_p) \u001b[39mis\u001b[39;00m \u001b[39mtuple\u001b[39m:\n\u001b[0;32m    <a href='vscode-notebook-cell:/c%3A/Users/fardin/Projects/Form%26ColorIntelligence/notebooks/Task1_X_2/1_RawHTMLClassification/CNNGNN_spacy_embedding_html.ipynb#Y160sZmlsZQ%3D%3D?line=147'>148</a>\u001b[0m         y_p \u001b[39m=\u001b[39m y_p[\u001b[39m0\u001b[39m]\n",
      "File \u001b[1;32mc:\\Users\\fardin\\AppData\\Local\\Programs\\Python\\Python311\\Lib\\site-packages\\torch\\nn\\modules\\module.py:1518\u001b[0m, in \u001b[0;36mModule._wrapped_call_impl\u001b[1;34m(self, *args, **kwargs)\u001b[0m\n\u001b[0;32m   1516\u001b[0m     \u001b[39mreturn\u001b[39;00m \u001b[39mself\u001b[39m\u001b[39m.\u001b[39m_compiled_call_impl(\u001b[39m*\u001b[39margs, \u001b[39m*\u001b[39m\u001b[39m*\u001b[39mkwargs)  \u001b[39m# type: ignore[misc]\u001b[39;00m\n\u001b[0;32m   1517\u001b[0m \u001b[39melse\u001b[39;00m:\n\u001b[1;32m-> 1518\u001b[0m     \u001b[39mreturn\u001b[39;00m \u001b[39mself\u001b[39;49m\u001b[39m.\u001b[39;49m_call_impl(\u001b[39m*\u001b[39;49margs, \u001b[39m*\u001b[39;49m\u001b[39m*\u001b[39;49mkwargs)\n",
      "File \u001b[1;32mc:\\Users\\fardin\\AppData\\Local\\Programs\\Python\\Python311\\Lib\\site-packages\\torch\\nn\\modules\\module.py:1527\u001b[0m, in \u001b[0;36mModule._call_impl\u001b[1;34m(self, *args, **kwargs)\u001b[0m\n\u001b[0;32m   1522\u001b[0m \u001b[39m# If we don't have any hooks, we want to skip the rest of the logic in\u001b[39;00m\n\u001b[0;32m   1523\u001b[0m \u001b[39m# this function, and just call forward.\u001b[39;00m\n\u001b[0;32m   1524\u001b[0m \u001b[39mif\u001b[39;00m \u001b[39mnot\u001b[39;00m (\u001b[39mself\u001b[39m\u001b[39m.\u001b[39m_backward_hooks \u001b[39mor\u001b[39;00m \u001b[39mself\u001b[39m\u001b[39m.\u001b[39m_backward_pre_hooks \u001b[39mor\u001b[39;00m \u001b[39mself\u001b[39m\u001b[39m.\u001b[39m_forward_hooks \u001b[39mor\u001b[39;00m \u001b[39mself\u001b[39m\u001b[39m.\u001b[39m_forward_pre_hooks\n\u001b[0;32m   1525\u001b[0m         \u001b[39mor\u001b[39;00m _global_backward_pre_hooks \u001b[39mor\u001b[39;00m _global_backward_hooks\n\u001b[0;32m   1526\u001b[0m         \u001b[39mor\u001b[39;00m _global_forward_hooks \u001b[39mor\u001b[39;00m _global_forward_pre_hooks):\n\u001b[1;32m-> 1527\u001b[0m     \u001b[39mreturn\u001b[39;00m forward_call(\u001b[39m*\u001b[39;49margs, \u001b[39m*\u001b[39;49m\u001b[39m*\u001b[39;49mkwargs)\n\u001b[0;32m   1529\u001b[0m \u001b[39mtry\u001b[39;00m:\n\u001b[0;32m   1530\u001b[0m     result \u001b[39m=\u001b[39m \u001b[39mNone\u001b[39;00m\n",
      "\u001b[1;32mc:\\Users\\fardin\\Projects\\Form&ColorIntelligence\\notebooks\\Task1_X_2\\1_RawHTMLClassification\\CNNGNN_spacy_embedding_html.ipynb Cell 96\u001b[0m line \u001b[0;36m3\n\u001b[0;32m     <a href='vscode-notebook-cell:/c%3A/Users/fardin/Projects/Form%26ColorIntelligence/notebooks/Task1_X_2/1_RawHTMLClassification/CNNGNN_spacy_embedding_html.ipynb#Y160sZmlsZQ%3D%3D?line=31'>32</a>\u001b[0m \u001b[39mdef\u001b[39;00m \u001b[39mforward\u001b[39m(\u001b[39mself\u001b[39m, x, \u001b[39m*\u001b[39margs, \u001b[39m*\u001b[39m\u001b[39m*\u001b[39mkwargs):\n\u001b[1;32m---> <a href='vscode-notebook-cell:/c%3A/Users/fardin/Projects/Form%26ColorIntelligence/notebooks/Task1_X_2/1_RawHTMLClassification/CNNGNN_spacy_embedding_html.ipynb#Y160sZmlsZQ%3D%3D?line=32'>33</a>\u001b[0m     \u001b[39mreturn\u001b[39;00m \u001b[39mself\u001b[39;49m\u001b[39m.\u001b[39;49mmodel(x)\n",
      "File \u001b[1;32mc:\\Users\\fardin\\AppData\\Local\\Programs\\Python\\Python311\\Lib\\site-packages\\torch\\nn\\modules\\module.py:1518\u001b[0m, in \u001b[0;36mModule._wrapped_call_impl\u001b[1;34m(self, *args, **kwargs)\u001b[0m\n\u001b[0;32m   1516\u001b[0m     \u001b[39mreturn\u001b[39;00m \u001b[39mself\u001b[39m\u001b[39m.\u001b[39m_compiled_call_impl(\u001b[39m*\u001b[39margs, \u001b[39m*\u001b[39m\u001b[39m*\u001b[39mkwargs)  \u001b[39m# type: ignore[misc]\u001b[39;00m\n\u001b[0;32m   1517\u001b[0m \u001b[39melse\u001b[39;00m:\n\u001b[1;32m-> 1518\u001b[0m     \u001b[39mreturn\u001b[39;00m \u001b[39mself\u001b[39;49m\u001b[39m.\u001b[39;49m_call_impl(\u001b[39m*\u001b[39;49margs, \u001b[39m*\u001b[39;49m\u001b[39m*\u001b[39;49mkwargs)\n",
      "File \u001b[1;32mc:\\Users\\fardin\\AppData\\Local\\Programs\\Python\\Python311\\Lib\\site-packages\\torch\\nn\\modules\\module.py:1527\u001b[0m, in \u001b[0;36mModule._call_impl\u001b[1;34m(self, *args, **kwargs)\u001b[0m\n\u001b[0;32m   1522\u001b[0m \u001b[39m# If we don't have any hooks, we want to skip the rest of the logic in\u001b[39;00m\n\u001b[0;32m   1523\u001b[0m \u001b[39m# this function, and just call forward.\u001b[39;00m\n\u001b[0;32m   1524\u001b[0m \u001b[39mif\u001b[39;00m \u001b[39mnot\u001b[39;00m (\u001b[39mself\u001b[39m\u001b[39m.\u001b[39m_backward_hooks \u001b[39mor\u001b[39;00m \u001b[39mself\u001b[39m\u001b[39m.\u001b[39m_backward_pre_hooks \u001b[39mor\u001b[39;00m \u001b[39mself\u001b[39m\u001b[39m.\u001b[39m_forward_hooks \u001b[39mor\u001b[39;00m \u001b[39mself\u001b[39m\u001b[39m.\u001b[39m_forward_pre_hooks\n\u001b[0;32m   1525\u001b[0m         \u001b[39mor\u001b[39;00m _global_backward_pre_hooks \u001b[39mor\u001b[39;00m _global_backward_hooks\n\u001b[0;32m   1526\u001b[0m         \u001b[39mor\u001b[39;00m _global_forward_hooks \u001b[39mor\u001b[39;00m _global_forward_pre_hooks):\n\u001b[1;32m-> 1527\u001b[0m     \u001b[39mreturn\u001b[39;00m forward_call(\u001b[39m*\u001b[39;49margs, \u001b[39m*\u001b[39;49m\u001b[39m*\u001b[39;49mkwargs)\n\u001b[0;32m   1529\u001b[0m \u001b[39mtry\u001b[39;00m:\n\u001b[0;32m   1530\u001b[0m     result \u001b[39m=\u001b[39m \u001b[39mNone\u001b[39;00m\n",
      "\u001b[1;32mc:\\Users\\fardin\\Projects\\Form&ColorIntelligence\\notebooks\\Task1_X_2\\1_RawHTMLClassification\\CNNGNN_spacy_embedding_html.ipynb Cell 96\u001b[0m line \u001b[0;36m6\n\u001b[0;32m     <a href='vscode-notebook-cell:/c%3A/Users/fardin/Projects/Form%26ColorIntelligence/notebooks/Task1_X_2/1_RawHTMLClassification/CNNGNN_spacy_embedding_html.ipynb#Y160sZmlsZQ%3D%3D?line=57'>58</a>\u001b[0m lattice_edges \u001b[39m=\u001b[39m lattice_edges\u001b[39m-\u001b[39m\u001b[39m1\u001b[39m \u001b[39m# max(1, lattice_edges-1)\u001b[39;00m\n\u001b[0;32m     <a href='vscode-notebook-cell:/c%3A/Users/fardin/Projects/Form%26ColorIntelligence/notebooks/Task1_X_2/1_RawHTMLClassification/CNNGNN_spacy_embedding_html.ipynb#Y160sZmlsZQ%3D%3D?line=58'>59</a>\u001b[0m \u001b[39m# self.gen_graph(x.T, len(g_data.token_lengths), g_data.num_tokens)\u001b[39;00m\n\u001b[0;32m     <a href='vscode-notebook-cell:/c%3A/Users/fardin/Projects/Form%26ColorIntelligence/notebooks/Task1_X_2/1_RawHTMLClassification/CNNGNN_spacy_embedding_html.ipynb#Y160sZmlsZQ%3D%3D?line=59'>60</a>\u001b[0m \u001b[39m# x = torch.cat([graph.x, g_data.token_embeddings], dim=1)\u001b[39;00m\n\u001b[1;32m---> <a href='vscode-notebook-cell:/c%3A/Users/fardin/Projects/Form%26ColorIntelligence/notebooks/Task1_X_2/1_RawHTMLClassification/CNNGNN_spacy_embedding_html.ipynb#Y160sZmlsZQ%3D%3D?line=61'>62</a>\u001b[0m x, edge_weights \u001b[39m=\u001b[39m \u001b[39mself\u001b[39;49m\u001b[39m.\u001b[39;49mgcnn1(graph\u001b[39m.\u001b[39;49mx, graph, \u001b[39mlen\u001b[39;49m(g_data\u001b[39m.\u001b[39;49mtoken_lengths), return_attention_weights \u001b[39m=\u001b[39;49m \u001b[39mTrue\u001b[39;49;00m)\n\u001b[0;32m     <a href='vscode-notebook-cell:/c%3A/Users/fardin/Projects/Form%26ColorIntelligence/notebooks/Task1_X_2/1_RawHTMLClassification/CNNGNN_spacy_embedding_html.ipynb#Y160sZmlsZQ%3D%3D?line=62'>63</a>\u001b[0m \u001b[39m# edge_weights = torch.sum(edge_weights[1][:graph.edge_index.shape[1], :],dim=1)\u001b[39;00m\n\u001b[0;32m     <a href='vscode-notebook-cell:/c%3A/Users/fardin/Projects/Form%26ColorIntelligence/notebooks/Task1_X_2/1_RawHTMLClassification/CNNGNN_spacy_embedding_html.ipynb#Y160sZmlsZQ%3D%3D?line=63'>64</a>\u001b[0m edge_weights \u001b[39m=\u001b[39m edge_weights[\u001b[39m1\u001b[39m][:graph\u001b[39m.\u001b[39medge_index\u001b[39m.\u001b[39mshape[\u001b[39m1\u001b[39m], \u001b[39m0\u001b[39m]\n",
      "File \u001b[1;32mc:\\Users\\fardin\\AppData\\Local\\Programs\\Python\\Python311\\Lib\\site-packages\\torch\\nn\\modules\\module.py:1518\u001b[0m, in \u001b[0;36mModule._wrapped_call_impl\u001b[1;34m(self, *args, **kwargs)\u001b[0m\n\u001b[0;32m   1516\u001b[0m     \u001b[39mreturn\u001b[39;00m \u001b[39mself\u001b[39m\u001b[39m.\u001b[39m_compiled_call_impl(\u001b[39m*\u001b[39margs, \u001b[39m*\u001b[39m\u001b[39m*\u001b[39mkwargs)  \u001b[39m# type: ignore[misc]\u001b[39;00m\n\u001b[0;32m   1517\u001b[0m \u001b[39melse\u001b[39;00m:\n\u001b[1;32m-> 1518\u001b[0m     \u001b[39mreturn\u001b[39;00m \u001b[39mself\u001b[39;49m\u001b[39m.\u001b[39;49m_call_impl(\u001b[39m*\u001b[39;49margs, \u001b[39m*\u001b[39;49m\u001b[39m*\u001b[39;49mkwargs)\n",
      "File \u001b[1;32mc:\\Users\\fardin\\AppData\\Local\\Programs\\Python\\Python311\\Lib\\site-packages\\torch\\nn\\modules\\module.py:1527\u001b[0m, in \u001b[0;36mModule._call_impl\u001b[1;34m(self, *args, **kwargs)\u001b[0m\n\u001b[0;32m   1522\u001b[0m \u001b[39m# If we don't have any hooks, we want to skip the rest of the logic in\u001b[39;00m\n\u001b[0;32m   1523\u001b[0m \u001b[39m# this function, and just call forward.\u001b[39;00m\n\u001b[0;32m   1524\u001b[0m \u001b[39mif\u001b[39;00m \u001b[39mnot\u001b[39;00m (\u001b[39mself\u001b[39m\u001b[39m.\u001b[39m_backward_hooks \u001b[39mor\u001b[39;00m \u001b[39mself\u001b[39m\u001b[39m.\u001b[39m_backward_pre_hooks \u001b[39mor\u001b[39;00m \u001b[39mself\u001b[39m\u001b[39m.\u001b[39m_forward_hooks \u001b[39mor\u001b[39;00m \u001b[39mself\u001b[39m\u001b[39m.\u001b[39m_forward_pre_hooks\n\u001b[0;32m   1525\u001b[0m         \u001b[39mor\u001b[39;00m _global_backward_pre_hooks \u001b[39mor\u001b[39;00m _global_backward_hooks\n\u001b[0;32m   1526\u001b[0m         \u001b[39mor\u001b[39;00m _global_forward_hooks \u001b[39mor\u001b[39;00m _global_forward_pre_hooks):\n\u001b[1;32m-> 1527\u001b[0m     \u001b[39mreturn\u001b[39;00m forward_call(\u001b[39m*\u001b[39;49margs, \u001b[39m*\u001b[39;49m\u001b[39m*\u001b[39;49mkwargs)\n\u001b[0;32m   1529\u001b[0m \u001b[39mtry\u001b[39;00m:\n\u001b[0;32m   1530\u001b[0m     result \u001b[39m=\u001b[39m \u001b[39mNone\u001b[39;00m\n",
      "\u001b[1;32mc:\\Users\\fardin\\Projects\\Form&ColorIntelligence\\notebooks\\Task1_X_2\\1_RawHTMLClassification\\CNNGNN_spacy_embedding_html.ipynb Cell 96\u001b[0m line \u001b[0;36m1\n\u001b[0;32m     <a href='vscode-notebook-cell:/c%3A/Users/fardin/Projects/Form%26ColorIntelligence/notebooks/Task1_X_2/1_RawHTMLClassification/CNNGNN_spacy_embedding_html.ipynb#Y160sZmlsZQ%3D%3D?line=17'>18</a>\u001b[0m \u001b[39mdef\u001b[39;00m \u001b[39mforward\u001b[39m(\u001b[39mself\u001b[39m, x, graph, total_token_count, return_attention_weights \u001b[39m=\u001b[39m \u001b[39mFalse\u001b[39;00m):\n\u001b[1;32m---> <a href='vscode-notebook-cell:/c%3A/Users/fardin/Projects/Form%26ColorIntelligence/notebooks/Task1_X_2/1_RawHTMLClassification/CNNGNN_spacy_embedding_html.ipynb#Y160sZmlsZQ%3D%3D?line=18'>19</a>\u001b[0m     x1, edge_weights \u001b[39m=\u001b[39m \u001b[39mself\u001b[39;49m\u001b[39m.\u001b[39;49mgnn(x, graph\u001b[39m.\u001b[39;49medge_index, return_attention_weights\u001b[39m=\u001b[39;49mreturn_attention_weights) \n\u001b[0;32m     <a href='vscode-notebook-cell:/c%3A/Users/fardin/Projects/Form%26ColorIntelligence/notebooks/Task1_X_2/1_RawHTMLClassification/CNNGNN_spacy_embedding_html.ipynb#Y160sZmlsZQ%3D%3D?line=19'>20</a>\u001b[0m     x2 \u001b[39m=\u001b[39m F\u001b[39m.\u001b[39mrelu(\u001b[39mself\u001b[39m\u001b[39m.\u001b[39mconv(x[:total_token_count]\u001b[39m.\u001b[39mT)\u001b[39m.\u001b[39mT)\u001b[39m#self.bn2(self.conv(x[:total_token_count].T).T))\u001b[39;00m\n\u001b[0;32m     <a href='vscode-notebook-cell:/c%3A/Users/fardin/Projects/Form%26ColorIntelligence/notebooks/Task1_X_2/1_RawHTMLClassification/CNNGNN_spacy_embedding_html.ipynb#Y160sZmlsZQ%3D%3D?line=20'>21</a>\u001b[0m     x3 \u001b[39m=\u001b[39m  F\u001b[39m.\u001b[39mleaky_relu_(\u001b[39mself\u001b[39m\u001b[39m.\u001b[39mbn3(\u001b[39mself\u001b[39m\u001b[39m.\u001b[39mfc(x1[total_token_count:])))\n",
      "File \u001b[1;32mc:\\Users\\fardin\\AppData\\Local\\Programs\\Python\\Python311\\Lib\\site-packages\\torch\\nn\\modules\\module.py:1518\u001b[0m, in \u001b[0;36mModule._wrapped_call_impl\u001b[1;34m(self, *args, **kwargs)\u001b[0m\n\u001b[0;32m   1516\u001b[0m     \u001b[39mreturn\u001b[39;00m \u001b[39mself\u001b[39m\u001b[39m.\u001b[39m_compiled_call_impl(\u001b[39m*\u001b[39margs, \u001b[39m*\u001b[39m\u001b[39m*\u001b[39mkwargs)  \u001b[39m# type: ignore[misc]\u001b[39;00m\n\u001b[0;32m   1517\u001b[0m \u001b[39melse\u001b[39;00m:\n\u001b[1;32m-> 1518\u001b[0m     \u001b[39mreturn\u001b[39;00m \u001b[39mself\u001b[39;49m\u001b[39m.\u001b[39;49m_call_impl(\u001b[39m*\u001b[39;49margs, \u001b[39m*\u001b[39;49m\u001b[39m*\u001b[39;49mkwargs)\n",
      "File \u001b[1;32mc:\\Users\\fardin\\AppData\\Local\\Programs\\Python\\Python311\\Lib\\site-packages\\torch\\nn\\modules\\module.py:1527\u001b[0m, in \u001b[0;36mModule._call_impl\u001b[1;34m(self, *args, **kwargs)\u001b[0m\n\u001b[0;32m   1522\u001b[0m \u001b[39m# If we don't have any hooks, we want to skip the rest of the logic in\u001b[39;00m\n\u001b[0;32m   1523\u001b[0m \u001b[39m# this function, and just call forward.\u001b[39;00m\n\u001b[0;32m   1524\u001b[0m \u001b[39mif\u001b[39;00m \u001b[39mnot\u001b[39;00m (\u001b[39mself\u001b[39m\u001b[39m.\u001b[39m_backward_hooks \u001b[39mor\u001b[39;00m \u001b[39mself\u001b[39m\u001b[39m.\u001b[39m_backward_pre_hooks \u001b[39mor\u001b[39;00m \u001b[39mself\u001b[39m\u001b[39m.\u001b[39m_forward_hooks \u001b[39mor\u001b[39;00m \u001b[39mself\u001b[39m\u001b[39m.\u001b[39m_forward_pre_hooks\n\u001b[0;32m   1525\u001b[0m         \u001b[39mor\u001b[39;00m _global_backward_pre_hooks \u001b[39mor\u001b[39;00m _global_backward_hooks\n\u001b[0;32m   1526\u001b[0m         \u001b[39mor\u001b[39;00m _global_forward_hooks \u001b[39mor\u001b[39;00m _global_forward_pre_hooks):\n\u001b[1;32m-> 1527\u001b[0m     \u001b[39mreturn\u001b[39;00m forward_call(\u001b[39m*\u001b[39;49margs, \u001b[39m*\u001b[39;49m\u001b[39m*\u001b[39;49mkwargs)\n\u001b[0;32m   1529\u001b[0m \u001b[39mtry\u001b[39;00m:\n\u001b[0;32m   1530\u001b[0m     result \u001b[39m=\u001b[39m \u001b[39mNone\u001b[39;00m\n",
      "File \u001b[1;32mc:\\Users\\fardin\\AppData\\Local\\Programs\\Python\\Python311\\Lib\\site-packages\\torch_geometric\\nn\\conv\\gatv2_conv.py:237\u001b[0m, in \u001b[0;36mGATv2Conv.forward\u001b[1;34m(self, x, edge_index, edge_attr, return_attention_weights)\u001b[0m\n\u001b[0;32m    234\u001b[0m         num_nodes \u001b[39m=\u001b[39m \u001b[39mmin\u001b[39m(num_nodes, x_r\u001b[39m.\u001b[39msize(\u001b[39m0\u001b[39m))\n\u001b[0;32m    235\u001b[0m     edge_index, edge_attr \u001b[39m=\u001b[39m remove_self_loops(\n\u001b[0;32m    236\u001b[0m         edge_index, edge_attr)\n\u001b[1;32m--> 237\u001b[0m     edge_index, edge_attr \u001b[39m=\u001b[39m add_self_loops(\n\u001b[0;32m    238\u001b[0m         edge_index, edge_attr, fill_value\u001b[39m=\u001b[39;49m\u001b[39mself\u001b[39;49m\u001b[39m.\u001b[39;49mfill_value,\n\u001b[0;32m    239\u001b[0m         num_nodes\u001b[39m=\u001b[39;49mnum_nodes)\n\u001b[0;32m    240\u001b[0m \u001b[39melif\u001b[39;00m \u001b[39misinstance\u001b[39m(edge_index, SparseTensor):\n\u001b[0;32m    241\u001b[0m     \u001b[39mif\u001b[39;00m \u001b[39mself\u001b[39m\u001b[39m.\u001b[39medge_dim \u001b[39mis\u001b[39;00m \u001b[39mNone\u001b[39;00m:\n",
      "File \u001b[1;32mc:\\Users\\fardin\\AppData\\Local\\Programs\\Python\\Python311\\Lib\\site-packages\\torch_geometric\\utils\\loop.py:167\u001b[0m, in \u001b[0;36madd_self_loops\u001b[1;34m(edge_index, edge_attr, fill_value, num_nodes)\u001b[0m\n\u001b[0;32m    161\u001b[0m \u001b[39m@torch\u001b[39m\u001b[39m.\u001b[39mjit\u001b[39m.\u001b[39m_overload\n\u001b[0;32m    162\u001b[0m \u001b[39mdef\u001b[39;00m \u001b[39madd_self_loops\u001b[39m(edge_index, edge_attr, fill_value, num_nodes):\n\u001b[0;32m    163\u001b[0m     \u001b[39m# type: (Tensor, OptTensor, Optional[str], Optional[Tuple[int, int]]) -> Tuple[Tensor, OptTensor]  # noqa\u001b[39;00m\n\u001b[0;32m    164\u001b[0m     \u001b[39mpass\u001b[39;00m\n\u001b[1;32m--> 167\u001b[0m \u001b[39mdef\u001b[39;00m \u001b[39madd_self_loops\u001b[39m(\n\u001b[0;32m    168\u001b[0m     edge_index: Tensor,\n\u001b[0;32m    169\u001b[0m     edge_attr: OptTensor \u001b[39m=\u001b[39m \u001b[39mNone\u001b[39;00m,\n\u001b[0;32m    170\u001b[0m     fill_value: Optional[Union[\u001b[39mfloat\u001b[39m, Tensor, \u001b[39mstr\u001b[39m]] \u001b[39m=\u001b[39m \u001b[39mNone\u001b[39;00m,\n\u001b[0;32m    171\u001b[0m     num_nodes: Optional[Union[\u001b[39mint\u001b[39m, Tuple[\u001b[39mint\u001b[39m, \u001b[39mint\u001b[39m]]] \u001b[39m=\u001b[39m \u001b[39mNone\u001b[39;00m,\n\u001b[0;32m    172\u001b[0m ) \u001b[39m-\u001b[39m\u001b[39m>\u001b[39m Tuple[Tensor, OptTensor]:\n\u001b[0;32m    173\u001b[0m \u001b[39m    \u001b[39m\u001b[39mr\u001b[39m\u001b[39m\"\"\"Adds a self-loop :math:`(i,i) \\in \\mathcal{E}` to every node\u001b[39;00m\n\u001b[0;32m    174\u001b[0m \u001b[39m    :math:`i \\in \\mathcal{V}` in the graph given by :attr:`edge_index`.\u001b[39;00m\n\u001b[0;32m    175\u001b[0m \u001b[39m    In case the graph is weighted or has multi-dimensional edge features\u001b[39;00m\n\u001b[1;32m   (...)\u001b[0m\n\u001b[0;32m    226\u001b[0m \u001b[39m        tensor([0.5000, 0.5000, 0.5000, 1.0000, 0.5000]))\u001b[39;00m\n\u001b[0;32m    227\u001b[0m \u001b[39m    \"\"\"\u001b[39;00m\n\u001b[0;32m    228\u001b[0m     layout: Optional[\u001b[39mint\u001b[39m] \u001b[39m=\u001b[39m \u001b[39mNone\u001b[39;00m\n",
      "\u001b[1;31mKeyboardInterrupt\u001b[0m: "
     ]
    },
    {
     "data": {
      "image/png": "[encoded data removed]",
      "text/plain": [
       "<Figure size 640x480 with 1 Axes>"
      ]
     },
     "metadata": {},
     "output_type": "display_data"
    }
   ],
   "source": [
    "# for i in range(5):\n",
    "model_mgr = train_model(130, 0.2, 0.000012, 0.0035)"
   ]
  },
  {
   "cell_type": "code",
   "execution_count": null,
   "metadata": {},
   "outputs": [
    {
     "data": {
      "text/plain": [
       "'logs/CNN-GNN5\\\\version_22\\\\checkpoints\\\\epoch=1-step=4.ckpt'"
      ]
     },
     "execution_count": 51,
     "metadata": {},
     "output_type": "execute_result"
    }
   ],
   "source": [
    "model_mgr.trainer.checkpoint_callback.best_model_path"
   ]
  },
  {
   "cell_type": "code",
   "execution_count": null,
   "metadata": {},
   "outputs": [],
   "source": [
    "# dropouts = [0.2]\n",
    "# start_lrs = [0.0035, 0.0037, 0.0039]\n",
    "# wds = [0.000012]#, 0.000013, 0.0000125]\n",
    "# for dp in dropouts:\n",
    "#     for lr in start_lrs:\n",
    "#         for wd in wds:\n",
    "#             model_mgr = train_model(100, dp, wd, lr)"
   ]
  },
  {
   "cell_type": "markdown",
   "metadata": {},
   "source": []
  },
  {
   "cell_type": "code",
   "execution_count": null,
   "metadata": {},
   "outputs": [],
   "source": [
    "# classifier_torch_model = CNN_for_Text(num_embedding=len(vocab_dict), batch_size=batch_size, hidden_dim=hidden_dim, embedding_dim=embedding_dim, max_char_count=256, dropout=0.176, num_out_features=len(class_id), seed=911, g_node_degree=25, virtual_nodes=1).to(device)\n",
    "# optimizer = torch.optim.Adam(classifier_torch_model.parameters(), lr=lr, weight_decay=0.00001)\n",
    "# lr_scheduler = torch.optim.lr_scheduler.MultiStepLR(optimizer, milestones=[50, 100, 150, 200, 250, 300, 350],gamma=0.5, verbose=False)\n",
    "# loss_func = torch.nn.BCEWithLogitsLoss()\n",
    "# classfier_lightning_model = ClassifierLightningModel(classifier_torch_model, \n",
    "#                                                     num_classes=len(class_id),\n",
    "#                                             learning_rate=lr,\n",
    "#                                             batch_size=batch_size,\n",
    "#                                             optimizer=optimizer,\n",
    "#                                             loss_func=loss_func,\n",
    "#                                             lr_scheduler=lr_scheduler,\n",
    "#                                             user_lr_scheduler=True\n",
    "#                                             ).to(device)\n",
    "\n",
    "# trainer = L.Trainer(\n",
    "#             max_epochs=50,\n",
    "#             accelerator='gpu',\n",
    "#         #     logger=self.logger,\n",
    "#             num_sanity_val_steps=0,\n",
    "#         #     default_root_dir=self.model_save_dir\n",
    "#         )\n",
    "# # model_manager = ClassifierModelManager(classifier_torch_model, classfier_lightning_model, log_name='CNN-GNN',device=device, num_train_epoch=5)\n"
   ]
  },
  {
   "cell_type": "code",
   "execution_count": null,
   "metadata": {},
   "outputs": [],
   "source": [
    "# from lightning.pytorch.tuner import Tuner\n",
    "# tuner = Tuner(trainer)\n",
    "# tuning_result = tuner.lr_find(classfier_lightning_model, train_dataloaders=train_dataloader, val_dataloaders=test_dataloader, min_lr=0.00001,max_lr=0.1, num_training=100)\n",
    "\n",
    "# fig = tuning_result.plot(suggest=True)\n",
    "# fig.show()"
   ]
  },
  {
   "cell_type": "code",
   "execution_count": null,
   "metadata": {},
   "outputs": [],
   "source": [
    "torch_model = model_mgr.trainer.model.model.eval()"
   ]
  },
  {
   "cell_type": "code",
   "execution_count": null,
   "metadata": {},
   "outputs": [
    {
     "name": "stdout",
     "output_type": "stream",
     "text": [
      "tensor([[[ 3.2035e-01,  2.0037e-01,  3.8293e-01],\n",
      "         [ 8.6133e-02, -1.2822e-01,  2.1266e-02],\n",
      "         [-2.9769e-02,  6.2159e-02, -3.1024e-02],\n",
      "         ...,\n",
      "         [-4.1246e-02, -8.6743e-02,  5.3916e-03],\n",
      "         [-4.1412e-02, -8.5278e-02, -3.1010e-02],\n",
      "         [-2.6527e-02, -9.0403e-02, -4.2477e-02]],\n",
      "\n",
      "        [[-1.7581e-02, -1.2719e-02, -1.5617e-02],\n",
      "         [ 6.8038e-02,  5.8736e-02,  7.7225e-02],\n",
      "         [ 1.4066e-03,  7.8466e-03,  1.5854e-03],\n",
      "         ...,\n",
      "         [-1.4663e-02, -1.0500e-02, -1.2658e-02],\n",
      "         [-1.4879e-02, -1.0949e-02, -1.2791e-02],\n",
      "         [-1.4351e-02, -1.0970e-02, -1.2901e-02]],\n",
      "\n",
      "        [[ 3.5320e-02, -6.4809e-03,  3.7910e-02],\n",
      "         [-1.2305e-02, -1.7124e-02, -1.4228e-02],\n",
      "         [-2.0755e-02, -2.1756e-02, -1.8589e-02],\n",
      "         ...,\n",
      "         [-1.8548e-02, -2.1672e-02, -1.7571e-02],\n",
      "         [-1.8226e-02, -2.1145e-02, -1.7043e-02],\n",
      "         [-1.8659e-02, -2.1652e-02, -1.7362e-02]],\n",
      "\n",
      "        ...,\n",
      "\n",
      "        [[-2.6705e-22,  8.5410e-18, -2.4663e-24],\n",
      "         [ 4.8911e-16,  4.9224e-16,  1.0849e-18],\n",
      "         [-1.2670e-18, -4.8342e-21, -3.3462e-20],\n",
      "         ...,\n",
      "         [ 1.4859e-18,  1.4982e-18,  2.1725e-19],\n",
      "         [-3.2414e-18, -9.8693e-19, -3.0733e-20],\n",
      "         [ 7.8551e-18, -5.5251e-18, -8.0333e-20]],\n",
      "\n",
      "        [[-6.9956e-18, -3.5870e-19, -2.3954e-18],\n",
      "         [-1.4867e-16, -6.7345e-17, -7.3332e-16],\n",
      "         [-4.0825e-15, -1.0777e-16, -3.7186e-15],\n",
      "         ...,\n",
      "         [ 2.2677e-16, -4.7405e-16, -5.1410e-16],\n",
      "         [-1.1420e-16, -2.9708e-16, -3.4301e-16],\n",
      "         [-4.6818e-16, -1.3267e-15, -5.2899e-16]],\n",
      "\n",
      "        [[-2.1879e-23, -3.2597e-18, -5.3880e-23],\n",
      "         [ 1.2691e-20, -1.9218e-22, -1.2470e-18],\n",
      "         [-2.9536e-21, -8.4924e-19, -4.0097e-19],\n",
      "         ...,\n",
      "         [-1.3267e-18, -6.0293e-18, -2.7311e-18],\n",
      "         [-7.2170e-19, -3.4195e-18, -1.4813e-18],\n",
      "         [-1.2336e-18, -5.2778e-18, -2.3890e-18]]], device='cuda:0',\n",
      "       grad_fn=<IndexBackward0>)\n"
     ]
    }
   ],
   "source": [
    "print(torch_model.gcnn2.conv.weight[torch.topk(torch.amax(torch_model.gcnn2.conv.weight, dim=[1, 2]), 16).indices])\n"
   ]
  },
  {
   "cell_type": "code",
   "execution_count": null,
   "metadata": {},
   "outputs": [
    {
     "data": {
      "text/plain": [
       "torch.return_types.topk(\n",
       "values=tensor([6.3666e-18, 2.0884e-22, 6.1610e-26, 1.6367e-26, 1.2162e-28],\n",
       "       device='cuda:0', grad_fn=<TopkBackward0>),\n",
       "indices=tensor([40, 53, 11, 59, 30], device='cuda:0'))"
      ]
     },
     "execution_count": 46,
     "metadata": {},
     "output_type": "execute_result"
    }
   ],
   "source": [
    "torch.topk(torch.mean(torch_model.gcnn2.conv.weight, dim=[1,2]), 5)"
   ]
  },
  {
   "cell_type": "code",
   "execution_count": null,
   "metadata": {},
   "outputs": [
    {
     "data": {
      "text/plain": [
       "tensor([-2.7581e-01, -2.6191e-12,  1.4206e-01, -2.6398e-01,  3.0897e-01,\n",
       "         4.0569e-01,  5.5519e-01, -1.4133e-02,  1.2817e-01, -1.6188e-01,\n",
       "         2.0320e-01, -6.0456e-03, -1.4974e-01,  1.3882e-01,  4.4378e-02,\n",
       "         5.6237e-02,  9.4429e-02, -1.0171e-01, -4.8159e-02,  9.5665e-02,\n",
       "         1.3240e-01,  2.3658e-01, -9.1189e-03, -4.1128e-40, -2.0501e-01,\n",
       "         1.2683e-01,  1.4156e-01, -1.9746e-01,  1.7320e-01, -2.0111e-01,\n",
       "         1.5868e-01,  1.0301e-01, -3.9840e-01, -1.0312e-01,  2.0706e-02,\n",
       "        -4.2674e-02,  7.4345e-02,  4.0973e-40, -9.4116e-02, -1.1387e-03,\n",
       "         1.5975e-01,  8.5480e-02,  2.0334e-02,  4.0701e-01,  8.9852e-03,\n",
       "        -2.1146e-01, -1.8167e-01,  4.0931e-02, -1.3469e-02, -2.1577e-01,\n",
       "        -2.3535e-03, -3.4458e-02, -6.6982e-02,  1.5668e-01, -1.3244e-01,\n",
       "        -1.3284e-01,  4.2652e-03,  1.0511e-01, -4.5373e-01, -9.9997e-03,\n",
       "         9.2711e-02,  5.9142e-02,  2.4174e-01, -4.0985e-40], device='cuda:0',\n",
       "       grad_fn=<SelectBackward0>)"
      ]
     },
     "execution_count": 47,
     "metadata": {},
     "output_type": "execute_result"
    }
   ],
   "source": [
    "torch_model.gcnn1.gnn.lin_l.weight[5]"
   ]
  },
  {
   "cell_type": "code",
   "execution_count": null,
   "metadata": {},
   "outputs": [
    {
     "data": {
      "text/plain": [
       "tensor([[-4.9216e-36, -8.9397e-36, -4.7862e-36],\n",
       "        [-2.6224e-36, -2.5389e-36, -3.8356e-36],\n",
       "        [-1.0055e-35, -5.9394e-36, -1.1362e-35],\n",
       "        [-1.0189e-36, -7.4511e-36, -4.1198e-36],\n",
       "        [-1.1800e-36, -3.0973e-37, -1.4258e-37],\n",
       "        [ 1.7240e-36,  4.9321e-37,  7.5810e-37],\n",
       "        [-1.7211e-36, -2.0214e-36, -1.6610e-36],\n",
       "        [-2.9199e-36, -2.0148e-36, -2.0522e-36],\n",
       "        [-6.2926e-36, -4.6650e-36, -4.5763e-36],\n",
       "        [-3.5796e-36, -7.3899e-36, -1.6763e-36],\n",
       "        [-1.0912e-35, -1.9288e-36, -1.1820e-35],\n",
       "        [-9.5668e-36, -1.2517e-35, -9.6824e-36],\n",
       "        [-3.3170e-36, -1.0795e-35, -3.9908e-36],\n",
       "        [-3.7349e-36, -3.9395e-36, -3.0410e-36],\n",
       "        [-2.8381e-36, -2.0008e-36, -1.6159e-36],\n",
       "        [ 1.3706e-37,  6.5016e-36, -5.3387e-37],\n",
       "        [-5.2655e-36, -6.2696e-36, -3.8563e-36],\n",
       "        [-4.8169e-36, -5.4868e-36, -6.6131e-36],\n",
       "        [-2.4377e-36, -6.3636e-36, -3.9446e-36],\n",
       "        [ 6.1834e-36,  7.6586e-36,  6.2768e-36],\n",
       "        [-5.4201e-36, -9.8072e-36, -6.6487e-36],\n",
       "        [ 1.3223e-36,  3.4682e-36,  1.9827e-36],\n",
       "        [-1.6274e-36, -1.5521e-36, -1.6197e-36],\n",
       "        [-1.6076e-36, -1.5615e-36, -1.3888e-36],\n",
       "        [-6.8745e-37,  2.9768e-36, -5.8696e-37],\n",
       "        [-2.2400e-36, -1.1113e-37,  9.3868e-37],\n",
       "        [-1.3335e-36, -4.6924e-36, -2.3251e-36],\n",
       "        [-6.9978e-36, -1.1131e-35, -8.3843e-36],\n",
       "        [-5.2717e-36, -4.7071e-36, -5.2162e-36],\n",
       "        [ 2.4325e-37, -2.1091e-37,  8.6059e-37],\n",
       "        [-7.5608e-36, -5.8282e-36, -4.8384e-36],\n",
       "        [ 1.4576e-36,  1.8075e-36,  3.5258e-36],\n",
       "        [-4.7335e-40,  4.0906e-40, -5.0547e-40],\n",
       "        [ 4.1044e-40, -4.1207e-40,  4.1196e-40],\n",
       "        [-1.9949e-39,  1.4682e-39,  3.9076e-40],\n",
       "        [ 5.1380e-40,  4.9272e-40, -4.7134e-40],\n",
       "        [-4.1065e-40,  4.0971e-40, -4.1139e-40],\n",
       "        [ 4.1590e-40, -5.1571e-40, -4.8212e-40],\n",
       "        [ 4.6269e-40, -4.4421e-40, -4.8461e-40],\n",
       "        [-4.0935e-40,  4.6321e-40,  4.1505e-40],\n",
       "        [-4.1947e-40, -4.0919e-40,  4.0960e-40],\n",
       "        [ 4.3920e-40, -4.9336e-40, -4.6062e-40],\n",
       "        [-4.7093e-40,  4.9630e-40,  5.2128e-40],\n",
       "        [-4.3869e-40,  3.0675e-40, -9.7463e-40],\n",
       "        [-4.1294e-40,  4.1202e-40,  4.1617e-40],\n",
       "        [-4.2735e-40, -4.2467e-40, -4.2135e-40],\n",
       "        [-4.2459e-40,  4.1660e-40, -4.1493e-40],\n",
       "        [ 4.0891e-40,  4.2315e-40, -4.5633e-40],\n",
       "        [-4.7420e-40, -4.5678e-40,  4.7124e-40],\n",
       "        [-4.5002e-40,  4.2431e-40, -4.2936e-40],\n",
       "        [ 4.6856e-40, -4.8696e-40,  5.1468e-40],\n",
       "        [-4.1118e-40, -4.0989e-40,  4.1188e-40],\n",
       "        [-5.2179e-40,  5.1828e-40,  5.1370e-40],\n",
       "        [-4.6538e-40,  4.8342e-40,  4.1263e-40],\n",
       "        [-4.1106e-40, -4.0997e-40,  4.0940e-40],\n",
       "        [ 4.2437e-40, -4.1966e-40, -5.2296e-40],\n",
       "        [ 4.6268e-40, -4.1444e-40,  4.6329e-40],\n",
       "        [-5.0252e-40, -4.7901e-40,  5.0277e-40],\n",
       "        [ 4.1140e-40, -4.1135e-40, -4.1078e-40],\n",
       "        [ 4.1051e-40, -4.0918e-40, -4.1019e-40],\n",
       "        [ 4.1296e-40, -4.1081e-40, -4.1241e-40],\n",
       "        [-4.7437e-39, -3.9347e-39, -4.4669e-39],\n",
       "        [-4.2092e-40,  5.0709e-40, -4.7279e-40],\n",
       "        [-3.5695e-35, -3.5738e-35, -2.9622e-35],\n",
       "        [-1.2724e-35, -1.1446e-35, -1.1348e-35],\n",
       "        [-8.8217e-36, -8.2281e-36, -8.3738e-36],\n",
       "        [-9.5714e-36, -8.9000e-36, -9.4141e-36],\n",
       "        [-9.4868e-36, -9.0346e-36, -9.2926e-36],\n",
       "        [-7.6150e-36, -7.7260e-36, -7.9525e-36],\n",
       "        [-1.0130e-35, -1.0265e-35, -9.9421e-36],\n",
       "        [-9.4556e-36, -8.9437e-36, -9.0231e-36],\n",
       "        [-9.7959e-36, -9.1901e-36, -9.2177e-36],\n",
       "        [-9.4266e-36, -9.1027e-36, -9.1772e-36],\n",
       "        [-8.7707e-36, -8.2693e-36, -8.3817e-36],\n",
       "        [-9.5468e-36, -9.0372e-36, -9.3483e-36],\n",
       "        [-9.6416e-36, -9.1623e-36, -9.2384e-36],\n",
       "        [-9.0982e-36, -8.5915e-36, -8.7773e-36],\n",
       "        [-9.1761e-36, -8.8140e-36, -8.8994e-36],\n",
       "        [-1.0235e-35, -9.7331e-36, -9.8012e-36],\n",
       "        [-9.2960e-36, -8.7494e-36, -8.8961e-36],\n",
       "        [-9.5154e-36, -9.1927e-36, -9.3484e-36],\n",
       "        [-9.6101e-36, -9.1616e-36, -9.2726e-36],\n",
       "        [-9.3615e-36, -8.8719e-36, -9.0799e-36],\n",
       "        [-9.3620e-36, -8.8247e-36, -8.9991e-36],\n",
       "        [-9.4281e-36, -8.9986e-36, -9.0797e-36],\n",
       "        [-9.1544e-36, -8.9279e-36, -8.8943e-36],\n",
       "        [-9.6293e-36, -9.2397e-36, -9.6605e-36],\n",
       "        [-9.8763e-36, -9.2124e-36, -9.3090e-36],\n",
       "        [-9.2052e-36, -8.7650e-36, -8.8160e-36],\n",
       "        [-9.7816e-36, -9.2187e-36, -9.3639e-36],\n",
       "        [-9.3811e-36, -8.9318e-36, -9.0286e-36],\n",
       "        [-9.3917e-36, -8.9387e-36, -9.1333e-36],\n",
       "        [-9.9415e-36, -9.3799e-36, -9.5724e-36],\n",
       "        [-9.7133e-36, -9.1128e-36, -9.2885e-36],\n",
       "        [-9.4803e-36, -8.9904e-36, -9.0011e-36],\n",
       "        [-9.4779e-36, -8.9943e-36, -9.1482e-36],\n",
       "        [-9.4586e-36, -8.9597e-36, -9.0603e-36],\n",
       "        [-9.3549e-36, -8.8460e-36, -8.9441e-36],\n",
       "        [-9.4251e-36, -8.9219e-36, -9.1154e-36],\n",
       "        [-9.6322e-36, -9.0982e-36, -9.2514e-36],\n",
       "        [-9.9077e-36, -9.1347e-36, -9.2924e-36],\n",
       "        [-1.0327e-35, -9.7477e-36, -9.9523e-36],\n",
       "        [-9.2670e-36, -8.7812e-36, -8.9703e-36],\n",
       "        [-9.7784e-36, -9.2053e-36, -9.3504e-36],\n",
       "        [-9.2171e-36, -8.7755e-36, -8.8367e-36],\n",
       "        [-9.3774e-36, -8.9042e-36, -9.0741e-36],\n",
       "        [-8.7433e-36, -8.3563e-36, -8.3846e-36],\n",
       "        [-9.0013e-36, -8.4436e-36, -8.6388e-36],\n",
       "        [-9.3694e-36, -8.8853e-36, -8.9897e-36],\n",
       "        [-9.2398e-36, -8.8221e-36, -8.9822e-36],\n",
       "        [-9.5188e-36, -8.9858e-36, -9.0933e-36],\n",
       "        [-9.6773e-36, -9.1267e-36, -9.2722e-36],\n",
       "        [-9.6229e-36, -9.1386e-36, -9.2163e-36],\n",
       "        [-9.3604e-36, -8.8710e-36, -9.1054e-36],\n",
       "        [-9.4225e-36, -8.9233e-36, -9.0648e-36],\n",
       "        [-9.4889e-36, -8.8337e-36, -9.0906e-36],\n",
       "        [-9.5522e-36, -8.9977e-36, -9.0861e-36],\n",
       "        [-9.7614e-36, -9.1852e-36, -9.4138e-36],\n",
       "        [-9.7646e-36, -9.2446e-36, -9.3171e-36],\n",
       "        [-9.8899e-36, -9.4190e-36, -9.5953e-36],\n",
       "        [-9.4967e-36, -9.0737e-36, -9.2157e-36],\n",
       "        [-9.5973e-36, -9.1693e-36, -9.3325e-36],\n",
       "        [-9.6249e-36, -9.0609e-36, -9.2976e-36],\n",
       "        [-7.5271e-36, -7.1439e-36, -7.2256e-36],\n",
       "        [-9.9363e-36, -9.3316e-36, -9.5003e-36],\n",
       "        [-9.7354e-36, -9.1772e-36, -9.2216e-36],\n",
       "        [-9.2807e-36, -8.7610e-36, -8.9622e-36],\n",
       "        [-9.4651e-36, -9.0766e-36, -9.2005e-36]], device='cuda:0',\n",
       "       grad_fn=<SelectBackward0>)"
      ]
     },
     "execution_count": 48,
     "metadata": {},
     "output_type": "execute_result"
    }
   ],
   "source": [
    "torch_model.gcnn2.conv.weight[14]"
   ]
  },
  {
   "cell_type": "code",
   "execution_count": null,
   "metadata": {},
   "outputs": [
    {
     "name": "stdout",
     "output_type": "stream",
     "text": [
      "18\n",
      "55\n",
      "58\n",
      "61\n",
      "62\n"
     ]
    }
   ],
   "source": [
    "for i in range(64):\n",
    "    if torch.max(torch_model.gcnn2.conv.weight[i])> 0.0001:\n",
    "        print(i)"
   ]
  },
  {
   "cell_type": "code",
   "execution_count": null,
   "metadata": {},
   "outputs": [
    {
     "data": {
      "text/plain": [
       "CNN_for_Text(\n",
       "  (embedding): Embedding(57, 64)\n",
       "  (conv1): Conv1d(64, 64, kernel_size=(5,), stride=(1,), padding=(2,))\n",
       "  (pool1): MaxPool1d(kernel_size=2, stride=2, padding=0, dilation=1, ceil_mode=False)\n",
       "  (conv2): Conv1d(64, 64, kernel_size=(5,), stride=(1,), padding=(2,))\n",
       "  (conv3): Conv1d(128, 64, kernel_size=(3,), stride=(1,), padding=(1,))\n",
       "  (conv4): Conv1d(64, 64, kernel_size=(3,), stride=(1,), padding=(1,))\n",
       "  (gcnn1): GCNN(\n",
       "    (gnn): GATv2Conv(64, 8, heads=4)\n",
       "    (conv): Conv1d(64, 32, kernel_size=(3,), stride=(1,), padding=(1,))\n",
       "    (fc): Linear(in_features=32, out_features=64, bias=True)\n",
       "    (bn1): BatchNorm1d(32, eps=1e-05, momentum=0.1, affine=True, track_running_stats=True)\n",
       "    (bn3): BatchNorm1d(64, eps=1e-05, momentum=0.1, affine=True, track_running_stats=True)\n",
       "  )\n",
       "  (gcnn2): GCNN(\n",
       "    (gnn): GATv2Conv(128, 16, heads=4)\n",
       "    (conv): Conv1d(128, 64, kernel_size=(3,), stride=(1,), padding=(1,))\n",
       "    (fc): Linear(in_features=64, out_features=128, bias=True)\n",
       "    (bn1): BatchNorm1d(64, eps=1e-05, momentum=0.1, affine=True, track_running_stats=True)\n",
       "    (bn3): BatchNorm1d(128, eps=1e-05, momentum=0.1, affine=True, track_running_stats=True)\n",
       "  )\n",
       "  (graph_generator): GenGraph(\n",
       "    (virtual_node_embeddings): Embedding(0, 64)\n",
       "  )\n",
       "  (fc0): Linear(in_features=64, out_features=128, bias=True)\n",
       "  (fc1): Linear(in_features=128, out_features=2048, bias=True)\n",
       "  (fc2): Linear(in_features=4096, out_features=32, bias=True)\n",
       "  (dropout): Dropout(p=0.2, inplace=False)\n",
       "  (fc_out): Linear(in_features=32, out_features=4, bias=True)\n",
       ")"
      ]
     },
     "execution_count": 50,
     "metadata": {},
     "output_type": "execute_result"
    }
   ],
   "source": [
    "torch_model"
   ]
  },
  {
   "cell_type": "code",
   "execution_count": null,
   "metadata": {},
   "outputs": [],
   "source": [
    "# for d in dropouts:\n",
    "#     for wd in weight_decays:\n",
    "#         for lr in lrs:\n",
    "#             train_model(50, d, wd, lr)"
   ]
  }
 ],
 "metadata": {
  "kernelspec": {
   "display_name": "Python 3",
   "language": "python",
   "name": "python3"
  },
  "language_info": {
   "codemirror_mode": {
    "name": "ipython",
    "version": 3
   },
   "file_extension": ".py",
   "mimetype": "text/x-python",
   "name": "python",
   "nbconvert_exporter": "python",
   "pygments_lexer": "ipython3",
   "version": "3.11.7"
  }
 },
 "nbformat": 4,
 "nbformat_minor": 2
}
