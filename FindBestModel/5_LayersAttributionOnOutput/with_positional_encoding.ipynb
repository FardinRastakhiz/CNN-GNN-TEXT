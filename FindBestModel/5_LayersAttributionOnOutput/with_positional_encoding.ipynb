{
 "cells": [
  {
   "cell_type": "code",
   "execution_count": 1,
   "metadata": {},
   "outputs": [],
   "source": [
    "import torch\n",
    "import torch.nn.functional as F\n",
    "import numpy as np\n",
    "import pandas as pd\n",
    "from torch.utils.data import Dataset\n",
    "from nltk.tokenize import TweetTokenizer\n",
    "import time\n",
    "from torch_scatter import scatter_max, scatter_mean, scatter_std\n",
    "from sklearn.model_selection import KFold\n",
    "import torchmetrics\n",
    "import lightning as L\n",
    "from torch_geometric.data import Batch, Data\n",
    "from tqdm import tqdm\n",
    "import spacy\n",
    "import string\n",
    "import os\n",
    "import re\n",
    "import math\n",
    "from torch import nn\n",
    "from torch.utils.flop_counter import FlopCounterMode\n",
    "from transformers import AutoModel, DebertaV2Tokenizer, AutoTokenizer\n",
    "import matplotlib.pyplot as plt"
   ]
  },
  {
   "cell_type": "code",
   "execution_count": 2,
   "metadata": {},
   "outputs": [
    {
     "name": "stderr",
     "output_type": "stream",
     "text": [
      "c:\\Users\\fardin\\AppData\\Local\\Programs\\Python\\Python311\\Lib\\site-packages\\transformers\\convert_slow_tokenizer.py:561: UserWarning: The sentencepiece tokenizer that you are converting to a fast tokenizer uses the byte fallback option which is not implemented in the fast tokenizers. In practice this means that the fast version of the tokenizer can produce unknown tokens whereas the sentencepiece version would have converted these unknown tokens into a sequence of byte tokens matching the original piece of text.\n",
      "  warnings.warn(\n"
     ]
    }
   ],
   "source": [
    "tokenizer = AutoTokenizer.from_pretrained(\"microsoft/deberta-v3-large\")\n",
    "model = AutoModel.from_pretrained(\"microsoft/deberta-v3-large\")"
   ]
  },
  {
   "cell_type": "code",
   "execution_count": 3,
   "metadata": {},
   "outputs": [],
   "source": [
    "id_vocab = {v:k for k,v in tokenizer.vocab.items()}\n",
    "all_vocab_indices = list(id_vocab.keys())"
   ]
  },
  {
   "cell_type": "code",
   "execution_count": 4,
   "metadata": {},
   "outputs": [],
   "source": [
    "\n",
    "# all_vocab_str = []\n",
    "# vector_keys = list(nlp.vocab.vectors.keys())\n",
    "# for i in range(len(vector_keys)):\n",
    "#     try:\n",
    "#         t = nlp.vocab.strings[vector_keys[i]]\n",
    "#         all_vocab_str.append(t)\n",
    "#     except:\n",
    "#         continue"
   ]
  },
  {
   "cell_type": "code",
   "execution_count": 5,
   "metadata": {},
   "outputs": [],
   "source": [
    "import string\n",
    "# Create a set of all English characters, numbers, and punctuation\n",
    "allowed_chars = string.ascii_letters + string.digits + string.punctuation\n",
    "all_chars = set(allowed_chars)"
   ]
  },
  {
   "cell_type": "code",
   "execution_count": 6,
   "metadata": {},
   "outputs": [],
   "source": [
    "with open(r'Data\\ReducedEmbeddings\\deberta_larg_reduced_embeddings_64.npy', 'rb') as f:\n",
    "    embeddings = np.load(f)\n",
    "embeddings = torch.from_numpy(embeddings)\n",
    "all_vocab_str = []\n",
    "for i in range(len(id_vocab)):\n",
    "    all_vocab_str.append(id_vocab[i])\n",
    "    \n",
    "# embeddings = (embeddings - torch.min(embeddings)) / (torch.max(embeddings)-torch.min(embeddings))\n",
    "token_vocab_dict = dict(zip(all_vocab_str, embeddings))\n",
    "# del all_vocab_str\n",
    "# del all_vocab_doc"
   ]
  },
  {
   "cell_type": "code",
   "execution_count": 7,
   "metadata": {},
   "outputs": [
    {
     "data": {
      "text/plain": [
       "128001"
      ]
     },
     "execution_count": 7,
     "metadata": {},
     "output_type": "execute_result"
    }
   ],
   "source": [
    "with open(r'Data\\ReducedEmbeddings\\polarity_debertav3_tokens_gpt_mini_emb.npy', 'rb') as f:\n",
    "    polarities_subjectivities= np.load(f)\n",
    "polarities_subjectivities = torch.from_numpy(polarities_subjectivities)\n",
    "polarity_vocab_dict = dict(zip(all_vocab_str, polarities_subjectivities))\n",
    "polarity_vocab_dict['<n>'] = torch.tensor([0.0, 0.0])\n",
    "len(token_vocab_dict)"
   ]
  },
  {
   "cell_type": "code",
   "execution_count": 8,
   "metadata": {},
   "outputs": [
    {
     "data": {
      "text/plain": [
       "torch.Size([128001, 2])"
      ]
     },
     "execution_count": 8,
     "metadata": {},
     "output_type": "execute_result"
    }
   ],
   "source": [
    "polarities_subjectivities.shape"
   ]
  },
  {
   "cell_type": "code",
   "execution_count": 9,
   "metadata": {},
   "outputs": [
    {
     "name": "stdout",
     "output_type": "stream",
     "text": [
      "1085 tensor([0.7000, 0.6000], dtype=torch.float64)\n"
     ]
    }
   ],
   "source": [
    "for i in range(len(all_vocab_str)):\n",
    "    if 'nice' in all_vocab_str[i]:\n",
    "        print(i, polarities_subjectivities[i])\n",
    "        break"
   ]
  },
  {
   "cell_type": "code",
   "execution_count": 10,
   "metadata": {},
   "outputs": [],
   "source": [
    "import string\n",
    "# Create a set of all English characters, numbers, and punctuation\n",
    "allowed_chars = string.ascii_letters + string.digits + string.punctuation + ' \\t'\n",
    "all_chars = set(allowed_chars)"
   ]
  },
  {
   "cell_type": "code",
   "execution_count": 11,
   "metadata": {},
   "outputs": [
    {
     "data": {
      "text/plain": [
       "device(type='cuda')"
      ]
     },
     "execution_count": 11,
     "metadata": {},
     "output_type": "execute_result"
    }
   ],
   "source": [
    "device = torch.device(\"cuda\" if torch.cuda.is_available() else \"cpu\")\n",
    "batch_size = 224\n",
    "folder_path = r'C:\\Users\\fardin\\Projects\\CGNet\\Data\\TextClassification\\IMDB'\n",
    "# t_tokenizer = TweetTokenizer()\n",
    "device"
   ]
  },
  {
   "cell_type": "code",
   "execution_count": 12,
   "metadata": {},
   "outputs": [
    {
     "data": {
      "text/plain": [
       "(50000, 2)"
      ]
     },
     "execution_count": 12,
     "metadata": {},
     "output_type": "execute_result"
    }
   ],
   "source": [
    "keep_ratio = 1.0\n",
    "test_df = pd.read_csv(r'data\\TextClassification\\IMDB\\test.csv')\n",
    "test_df['Topic'] = test_df['label']\n",
    "# test_df['Content'] = [test_df.text[i].values[0] + \" \\n \" + test_df.text[i].values[1] for i in range(len(test_df))]\n",
    "test_df['Content'] = test_df['text']\n",
    "# test_df['Content'] = test_df['Content']\n",
    "test_df.drop(['label', 'text'], axis=1, inplace=True)\n",
    "test_df.dropna(inplace=True)\n",
    "test_df = test_df.sample(frac=1).reset_index(drop=True)\n",
    "test_df = test_df.iloc[:int(keep_ratio*test_df.shape[0])]\n",
    "train_df = pd.read_csv(r'data\\TextClassification\\IMDB\\train.csv')\n",
    "train_df['Topic'] = train_df['label']\n",
    "# train_df['Content'] = [train_df.text[i].values[0] + \" \\n \" + train_df.text[i].values[1] for i in range(len(train_df))]\n",
    "train_df['Content'] = train_df['text']\n",
    "train_df.drop(['label', 'text'], axis=1, inplace=True)\n",
    "train_df.dropna(inplace=True)\n",
    "# train_df = train_df.sample(frac=1).reset_index(drop=True)\n",
    "# train_df = train_df.iloc[:int(keep_ratio*train_df.shape[0])]\n",
    "sst_classes = [\"Negative\", \"Positive\"]\n",
    "df = pd.DataFrame(np.concatenate([train_df.values, test_df.values]), columns=train_df.columns)\n",
    "df.shape"
   ]
  },
  {
   "cell_type": "code",
   "execution_count": 13,
   "metadata": {},
   "outputs": [
    {
     "name": "stdout",
     "output_type": "stream",
     "text": [
      "13704\n",
      "CPU times: total: 1.05 s\n",
      "Wall time: 1.18 s\n"
     ]
    }
   ],
   "source": [
    "%%time\n",
    "doc_lengths = np.array([len(df.Content[i]) for i in df.index])\n",
    "print(np.max(doc_lengths))"
   ]
  },
  {
   "cell_type": "code",
   "execution_count": 14,
   "metadata": {},
   "outputs": [],
   "source": [
    "# class_list = df.Topic.unique()\n",
    "class_id = {c:i for i, c in enumerate(sst_classes)}\n",
    "id_class = {i:c for i, c in enumerate(sst_classes)}"
   ]
  },
  {
   "cell_type": "code",
   "execution_count": 15,
   "metadata": {},
   "outputs": [
    {
     "name": "stdout",
     "output_type": "stream",
     "text": [
      "CPU times: total: 1min 28s\n",
      "Wall time: 1min 31s\n"
     ]
    },
    {
     "data": {
      "text/plain": [
       "197"
      ]
     },
     "execution_count": 15,
     "metadata": {},
     "output_type": "execute_result"
    }
   ],
   "source": []
  },
  {
   "cell_type": "code",
   "execution_count": null,
   "metadata": {},
   "outputs": [],
   "source": [
    "# vocab_dict = {c:i for i, c in enumerate(allowed_chars)}\n",
    "# if '\\x01' not in vocab_dict:\n",
    "#     vocab_dict['\\x01'] = len(vocab_dict)\n",
    "# char_Set = set(vocab_dict.keys())\n",
    "# len(char_Set)"
   ]
  },
  {
   "cell_type": "code",
   "execution_count": 23,
   "metadata": {},
   "outputs": [
    {
     "name": "stdout",
     "output_type": "stream",
     "text": [
      "13704\n"
     ]
    },
    {
     "data": {
      "image/png": "[encoded data removed]",
      "text/plain": [
       "<Figure size 640x480 with 1 Axes>"
      ]
     },
     "metadata": {},
     "output_type": "display_data"
    }
   ],
   "source": [
    "# Create a histogram\n",
    "plt.hist(doc_lengths, bins='auto', edgecolor='black')\n",
    "plt.xlim([0,14000])\n",
    "# Add labels and title\n",
    "plt.xlabel('String Lengths in Character')\n",
    "plt.ylabel('Frequency')\n",
    "plt.title('Distribution of String Lengths')\n",
    "print(doc_lengths.max())\n",
    "# Show the chart\n",
    "plt.show()"
   ]
  },
  {
   "cell_type": "code",
   "execution_count": 17,
   "metadata": {},
   "outputs": [
    {
     "name": "stdout",
     "output_type": "stream",
     "text": [
      "CPU times: total: 1min 25s\n",
      "Wall time: 1min 26s\n"
     ]
    }
   ],
   "source": [
    "%%time\n",
    "doc_token_lengths = np.array([len(tokenizer.tokenize(df.Content[i])) for i in df.index])"
   ]
  },
  {
   "cell_type": "code",
   "execution_count": 21,
   "metadata": {},
   "outputs": [
    {
     "name": "stdout",
     "output_type": "stream",
     "text": [
      "3088\n"
     ]
    },
    {
     "data": {
      "image/png": "[encoded data removed]",
      "text/plain": [
       "<Figure size 640x480 with 1 Axes>"
      ]
     },
     "metadata": {},
     "output_type": "display_data"
    }
   ],
   "source": [
    "# Create a histogram\n",
    "plt.hist(doc_token_lengths, bins='auto', edgecolor='black')\n",
    "plt.xlim([0,2000])\n",
    "# Add labels and title\n",
    "plt.xlabel('String Lengths in Tokens')\n",
    "plt.ylabel('Frequency')\n",
    "plt.title('Distribution of String Lengths')\n",
    "print(doc_token_lengths.max())\n",
    "# Show the chart\n",
    "plt.show()"
   ]
  },
  {
   "cell_type": "code",
   "execution_count": 42,
   "metadata": {},
   "outputs": [
    {
     "name": "stdout",
     "output_type": "stream",
     "text": [
      "CPU times: total: 1min 24s\n",
      "Wall time: 1min 25s\n"
     ]
    }
   ],
   "source": [
    "%%time\n",
    "char_set = set()\n",
    "for doc in df.Content.values:\n",
    "    char_set.update(set(' '.join(tokenizer.tokenize(doc))))\n",
    "    char_set.update(set(doc))\n",
    "len(char_set)\n",
    "\n",
    "allowed_chars = string.ascii_letters + string.digits + string.punctuation + ' '\n",
    "all_chars = set(''.join(char_set).join(allowed_chars))\n",
    "vocab_dict = {c:i for i, c in enumerate(all_chars)}\n",
    "if '\\x01' not in vocab_dict:\n",
    "    vocab_dict['\\x01'] = len(vocab_dict)\n",
    "char_Set = set(vocab_dict.keys())\n",
    "num_embedding = len(vocab_dict)\n",
    "vocab_dict_rev = dict(zip(list(vocab_dict.values()), list(vocab_dict.keys())))"
   ]
  },
  {
   "cell_type": "code",
   "execution_count": 44,
   "metadata": {},
   "outputs": [],
   "source": [
    "class CharacterandTokenLevelCustomDataset(Dataset):\n",
    "    \n",
    "    def __init__(self, X, y, num_classes, char_dict, token_dict, sentiment_dict, tokenizer, shuffle=True, batch_size=128) -> None:\n",
    "        super().__init__()\n",
    "        # y = y[indices].values\n",
    "        # y = torch.from_numpy(np.array([class_id[c] for c in y], dtype=np.longlong))\n",
    "        \n",
    "        # print(f'self.num_sections1: {len(y) // batch_size}')\n",
    "        \n",
    "        if len(y) % batch_size != 0:\n",
    "            self.shortage = ((len(y) // batch_size)+1)*batch_size - len(y)\n",
    "            empty_labels = [i%2 for i in range(self.shortage)]\n",
    "            empty_strings = [id_class[l] for l in empty_labels]\n",
    "            \n",
    "            # print(f'y1 - {y.shape}: {y}')\n",
    "            y = np.concatenate([y, empty_labels])\n",
    "            # print(f'y2 - {y.shape}: {y}')\n",
    "            # print(f'X1 - {X.shape}: {X}')\n",
    "            X = np.concatenate([X, empty_strings])\n",
    "        #     print(f'X2 - {X.shape}: {X}')\n",
    "        \n",
    "        # print(f'self.num_sections2: {len(y) // batch_size}')\n",
    "        \n",
    "        y = torch.from_numpy(y)\n",
    "        self.shuffle = shuffle\n",
    "        self.y = torch.nn.functional.one_hot(y, num_classes=num_classes).float()\n",
    "        self.X = X\n",
    "        self.char_dict = char_dict\n",
    "        self.char_Set = set(char_dict.keys())\n",
    "        self.vocab_size = len(self.char_dict)\n",
    "        self.tokenizer = tokenizer\n",
    "        self.token_dict = token_dict\n",
    "        self.sentiment_dict = sentiment_dict\n",
    "        self.max_token_count = 0\n",
    "        \n",
    "        \n",
    "        \n",
    "        self.all_data = []\n",
    "        self.token_lengths = []\n",
    "        self.token_embeddign_ids = []\n",
    "        \n",
    "        self.sum_a = 0\n",
    "        \n",
    "        for doc in tqdm(self.X):\n",
    "            # tokens = self.tokenizer(''.join(c for c in doc if c in self.char_Set))\n",
    "            # tokens = [t.text for t in tokens]\n",
    "            tokens = self.tokenizer(doc)\n",
    "            if len(tokens) == 0:\n",
    "                tokens = ['empty']\n",
    "                            \n",
    "            token_lengths = [len(t) for t in tokens]\n",
    "            tokens.append('\\x01')\n",
    "            \n",
    "            token_lengths.append(len(tokens[-1])-1)\n",
    "            token_lengths = torch.from_numpy(np.array(token_lengths, dtype=np.longlong))+1\n",
    "            token_embs = [self.token_dict[t] if t in self.token_dict else torch.zeros((64, ), dtype=torch.float32) for t in tokens]\n",
    "            token_sentiments = [self.sentiment_dict[t] if t in self.sentiment_dict else (0.0, 0.0) for t in tokens]\n",
    "            token_embs = torch.from_numpy(np.array(token_embs, dtype=np.float32))\n",
    "            token_sentiments = torch.from_numpy(np.array(token_sentiments, dtype=np.float32))\n",
    "            doc = ' '.join(tokens)\n",
    "            characters = torch.from_numpy(np.array([self.char_dict[t] for t in doc], dtype=np.longlong))\n",
    "            token_positions = torch.arange(len(token_lengths), dtype=torch.long)\n",
    "            token_indices = torch.repeat_interleave(token_positions, token_lengths)\n",
    "            num_tokens = len(token_lengths)\n",
    "            if num_tokens > self.max_token_count:\n",
    "                self.max_token_count = num_tokens\n",
    "            g_data = Data(x=characters,\n",
    "                            token_positions=token_positions,\n",
    "                            character_length = len(characters),\n",
    "                            num_tokens = num_tokens,\n",
    "                            token_indices=token_indices,\n",
    "                            token_lengths=token_lengths,\n",
    "                            token_embeddings=token_embs,\n",
    "                            token_sentiments=token_sentiments)\n",
    "            self.all_data.append(g_data)\n",
    "        \n",
    "        \n",
    "        self.num_sections = len(y) // batch_size\n",
    "        self.x_lengths = np.array([self.all_data[i].character_length for i in range(len(self.all_data))])\n",
    "        self.x_len_args = np.argsort(self.x_lengths)[::-1]\n",
    "        \n",
    "        self.section_ranges = np.linspace(0, len(self.x_len_args), self.num_sections+1)\n",
    "        self.section_ranges = [(int(self.section_ranges[i-1]), int(self.section_ranges[i])) for i in range(1, len(self.section_ranges))]\n",
    "\n",
    "        self.position_j = 0\n",
    "        self.section_i = 0\n",
    "        self.epoch = 0\n",
    "        self.each_section_i = np.zeros((self.num_sections, ), dtype=int)\n",
    "        \n",
    "        self.sections, self.section_size = self.split_into_k_groups(self.x_len_args, self.x_lengths, self.num_sections)\n",
    "        \n",
    "    def __getitem__(self, index):\n",
    "        index = self.get_section_index()\n",
    "        return self.all_data[index], self.y[index]\n",
    "        \n",
    "    def __len__(self):\n",
    "        return len(self.y)\n",
    "    \n",
    "    def get_section_index(self):\n",
    "        # if self.shuffle:\n",
    "            \n",
    "        #     t_range = self.section_ranges[self.section_i]\n",
    "        #     target_index = np.random.randint(t_range[0], t_range[1])\n",
    "        # else:\n",
    "        #     t_range = self.section_ranges[self.section_i]\n",
    "        #     target_index = t_range[0] + self.each_section_i[self.section_i]\n",
    "        #     self.each_section_i[self.section_i] = (self.each_section_i[self.section_i] + 1) % (t_range[1] - t_range[0])\n",
    "        # print()\n",
    "        # print(f'self.section_i: {self.section_i},   self.position_j: {self.position_j}')\n",
    "        target_index = self.sections[self.section_i, self.position_j]\n",
    "        \n",
    "        self.position_j = (self.position_j + 1) % self.section_size\n",
    "        if self.position_j == 0:\n",
    "            self.section_i = (self.section_i + 1) % self.num_sections\n",
    "            if self.shuffle and self.section_i == 0:\n",
    "                self.sections, self.section_size = self.split_into_k_groups(self.x_len_args, self.x_lengths, self.num_sections)\n",
    "                # random_positions = np.random.choice(np.arange(0, self.section_size), size=self.section_size, replace=False)\n",
    "        # return self.x_len_args[target_index]\n",
    "        return target_index\n",
    "\n",
    "    def reset_params(self):\n",
    "        self.section_i = 0\n",
    "        self.position_j = 0\n",
    "        self.each_section_i = np.zeros((self.num_sections, ), dtype=int)\n",
    "        \n",
    "    def split_into_k_groups(self, len_sorted_args, lengths:np.array, k):\n",
    "        if self.shuffle and self.epoch > 0:\n",
    "            randomize_sections = np.concatenate([np.random.choice(np.arange(r[0], r[1]), size=r[1]-r[0], replace=False) for r in self.section_ranges])\n",
    "            len_sorted_args = len_sorted_args[randomize_sections]\n",
    "        \n",
    "        nums = lengths[len_sorted_args]\n",
    "        groups_size = len(len_sorted_args) // k\n",
    "        \n",
    "        \n",
    "        groups = [[] for _ in range(k)]\n",
    "        group_sums = np.zeros(k, dtype=int)\n",
    "        group_sizes = np.zeros(k, dtype=int)\n",
    "        \n",
    "        # print(f'groups_size: {groups_size}')\n",
    "        # print(f'len(len_sorted_args): {len(len_sorted_args)}')\n",
    "        # print(f'k: {k}')\n",
    "        for i, num in enumerate(nums):\n",
    "            candidate_indices = np.where(group_sizes<groups_size)[0]\n",
    "            # print(f'candidate_indices: {candidate_indices}')\n",
    "            min_group_idx = candidate_indices[np.argmin(group_sums[candidate_indices])]\n",
    "            groups[min_group_idx].append(len_sorted_args[i])\n",
    "            group_sums[min_group_idx] += num\n",
    "            group_sizes[min_group_idx] += 1\n",
    "        self.epoch += 1\n",
    "        \n",
    "        groups = np.array(groups)\n",
    "        group_sums_argsort = np.argsort(group_sums)[::-1]\n",
    "        groups = groups[group_sums_argsort]\n",
    "        \n",
    "        # check_x = self.X[groups]\n",
    "        # check_x_lens = [np.sum(np.array([len(sx) for sx in rx])) for rx in check_x]\n",
    "        # print(f'check_x: {check_x}')\n",
    "        \n",
    "        \n",
    "        return np.array(groups), groups_size\n",
    "        "
   ]
  },
  {
   "cell_type": "code",
   "execution_count": 45,
   "metadata": {},
   "outputs": [],
   "source": [
    "from typing import List\n",
    "import torch\n",
    "from torch_geometric.loader import DataLoader\n",
    "\n",
    "class CharacterandTokenLevelDataLoader(DataLoader):\n",
    "    def __init__(\n",
    "        self,\n",
    "        dataset,\n",
    "        batch_size: int = 1,\n",
    "        shuffle: bool = False,\n",
    "        follow_batch: List[str] | None = None,\n",
    "        exclude_keys: List[str] | None = None,\n",
    "        **kwargs,\n",
    "    ):\n",
    "        super(CharacterandTokenLevelDataLoader, self).__init__(\n",
    "            dataset, batch_size, shuffle, follow_batch, exclude_keys, **kwargs\n",
    "        )\n",
    "\n",
    "    def __iter__(self):\n",
    "        base_iterator = super(CharacterandTokenLevelDataLoader, self).__iter__()\n",
    "        for batch in base_iterator:\n",
    "            cumsum_vals = torch.cumsum(batch[0].num_tokens, dim=0).roll(1)\n",
    "            cumsum_vals[0] = 0\n",
    "            additions = torch.repeat_interleave(cumsum_vals, batch[0].character_length)\n",
    "            batch[0].cumulative_token_indices = batch[0].token_indices + additions\n",
    "            yield batch\n"
   ]
  },
  {
   "cell_type": "code",
   "execution_count": 46,
   "metadata": {},
   "outputs": [],
   "source": [
    "tokens = tokenizer.tokenize(df.Content.values[0])"
   ]
  },
  {
   "cell_type": "code",
   "execution_count": 47,
   "metadata": {},
   "outputs": [
    {
     "name": "stderr",
     "output_type": "stream",
     "text": [
      "100%|██████████| 25088/25088 [05:59<00:00, 69.86it/s]\n",
      "100%|██████████| 25088/25088 [05:43<00:00, 72.95it/s]\n"
     ]
    },
    {
     "name": "stdout",
     "output_type": "stream",
     "text": [
      "CPU times: total: 45min 45s\n",
      "Wall time: 11min 44s\n"
     ]
    }
   ],
   "source": [
    "%%time\n",
    "train_dataset = CharacterandTokenLevelCustomDataset(train_df.Content.values, train_df.Topic.values, len(class_id), vocab_dict, token_vocab_dict, polarity_vocab_dict, tokenizer.tokenize, batch_size=batch_size)\n",
    "test_dataset = CharacterandTokenLevelCustomDataset(test_df.Content.values, test_df.Topic.values, len(class_id), vocab_dict, token_vocab_dict, polarity_vocab_dict, tokenizer.tokenize, batch_size=batch_size)\n",
    "max_token_count = max(train_dataset.max_token_count, test_dataset.max_token_count)\n",
    "train_dataloader = CharacterandTokenLevelDataLoader(train_dataset, batch_size=batch_size, drop_last=False, shuffle=True)\n",
    "test_dataloader = CharacterandTokenLevelDataLoader(test_dataset, batch_size=batch_size, drop_last=False, shuffle=False)"
   ]
  },
  {
   "cell_type": "code",
   "execution_count": 48,
   "metadata": {},
   "outputs": [
    {
     "data": {
      "text/plain": [
       "(Data(x=[12420], token_positions=[2098], character_length=12420, num_tokens=2098, token_indices=[12420], token_lengths=[2098], token_embeddings=[2098, 64], token_sentiments=[2098, 2]),\n",
       " tensor([0., 1.]))"
      ]
     },
     "execution_count": 48,
     "metadata": {},
     "output_type": "execute_result"
    }
   ],
   "source": [
    "train_dataset[0]"
   ]
  },
  {
   "cell_type": "code",
   "execution_count": 50,
   "metadata": {},
   "outputs": [
    {
     "name": "stdout",
     "output_type": "stream",
     "text": [
      "2987\n",
      "3089\n"
     ]
    }
   ],
   "source": [
    "train_lengths = np.array([train_dataset[i][0].num_tokens for i in range(len(train_dataset))])\n",
    "test_lengths = np.array([test_dataset[i][0].num_tokens for i in range(len(test_dataset))])\n",
    "print(np.max(train_lengths))\n",
    "print(np.max(test_lengths))"
   ]
  },
  {
   "cell_type": "code",
   "execution_count": 49,
   "metadata": {},
   "outputs": [],
   "source": [
    "X, y = next(iter(test_dataloader))"
   ]
  },
  {
   "cell_type": "code",
   "execution_count": 51,
   "metadata": {},
   "outputs": [
    {
     "data": {
      "text/plain": [
       "(Data(x=[6991], token_positions=[1258], character_length=6991, num_tokens=1258, token_indices=[6991], token_lengths=[1258], token_embeddings=[1258, 64], token_sentiments=[1258, 2]),\n",
       " tensor([1., 0.]))"
      ]
     },
     "execution_count": 51,
     "metadata": {},
     "output_type": "execute_result"
    }
   ],
   "source": [
    "test_dataset[0]"
   ]
  },
  {
   "cell_type": "code",
   "execution_count": 53,
   "metadata": {},
   "outputs": [
    {
     "data": {
      "text/plain": [
       "Topic                                                      0\n",
       "Content    So I finally saw the film \"My Left Foot\" last ...\n",
       "Name: 19745, dtype: object"
      ]
     },
     "execution_count": 53,
     "metadata": {},
     "output_type": "execute_result"
    }
   ],
   "source": [
    "df.iloc[np.argwhere(['hardy' in c and 'obscure' in c for c in  df.Content.values]).squeeze()]"
   ]
  },
  {
   "cell_type": "code",
   "execution_count": 54,
   "metadata": {},
   "outputs": [
    {
     "name": "stdout",
     "output_type": "stream",
     "text": [
      "0 ▁For ▁their ▁credit , ▁this ▁is ▁one ▁of ▁their ▁more ▁competent ▁pieces ▁of ▁trash , ▁and ▁that ' s ▁because ▁there ' s ▁considerably ▁good ▁go re , ▁and ▁an ▁interesting ▁take ▁on ▁ripping ▁off ▁\" Snake s ▁on ▁a ▁Plane . \" ▁But , ▁if ▁there ' s ▁any ▁more ▁of ▁example ▁of ▁the ▁inconsistency ▁behind ▁Asylum ' s ▁newest ▁rip - off ▁it ' s ▁the ▁two ▁characters ▁at ▁the ▁beginning ▁whom ▁are ▁illegal ▁immigrants ▁and ▁can ' t ▁understand ▁nor ▁speak ▁English ▁to ▁a ▁Texas ▁man ▁sneaking ▁them ▁across ▁the ▁border , ▁yet ▁when ▁they ▁get ▁on ▁a ▁train ▁and ▁meet ▁a ▁friend , ▁they ▁begin ▁understanding ▁and ▁speaking ▁perfect ▁English . < br ▁/ > < br ▁/ > A side ▁from ▁being ▁a ▁pretty ▁bad ▁depiction ▁of ▁a ▁Hollywood ▁formula , ▁\" Snake s ▁on ▁a ▁Train \" ▁is ▁utterly ▁boring . ▁At ▁least , ▁with ▁\" Snake s ▁on ▁a ▁Plane \" ▁we ▁were ▁given ▁the ▁chance ▁to ▁watch ▁actors ▁wax ▁comedic ▁and ▁attempt ▁to ▁be ▁remotely ▁interesting . ▁The ▁Mall achi ▁Brothers ▁installment ▁features ▁some ▁of ▁the ▁most ▁boring ▁characters ▁I ' ve ▁ever ▁seen , ▁from ▁an ▁electrical ▁engineer ▁( gee , ▁I ▁wonder ▁how ▁he ▁comes ▁in ▁handy ▁later ▁on ) , ▁to ▁some ▁stoner ▁surfers , ▁right ▁down ▁to ▁our ▁two ▁main ▁characters ▁attempting ▁to ▁fight ▁off ▁the ▁snake ▁curse ▁that ▁lurks ▁in ▁the ▁husband ' s ▁wife . < br ▁/ > < br ▁/ > \" Snake s \" ▁is ▁never ▁entertaining , ▁and ▁even ▁when ▁it ' s ▁very ▁gory , ▁it ' s ▁still ▁never ▁as ▁good ▁as ▁it ▁has ▁the ▁chance ▁to ▁be , ▁because ▁\" Snake s \" ▁could ▁have ▁been ▁a ▁funny ▁short ▁film , ▁and ▁instead ▁just ▁takes ▁itself ▁much ▁too ▁seriously , ▁and ▁never ▁camps ▁it ▁up ▁at ▁any ▁moment . ▁Instead ▁of ▁taking ▁their ▁small ▁budget ▁and ▁making ▁original ▁films ▁that ▁can ▁set ▁a ▁precedent , ▁they ▁instead ▁force ▁their ▁small ▁budget ▁to ▁work ▁against ▁them ▁in ▁these ▁knock ▁off s . ▁While ▁the ▁Mall achi ▁brothers ▁seem ▁to ▁be ▁trying , ▁the ▁train ▁just ▁looks ▁incredibly ▁artificial . < br ▁/ > < br ▁/ > It ▁seems ▁almost ▁like ▁a ▁stage ▁play ▁with ▁these ▁inconsistent ▁and ▁awfully ▁bland ▁set ▁pieces ▁that ▁try ▁desperately ▁to ▁look ▁like ▁actual ▁train ▁cars , ▁while ▁every ▁so ▁often ▁it ▁shakes , ▁the ▁background ▁of ▁the ▁windows ▁are ▁blurred , ▁and ▁the ▁sound ▁effects ▁go ▁off ▁every ▁now ▁and ▁then ▁to ▁let ▁us ▁know ▁they ' re ▁actually ▁on ▁a ▁train ; ▁not ▁to ▁mention ▁that ▁in ▁such ▁a ▁large ▁extended ▁train ▁there ▁only ▁seems ▁to ▁be ▁about ▁ten ▁passengers ▁on ▁it . ▁And ▁beyond ▁the ▁train ▁fight , ▁and ▁a ▁drawn ▁out ▁sex ▁scene , ▁we ' re ▁forced ▁to ▁be ▁subjected ▁to ▁a ▁plot ▁that ▁makes ▁zero ▁sense . ▁And ▁not ▁even ▁the ▁directors ▁can ▁work ▁around ▁the ▁fact ▁that ▁the ▁\" lethal \" ▁snakes ▁that ▁go ▁on ▁this ▁train ▁look ▁far ▁from ▁venomous ▁or ▁dangerous . < br ▁/ > < br ▁/ > The ▁rest ▁of ▁the ▁film ▁stagger s ▁onto ▁only ▁about ▁a ▁minute ▁of ▁snake ▁carnage ▁and ▁a ▁bad ▁subplot ▁of ▁an ▁ex ▁drug ▁agent ▁trying ▁to ▁molest ▁a ▁passenger . ▁All ▁of ▁this ▁dull ▁exposition ▁ends ▁with ▁a ▁really ▁ridiculous ▁climax ▁in ▁which ▁a ▁poorly ▁computer ▁generated ▁snake ▁( I ▁saw ▁better ▁animation ▁on ▁the ▁Super ▁Nintendo ) ▁completely ▁swallows ▁the ▁train ▁whole , ▁and ▁is ▁then ▁dispensed ▁in ▁a ▁method ▁that ▁should ▁have ▁been ▁exercised ▁from ▁the ▁very ▁beginning . ▁Asylum ▁scores ▁again . < br ▁/ > < br ▁/ > As y lum ▁scores ▁yet ▁again ▁with ▁a ▁hackneyed , ▁lazy , ▁horribly ▁directed , ▁and ▁boring ▁rip - off ▁of ▁another ▁better ▁film . ▁\" Snake s ▁on ▁a ▁Train \" ▁takes ▁itself ▁way ▁too ▁seriously , ▁and ▁that ' s ▁why ▁it ' s ▁never ▁entertaining ▁or ▁memorable . \u0001\n",
      "1 ▁Some ▁said ▁that ▁this ▁was ▁a ▁nose ▁candy ▁glorification ▁flick , ▁but ▁short ▁of ▁the ▁original ▁Dr . ▁Hyde ' s ▁concoction , ▁no ▁drug ▁has ▁yet ▁been ▁developed ▁that ▁can ▁provide ▁THIS ▁effect . ▁If ▁Viagra ▁was ▁the ▁slime ▁mold ▁stage , ▁that ▁white ▁sparkling ▁powder ▁is ▁the ▁Stephen ▁Hawking ▁evolutionary ▁rung ▁( or ▁at ▁least ▁the ▁pharmacist ▁idiot ▁savant ▁branch ) . ▁This ▁reality ▁show ▁is ▁really ▁about ▁the ▁sacred ▁cows ▁of ▁medicine , ▁seen ▁as ▁was ▁the ▁emperor ▁without ▁clothes . ▁Few ▁of ▁us ▁want ▁to ▁question ▁the ▁health ▁field ; ▁both ▁because ▁most ▁of ▁us ▁would ▁not ▁have ▁lived ▁to ▁our ▁current ▁age ▁had ▁we ▁been ▁born ▁before ▁\" modern ▁medicine \" , ▁and ▁because ▁our ▁subconscious ▁hopes ▁that ▁we ▁will ▁continue ▁to ▁live ▁on ▁if ▁we ▁have ▁faith ▁in ▁the ▁helping ▁professions . ▁So ▁the ▁geniuses ▁who ▁produced ▁this ▁movie ▁made ▁jokes ▁out ▁of ▁those ▁Calcutta ▁Bess y ' s , ▁giving ▁us ▁the ▁sugar ▁that ▁allows ▁us ▁to ▁swallow ▁the ▁modern ▁institution ▁of ▁medicine . ▁The ▁timing ▁was ▁right , ▁and ▁many ▁were ▁able ▁to ▁see ▁the ▁business ▁side ▁of ▁the ▁healing ▁companies ▁behind ▁the ▁curtain ▁of ▁Oz . ▁A ▁decade ▁before , ▁when ▁George ▁C . ▁Scott ▁rant ed ▁through ▁the ▁movie ▁The ▁Hospital , ▁my ▁wife ▁and ▁I ▁were ▁sitting ▁in ▁the ▁packed ▁premiere ▁in ▁Oklahoma ▁City . ▁Just ▁as ▁in ▁Jekyll ▁& ▁Hyde ' s ▁remake , ▁we ▁were ▁almost ▁unable ▁to ▁keep ▁from ▁falling ▁out ▁of ▁our ▁seat , ▁and ▁laughed ▁and ▁how led ▁uncontrollably ▁for ▁the ▁duration . ▁The ▁hundreds ▁of ▁other ▁audience ▁members ▁were ▁deadly ▁silent . ▁They ▁were ▁shocked ▁that ▁doctors , ▁nurses , ▁& ▁the ▁hospital ▁institution ▁were ▁being ▁mocked . ▁It ▁was ▁as ▁if ▁the ▁Pope , ▁Billy ▁Graham , ▁and ▁Gandhi ▁were ▁were ▁sitting ▁in ▁the ▁Animal ▁House , ▁beer ▁stained ▁tee ▁shirts ▁and ▁all , ▁competing ▁to ▁see ▁who ▁could ▁tell ▁the ▁funniest ▁God ▁knock - knock ▁jokes ▁between ▁be l ches . ▁Had ▁The ▁Hospital ▁been ▁a ▁slapstick ▁comedy ▁rather ▁than ▁a ▁satire , ▁they ▁might ▁have ▁been ▁able ▁to ▁see ▁what ▁was ▁being ▁shown ▁to ▁them . ▁Unfortunately ▁they ▁were ▁like ▁Republicans ▁at ▁a ▁screening ▁of ▁Michael ▁Moore ' s ▁9 / 11 . ▁Perhaps ▁smaller ▁golden ▁parachute s ▁would ▁have ▁been ▁given ▁to ▁the ▁corrupt ▁medical ▁corporation ▁leaders , ▁health ▁insurance ▁companies ▁would ▁have ▁had ▁a ▁tougher ▁time ▁denying ▁medical ▁care , ▁and ▁health ▁providers ▁would ▁have ▁been ▁de my st ified ▁earlier , ▁if ▁George ▁C . ▁Scott ▁had ▁tap ▁danced ▁in ▁a ▁tutu ▁while ▁delivering ▁his ▁terrible ▁truths . ▁But - - forget ▁everything ▁I ▁just ▁said . ▁Watch ▁the ▁movie , ▁be ▁consciously ▁made ▁as ▁happy ▁and ▁joyful ▁and ▁full ▁of ▁laughter ▁as ▁the ▁best ▁ever ▁Saturday ▁Night ▁Live ▁skit , ▁and ▁let ▁the ▁subconscious ▁soak ▁in ▁the ▁documentary ▁of ▁the ▁underlying ▁reality . ▁Just ▁don ' t ▁blame ▁me ▁when ▁\" Got ▁to ▁Got ▁to ▁Got ▁to ▁Got ▁to \" ▁becomes ▁one ▁of ▁your ▁saying s , ▁or ▁when ▁\" H yde ' s ▁Got ▁Nothing ▁to ▁Hide \" ▁occupies ▁that ▁portion ▁of ▁your ▁brain ▁now ▁paralyzed ▁by ▁\" It s ▁a ▁Small ▁World ▁After ▁All \" . ▁Or ▁when ▁you ▁start ▁calling ▁your ▁local ▁hospital ▁Our ▁Lady ▁of ▁Pain ▁and ▁Suffering ▁instead ▁of ▁Our ▁Lady ▁of ▁Eternal ▁Construction . ▁Even ▁Oklahoma ns ▁were ▁changing ▁their ▁favorite ▁terrible ▁boss ▁wishbone ▁winner ▁entreat y ▁from ▁\" Pi s s ▁on ▁him ▁and ▁leave ▁him ▁for ▁dead \" , ▁to ▁\" Body ▁in ▁a ▁pit , ▁you ▁in ▁it . . . . . \" ▁The ▁smell ▁of ▁death . . . it ' s ▁gone ! ▁Chicken ▁sushi ! ▁Mary . ▁MARY . ▁MARY E EEE EEE EEE EEE ! \u0001\n",
      "1 ▁When ▁I ▁watched ▁this ▁movie ▁when ▁I ▁was ▁a ▁kid ▁I ▁didn ' t ▁understand ▁the ▁premise ▁of ▁Hitchcock ▁movies , ▁and ▁dark ▁comedy . ▁Now ▁that ▁I ' m ▁in ▁my ▁mid ▁20 ' s ▁it ▁makes ▁a ▁lot ▁more ▁sense . < br ▁/ > < br ▁/ > I ▁think ▁the ▁reason ▁I ▁like ▁this ▁movie ▁so ▁much ▁is ▁that ▁the ▁comedy ▁duo ▁of ▁Billy ▁Crystal ▁and ▁Danny ▁DeVito ▁make ▁for ▁some ▁interesting ▁comedy , ▁both ▁slapstick ▁( the ▁frying ▁pan ▁and ▁car ▁scenes ) ▁and ▁verbal ▁( the ▁arguments / conversation s ▁over ▁murder ▁and ▁writing ) . < br ▁/ > < br ▁/ > The ▁story ▁revolves ▁around ▁Larry ▁Donner ( Crystal ) , ▁a ▁struggling ▁writer ▁who ▁has ▁his ▁masterpiece ▁stolen ▁from ▁him ▁by ▁his ▁wife ▁Margaret ▁( played ▁by ▁a ▁surprisingly ▁radiant ▁Kate ▁Mul grew , ▁aka ▁Capt . ▁Janeway ▁from ▁Star ▁Trek : ▁Voyager ) . < br ▁/ > < br ▁/ > While ▁he ▁shifts ▁between ▁writer ' s ▁block ▁and ▁teaching ▁creative ▁writing ▁class , ▁he ▁meets ▁with ▁student ▁Owen ▁Lift s ( De Vi to ) , ▁an ▁aspiring ▁writer ▁and ▁overgrown ▁mama ' s ▁boy ▁who ▁sadly ▁still ▁acts ▁like ▁a ▁kid . ▁He ▁has ▁toy ▁train ▁tracks , ▁need ▁I ▁say ▁more ? ▁Think ▁of ▁Failure ▁to ▁Launch , ▁only ▁Matt ▁McConaughey ▁is ▁short , ▁fat , ▁and ▁bald . < br ▁/ > < br ▁/ > Owen ▁is ▁stuck ▁in ▁his ▁own ▁life , ▁with ▁a ▁demanding ▁evil ▁mother ( Anne ▁Ramsey ) ▁who ▁he ▁can ' t ▁stand . ▁He ▁seeks ▁Larry ' s ▁advice ▁on ▁how ▁to ▁get ▁out ▁of ▁it , ▁and ▁when ▁he ▁says ▁to ▁go ▁see ▁a ▁Hitchcock ▁film ▁Owen ▁gets ▁the ▁wrong ▁idea ▁that ▁if ▁he ▁kills ▁Larry ' s ▁wife , ▁he ' ll ▁return ▁the ▁favor ▁and ▁kill ▁his ▁mom ▁for ▁him . ▁Hil arity ▁ensues ▁while ▁the ▁two ▁try ▁to ▁deal ▁with ▁each ▁other ' s ▁problem . ▁Owen ▁goes ▁to ▁extremes ▁to ▁kill ▁Margaret ▁while ▁Larry , ▁who ▁refuses ▁to ▁agree ▁to ▁do ▁his ▁\" part ▁of ▁the ▁plan \" , ▁is ▁driven ▁nuts ▁by ▁Owen ' s ▁mother . < br ▁/ > < br ▁/ > Throughout ▁the ▁film , ▁Larry ▁and ▁Owen ▁slowly ▁but ▁surely ▁form ▁a ▁bond ▁of ▁friendship ▁that ▁is ▁rare ▁in ▁dark ▁comedy ▁nowadays . ▁One ▁part ▁of ▁the ▁movie ▁I ▁really ▁loved ▁was ▁where ▁Owen ▁shows ▁Larry ▁his ▁coin ▁collection , ▁and ▁lets ▁just ▁say ▁its ▁more ▁a ▁sentimental ▁collection ▁than ▁anything . < br ▁/ > < br ▁/ > The ▁two ▁main ▁stars ▁aside , ▁the ▁late ▁Anne ▁Ramsey ▁is ▁hilarious ▁as ▁Mama , ▁and ▁deadly ▁with ▁that ▁can e ▁of ▁her s . ▁She ' s ▁a ▁lot ▁more ▁comedic ▁verbally ▁and ▁physically ▁in ▁this ▁as ▁opposed ▁to ▁her ▁role ▁as ▁Mama ▁Frat elli ▁from ▁The ▁Goon ies . ▁So ▁she ▁curses ▁like ▁a ▁sailor ▁and ▁belittle s ▁her ▁son ▁at ▁every ▁turn , ▁but ▁that s ▁what ▁makes ▁her ▁character ▁so ▁vivid . ▁She ▁makes ▁her ▁character ▁the ▁kind ▁of ▁person ▁you ▁love ▁to ▁hate . < br ▁/ > < br ▁/ > Another ▁treat ▁in ▁this ▁movie ▁is ▁the ▁music ▁of ▁jazz ▁great ▁Brand ford ▁Marsalis , ▁who ▁plays ▁Larry ' s ▁neighbor ▁and ▁friend ▁Lester . ▁There ▁is ▁a ▁great ▁moment ▁in ▁the ▁movie ▁where ▁he ▁plays ▁jazz ▁for ▁Larry , ▁who ▁is ▁depressed ▁and ▁needs ▁some ▁good ▁tunes ▁to ▁relieve ▁the ▁pain . ▁Jazz ▁can ▁do ▁that . < br ▁/ > < br ▁/ > In ▁closing , ▁I ▁wish ▁Billy ▁Crystal ▁and ▁Danny ▁DeVito ▁would ▁do ▁another ▁good ▁movie ▁together , ▁but ▁their ▁kinda ▁getting ▁too ▁old ▁for ▁the ▁game ▁I ' m ▁sad ▁to ▁say . ▁This ▁is ▁one ▁of ▁those ▁rare ▁movies ▁where ▁both ▁stars ▁shine ▁in ▁their ▁own ▁subtle ▁ways . ▁DeVito ' s ▁childish ▁comedy ▁and ▁Crystal ' s ▁sharp ▁wit ▁made ▁this ▁movie ▁for ▁me . ▁5 ▁star ▁comedy . \u0001\n",
      "0 ▁There ▁are ▁certain ▁horror ▁directors ▁for ▁whom ▁I ' ve ▁built ▁up ▁so ▁much ▁respect ▁& ▁admiration ▁over ▁the ▁years , ▁that ▁they ▁can ' t ▁possibly ▁disappoint ▁me ▁know ▁matter ▁what ▁garbage ▁to ▁decide ▁to ▁put ▁on ▁film . ▁Lucio ▁Ful ci ▁is ▁surely ▁one ▁of ▁them , ▁but ▁damned , ▁he ' s ▁trying ▁to ▁disappoint ▁me ▁with ▁his ▁later ▁efforts ! ▁You ▁can ▁easily ▁afford ▁yourself ▁to ▁skip ▁most ▁of ▁the ▁films ▁Ful ci ▁directed ▁or ▁produced ▁during ▁the ▁late ▁80 ' s ▁and ▁simply ▁watch ▁\" Cat ▁in ▁the ▁Brain \" ▁instead , ▁because ▁that ▁one ▁title ▁gathers ▁and ▁repeats ▁the ▁best ▁and ▁absolute ▁go ries t ▁footage ▁of ▁no ▁less ▁than ▁SEVEN ▁other ▁Ful ci - flick s , ▁including ▁the ▁sick est ▁murders ▁sequences ▁featuring ▁in ▁\" When ▁Alice ▁Broke ▁the ▁Mirror \" . ▁As ▁a ▁whole , ▁this ▁movie ▁definitely ▁ranks ▁among ▁our ▁director ' s ▁weakest ▁and ▁most ▁pointless ▁achievements . ▁The ▁script ▁is ▁incoherent ▁as ▁hell , ▁the ▁basic ▁premise ▁is ▁totally ▁implausible ▁and ▁somewhat ▁stupid ▁and ▁there ' s ▁absolutely ▁no ▁suspense ▁to ▁enjoy . ▁I ▁love ▁the ▁title , ▁but ▁it ' s ▁actually ▁quite ▁meaningless . ▁There ▁is ▁a ▁character ▁named ▁Alice ▁in ▁the ▁story , ▁but ▁it ' s ▁only ▁a ▁supportive ▁role ▁and ▁she ▁certainly ▁doesn ' t ▁break ▁any ▁mirrors . ▁I ▁suppose ▁she ▁could ▁break ▁stuff ▁simply ▁using ▁her ▁voice , ▁as ▁she ' s ▁an ▁opera ▁singer , ▁but ▁she ▁doesn ' t . ▁The ▁plot ▁revolves ▁on ▁a ▁middle - aged ▁and ▁gambling - addicted ▁play boy ▁who ▁spends ▁his ▁days ▁seducing ▁wealthy ▁widows ▁and ▁killing ▁them ▁for ▁their ▁money . ▁Lester ▁Parson ▁butchers ▁the ▁ladies ▁( as ▁well ▁as ▁unwelcome ▁witnesses ) ▁in ▁gruesome ▁ways , ▁makes ▁steaks ▁out ▁of ▁their ▁ju ic iest ▁body ▁parts ▁and ▁feeds ▁the ▁remainder s ▁to ▁his ▁cat . ▁There ' s ▁also ▁a ▁silly ▁psychological ▁sub ▁plot ▁in ▁which ▁he ▁thinks ▁his ▁own ▁shadow ▁is ▁responsible ▁for ▁the ▁murders ▁instead ▁of ▁him . ▁The ▁difference ▁between ▁\" When ▁Alice ▁Broke ▁the ▁Mirror \" ▁and ▁some ▁of ▁Ful ci ' s ▁greatest ▁horror ▁films ▁( \" The ▁Beyond \" , ▁\" City ▁of ▁the ▁Living ▁Dead \" , ▁  \" ) ▁lies ▁in ▁the ▁fact ▁that ▁he ▁totally ▁doesn ' t ▁bother ▁to ▁create ▁a ▁horrific ▁atmosphere . ▁The ▁characters , ▁Lester ▁included , ▁are ▁colorless ▁and ▁boring ▁and ▁the ▁murders ▁are ▁ordinarily ▁depicted ; ▁like ▁it ' s ▁the ▁most ▁common ▁thing ▁in ▁the ▁world ▁to ▁put ▁a ▁woman ' s ▁head ▁in ▁a ▁microwave ▁or ▁repeatedly ▁run ▁back ▁and ▁forth ▁over ▁a ▁human ▁body ▁with ▁a ▁car . ▁The ▁lighting ▁is ▁poor , ▁the ▁cinematography ▁super - ugly , ▁the ▁editing ▁clumsy ▁and ▁amateurish ▁and ▁the ▁acting ▁performances ▁are ▁downright ▁miserable . ▁If ▁I ▁didn ' t ▁know ▁any ▁better , ▁I ▁would ▁think ▁Lucio ▁deliberately ▁made ▁a ▁lousy ▁film ▁in ▁order ▁to ▁protest ▁against ▁all ▁the ▁harsh ▁critics ▁that ▁dislike ▁his ▁repertoire ▁no ▁matter ▁how ▁much ▁spirit ▁and ▁effort ▁he ▁put ▁into ▁it . ▁The ▁obvious ▁element ▁to ▁enjoy ▁here ▁is ▁simply ▁the ▁outrageous ▁go re ▁& ▁bloodshed , ▁because ▁even ▁the ▁attempt ▁to ▁blend ▁in ▁black ▁comedy ▁doesn ' t ▁work ▁properly . ▁As ▁long ▁as ▁Lester ▁swings ▁around ▁his ▁chainsaw ▁and ▁cuts ▁off ▁women ' s ▁feet , ▁\" When ▁Alice ▁Broke ▁the ▁Mirror \" ▁is ▁an ▁un demand ing ▁piece ▁of ▁horror ▁entertainment , ▁but ▁other ▁than ▁that , ▁there ' s ▁isn ' t ▁a ▁whole ▁lot ▁to ▁recommend . \u0001\n",
      "1 ▁This ▁indie ▁film ▁is ▁worth ▁a ▁look ▁because ▁of ▁the ▁enormous ▁talent ▁of ▁its ▁creators , ▁Wallace ▁W olo dar sky ▁and ▁Marsha ▁Forbes . ▁Mr . ▁W olo dar sky ▁has ▁directed ▁the ▁young ▁cast , ▁and ▁he ▁is ▁to ▁be ▁praised ▁for ▁this ▁effort . < br ▁/ > < br ▁/ > The ▁premise ▁of ▁the ▁film ▁is ▁a ▁cautionary ▁tale ▁of ▁the ▁danger ▁for ▁wanting ▁something ▁one ▁can ' t ▁have . ▁Which ▁is ▁the ▁story ▁of ▁Alice ▁and ▁Ed . ▁After ▁living ▁together ▁for ▁a ▁while , ▁Alice ▁suddenly ▁gets ▁restless ▁because ▁she ▁imagine s ▁she ' s ▁lacking ▁experience ▁in ▁the ▁sex ▁area . ▁Alice ▁and ▁Ed ' s ▁relationship , ▁while ▁not ▁an ▁example ▁of ▁ideal ▁happiness , ▁is ▁a ▁comfortable ▁way ▁to ▁share ▁their ▁lives ▁with ▁one ▁another . ▁That ▁is , ▁until ▁the ▁moment ▁Alice ▁and ▁Claire , ▁her ▁sister , ▁happened ▁to ▁bump ▁into ▁a ▁sexual ▁encounter ▁by ▁another ▁couple ▁that ▁has ▁no ▁clue ▁of ▁being ▁observed . < br ▁/ > < br ▁/ > This ▁incident ▁makes ▁Alice ▁reevaluate ▁her ▁own ▁sexual ▁life ▁with ▁Ed ; ▁she ▁finds ▁it ▁lacks ▁substance . ▁When ▁she ▁proposes ▁' seeing ▁other ▁people ' , ▁Ed ▁is ▁shocked , ▁to ▁put ▁it ▁mildly , ▁but ▁not ▁wanting ▁to ▁contradict ▁Alice , ▁he ▁decides ▁to ▁go ▁along . ▁What ▁happens ▁next ▁is ▁that ▁both ▁Alice ▁and ▁Ed ▁enter ▁into ▁a ▁world ▁that ' s ▁been ▁unknown ▁to ▁them . ▁The ▁people ▁they ▁meet , ▁in ▁the ▁end , ▁are ▁not ▁worth ▁the ▁trouble . ▁They ▁sadly ▁realize ▁at ▁the ▁end , ▁they ▁were ▁made ▁for ▁each ▁other . < br ▁/ > < br ▁/ > The ▁film ▁is ▁worth ▁watching ▁in ▁order ▁to ▁see ▁the ▁amazing ▁Julianne ▁Nicholson , ▁who ▁we ▁happen ▁to ▁have ▁liked ▁in ▁another ▁indie ▁film , ▁\" T ully \" . ▁Ms . ▁Nicholson ▁reminds ▁us ▁of ▁a ▁young ▁Shirley ▁McLa ine ; ▁she ▁projects ▁such ▁a ▁luminous ▁quality ▁about ▁her , ▁that ▁is ▁hard ▁to ▁take ▁one ' s ▁eyes ▁from ▁her ▁whenever ▁she ▁is ▁in ▁a ▁scene . ▁This ▁young ▁actress ▁proves ▁she ▁is ▁an ▁accomplished ▁performer ▁who ▁gets ▁better ▁with ▁each ▁new ▁appearance . ▁Basically , ▁she ▁carries ▁the ▁movie . ▁Her ▁Alice ▁is ▁a ▁study ▁in ▁contrasts . ▁Alice ▁is ▁a ▁decent ▁woman ▁who ▁thinks ▁she ▁is ▁inadequate ▁in ▁pleasing ▁Ed ▁because ▁of ▁her ▁inexperience . < br ▁/ > < br ▁/ > Jay ▁Mohr , ▁is ▁an ▁excellent ▁match ▁for ▁Ms . ▁Nicholson . ▁Both ▁do ▁wonders ▁together . ▁His ▁Ed ▁is ▁perfectly ▁credible . ▁We ▁have ▁known ▁people ▁like ▁him . ▁Deep ▁down ▁inside , ▁he ▁is ▁a ▁good ▁person , ▁who ▁suddenly ▁gets ▁himself ▁in ▁a ▁situation ▁he ▁didn ' t ▁call ▁for , ▁yet , ▁he ▁goes ▁along ▁only ▁to ▁discover ▁he ▁is ▁too ▁decent ▁and ▁not ▁cut ▁out ▁for ▁a ▁life ▁of ▁gratuitous ▁sex ▁with ▁the ▁willing ▁women ▁that ▁have ▁no ▁problem ▁with ▁a ▁tumble ▁in ▁the ▁hay , ▁just ▁for ▁fun . < br ▁/ > < br ▁/ > The ▁rest ▁of ▁the ▁cast ▁is ▁wonderful . ▁Lauren ▁Graham ▁does ▁some ▁amazing ▁work ▁as ▁Claire , ▁Alice ' s ▁yuppie ▁sister . ▁Andy ▁Rit cher ▁is ▁also ▁wonderful ▁as ▁the ▁grounded ▁Carl , ▁the ▁nerdy ▁friend ▁who ▁finally ▁finds ▁out ▁fulfillment ▁when ▁he ▁meets ▁Penelope , ▁a ▁single ▁mother . ▁As ▁Penelope , ▁Helen ▁Slater , ▁makes ▁a ▁felici tous , ▁albeit ▁of ▁a ▁short , ▁appearance ▁in ▁the ▁film . < br ▁/ > < br ▁/ > The ▁director ▁is ▁enormously ▁gifted , ▁who ▁will ▁no ▁doubt ▁go ▁places ▁because ▁he ▁shows ▁he ▁is ▁well ▁suited ▁for ▁the ▁job . \u0001\n"
     ]
    }
   ],
   "source": [
    "for i in range(15,20):\n",
    "    char_ids = X[i].x\n",
    "    text_for_ids = ''.join([vocab_dict_rev[ci.item()] for ci in char_ids])\n",
    "    print(torch.argmax(y[i]).item(), text_for_ids)"
   ]
  },
  {
   "cell_type": "code",
   "execution_count": 55,
   "metadata": {},
   "outputs": [],
   "source": [
    "sample_rand = torch.randn((64, 1024))"
   ]
  },
  {
   "cell_type": "code",
   "execution_count": 56,
   "metadata": {},
   "outputs": [
    {
     "data": {
      "text/plain": [
       "tensor(1.0044)"
      ]
     },
     "execution_count": 56,
     "metadata": {},
     "output_type": "execute_result"
    }
   ],
   "source": [
    "sample_rand.var(unbiased=True)"
   ]
  },
  {
   "cell_type": "code",
   "execution_count": 57,
   "metadata": {},
   "outputs": [
    {
     "data": {
      "text/plain": [
       "DataBatch(x=[355358], token_positions=[66080], character_length=[224], num_tokens=[224], token_indices=[355358], token_lengths=[66080], token_embeddings=[66080, 64], token_sentiments=[66080, 2], batch=[355358], ptr=[225], cumulative_token_indices=[355358])"
      ]
     },
     "execution_count": 57,
     "metadata": {},
     "output_type": "execute_result"
    }
   ],
   "source": [
    "X"
   ]
  },
  {
   "cell_type": "code",
   "execution_count": 58,
   "metadata": {},
   "outputs": [],
   "source": [
    "train_tensor = torch.randn((len(X.token_positions), 32))"
   ]
  },
  {
   "cell_type": "code",
   "execution_count": 59,
   "metadata": {},
   "outputs": [
    {
     "data": {
      "text/plain": [
       "torch.Size([66080])"
      ]
     },
     "execution_count": 59,
     "metadata": {},
     "output_type": "execute_result"
    }
   ],
   "source": [
    "torch.repeat_interleave(torch.arange(len(X.num_tokens)), X.num_tokens).shape"
   ]
  },
  {
   "cell_type": "code",
   "execution_count": 60,
   "metadata": {},
   "outputs": [
    {
     "data": {
      "text/plain": [
       "tensor([ 0,  1,  2,  ..., 27, 28, 29])"
      ]
     },
     "execution_count": 60,
     "metadata": {},
     "output_type": "execute_result"
    }
   ],
   "source": [
    "X.token_positions"
   ]
  },
  {
   "cell_type": "code",
   "execution_count": 61,
   "metadata": {},
   "outputs": [
    {
     "data": {
      "text/plain": [
       "tensor([[-1.0709, -0.2983,  0.2832,  ...,  0.5918,  0.8283,  2.0296],\n",
       "        [ 1.1111,  1.2459,  1.4224,  ...,  1.8944, -0.4097,  0.4660],\n",
       "        [ 0.0923,  0.0040,  0.6422,  ...,  0.5246,  1.2957,  2.0529],\n",
       "        ...,\n",
       "        [-0.5893,  0.3900, -0.6723,  ...,  0.3900, -1.2879, -0.2733],\n",
       "        [-1.2590, -0.5400,  0.7138,  ...,  0.4161,  0.6023, -0.2398],\n",
       "        [-0.8433, -0.7905,  1.6584,  ..., -0.1454, -0.2498,  1.3088]])"
      ]
     },
     "execution_count": 61,
     "metadata": {},
     "output_type": "execute_result"
    }
   ],
   "source": [
    "train_tensor"
   ]
  },
  {
   "cell_type": "code",
   "execution_count": 69,
   "metadata": {},
   "outputs": [],
   "source": [
    "from torch_geometric.nn import GATv2Conv, SimpleConv\n",
    "\n",
    "# Normalization on each feature of all tokens, for this we used batch norm class but with tokens at batch dimention\n",
    "class GCNN(nn.Module):\n",
    "    def __init__(self, hidden_dim, *args, **kwargs):\n",
    "        super(GCNN, self).__init__(*args, **kwargs)\n",
    "        self.gnn = GATv2Conv(hidden_dim, hidden_dim//8, heads=4, add_self_loops=False)\n",
    "        self.conv = nn.Conv1d(hidden_dim, hidden_dim//2, kernel_size=3, padding=1)\n",
    "        self.fc = nn.Linear(hidden_dim//2, hidden_dim)\n",
    "        self.bn1 = nn.BatchNorm1d(hidden_dim//2)\n",
    "        \n",
    "    def forward(self, x, edge_data, return_attention_weights = False):\n",
    "        x1, edge_weights = self.gnn(x, edge_data, return_attention_weights=return_attention_weights) \n",
    "        x2 = F.relu(self.conv(x.T).T)\n",
    "        x1 = F.leaky_relu_(self.bn1(x1))\n",
    "        x = torch.cat([x1, x2], dim=1)\n",
    "        return x, edge_weights"
   ]
  },
  {
   "cell_type": "code",
   "execution_count": 71,
   "metadata": {},
   "outputs": [],
   "source": [
    "# from copy import copy, deepcopy\n",
    "# gcnn_model = GCNN(64)\n",
    "# flopt_counter = FlopCounterMode(gcnn_model)\n",
    "# X.edge_index = torch.randint(0, len(X.token_positions), size=(2,200))\n",
    "# with flopt_counter:\n",
    "#     x_input = deepcopy(torch.randn((len(X.token_positions), 64)))\n",
    "#     edge_data = deepcopy(X.edge_index)\n",
    "#     gcnn_model(x_input, edge_data)"
   ]
  },
  {
   "cell_type": "code",
   "execution_count": 72,
   "metadata": {},
   "outputs": [],
   "source": [
    "import networkx as nx\n",
    "from torch_geometric.utils import to_networkx, to_undirected\n",
    "\n",
    "class GenGraph(nn.Module):\n",
    "    \n",
    "    def __init__(self, hidden_dim, virtual_nodes, lattice_step, lattice_pattern=None, *args, **kwargs):\n",
    "        super(GenGraph, self).__init__(*args, **kwargs)\n",
    "        self.hidden_dim = hidden_dim\n",
    "        self.virtual_nodes = virtual_nodes\n",
    "        self.lattice_step = lattice_step\n",
    "        self.lp = lattice_pattern if lattice_pattern is None else torch.tensor(lattice_pattern)\n",
    "        self.virtual_node_embeddings = nn.Embedding(self.virtual_nodes, hidden_dim)\n",
    "        \n",
    "    def gen_graph(self, x, total_token_coutns, token_counts, random_edges, lattice_edges, lattice_start_distance=2, seed=-1):\n",
    "        random_links, lattice_links, tc_range = self.calculate_graph(x, total_token_coutns, token_counts, random_edges, lattice_edges, lattice_start_distance, seed)\n",
    "        v_n_e_counts = total_token_coutns*self.virtual_nodes\n",
    "        base_numel = random_links.numel() + lattice_links.numel()*2\n",
    "        edge_index = torch.empty((2, base_numel + v_n_e_counts*2), dtype=torch.int64, device=x.device)\n",
    "        self.fill_lattice_and_random_edges(edge_index, random_links, lattice_links, tc_range)\n",
    "            \n",
    "        if self.virtual_nodes > 0:\n",
    "            virtual_nodes_range = torch.arange(self.virtual_nodes, device=x.device).view(1, -1)\n",
    "            virtual_nodes_ids = torch.repeat_interleave(virtual_nodes_range, len(token_counts), dim=0)\n",
    "            v_n_idx = (virtual_nodes_ids + torch.arange(0, len(token_counts)*self.virtual_nodes, self.virtual_nodes, device=x.device).view(-1, 1) + total_token_coutns )\n",
    "            virtual_edge_ids = torch.repeat_interleave(v_n_idx.view(-1), token_counts.view(-1, 1).expand(len(token_counts), self.virtual_nodes).reshape(-1), dim=0).view(1, -1)\n",
    "            \n",
    "            embs = self.virtual_node_embeddings(virtual_nodes_ids.T).view(-1, self.hidden_dim)\n",
    "            x_extended = torch.cat([x, embs], dim=0)\n",
    "            x_index = torch.arange(total_token_coutns, device=x.device).repeat(self.virtual_nodes).view(1, -1)\n",
    "            edge_index[:, base_numel:base_numel+v_n_e_counts] = torch.cat([x_index, virtual_edge_ids], dim=0)\n",
    "            edge_index[:, base_numel+v_n_e_counts:] = torch.cat([virtual_edge_ids, x_index], dim=0)\n",
    "            x = x_extended\n",
    "        \n",
    "        return Batch.from_data_list([Data(x=x, edge_index=edge_index)])\n",
    "        \n",
    "    def re_gen_graph(self, x, edge_index, total_token_coutns, token_counts, random_edges, lattice_edges, lattice_start_distance=2, seed=-1):\n",
    "        random_links, lattice_links, tc_range = self.calculate_graph(x, total_token_coutns, token_counts, random_edges, lattice_edges, lattice_start_distance, seed)\n",
    "        base_numel = random_links.numel() + lattice_links.numel()*2\n",
    "        \n",
    "        self.fill_lattice_and_random_edges(edge_index, random_links, lattice_links, tc_range)\n",
    "        # for i in range(base.shape[1]):\n",
    "        #     edge_index[:, i*base.shape[0]:(i+1)*base.shape[0]] = torch.cat([tc_range, base[:,i].view(1,-1)], dim=0)\n",
    "            \n",
    "        return Batch.from_data_list([Data(x=x, edge_index=edge_index)])\n",
    "    \n",
    "    def replace_unimportant_edges(self, edge_weights, x, edge_index, total_token_coutns, token_counts, random_edges, lattice_edges, p_keep=1, lattice_start_distance=2, seed=-1):\n",
    "        v_n_e_counts = total_token_coutns*self.virtual_nodes\n",
    "        if v_n_e_counts>0:\n",
    "            important_indices = torch.topk(edge_weights[:-2*v_n_e_counts].view(-1, total_token_coutns), p_keep, dim=0).indices\n",
    "        else:\n",
    "            important_indices = torch.topk(edge_weights.view(-1, total_token_coutns), p_keep, dim=0).indices\n",
    "        # important_indices = torch.topk(edge_weights[:-1*total_token_coutns].view(-1, total_token_coutns), 1, dim=0).indices.squeeze()\n",
    "\n",
    "        important_indices = torch.arange(total_token_coutns, dtype=torch.int64, device=x.device) + important_indices*total_token_coutns\n",
    "        important_indices = important_indices.view(-1)\n",
    "        random_links, lattice_links, tc_range = self.calculate_graph(x, total_token_coutns, token_counts, random_edges, lattice_edges, lattice_start_distance, seed)\n",
    "        base_numel = random_links.numel() + lattice_links.numel()*2\n",
    "        \n",
    "        new_edge_index = torch.empty((2, base_numel + important_indices.shape[0] + 2*v_n_e_counts), dtype=torch.int64, device=x.device)\n",
    "        self.fill_lattice_and_random_edges(new_edge_index, random_links, lattice_links, tc_range)\n",
    "        new_edge_index[:, base_numel:base_numel+important_indices.shape[0]] = edge_index[:, important_indices]\n",
    "        if(self.virtual_nodes>0):\n",
    "            new_edge_index[:, -2*v_n_e_counts:] = edge_index[:, -2*v_n_e_counts:]\n",
    "            \n",
    "        # for i in range(base.shape[1]):\n",
    "        #     new_edge_index[:, i*base.shape[0]:(i+1)*base.shape[0]] = torch.cat([tc_range, base[:,i].view(1,-1)], dim=0)\n",
    "        \n",
    "        return Batch.from_data_list([Data(x=x, edge_index=new_edge_index)])\n",
    "         \n",
    "    def calculate_graph(self, x, total_token_counts, token_counts, random_edges, lattice_edges, lattice_start_distance, seed=-1):\n",
    "        if seed>-1:\n",
    "            torch.manual_seed(seed)\n",
    "        tc_extended = torch.repeat_interleave(token_counts, token_counts, dim=0).view(-1,1)\n",
    "        tc_lower_bound = torch.empty((len(token_counts)+1), dtype=torch.long, device=x.device) #torch.cuda.IntTensor(len(token_counts)+1) #\n",
    "        tc_lower_bound[0] = 0\n",
    "        tc_lower_bound[1:] = torch.cumsum(token_counts, dim=0)\n",
    "        tc_lower_bound_extended = torch.repeat_interleave(tc_lower_bound[:-1], token_counts, dim=0).view(-1,1)\n",
    "        tc_range = torch.arange(tc_lower_bound[-1], device=x.device).view(-1,1)\n",
    "        # torch.arange(tc_lower_bound[-1], dtype=torch.int32, device=x.device).view(-1,1)\n",
    "        random_ints = torch.randint(0, 2*total_token_counts, (total_token_counts, random_edges), device=x.device) # torch.cuda.IntTensor(len(token_lengths), random_edges).random_()\n",
    "        lattice = self.lp.to(x.device) if self.lp is not None else torch.arange(lattice_start_distance, max(lattice_start_distance, self.lattice_step*lattice_edges+1), self.lattice_step, device=x.device).view(1, -1)\n",
    "        \n",
    "\n",
    "        # exponentials = torch.pow(2, torch.arange(1, self.exp_edges+1, device=x.device)).view(1, -1)\n",
    "        tc_local_range = tc_range - tc_lower_bound_extended\n",
    "        random_links = (((random_ints % (tc_extended - 1))+1 + tc_local_range) % tc_extended)+tc_lower_bound_extended\n",
    "        lattice_links = ((lattice + tc_local_range) % tc_extended)+tc_lower_bound_extended\n",
    "        # base = torch.cat([base1, base2], dim=1)\n",
    "        tc_range = tc_range.view(1,-1)\n",
    "        return random_links, lattice_links, tc_range\n",
    "    \n",
    "    def fill_lattice_and_random_edges(self, edge_index, random_links, lattice_links, tc_range):\n",
    "        for i in range(0, lattice_links.shape[1]*2, 2):\n",
    "            edge_index[:, i*lattice_links.shape[0]:(i+1)*lattice_links.shape[0]] = torch.cat([lattice_links[:,i//2].view(1,-1), tc_range], dim=0)\n",
    "            edge_index[:, (i+1)*lattice_links.shape[0]:(i+2)*lattice_links.shape[0]] = edge_index[:, i*lattice_links.shape[0]:(i+1)*lattice_links.shape[0]][[1, 0]]\n",
    "            \n",
    "        for i in range(random_links.shape[1]):\n",
    "            j = i + lattice_links.shape[1]*2\n",
    "            edge_index[:, j*random_links.shape[0]:(j+1)*random_links.shape[0]] = torch.cat([random_links[:,i].view(1,-1), tc_range], dim=0)"
   ]
  },
  {
   "cell_type": "code",
   "execution_count": 73,
   "metadata": {},
   "outputs": [],
   "source": [
    "class Sentiment_Injection(nn.Module):\n",
    "    \n",
    "    def __init__(self, hidden_dim, *args, **kwargs) -> None:\n",
    "        super().__init__(*args, **kwargs)        \n",
    "        self.conv1 = nn.Conv1d(2, hidden_dim, kernel_size=3, padding=1)\n",
    "        self.conv2 = nn.Conv1d(hidden_dim*2, hidden_dim, kernel_size=3, padding=1)\n",
    "        self.bn1 = nn.BatchNorm1d(hidden_dim)\n",
    "        \n",
    "    def forward(self, x, token_sentiments):\n",
    "        x1 = F.relu_(self.bn1(self.conv1(token_sentiments.T).T))\n",
    "        x = F.relu_(self.conv2(torch.cat([x, x1], dim=1).T))\n",
    "        # x = x + x1\n",
    "        return x.T"
   ]
  },
  {
   "cell_type": "code",
   "execution_count": 74,
   "metadata": {},
   "outputs": [],
   "source": [
    "# sentiment1  = Sentiment_Injection(64)\n",
    "# sentiment1(torch.ones((41047, 64)), torch.ones((41047, 2))).shape"
   ]
  },
  {
   "cell_type": "code",
   "execution_count": null,
   "metadata": {},
   "outputs": [],
   "source": [
    "# from torch_geometric.nn import GATv2Conv, SimpleConv, summary\n",
    "\n",
    "# class CNN_for_Text(nn.Module):\n",
    "    \n",
    "#     def __init__(self, num_embedding, pos_emb_size=8192, embedding_dim=64, hidden_dim=64, dropout=0.3, num_out_features=4, seed=-1, random_edges=4, lattice_edges=10, virtual_nodes=1, lattice_step=2, lattice_start_distance=2, inject_embedding_dim=64, use_positional_encoder=[False, False, False], *args, **kwargs) -> None:\n",
    "#         super(CNN_for_Text, self).__init__(*args, **kwargs)\n",
    "#         self.pos_emb_size = pos_emb_size\n",
    "#         self.embedding_dim = embedding_dim\n",
    "#         self.hidden_dim = hidden_dim\n",
    "#         self.virtual_nodes = virtual_nodes\n",
    "#         self.base_random_edges = random_edges\n",
    "#         self.base_lattice_edges = lattice_edges\n",
    "#         self.lattice_start_distance = lattice_start_distance\n",
    "#         # self.use_token_polarity = use_token_polarity\n",
    "#         self.use_positional_encoder = use_positional_encoder\n",
    "#         if seed>-1:\n",
    "#             torch.manual_seed(seed)\n",
    " \n",
    "#         self.embedding = nn.Embedding(num_embedding, embedding_dim)\n",
    "        \n",
    "#         self.dropout = nn.Dropout(p=dropout)\n",
    "        \n",
    "#         self.positional_encoding = nn.Embedding(pos_emb_size, embedding_dim)\n",
    "#         self.positional_encoding.weight = self.create_positional_encoding()\n",
    "\n",
    "#         self.conv1 = nn.Conv1d(embedding_dim, hidden_dim, kernel_size=5, padding=2)\n",
    "#         self.pool1 = nn.MaxPool1d(2)\n",
    "#         self.conv2 = nn.Conv1d(hidden_dim, hidden_dim, kernel_size=5, padding=2)\n",
    "        \n",
    "#         # if self.use_token_polarity[0]:\n",
    "#         #     self.conv3 = nn.Conv1d(2*hidden_dim + 2, hidden_dim, kernel_size=3, padding=1)\n",
    "#         # else:\n",
    "#         self.conv3 = nn.Conv1d(2*hidden_dim, hidden_dim, kernel_size=3, padding=1)\n",
    "        \n",
    "#         self.conv4 = nn.Conv1d(hidden_dim, hidden_dim, kernel_size=3, padding=1)\n",
    "        \n",
    "#         # if self.use_token_polarity[1]:\n",
    "#         self.sentiment1  = Sentiment_Injection(hidden_dim)\n",
    "#         # if self.use_token_polarity[2]:\n",
    "#         self.sentiment2  = Sentiment_Injection(hidden_dim)\n",
    "            \n",
    "#         self.gcnn1 = GCNN(hidden_dim)\n",
    "#         self.gcnn2 = GCNN(hidden_dim+inject_embedding_dim)\n",
    "#         self.graph_generator = GenGraph(hidden_dim, virtual_nodes, lattice_step)\n",
    "        \n",
    "#         k = 4\n",
    "#         self.fc0 = nn.Linear(hidden_dim , hidden_dim+inject_embedding_dim)\n",
    "#         self.fc1 = nn.Linear(hidden_dim+inject_embedding_dim , hidden_dim * k)\n",
    "#         self.fc2 = nn.Linear(hidden_dim * (2+virtual_nodes) * k , 32)\n",
    "#         self.dropout = nn.Dropout(dropout)\n",
    "#         self.fc_out = nn.Linear(32, num_out_features)\n",
    "#         self.max_length = 0\n",
    "    \n",
    "#     def forward(self, g_data):\n",
    "            \n",
    "#         x = self.embedding(g_data.x)\n",
    "#         x = self.dropout(x)\n",
    "#         x = x.T\n",
    "#         x = F.relu(self.conv1(x))\n",
    "#         x = F.relu(self.conv2(x))\n",
    "#         x = self.dropout(x)\n",
    "#         x1 = scatter_max(x, g_data.cumulative_token_indices, dim=1)[0]\n",
    "#         x2 = scatter_mean(x, g_data.cumulative_token_indices, dim=1)\n",
    "\n",
    "#         # if self.use_token_polarity[0]:\n",
    "#         #     x = torch.cat([x1, x2, g_data.token_sentiments.T], dim=0)\n",
    "#         # else:\n",
    "#         x = torch.cat([x1, x2], dim=0)\n",
    "            \n",
    "#         x = F.relu(self.conv3(x)).T\n",
    "        \n",
    "#         # if self.use_token_polarity[1]:\n",
    "#         x = self.sentiment1(x, g_data.token_sentiments)\n",
    "            \n",
    "#         if self.use_positional_encoder[0]:\n",
    "#             x = x + self.positional_encoding(g_data.token_positions)\n",
    "#         # x = x + self.positional_encoding(g_data.token_positions)\n",
    "\n",
    "#         rand_edges, lattice_edges = self.base_random_edges, self.base_lattice_edges\n",
    "            \n",
    "#         graph = self.graph_generator.gen_graph(x, len(g_data.token_lengths), g_data.num_tokens, rand_edges, lattice_edges, lattice_start_distance=self.lattice_start_distance)\n",
    "#         rand_edges = rand_edges-1\n",
    "#         lattice_edges = lattice_edges-1\n",
    "        \n",
    "        \n",
    "#         doc_token_index = torch.repeat_interleave(torch.arange(len(g_data.num_tokens), device=x.device), g_data.num_tokens)\n",
    "#         x, edge_weights = self.gcnn1(graph.x, graph.edge_index, return_attention_weights = True)\n",
    "#         edge_weights = edge_weights[1][:graph.edge_index.shape[1], 0]\n",
    "        \n",
    "#         graph = self.graph_generator.replace_unimportant_edges(edge_weights, x, graph.edge_index, len(g_data.token_lengths), g_data.num_tokens, rand_edges, lattice_edges, p_keep=2, lattice_start_distance=self.lattice_start_distance+1)\n",
    "        \n",
    "        \n",
    "#         # if self.use_token_polarity[2]:\n",
    "#         x = self.sentiment2(x, g_data.token_sentiments)\n",
    "            \n",
    "        \n",
    "#         if self.use_positional_encoder[1]:\n",
    "#             xa = graph.x[:g_data.token_embeddings.shape[0]] + self.positional_encoding(g_data.token_positions)\n",
    "#         else:\n",
    "#             xa = graph.x[:g_data.token_embeddings.shape[0]]\n",
    "#         if self.use_positional_encoder[2]:\n",
    "#             xb = g_data.token_embeddings + self.positional_encoding(g_data.token_positions)\n",
    "#         else:\n",
    "#             xb = g_data.token_embeddings\n",
    "#         x = torch.cat([xa, xb], dim=1)\n",
    "#         # x = torch.cat([graph.x[:g_data.token_embeddings.shape[0]], g_data.token_embeddings], dim=1)\n",
    "        \n",
    "#         x1 = F.relu(self.fc0(graph.x[g_data.token_embeddings.shape[0]:]))\n",
    "#         x = torch.cat([x, x1], dim=0)\n",
    "        \n",
    "#         x, edge_weights = self.gcnn2(x, graph.edge_index)\n",
    "\n",
    "#         x = F.elu_(self.fc1(x))\n",
    "#         x1 = scatter_max(x[:len(g_data.token_lengths)], doc_token_index, dim=0)[0]\n",
    "#         x2 = scatter_mean(x[:len(g_data.token_lengths)], doc_token_index, dim=0)\n",
    "#         vn_embs = x[len(g_data.token_lengths):]\n",
    "#         x_for_cat = [x1, x2]\n",
    "#         x_for_cat.extend([vn_embs[i*x1.shape[0]:(i+1)*x1.shape[0]] for i in range(self.virtual_nodes)])\n",
    "#         x = torch.cat(x_for_cat, dim=1)\n",
    "        \n",
    "#         x = F.elu_(self.fc2(x))\n",
    "#         x = self.dropout(x)\n",
    "#         x = self.fc_out(x)\n",
    "#         return x\n",
    "\n",
    "\n",
    "#     def create_positional_encoding(self):\n",
    "#         position = torch.arange(self.pos_emb_size).unsqueeze(1)\n",
    "#         div_term = torch.exp(torch.arange(0, self.hidden_dim, 2) * (-math.log(10000.0) / self.hidden_dim))\n",
    "#         pe = torch.zeros(self.pos_emb_size, self.hidden_dim)\n",
    "#         pe[:, 0::2] = torch.sin(position * div_term)\n",
    "#         pe[:, 1::2] = torch.cos(position * div_term)\n",
    "#         return torch.nn.Parameter(pe, requires_grad=False)"
   ]
  },
  {
   "cell_type": "code",
   "execution_count": 97,
   "metadata": {},
   "outputs": [],
   "source": [
    "from torch_geometric.nn import GATv2Conv, SimpleConv, summary\n",
    "\n",
    "class CNN_for_Text_No_Positional_Encoding(nn.Module):\n",
    "    \n",
    "    def __init__(self, num_embedding, pos_emb_size=8192, embedding_dim=64, hidden_dim=64, dropout=0.3, num_out_features=4, seed=-1, random_edges=4, lattice_edges=10, virtual_nodes=1, lattice_step=2, lattice_start_distance=2, inject_embedding_dim=64, *args, **kwargs) -> None:\n",
    "        super(CNN_for_Text_No_Positional_Encoding, self).__init__(*args, **kwargs)\n",
    "        self.pos_emb_size = pos_emb_size\n",
    "        self.embedding_dim = embedding_dim\n",
    "        self.hidden_dim = hidden_dim\n",
    "        self.virtual_nodes = virtual_nodes\n",
    "        self.base_random_edges = random_edges\n",
    "        self.base_lattice_edges = lattice_edges\n",
    "        self.lattice_start_distance = lattice_start_distance\n",
    "        # self.use_token_polarity = use_token_polarity\n",
    "        if seed>-1:\n",
    "            torch.manual_seed(seed)\n",
    " \n",
    "        self.embedding = nn.Embedding(num_embedding, embedding_dim)\n",
    "        \n",
    "        self.dropout = nn.Dropout(p=dropout)\n",
    "        \n",
    "        self.conv1 = nn.Conv1d(embedding_dim, hidden_dim, kernel_size=5, padding=2)\n",
    "        self.pool1 = nn.MaxPool1d(2)\n",
    "        self.conv2 = nn.Conv1d(hidden_dim, hidden_dim, kernel_size=5, padding=2)\n",
    "        \n",
    "        # if self.use_token_polarity[0]:\n",
    "        #     self.conv3 = nn.Conv1d(2*hidden_dim + 2, hidden_dim, kernel_size=3, padding=1)\n",
    "        # else:\n",
    "        self.conv3 = nn.Conv1d(2*hidden_dim, hidden_dim, kernel_size=3, padding=1)\n",
    "        \n",
    "        self.conv4 = nn.Conv1d(hidden_dim, hidden_dim, kernel_size=3, padding=1)\n",
    "        \n",
    "        # if self.use_token_polarity[1]:\n",
    "        self.sentiment1  = Sentiment_Injection(hidden_dim)\n",
    "        # if self.use_token_polarity[2]:\n",
    "        self.sentiment2  = Sentiment_Injection(hidden_dim)\n",
    "            \n",
    "        self.gcnn1 = GCNN(hidden_dim)\n",
    "        self.gcnn2 = GCNN(hidden_dim+inject_embedding_dim)\n",
    "        self.graph_generator = GenGraph(hidden_dim, virtual_nodes, lattice_step)\n",
    "        \n",
    "        k = 4\n",
    "        self.fc0 = nn.Linear(hidden_dim , hidden_dim+inject_embedding_dim)\n",
    "        self.fc1 = nn.Linear(hidden_dim+inject_embedding_dim , hidden_dim * k)\n",
    "        self.fc2 = nn.Linear(hidden_dim * (2+virtual_nodes) * k , 32)\n",
    "        self.dropout = nn.Dropout(dropout)\n",
    "        self.fc_out = nn.Linear(32, num_out_features)\n",
    "        self.max_length = 0\n",
    "    \n",
    "    def forward(self, g_data):\n",
    "            \n",
    "        x = self.embedding(g_data.x)\n",
    "        x = self.dropout(x)\n",
    "        x = x.T\n",
    "        x = F.relu(self.conv1(x))\n",
    "        x = F.relu(self.conv2(x))\n",
    "        x = self.dropout(x)\n",
    "        x1 = scatter_max(x, g_data.cumulative_token_indices, dim=1)[0]\n",
    "        x2 = scatter_mean(x, g_data.cumulative_token_indices, dim=1)\n",
    "\n",
    "        # if self.use_token_polarity[0]:\n",
    "        #     x = torch.cat([x1, x2, g_data.token_sentiments.T], dim=0)\n",
    "        # else:\n",
    "        x = torch.cat([x1, x2], dim=0)\n",
    "            \n",
    "        x = F.relu(self.conv3(x)).T\n",
    "        \n",
    "        # if self.use_token_polarity[1]:\n",
    "        x = self.sentiment1(x, g_data.token_sentiments)\n",
    "            \n",
    "\n",
    "        rand_edges, lattice_edges = self.base_random_edges, self.base_lattice_edges\n",
    "            \n",
    "        graph = self.graph_generator.gen_graph(x, len(g_data.token_lengths), g_data.num_tokens, rand_edges, lattice_edges, lattice_start_distance=self.lattice_start_distance)\n",
    "        rand_edges = rand_edges-1\n",
    "        lattice_edges = lattice_edges-1\n",
    "        \n",
    "        \n",
    "        doc_token_index = torch.repeat_interleave(torch.arange(len(g_data.num_tokens), device=x.device), g_data.num_tokens)\n",
    "        x, edge_weights = self.gcnn1(graph.x, graph.edge_index, return_attention_weights = True)\n",
    "        edge_weights = edge_weights[1][:graph.edge_index.shape[1], 0]\n",
    "        \n",
    "        graph = self.graph_generator.replace_unimportant_edges(edge_weights, x, graph.edge_index, len(g_data.token_lengths), g_data.num_tokens, rand_edges, lattice_edges, p_keep=2, lattice_start_distance=self.lattice_start_distance+1)\n",
    "        \n",
    "        \n",
    "        # if self.use_token_polarity[2]:\n",
    "        x = self.sentiment2(x, g_data.token_sentiments)\n",
    "            \n",
    "        xa = graph.x[:g_data.token_embeddings.shape[0]]\n",
    "        xb = g_data.token_embeddings\n",
    "        x = torch.cat([xa, xb], dim=1)\n",
    "        # x = torch.cat([graph.x[:g_data.token_embeddings.shape[0]], g_data.token_embeddings], dim=1)\n",
    "        \n",
    "        x1 = F.relu(self.fc0(graph.x[g_data.token_embeddings.shape[0]:]))\n",
    "        x = torch.cat([x, x1], dim=0)\n",
    "        \n",
    "        x, edge_weights = self.gcnn2(x, graph.edge_index)\n",
    "\n",
    "        x = F.elu_(self.fc1(x))\n",
    "        x1 = scatter_max(x[:len(g_data.token_lengths)], doc_token_index, dim=0)[0]\n",
    "        x2 = scatter_mean(x[:len(g_data.token_lengths)], doc_token_index, dim=0)\n",
    "        vn_embs = x[len(g_data.token_lengths):]\n",
    "        x_for_cat = [x1, x2]\n",
    "        x_for_cat.extend([vn_embs[i*x1.shape[0]:(i+1)*x1.shape[0]] for i in range(self.virtual_nodes)])\n",
    "        x = torch.cat(x_for_cat, dim=1)\n",
    "        \n",
    "        x = F.elu_(self.fc2(x))\n",
    "        x = self.dropout(x)\n",
    "        x = self.fc_out(x)\n",
    "        return x"
   ]
  },
  {
   "cell_type": "code",
   "execution_count": 98,
   "metadata": {},
   "outputs": [
    {
     "name": "stdout",
     "output_type": "stream",
     "text": [
      "Module                                              FLOP    % Total\n",
      "-----------------------------------------------  -------  ---------\n",
      " CNN_for_Text_No_Positional_Encoding.conv1       14.555B     29.08%\n",
      "  - aten.convolution                             14.555B     29.08%\n",
      "CNN_for_Text_No_Positional_Encoding              50.061B    100.00%\n",
      " - aten.convolution                              43.016B     85.93%\n",
      " - aten.addmm                                     7.045B     14.07%\n",
      " CNN_for_Text_No_Positional_Encoding.conv2       14.555B     29.08%\n",
      "  - aten.convolution                             14.555B     29.08%\n",
      " CNN_for_Text_No_Positional_Encoding.conv3        3.248B      6.49%\n",
      "  - aten.convolution                              3.248B      6.49%\n",
      " CNN_for_Text_No_Positional_Encoding.sentiment1   3.299B      6.59%\n",
      "  - aten.convolution                              3.299B      6.59%\n",
      " CNN_for_Text_No_Positional_Encoding.gcnn1        1.353B      2.70%\n",
      "  - aten.addmm                                    0.541B      1.08%\n",
      "  - aten.convolution                              0.812B      1.62%\n",
      " CNN_for_Text_No_Positional_Encoding.sentiment2   3.299B      6.59%\n",
      "  - aten.convolution                              3.299B      6.59%\n",
      " CNN_for_Text_No_Positional_Encoding.fc0          0.000B      0.00%\n",
      "  - aten.addmm                                    0.000B      0.00%\n",
      " CNN_for_Text_No_Positional_Encoding.gcnn2        5.413B     10.81%\n",
      "  - aten.addmm                                    2.165B      4.33%\n",
      "  - aten.convolution                              3.248B      6.49%\n",
      " CNN_for_Text_No_Positional_Encoding.fc1          4.331B      8.65%\n",
      "  - aten.addmm                                    4.331B      8.65%\n",
      " CNN_for_Text_No_Positional_Encoding.fc2          0.007B      0.01%\n",
      "  - aten.addmm                                    0.007B      0.01%\n",
      " CNN_for_Text_No_Positional_Encoding.fc_out       0.000B      0.00%\n",
      "  - aten.addmm                                    0.000B      0.00%\n"
     ]
    }
   ],
   "source": [
    "# for p1 in [False, True]:\n",
    "#     for p2 in [False, True]:\n",
    "#         for p3 in [False, True]:\n",
    "# print(f'\\n{p1}, {p2}, {p3}: \\n')\n",
    "classifier_torch_model = CNN_for_Text_No_Positional_Encoding(num_embedding=num_embedding, hidden_dim=64, embedding_dim=64, pos_emb_size=3080, dropout=0.2, num_out_features=len(class_id), seed=911, random_edges=4, lattice_edges=4, lattice_step=2, virtual_nodes=0, lattice_start_distance=2).eval()\n",
    "flopt_counter = FlopCounterMode(classifier_torch_model)\n",
    "with flopt_counter:\n",
    "    classifier_torch_model(X)"
   ]
  },
  {
   "cell_type": "code",
   "execution_count": 99,
   "metadata": {},
   "outputs": [],
   "source": [
    "# next(iter(classifier_torch_model.parameters())).device"
   ]
  },
  {
   "cell_type": "code",
   "execution_count": 100,
   "metadata": {},
   "outputs": [],
   "source": [
    "\n",
    "class CnnGnnClassifierLightningModel(L.LightningModule):\n",
    "    def __init__(\n",
    "        self,\n",
    "        model,\n",
    "        num_classes,\n",
    "        optimizer=None,\n",
    "        loss_func=None,\n",
    "        learning_rate=0.01,\n",
    "        batch_size=64,\n",
    "        lr_scheduler=None,\n",
    "        user_lr_scheduler=False,\n",
    "        min_lr=0.0,\n",
    "    ):\n",
    "        super(CnnGnnClassifierLightningModel, self).__init__()\n",
    "        self.batch_size = batch_size\n",
    "        self.learning_rate = learning_rate\n",
    "        self.model = model\n",
    "        self.min_lr = min_lr\n",
    "        # self.save_hyperparameters(ignore=[\"model\"])\n",
    "        self.save_hyperparameters(logger=False)\n",
    "        self.optimizer = self._get_optimizer(optimizer)\n",
    "        self.lr_scheduler = (\n",
    "            self._get_lr_scheduler(lr_scheduler) if user_lr_scheduler else None\n",
    "        )\n",
    "        self.loss_func = loss_func\n",
    "        self.train_losses = []\n",
    "        self.val_losses = []\n",
    "        self.train_acc = torchmetrics.Accuracy(task=\"multiclass\", num_classes=num_classes)\n",
    "        self.val_acc = torchmetrics.Accuracy(task=\"multiclass\", num_classes=num_classes)\n",
    "        self.test_acc = torchmetrics.Accuracy(task=\"multiclass\", num_classes=num_classes)\n",
    "\n",
    "    def forward(self, x, *args, **kwargs):\n",
    "        return self.model(x)\n",
    "\n",
    "    def on_train_epoch_start(self) -> None:\n",
    "        param_groups = next(iter(self.optimizer.param_groups))\n",
    "        if \"lr\" in param_groups and param_groups[\"lr\"] is not None:\n",
    "            current_learning_rate = float(param_groups[\"lr\"])\n",
    "            self.log(\n",
    "                \"lr\",\n",
    "                current_learning_rate,\n",
    "                batch_size=self.batch_size,\n",
    "                on_epoch=True,\n",
    "                on_step=False,\n",
    "            )\n",
    "\n",
    "    def training_step(self, batch, *args, **kwargs):\n",
    "        X, y = batch\n",
    "        X.to(self.device)\n",
    "        y.to(self.device)\n",
    "        \n",
    "        self.model.train()\n",
    "        y_out = self(X)\n",
    "\n",
    "        loss = self.loss_func(y_out.view(y.shape), y )\n",
    "        self.train_losses.append(loss.detach().item())\n",
    "        self.log(\n",
    "            \"train_loss\",\n",
    "            loss,\n",
    "            prog_bar=True,\n",
    "            batch_size=self.batch_size,\n",
    "            on_epoch=True,\n",
    "            on_step=True,\n",
    "        )\n",
    "        \n",
    "        self.train_acc(torch.argmax(y_out, dim=1), torch.argmax(y, dim=1))\n",
    "        self.log('train_acc', self.train_acc, prog_bar=True, on_epoch=True, on_step=True, batch_size=self.batch_size)\n",
    "        \n",
    "        return loss\n",
    "\n",
    "    def validation_step(self, batch, *args, **kwargs):\n",
    "        X, y = batch\n",
    "        X.to(self.device)\n",
    "        y.to(self.device)\n",
    "        \n",
    "        self.model.eval()\n",
    "        y_out = self(X)\n",
    "        loss = self.loss_func(y_out.view(y.shape), y )\n",
    "        self.val_losses.append(loss.detach().item())\n",
    "\n",
    "        self.log(\n",
    "            \"val_loss\",\n",
    "            loss,\n",
    "            prog_bar=True,\n",
    "            batch_size=self.batch_size,\n",
    "            on_epoch=True,\n",
    "            on_step=True,\n",
    "        )\n",
    "        \n",
    "        \n",
    "        self.val_acc(torch.argmax(y_out, dim=1), torch.argmax(y, dim=1))\n",
    "        self.log('val_acc', self.val_acc, prog_bar=True, on_epoch=True, on_step=True, batch_size=self.batch_size)\n",
    "\n",
    "    def configure_optimizers(self):\n",
    "        if self.lr_scheduler is None:\n",
    "            return self.optimizer\n",
    "\n",
    "        return {\n",
    "            \"optimizer\": self.optimizer,\n",
    "            \"lr_scheduler\": {\n",
    "                \"scheduler\": self.lr_scheduler,\n",
    "                \"monitor\": \"train_loss\",\n",
    "                \"interval\": \"epoch\",\n",
    "                \"frequency\": 1,\n",
    "            },\n",
    "        }\n",
    "\n",
    "    def update_learning_rate(self, learning_rate: float):\n",
    "        self.learning_rate = learning_rate\n",
    "        for g in self.optimizer.param_groups:\n",
    "            g[\"lr\"] = learning_rate\n",
    "\n",
    "    def _get_optimizer(self, optimizer):\n",
    "        return (\n",
    "            optimizer\n",
    "            if optimizer is not None\n",
    "            else torch.optim.Adam(self.model.parameters(), lr=self.learning_rate)\n",
    "        )\n",
    "\n",
    "    def _get_lr_scheduler(self, lr_scheduler):\n",
    "        return (\n",
    "            lr_scheduler\n",
    "            if lr_scheduler is not None\n",
    "            else torch.optim.lr_scheduler.ReduceLROnPlateau(\n",
    "                self.optimizer, patience=5, factor=0.5, mode=\"min\", min_lr=self.min_lr\n",
    "            )\n",
    "        )\n"
   ]
  },
  {
   "cell_type": "code",
   "execution_count": 101,
   "metadata": {},
   "outputs": [],
   "source": [
    "from tqdm import tqdm\n",
    "from sklearn.metrics import accuracy_score, precision_score, recall_score, f1_score, classification_report\n",
    "from torchmetrics import ConfusionMatrix\n",
    "\n",
    "def calculate_metrics(cl_model, dataloader):\n",
    "    cm = ConfusionMatrix(task=\"multiclass\", num_classes=len(class_id))\n",
    "\n",
    "    y_pred = []\n",
    "    y_true = []\n",
    "\n",
    "    cl_model = cl_model.eval()\n",
    "    cl_model.to(device)\n",
    "    for X, y in tqdm(dataloader):\n",
    "        X = X.to(device)\n",
    "        with torch.no_grad():\n",
    "            y_p = cl_model(X)\n",
    "            y_p = y_p.cpu()\n",
    "        y_pred.append(y_p)\n",
    "        y_true.append(y)\n",
    "    y_pred = torch.cat(y_pred, dim=0)\n",
    "    y_true = torch.cat(y_true, dim=0)\n",
    "    y_pred2 = torch.argmax(y_pred, dim=1)\n",
    "    y_true2 = torch.argmax(y_true, dim=1)\n",
    "    print(f'classification report: \\n {classification_report(y_true2, y_pred2, digits=4)}')\n",
    "    print(f'confusion matrix:\\n {cm(y_pred2, y_true2)}')\n",
    "    print('================================')\n"
   ]
  },
  {
   "cell_type": "code",
   "execution_count": 102,
   "metadata": {},
   "outputs": [],
   "source": [
    "# Fardin Rastakhiz @ 2023\n",
    "from abc import ABC, abstractmethod\n",
    "from typing import List, Optional\n",
    "\n",
    "import torch\n",
    "import lightning as L\n",
    "from lightning.pytorch.callbacks import Callback, ModelCheckpoint, EarlyStopping\n",
    "from lightning.pytorch.loggers import Logger, CSVLogger\n",
    "from lightning.pytorch.tuner import Tuner\n",
    "from typing import List\n",
    "from pytorch_lightning.core.saving import save_hparams_to_yaml\n",
    "\n",
    "class ModelManager(ABC):\n",
    "\n",
    "    def __init__(self,\n",
    "                 torch_model: torch.nn.Module,\n",
    "                 lightning_model,\n",
    "                 model_save_dir: str = '~/Desktop',\n",
    "                 log_dir: str = 'logs/',\n",
    "                 log_name: str = 'model_logs',\n",
    "                 device='cpu',\n",
    "                 max_epochs = 100,\n",
    "                 ckpt_path: str|None=None,\n",
    "                 accumulate_grad_batches=1):\n",
    "        self.torch_model = torch_model\n",
    "        self.lightning_model = lightning_model\n",
    "        self.log_dir = log_dir\n",
    "        self.log_name = log_name\n",
    "        self.model_save_dir = model_save_dir\n",
    "        self.device = device\n",
    "        self.accelerator = 'cpu' if self.device=='cpu' else 'gpu'\n",
    "        self.max_epochs = max_epochs\n",
    "        self.ckpt_path = ckpt_path\n",
    "\n",
    "        self.logger = self._create_logger()\n",
    "        self.callbacks = self._create_callbacks()\n",
    "        self.trainer: L.Trainer = self._create_trainer(accumulate_grad_batches)\n",
    "        self.tuner = Tuner(self.trainer)\n",
    "        self.tuning_result = None\n",
    "\n",
    "    def tune(self, data_manager=None, train_dataloaders=None, val_dataloaders=None, datamodule=None, draw_result=True, min_lr=0.0000001, max_lr=0.1):\n",
    "        self.tuning_result = self.tuner.lr_find(self.lightning_model, datamodule=data_manager, train_dataloaders=train_dataloaders,\n",
    "                         val_dataloaders=val_dataloaders, min_lr=min_lr,max_lr=max_lr, num_training=150)\n",
    "        if draw_result:\n",
    "            fig = self.tuning_result.plot(suggest=True)\n",
    "            fig.show()\n",
    "        self.update_learning_rate(self.tuning_result.suggestion())\n",
    "        return self.tuning_result.suggestion()\n",
    "    \n",
    "    def update_learning_rate(self, lr):\n",
    "        self.lightning_model.update_learning_rate(lr)\n",
    "\n",
    "    def fit(self, train_dataloaders=None, val_dataloaders=None, datamodule=None, max_epochs = -1, ckpt_path=None):\n",
    "        if ckpt_path is not None and ckpt_path != '':\n",
    "            self.ckpt_path = ckpt_path\n",
    "        if max_epochs>0:\n",
    "            self.trainer.fit_loop.max_epochs = max_epochs\n",
    "            # self.max_epochs = max_epochs\n",
    "            # self.trainer = self._create_trainer()\n",
    "        self.trainer.fit(self.lightning_model,\n",
    "                         datamodule=datamodule,\n",
    "                         train_dataloaders=train_dataloaders,\n",
    "                         val_dataloaders=val_dataloaders,\n",
    "                         ckpt_path = self.ckpt_path\n",
    "                         )\n",
    "\n",
    "    def validate(self, dataloaders=None, datamodule=None):\n",
    "        return self.trainer.validate(self.lightning_model,\n",
    "                             datamodule=datamodule,\n",
    "                             dataloaders=dataloaders)\n",
    "\n",
    "    def predict(self, dataloaders=None, datamodule=None):\n",
    "        return self.trainer.predict(self.lightning_model,\n",
    "                             datamodule=datamodule,\n",
    "                             dataloaders=dataloaders)\n",
    "\n",
    "    def _create_trainer(self, accumulate_grad_batches) -> L.Trainer:\n",
    "        return L.Trainer(\n",
    "            callbacks=self.callbacks,\n",
    "            max_epochs=self.max_epochs,\n",
    "            accelerator=self.accelerator,\n",
    "            logger=self.logger,\n",
    "            num_sanity_val_steps=0,\n",
    "            default_root_dir=self.model_save_dir,\n",
    "            accumulate_grad_batches=accumulate_grad_batches\n",
    "        )\n",
    "\n",
    "    @abstractmethod\n",
    "    def _create_callbacks(self) -> List[Callback]:\n",
    "        pass\n",
    "\n",
    "    def _create_logger(self) -> Logger:\n",
    "        return CSVLogger(save_dir=self.log_dir, name=self.log_name)\n",
    "\n",
    "    @abstractmethod\n",
    "    def draw_summary(self, dataloader):\n",
    "        pass\n",
    "\n",
    "    @abstractmethod\n",
    "    def plot_csv_logger(self, loss_names, eval_names):\n",
    "        pass\n",
    "    \n",
    "    def save_hyper_parameters(self):\n",
    "        mhparams = {\n",
    "            'start_lr': 0.045,\n",
    "            'ckpt_lrs' :  {51: 0.002, 65: 0.00058},\n",
    "            'last_lr' : 0.0003,\n",
    "            'ac_loss_factor': 0.0002,\n",
    "            'weight_decay': 0.0012\n",
    "        }\n",
    "        save_hparams_to_yaml(config_yaml=r'logs\\hetero_model_17_AG\\version_12\\hparams.yaml',\n",
    "                     hparams=mhparams)\n",
    "        \n",
    "    # def find_best_settings(data_manager,\n",
    "    #                        lrs: List[float]=[0.001], dropouts: List[float]=[0.2], \n",
    "    #                        weight_decays: List[float]=[0.00055], emb_factors: List[float]=[0.1], \n",
    "    #                        batch_sizes: List[int]=[128], log_name='find_best_settings'):\n",
    "    #     for lr in lrs:\n",
    "    #         for dropout in dropouts:\n",
    "    #             for wd in weight_decays:\n",
    "    #                 for emb_factor in emb_factors:\n",
    "    #                     for bs in batch_sizes:\n",
    "    #                         data_manager.update_batch_size(bs)\n",
    "    #                         torch_model = HeteroGcnGatModel1(300, 1, X1.metadata(), 128, dropout=dropout)\n",
    "    #                         lightning_model = HeteroBinaryLightningModel(torch_model,\n",
    "    #                                         torch.optim.Adam(torch_model.parameters(), lr=lr, weight_decay=wd),\n",
    "    #                                             loss_func=HeteroLoss1(exception_keys='word', enc_factor=emb_factor),\n",
    "    #                                             learning_rate=lr,\n",
    "    #                                             batch_size=bs,\n",
    "    #                                             user_lr_scheduler=True\n",
    "    #                                             ).to(device)\n",
    "    #                         model_manager = ClassifierModelManager(torch_model, lightning_model, log_name=log_name, device=device, num_train_epoch=10)\n",
    "    #                         model_manager.fit(datamodule=data_manager)\n",
    "    #                         model_manager.save_plot_csv_logger(name_prepend=f'{lr}_{dropout}_{wd}_{emb_factor}_{bs}', loss_names=['train_loss', 'val_loss'], eval_names=['train_acc_epoch', 'val_acc_epoch'])"
   ]
  },
  {
   "cell_type": "code",
   "execution_count": 103,
   "metadata": {},
   "outputs": [],
   "source": [
    "# Fardin Rastakhiz @ 2023\n",
    "import torch\n",
    "# from scripts.managers.ModelManager import ModelManager\n",
    "import pandas as pd\n",
    "import matplotlib.pyplot as plt\n",
    "from typing import List\n",
    "from torch_geometric.nn import summary\n",
    "from lightning.pytorch.callbacks import Callback, ModelCheckpoint, EarlyStopping\n",
    "from os import path\n",
    "\n",
    "from sklearn.metrics import classification_report, f1_score, accuracy_score, precision_score, recall_score, confusion_matrix, hinge_loss\n",
    "\n",
    "import lightning as L\n",
    "\n",
    "class ClassifierModelManager(ModelManager):\n",
    "\n",
    "    def __init__(self,\n",
    "                 torch_model: torch.nn.Module,\n",
    "                 lightning_model,\n",
    "                 model_save_dir: str = '~/Desktop',\n",
    "                 log_dir: str = 'logs/',\n",
    "                 log_name: str = 'model_logs',\n",
    "                 device='cpu',\n",
    "                 num_train_epoch = 100,\n",
    "                 accumulate_grad_batches=1):\n",
    "        super(ClassifierModelManager, self).__init__(torch_model, lightning_model, model_save_dir, log_dir, log_name, device, num_train_epoch, accumulate_grad_batches=accumulate_grad_batches)\n",
    "\n",
    "    def _create_callbacks(self) -> List[Callback]:\n",
    "        return [\n",
    "            ModelCheckpoint(save_top_k=2, mode='max', monitor='val_acc', save_last=True),\n",
    "            # EarlyStopping(patience=50, mode='max', monitor='val_acc')\n",
    "        ]\n",
    "\n",
    "    def draw_summary(self, dataloader):\n",
    "        X, y = next(iter(dataloader))\n",
    "        print(summary(self.torch_model, X.to(self.device)))\n",
    "\n",
    "    def plot_csv_logger(self, loss_names=['train_loss', 'val_loss'], eval_names=['train_acc', 'val_acc']):\n",
    "        csv_path = path.join(self.log_dir, self.log_name, f'version_{self.logger.version}', 'metrics.csv')\n",
    "        metrics = pd.read_csv(csv_path)\n",
    "\n",
    "        aggregation_metrics = []\n",
    "        agg_col = 'epoch'\n",
    "        for i, dfg in metrics.groupby(agg_col):\n",
    "            agg = dict(dfg.mean())\n",
    "            agg[agg_col] = i\n",
    "            aggregation_metrics.append(agg)\n",
    "\n",
    "        df_metrics = pd.DataFrame(aggregation_metrics)\n",
    "        df_metrics[loss_names].plot(grid=True, legend=True, xlabel='Epoch', ylabel='loss')\n",
    "        df_metrics[eval_names].plot(grid=True, legend=True, xlabel='Epoch', ylabel='accuracy')\n",
    "        plt.show()\n",
    "\n",
    "    def save_plot_csv_logger(self, loss_names=['train_loss', 'val_loss'], eval_names=['train_acc', 'val_acc'], name_prepend: str=\"\"):\n",
    "        csv_path = path.join(self.log_dir, self.log_name, f'version_{self.logger.version}', 'metrics.csv')\n",
    "        metrics = pd.read_csv(csv_path)\n",
    "\n",
    "        aggregation_metrics = []\n",
    "        agg_col = 'epoch'\n",
    "        for i, dfg in metrics.groupby(agg_col):\n",
    "            agg = dict(dfg.mean())\n",
    "            agg[agg_col] = i\n",
    "            aggregation_metrics.append(agg)\n",
    "\n",
    "        df_metrics = pd.DataFrame(aggregation_metrics)\n",
    "        df_metrics[loss_names].plot(grid=True, legend=True, xlabel='Epoch', ylabel='loss')\n",
    "        \n",
    "        loss_png = path.join(self.log_dir, self.log_name, f'version_{self.logger.version}', f'{name_prepend}_loss_metric.png')\n",
    "        plt.savefig(loss_png)\n",
    "        \n",
    "        df_metrics[eval_names].plot(grid=True, legend=True, xlabel='Epoch', ylabel='accuracy')\n",
    "        \n",
    "        acc_png = path.join(self.log_dir, self.log_name, f'version_{self.logger.version}', f'{name_prepend}_acc_metric.png')\n",
    "        plt.savefig(acc_png)\n",
    "        \n",
    "        plt.close()\n",
    "    \n",
    "    def evaluate(self, eval_dataloader,\n",
    "                 give_confusion_matrix: bool=True, \n",
    "                 give_report: bool=True, \n",
    "                 give_f1_score: bool=False, \n",
    "                 give_accuracy_score: bool=False, \n",
    "                 give_precision_score: bool=False, \n",
    "                 give_recall_score: bool=False, \n",
    "                 give_hinge_loss: bool=False):\n",
    "        y_true = []\n",
    "        y_pred = []\n",
    "        self.lightning_model.eval()\n",
    "        for X, y in eval_dataloader:\n",
    "            y_p = self.lightning_model(X.to(self.device))\n",
    "            if type(y_p) is tuple:\n",
    "                y_p = y_p[0]\n",
    "            y_pred.append((y_p>0).to(torch.int32).detach().to(y.device))\n",
    "            y_true.append(y.to(torch.int32))\n",
    "        y_true = torch.concat(y_true)\n",
    "        y_pred = torch.concat(y_pred)\n",
    "        if(give_confusion_matrix):\n",
    "            print(f'confusion_matrix: \\n{confusion_matrix(y_true, y_pred)}')\n",
    "        if(give_report):\n",
    "            print(classification_report(y_true, y_pred))\n",
    "        if(give_f1_score):\n",
    "            print(f'f1_score: {f1_score(y_true, y_pred)}')\n",
    "        if(give_accuracy_score):\n",
    "            print(f'accuracy_score: {accuracy_score(y_true, y_pred)}')\n",
    "        if(give_precision_score):\n",
    "            print(f'precision_score: {precision_score(y_true, y_pred)}')\n",
    "        if(give_recall_score):\n",
    "            print(f'recall_score: {recall_score(y_true, y_pred)}')\n",
    "        # if(give_hinge_loss):\n",
    "        #     print(f'hinge_loss: {hinge_loss(y_true, y_pred)}')\n",
    "                \n",
    "    def evaluate_best_models(self, lightning_type: L.LightningModule, eval_dataloader,\n",
    "                             give_confusion_matrix: bool=True, \n",
    "                             give_report: bool=True, \n",
    "                             give_f1_score: bool=False, \n",
    "                             give_accuracy_score: bool=False, \n",
    "                             give_precision_score: bool=False, \n",
    "                             give_recall_score: bool=False, \n",
    "                             give_hinge_loss: bool=False,\n",
    "                             multi_class: bool=False, **kwargs):\n",
    "        self.lightning_model = lightning_type.load_from_checkpoint(rf'{self.trainer.checkpoint_callback.best_model_path}', map_location=None, hparams_file=None, strict=True, **kwargs).eval()\n",
    "        self.save_evaluation(eval_dataloader, 'best_model', give_confusion_matrix, give_report,\n",
    "                             give_f1_score, give_accuracy_score, give_precision_score, give_recall_score, give_hinge_loss, multi_class)\n",
    "            \n",
    "    def save_evaluation(self, eval_dataloader, name_prepend: str='',\n",
    "                    give_confusion_matrix: bool=True, \n",
    "                    give_report: bool=True, \n",
    "                    give_f1_score: bool=False, \n",
    "                    give_accuracy_score: bool=False, \n",
    "                    give_precision_score: bool=False, \n",
    "                    give_recall_score: bool=False, \n",
    "                    give_hinge_loss: bool=False,\n",
    "                    multi_class: bool=False\n",
    "                    ):\n",
    "            \n",
    "            test_metrics_path = path.join(self.log_dir, self.log_name, f'version_{self.logger.version}', f'{name_prepend}_test_metrics.txt')\n",
    "            \n",
    "            y_true = []\n",
    "            y_pred = []\n",
    "            self.lightning_model.eval()\n",
    "            self.lightning_model.model.eval()\n",
    "            self.torch_model.eval()\n",
    "            self.trainer.model.eval()\n",
    "            for X, y in eval_dataloader:\n",
    "                with torch.no_grad():\n",
    "                    y_p = self.lightning_model(X.to(self.device))\n",
    "                if type(y_p) is tuple:\n",
    "                    y_p = y_p[0]\n",
    "                \n",
    "                if multi_class:\n",
    "                    y_pred.append(y_p.detach().to(y.device))\n",
    "                    y_true.append(y)\n",
    "                else:\n",
    "                    y_pred.append((y_p>0).to(torch.int32).detach().to(y.device))\n",
    "                    y_true.append(y.to(torch.int32))\n",
    "                    \n",
    "            y_true = torch.concat(y_true)\n",
    "            y_pred = torch.concat(y_pred)\n",
    "            print(y_true.shape)\n",
    "            print(y_pred.shape)\n",
    "            if multi_class:\n",
    "                y_true_num = torch.argmax(y_true, dim=1)\n",
    "                y_pred_num = torch.argmax(y_pred, dim=1)\n",
    "            else:\n",
    "                y_true_num = y_true\n",
    "                y_pred_num = y_pred\n",
    "                \n",
    "            print(y_true_num.shape)\n",
    "            print(y_pred_num.shape)\n",
    "            with open(test_metrics_path, 'at+') as f:\n",
    "                if(give_confusion_matrix):\n",
    "                    print(f'confusion_matrix: \\n{confusion_matrix(y_true_num, y_pred_num)}', file=f)\n",
    "                if(give_report):\n",
    "                    print(classification_report(y_true_num, y_pred_num), file=f)\n",
    "                if(give_f1_score):\n",
    "                    if multi_class:\n",
    "                        print(f'f1_score: {f1_score(y_true_num, y_pred_num, average=None)}', file=f)\n",
    "                    else:\n",
    "                        print(f'f1_score: {f1_score(y_true_num, y_pred_num)}', file=f)\n",
    "                if(give_accuracy_score):\n",
    "                    print(f'accuracy_score: {accuracy_score(y_true_num, y_pred_num)}', file=f)\n",
    "                if(give_precision_score):\n",
    "                    if multi_class:\n",
    "                        print(f'precision: {precision_score(y_true_num, y_pred_num, average=None)}', file=f)\n",
    "                    else:\n",
    "                        print(f'precision: {precision_score(y_true_num, y_pred_num)}', file=f)\n",
    "                if(give_recall_score):\n",
    "                    if multi_class:\n",
    "                        print(f'recall: {recall_score(y_true_num, y_pred_num, average=None)}', file=f)\n",
    "                    else:\n",
    "                        print(f'recall: {recall_score(y_true_num, y_pred_num)}', file=f)\n",
    "                # if(give_hinge_loss):\n",
    "                #     print(f'hinge_loss: {hinge_loss(y_true_num, y_pred)}', file=f)"
   ]
  },
  {
   "cell_type": "code",
   "execution_count": 104,
   "metadata": {},
   "outputs": [],
   "source": [
    "output_size = 128\n",
    "hidden_dim = 64\n",
    "embedding_dim = 64\n",
    "label_size = 1\n",
    "seed = 911"
   ]
  },
  {
   "cell_type": "code",
   "execution_count": 105,
   "metadata": {},
   "outputs": [],
   "source": [
    "# output_size = 32\n",
    "# hidden_dim = 16\n",
    "# embedding_dim = 16\n",
    "# label_size = 1\n",
    "# seed = 911"
   ]
  },
  {
   "cell_type": "code",
   "execution_count": 106,
   "metadata": {},
   "outputs": [],
   "source": [
    "# for i in range(10):\n",
    "def train_model(epochs=30, dropout=0.25, weight_decay=0.000012, lr=0.0002, amsgrad=False, fused=True, use_positional_encoder=[False, False, False]):\n",
    "    torch.autograd.set_detect_anomaly(True)\n",
    "    classifier_torch_model = CNN_for_Text_No_Positional_Encoding(num_embedding=num_embedding, hidden_dim=hidden_dim, embedding_dim=embedding_dim, pos_emb_size=4096, dropout=dropout, num_out_features=len(class_id), seed=seed, random_edges=4, lattice_edges=8, lattice_step=2, virtual_nodes=0, lattice_start_distance=2).to(device)\n",
    "    # optimizer = torch.optim.Adam(classifier_torch_model.parameters(), lr=lr, weight_decay=weight_decay, amsgrad=amsgrad, fused=fused)\n",
    "    optimizer = torch.optim.AdamW(classifier_torch_model.parameters(), lr=lr, weight_decay=weight_decay, amsgrad=amsgrad, fused=fused)\n",
    "    # lr_scheduler = torch.optim.lr_scheduler.MultiStepLR(optimizer, milestones=[50, 100, 150, 200, 250, 300, 350],gamma=0.5, verbose=False)\n",
    "    lr_scheduler = torch.optim.lr_scheduler.MultiStepLR(optimizer, milestones=[15, 20, 30, 40, 45,50,55],gamma=0.5, verbose=False)\n",
    "    loss_func = torch.nn.BCEWithLogitsLoss()\n",
    "    classfier_lightning_model = CnnGnnClassifierLightningModel(classifier_torch_model, \n",
    "                                                        num_classes=len(class_id),\n",
    "                                                learning_rate=lr,\n",
    "                                                batch_size=batch_size,\n",
    "                                                optimizer=optimizer,\n",
    "                                                loss_func=loss_func,\n",
    "                                                lr_scheduler=lr_scheduler,\n",
    "                                                user_lr_scheduler=True\n",
    "                                                ).to(device)\n",
    "\n",
    "\n",
    "    model_manager = ClassifierModelManager(classifier_torch_model, classfier_lightning_model, log_name=f'CNN-GNN_{use_positional_encoder[0]}_{use_positional_encoder[1]}_{use_positional_encoder[2]}',device=device, num_train_epoch=epochs, accumulate_grad_batches=1)\n",
    "    # trainer = L.Trainer(\n",
    "    #             # callbacks=callbacks,\n",
    "    #             max_epochs=epochs,\n",
    "    #             accelerator= 'gpu' if torch.cuda.is_available() else 'cpu',\n",
    "    #             logger=CSVLogger(save_dir='logs/', name='log2'), \n",
    "    #             num_sanity_val_steps=0,\n",
    "    #         #     default_root_dir='models\\model2_word_embedding-256-2'\n",
    "    #         )\n",
    "\n",
    "    train_dataset.reset_params()\n",
    "    train_dataset.position_j = 0\n",
    "    test_dataset.reset_params()\n",
    "    test_dataset.position_j = 0\n",
    "    \n",
    "    # train_dataset.section_i = 0\n",
    "    # train_dataset.each_section_i = np.zeros((train_dataset.num_sections, ), dtype=int)\n",
    "    # test_dataset.section_i = 0\n",
    "    # test_dataset.each_section_i = np.zeros((test_dataset.num_sections, ), dtype=int)\n",
    "    \n",
    "    model_manager.fit(train_dataloaders=train_dataloader, val_dataloaders=test_dataloader)\n",
    "    model_manager.save_plot_csv_logger(loss_names=['train_loss_epoch', 'val_loss_epoch'], eval_names=['train_acc_epoch', 'val_acc_epoch'], name_prepend=f'tests_{dropout}_{weight_decay}_{lr}_{amsgrad}_{fused}')\n",
    "    model_manager.torch_model = model_manager.torch_model.to(device)\n",
    "    model_manager.save_evaluation(test_dataloader, f'{dropout}_{weight_decay}_{lr}]',True, True, True, True, True, True, True, multi_class=True)\n",
    "    # trainer.fit(classfier_lightning_model, train_dataloaders=train_dataloader, val_dataloaders=test_dataloader)\n",
    "    classfier_lightning_model.model = classfier_lightning_model.model.eval()\n",
    "    classfier_lightning_model = classfier_lightning_model.eval()\n",
    "    calculate_metrics(classfier_lightning_model, test_dataloader)\n",
    "    model_manager.evaluate_best_models(CnnGnnClassifierLightningModel, test_dataloader,True, True, True, True, True, True, True, multi_class=True, model=classifier_torch_model, num_classes=len(class_id))\n",
    "    return model_manager"
   ]
  },
  {
   "cell_type": "code",
   "execution_count": 107,
   "metadata": {},
   "outputs": [
    {
     "data": {
      "text/plain": [
       "2342"
      ]
     },
     "execution_count": 107,
     "metadata": {},
     "output_type": "execute_result"
    }
   ],
   "source": [
    "torch.cuda.empty_cache()\n",
    "import gc\n",
    "gc.collect()"
   ]
  },
  {
   "cell_type": "code",
   "execution_count": 108,
   "metadata": {},
   "outputs": [
    {
     "name": "stderr",
     "output_type": "stream",
     "text": [
      "c:\\Users\\fardin\\AppData\\Local\\Programs\\Python\\Python311\\Lib\\site-packages\\lightning\\pytorch\\utilities\\parsing.py:208: Attribute 'model' is an instance of `nn.Module` and is already saved during checkpointing. It is recommended to ignore them using `self.save_hyperparameters(ignore=['model'])`.\n",
      "c:\\Users\\fardin\\AppData\\Local\\Programs\\Python\\Python311\\Lib\\site-packages\\lightning\\pytorch\\utilities\\parsing.py:208: Attribute 'loss_func' is an instance of `nn.Module` and is already saved during checkpointing. It is recommended to ignore them using `self.save_hyperparameters(ignore=['loss_func'])`.\n",
      "GPU available: True (cuda), used: True\n",
      "TPU available: False, using: 0 TPU cores\n",
      "HPU available: False, using: 0 HPUs\n",
      "You are using a CUDA device ('NVIDIA GeForce RTX 3080') that has Tensor Cores. To properly utilize them, you should set `torch.set_float32_matmul_precision('medium' | 'high')` which will trade-off precision for performance. For more details, read https://pytorch.org/docs/stable/generated/torch.set_float32_matmul_precision.html#torch.set_float32_matmul_precision\n",
      "LOCAL_RANK: 0 - CUDA_VISIBLE_DEVICES: [0]\n",
      "\n",
      "  | Name      | Type                                | Params | Mode \n",
      "--------------------------------------------------------------------------\n",
      "0 | model     | CNN_for_Text_No_Positional_Encoding | 262 K  | train\n",
      "1 | loss_func | BCEWithLogitsLoss                   | 0      | train\n",
      "2 | train_acc | MulticlassAccuracy                  | 0      | train\n",
      "3 | val_acc   | MulticlassAccuracy                  | 0      | train\n",
      "4 | test_acc  | MulticlassAccuracy                  | 0      | train\n",
      "--------------------------------------------------------------------------\n",
      "262 K     Trainable params\n",
      "0         Non-trainable params\n",
      "262 K     Total params\n",
      "1.049     Total estimated model params size (MB)\n",
      "c:\\Users\\fardin\\AppData\\Local\\Programs\\Python\\Python311\\Lib\\site-packages\\lightning\\pytorch\\trainer\\connectors\\data_connector.py:424: The 'train_dataloader' does not have many workers which may be a bottleneck. Consider increasing the value of the `num_workers` argument` to `num_workers=7` in the `DataLoader` to improve performance.\n",
      "c:\\Users\\fardin\\AppData\\Local\\Programs\\Python\\Python311\\Lib\\site-packages\\lightning\\pytorch\\trainer\\connectors\\data_connector.py:424: The 'val_dataloader' does not have many workers which may be a bottleneck. Consider increasing the value of the `num_workers` argument` to `num_workers=7` in the `DataLoader` to improve performance.\n"
     ]
    },
    {
     "data": {
      "application/vnd.jupyter.widget-view+json": {
       "model_id": "65f5feef4b15430281e3c4abfcda3d8f",
       "version_major": 2,
       "version_minor": 0
      },
      "text/plain": [
       "Training: |          | 0/? [00:00<?, ?it/s]"
      ]
     },
     "metadata": {},
     "output_type": "display_data"
    },
    {
     "data": {
      "application/vnd.jupyter.widget-view+json": {
       "model_id": "e9d7fd914a3c43b7a9522f6846d74ec7",
       "version_major": 2,
       "version_minor": 0
      },
      "text/plain": [
       "Validation: |          | 0/? [00:00<?, ?it/s]"
      ]
     },
     "metadata": {},
     "output_type": "display_data"
    },
    {
     "data": {
      "application/vnd.jupyter.widget-view+json": {
       "model_id": "2666390850a64bf8b5b114e36df73b66",
       "version_major": 2,
       "version_minor": 0
      },
      "text/plain": [
       "Validation: |          | 0/? [00:00<?, ?it/s]"
      ]
     },
     "metadata": {},
     "output_type": "display_data"
    },
    {
     "data": {
      "application/vnd.jupyter.widget-view+json": {
       "model_id": "3a0409b82799476f87b5c00a03d0dfec",
       "version_major": 2,
       "version_minor": 0
      },
      "text/plain": [
       "Validation: |          | 0/? [00:00<?, ?it/s]"
      ]
     },
     "metadata": {},
     "output_type": "display_data"
    },
    {
     "data": {
      "application/vnd.jupyter.widget-view+json": {
       "model_id": "0d8847b27aca4b85ac9ff4985163676c",
       "version_major": 2,
       "version_minor": 0
      },
      "text/plain": [
       "Validation: |          | 0/? [00:00<?, ?it/s]"
      ]
     },
     "metadata": {},
     "output_type": "display_data"
    },
    {
     "data": {
      "application/vnd.jupyter.widget-view+json": {
       "model_id": "0a21d712194e465fa34e3b849693e2a4",
       "version_major": 2,
       "version_minor": 0
      },
      "text/plain": [
       "Validation: |          | 0/? [00:00<?, ?it/s]"
      ]
     },
     "metadata": {},
     "output_type": "display_data"
    },
    {
     "data": {
      "application/vnd.jupyter.widget-view+json": {
       "model_id": "4cfadbb8876943a4bacd92f679967954",
       "version_major": 2,
       "version_minor": 0
      },
      "text/plain": [
       "Validation: |          | 0/? [00:00<?, ?it/s]"
      ]
     },
     "metadata": {},
     "output_type": "display_data"
    },
    {
     "data": {
      "application/vnd.jupyter.widget-view+json": {
       "model_id": "8eb98a62ba534f69bccc0411e777ae51",
       "version_major": 2,
       "version_minor": 0
      },
      "text/plain": [
       "Validation: |          | 0/? [00:00<?, ?it/s]"
      ]
     },
     "metadata": {},
     "output_type": "display_data"
    },
    {
     "data": {
      "application/vnd.jupyter.widget-view+json": {
       "model_id": "fde7bb06e7ba49ad92372be2fa3be8a6",
       "version_major": 2,
       "version_minor": 0
      },
      "text/plain": [
       "Validation: |          | 0/? [00:00<?, ?it/s]"
      ]
     },
     "metadata": {},
     "output_type": "display_data"
    },
    {
     "data": {
      "application/vnd.jupyter.widget-view+json": {
       "model_id": "cbf8e1aa33ba4d0b9795d9a1f3c3e07e",
       "version_major": 2,
       "version_minor": 0
      },
      "text/plain": [
       "Validation: |          | 0/? [00:00<?, ?it/s]"
      ]
     },
     "metadata": {},
     "output_type": "display_data"
    },
    {
     "data": {
      "application/vnd.jupyter.widget-view+json": {
       "model_id": "344a9e2982c046d8b0a9e1bb61f52802",
       "version_major": 2,
       "version_minor": 0
      },
      "text/plain": [
       "Validation: |          | 0/? [00:00<?, ?it/s]"
      ]
     },
     "metadata": {},
     "output_type": "display_data"
    },
    {
     "data": {
      "application/vnd.jupyter.widget-view+json": {
       "model_id": "e2edae35dd2b4fad89be01032b1b92af",
       "version_major": 2,
       "version_minor": 0
      },
      "text/plain": [
       "Validation: |          | 0/? [00:00<?, ?it/s]"
      ]
     },
     "metadata": {},
     "output_type": "display_data"
    },
    {
     "data": {
      "application/vnd.jupyter.widget-view+json": {
       "model_id": "6cd35b65476d4d10a2d5444c71d861da",
       "version_major": 2,
       "version_minor": 0
      },
      "text/plain": [
       "Validation: |          | 0/? [00:00<?, ?it/s]"
      ]
     },
     "metadata": {},
     "output_type": "display_data"
    },
    {
     "data": {
      "application/vnd.jupyter.widget-view+json": {
       "model_id": "efee24494494439a9b571c78a41f1d22",
       "version_major": 2,
       "version_minor": 0
      },
      "text/plain": [
       "Validation: |          | 0/? [00:00<?, ?it/s]"
      ]
     },
     "metadata": {},
     "output_type": "display_data"
    },
    {
     "data": {
      "application/vnd.jupyter.widget-view+json": {
       "model_id": "81ee647f105b4747b757cef6e09c809e",
       "version_major": 2,
       "version_minor": 0
      },
      "text/plain": [
       "Validation: |          | 0/? [00:00<?, ?it/s]"
      ]
     },
     "metadata": {},
     "output_type": "display_data"
    },
    {
     "data": {
      "application/vnd.jupyter.widget-view+json": {
       "model_id": "dadc9efc961b477992ed2937865ec3d9",
       "version_major": 2,
       "version_minor": 0
      },
      "text/plain": [
       "Validation: |          | 0/? [00:00<?, ?it/s]"
      ]
     },
     "metadata": {},
     "output_type": "display_data"
    },
    {
     "data": {
      "application/vnd.jupyter.widget-view+json": {
       "model_id": "de791fa0c589499ca939ded516f331e0",
       "version_major": 2,
       "version_minor": 0
      },
      "text/plain": [
       "Validation: |          | 0/? [00:00<?, ?it/s]"
      ]
     },
     "metadata": {},
     "output_type": "display_data"
    },
    {
     "data": {
      "application/vnd.jupyter.widget-view+json": {
       "model_id": "8385d9f18228427ab0bda1cdcfd42773",
       "version_major": 2,
       "version_minor": 0
      },
      "text/plain": [
       "Validation: |          | 0/? [00:00<?, ?it/s]"
      ]
     },
     "metadata": {},
     "output_type": "display_data"
    },
    {
     "data": {
      "application/vnd.jupyter.widget-view+json": {
       "model_id": "de75ebe095d544bca79375fb349002a6",
       "version_major": 2,
       "version_minor": 0
      },
      "text/plain": [
       "Validation: |          | 0/? [00:00<?, ?it/s]"
      ]
     },
     "metadata": {},
     "output_type": "display_data"
    },
    {
     "data": {
      "application/vnd.jupyter.widget-view+json": {
       "model_id": "90d0e4a901944c5fa1f805b518a01607",
       "version_major": 2,
       "version_minor": 0
      },
      "text/plain": [
       "Validation: |          | 0/? [00:00<?, ?it/s]"
      ]
     },
     "metadata": {},
     "output_type": "display_data"
    },
    {
     "data": {
      "application/vnd.jupyter.widget-view+json": {
       "model_id": "0cfdf95f6c534095940b6cdc0d874f45",
       "version_major": 2,
       "version_minor": 0
      },
      "text/plain": [
       "Validation: |          | 0/? [00:00<?, ?it/s]"
      ]
     },
     "metadata": {},
     "output_type": "display_data"
    },
    {
     "data": {
      "application/vnd.jupyter.widget-view+json": {
       "model_id": "30880bacbe4a48038b88040576a286df",
       "version_major": 2,
       "version_minor": 0
      },
      "text/plain": [
       "Validation: |          | 0/? [00:00<?, ?it/s]"
      ]
     },
     "metadata": {},
     "output_type": "display_data"
    },
    {
     "data": {
      "application/vnd.jupyter.widget-view+json": {
       "model_id": "481a18c7c1e049f3a58b6e25ff115827",
       "version_major": 2,
       "version_minor": 0
      },
      "text/plain": [
       "Validation: |          | 0/? [00:00<?, ?it/s]"
      ]
     },
     "metadata": {},
     "output_type": "display_data"
    },
    {
     "data": {
      "application/vnd.jupyter.widget-view+json": {
       "model_id": "f51a031919494721b990d6ea6fd84e25",
       "version_major": 2,
       "version_minor": 0
      },
      "text/plain": [
       "Validation: |          | 0/? [00:00<?, ?it/s]"
      ]
     },
     "metadata": {},
     "output_type": "display_data"
    },
    {
     "data": {
      "application/vnd.jupyter.widget-view+json": {
       "model_id": "d151e0506e894eb78b5333e5fc285bfe",
       "version_major": 2,
       "version_minor": 0
      },
      "text/plain": [
       "Validation: |          | 0/? [00:00<?, ?it/s]"
      ]
     },
     "metadata": {},
     "output_type": "display_data"
    },
    {
     "data": {
      "application/vnd.jupyter.widget-view+json": {
       "model_id": "fb9406a02f0c4b359ff0769eb6d10742",
       "version_major": 2,
       "version_minor": 0
      },
      "text/plain": [
       "Validation: |          | 0/? [00:00<?, ?it/s]"
      ]
     },
     "metadata": {},
     "output_type": "display_data"
    },
    {
     "data": {
      "application/vnd.jupyter.widget-view+json": {
       "model_id": "ac38b5a3368845c0a880a67bed127835",
       "version_major": 2,
       "version_minor": 0
      },
      "text/plain": [
       "Validation: |          | 0/? [00:00<?, ?it/s]"
      ]
     },
     "metadata": {},
     "output_type": "display_data"
    },
    {
     "data": {
      "application/vnd.jupyter.widget-view+json": {
       "model_id": "6de53a149e59423085c3a6c3d35f8384",
       "version_major": 2,
       "version_minor": 0
      },
      "text/plain": [
       "Validation: |          | 0/? [00:00<?, ?it/s]"
      ]
     },
     "metadata": {},
     "output_type": "display_data"
    },
    {
     "data": {
      "application/vnd.jupyter.widget-view+json": {
       "model_id": "2a2ad52e400349b2aaed873e635b129f",
       "version_major": 2,
       "version_minor": 0
      },
      "text/plain": [
       "Validation: |          | 0/? [00:00<?, ?it/s]"
      ]
     },
     "metadata": {},
     "output_type": "display_data"
    },
    {
     "data": {
      "application/vnd.jupyter.widget-view+json": {
       "model_id": "9d1d8064bafc47d5bbee940123281c20",
       "version_major": 2,
       "version_minor": 0
      },
      "text/plain": [
       "Validation: |          | 0/? [00:00<?, ?it/s]"
      ]
     },
     "metadata": {},
     "output_type": "display_data"
    },
    {
     "data": {
      "application/vnd.jupyter.widget-view+json": {
       "model_id": "181652225e3e48968d4f2d3dfb84df1a",
       "version_major": 2,
       "version_minor": 0
      },
      "text/plain": [
       "Validation: |          | 0/? [00:00<?, ?it/s]"
      ]
     },
     "metadata": {},
     "output_type": "display_data"
    },
    {
     "data": {
      "application/vnd.jupyter.widget-view+json": {
       "model_id": "519da9ae08d54d828732080f97d1b5f7",
       "version_major": 2,
       "version_minor": 0
      },
      "text/plain": [
       "Validation: |          | 0/? [00:00<?, ?it/s]"
      ]
     },
     "metadata": {},
     "output_type": "display_data"
    },
    {
     "data": {
      "application/vnd.jupyter.widget-view+json": {
       "model_id": "1b587874f6494676978e9a9af066b562",
       "version_major": 2,
       "version_minor": 0
      },
      "text/plain": [
       "Validation: |          | 0/? [00:00<?, ?it/s]"
      ]
     },
     "metadata": {},
     "output_type": "display_data"
    },
    {
     "data": {
      "application/vnd.jupyter.widget-view+json": {
       "model_id": "c130653531e740789b515e8dd42f2d18",
       "version_major": 2,
       "version_minor": 0
      },
      "text/plain": [
       "Validation: |          | 0/? [00:00<?, ?it/s]"
      ]
     },
     "metadata": {},
     "output_type": "display_data"
    },
    {
     "data": {
      "application/vnd.jupyter.widget-view+json": {
       "model_id": "6dc94fdd58c74b429dd4dad5f57a3a69",
       "version_major": 2,
       "version_minor": 0
      },
      "text/plain": [
       "Validation: |          | 0/? [00:00<?, ?it/s]"
      ]
     },
     "metadata": {},
     "output_type": "display_data"
    },
    {
     "data": {
      "application/vnd.jupyter.widget-view+json": {
       "model_id": "58a78faa4e244a7f92501eca4cd67c49",
       "version_major": 2,
       "version_minor": 0
      },
      "text/plain": [
       "Validation: |          | 0/? [00:00<?, ?it/s]"
      ]
     },
     "metadata": {},
     "output_type": "display_data"
    },
    {
     "data": {
      "application/vnd.jupyter.widget-view+json": {
       "model_id": "cffe100d2cec40dc83b3a3f7c74bceeb",
       "version_major": 2,
       "version_minor": 0
      },
      "text/plain": [
       "Validation: |          | 0/? [00:00<?, ?it/s]"
      ]
     },
     "metadata": {},
     "output_type": "display_data"
    },
    {
     "data": {
      "application/vnd.jupyter.widget-view+json": {
       "model_id": "c4ce21f06b6f4a44ad516a8be90e26c5",
       "version_major": 2,
       "version_minor": 0
      },
      "text/plain": [
       "Validation: |          | 0/? [00:00<?, ?it/s]"
      ]
     },
     "metadata": {},
     "output_type": "display_data"
    },
    {
     "data": {
      "application/vnd.jupyter.widget-view+json": {
       "model_id": "52821b3b73334121a24d512c4afc25da",
       "version_major": 2,
       "version_minor": 0
      },
      "text/plain": [
       "Validation: |          | 0/? [00:00<?, ?it/s]"
      ]
     },
     "metadata": {},
     "output_type": "display_data"
    },
    {
     "data": {
      "application/vnd.jupyter.widget-view+json": {
       "model_id": "c2b37502882847e1aeaa059f32dca32f",
       "version_major": 2,
       "version_minor": 0
      },
      "text/plain": [
       "Validation: |          | 0/? [00:00<?, ?it/s]"
      ]
     },
     "metadata": {},
     "output_type": "display_data"
    },
    {
     "data": {
      "application/vnd.jupyter.widget-view+json": {
       "model_id": "95a331a973144977ad4a42f9007f5725",
       "version_major": 2,
       "version_minor": 0
      },
      "text/plain": [
       "Validation: |          | 0/? [00:00<?, ?it/s]"
      ]
     },
     "metadata": {},
     "output_type": "display_data"
    },
    {
     "data": {
      "application/vnd.jupyter.widget-view+json": {
       "model_id": "f930aa0c66e64e9483c035f227c8151e",
       "version_major": 2,
       "version_minor": 0
      },
      "text/plain": [
       "Validation: |          | 0/? [00:00<?, ?it/s]"
      ]
     },
     "metadata": {},
     "output_type": "display_data"
    },
    {
     "data": {
      "application/vnd.jupyter.widget-view+json": {
       "model_id": "6f8be775a00c4f5d920f68cdc22bf5d6",
       "version_major": 2,
       "version_minor": 0
      },
      "text/plain": [
       "Validation: |          | 0/? [00:00<?, ?it/s]"
      ]
     },
     "metadata": {},
     "output_type": "display_data"
    },
    {
     "data": {
      "application/vnd.jupyter.widget-view+json": {
       "model_id": "7d1f970d39c54256a072050b8c0a6216",
       "version_major": 2,
       "version_minor": 0
      },
      "text/plain": [
       "Validation: |          | 0/? [00:00<?, ?it/s]"
      ]
     },
     "metadata": {},
     "output_type": "display_data"
    },
    {
     "data": {
      "application/vnd.jupyter.widget-view+json": {
       "model_id": "7b4ce0c086784010925a28c7c839c436",
       "version_major": 2,
       "version_minor": 0
      },
      "text/plain": [
       "Validation: |          | 0/? [00:00<?, ?it/s]"
      ]
     },
     "metadata": {},
     "output_type": "display_data"
    },
    {
     "data": {
      "application/vnd.jupyter.widget-view+json": {
       "model_id": "061b8f60c3be44c0978348a28b59e8fa",
       "version_major": 2,
       "version_minor": 0
      },
      "text/plain": [
       "Validation: |          | 0/? [00:00<?, ?it/s]"
      ]
     },
     "metadata": {},
     "output_type": "display_data"
    },
    {
     "data": {
      "application/vnd.jupyter.widget-view+json": {
       "model_id": "78221ed561a94f33a1739eb6d8a7996d",
       "version_major": 2,
       "version_minor": 0
      },
      "text/plain": [
       "Validation: |          | 0/? [00:00<?, ?it/s]"
      ]
     },
     "metadata": {},
     "output_type": "display_data"
    },
    {
     "data": {
      "application/vnd.jupyter.widget-view+json": {
       "model_id": "b10cb25f6d694bba987749299f67c654",
       "version_major": 2,
       "version_minor": 0
      },
      "text/plain": [
       "Validation: |          | 0/? [00:00<?, ?it/s]"
      ]
     },
     "metadata": {},
     "output_type": "display_data"
    },
    {
     "data": {
      "application/vnd.jupyter.widget-view+json": {
       "model_id": "4f28a2065de749d8971395f13a918fbf",
       "version_major": 2,
       "version_minor": 0
      },
      "text/plain": [
       "Validation: |          | 0/? [00:00<?, ?it/s]"
      ]
     },
     "metadata": {},
     "output_type": "display_data"
    },
    {
     "data": {
      "application/vnd.jupyter.widget-view+json": {
       "model_id": "8418963620cf47528a839f7c9ffd0305",
       "version_major": 2,
       "version_minor": 0
      },
      "text/plain": [
       "Validation: |          | 0/? [00:00<?, ?it/s]"
      ]
     },
     "metadata": {},
     "output_type": "display_data"
    },
    {
     "data": {
      "application/vnd.jupyter.widget-view+json": {
       "model_id": "57dd2152d93f4339b82e1f1b7e9ca287",
       "version_major": 2,
       "version_minor": 0
      },
      "text/plain": [
       "Validation: |          | 0/? [00:00<?, ?it/s]"
      ]
     },
     "metadata": {},
     "output_type": "display_data"
    },
    {
     "data": {
      "application/vnd.jupyter.widget-view+json": {
       "model_id": "3c00df622bf9463d978462165d3ffb61",
       "version_major": 2,
       "version_minor": 0
      },
      "text/plain": [
       "Validation: |          | 0/? [00:00<?, ?it/s]"
      ]
     },
     "metadata": {},
     "output_type": "display_data"
    },
    {
     "data": {
      "application/vnd.jupyter.widget-view+json": {
       "model_id": "e09bd89499aa45b4aa5e597805873d08",
       "version_major": 2,
       "version_minor": 0
      },
      "text/plain": [
       "Validation: |          | 0/? [00:00<?, ?it/s]"
      ]
     },
     "metadata": {},
     "output_type": "display_data"
    },
    {
     "data": {
      "application/vnd.jupyter.widget-view+json": {
       "model_id": "962ab378b2b644ce9ae9d3985b8810d1",
       "version_major": 2,
       "version_minor": 0
      },
      "text/plain": [
       "Validation: |          | 0/? [00:00<?, ?it/s]"
      ]
     },
     "metadata": {},
     "output_type": "display_data"
    },
    {
     "data": {
      "application/vnd.jupyter.widget-view+json": {
       "model_id": "967f660359b647579109daf56b245b14",
       "version_major": 2,
       "version_minor": 0
      },
      "text/plain": [
       "Validation: |          | 0/? [00:00<?, ?it/s]"
      ]
     },
     "metadata": {},
     "output_type": "display_data"
    },
    {
     "data": {
      "application/vnd.jupyter.widget-view+json": {
       "model_id": "9419b0bbdde7460384632fc74d4b216c",
       "version_major": 2,
       "version_minor": 0
      },
      "text/plain": [
       "Validation: |          | 0/? [00:00<?, ?it/s]"
      ]
     },
     "metadata": {},
     "output_type": "display_data"
    },
    {
     "data": {
      "application/vnd.jupyter.widget-view+json": {
       "model_id": "5a79189cc0dc42429495cacf27bcdcaf",
       "version_major": 2,
       "version_minor": 0
      },
      "text/plain": [
       "Validation: |          | 0/? [00:00<?, ?it/s]"
      ]
     },
     "metadata": {},
     "output_type": "display_data"
    },
    {
     "data": {
      "application/vnd.jupyter.widget-view+json": {
       "model_id": "241f3d6f1a5e444887c38939aed6e8d5",
       "version_major": 2,
       "version_minor": 0
      },
      "text/plain": [
       "Validation: |          | 0/? [00:00<?, ?it/s]"
      ]
     },
     "metadata": {},
     "output_type": "display_data"
    },
    {
     "data": {
      "application/vnd.jupyter.widget-view+json": {
       "model_id": "45336f5950644f36b97f75f544faf294",
       "version_major": 2,
       "version_minor": 0
      },
      "text/plain": [
       "Validation: |          | 0/? [00:00<?, ?it/s]"
      ]
     },
     "metadata": {},
     "output_type": "display_data"
    },
    {
     "data": {
      "application/vnd.jupyter.widget-view+json": {
       "model_id": "33982d0e574c4dce8c90150ce639d98c",
       "version_major": 2,
       "version_minor": 0
      },
      "text/plain": [
       "Validation: |          | 0/? [00:00<?, ?it/s]"
      ]
     },
     "metadata": {},
     "output_type": "display_data"
    },
    {
     "data": {
      "application/vnd.jupyter.widget-view+json": {
       "model_id": "158ba5a4909849c29311f905bbfd1c96",
       "version_major": 2,
       "version_minor": 0
      },
      "text/plain": [
       "Validation: |          | 0/? [00:00<?, ?it/s]"
      ]
     },
     "metadata": {},
     "output_type": "display_data"
    },
    {
     "data": {
      "application/vnd.jupyter.widget-view+json": {
       "model_id": "1c3baa8f631c47ecb6de94fb6485824a",
       "version_major": 2,
       "version_minor": 0
      },
      "text/plain": [
       "Validation: |          | 0/? [00:00<?, ?it/s]"
      ]
     },
     "metadata": {},
     "output_type": "display_data"
    },
    {
     "data": {
      "application/vnd.jupyter.widget-view+json": {
       "model_id": "868cc6f2544541b1b3e85d4443e5b242",
       "version_major": 2,
       "version_minor": 0
      },
      "text/plain": [
       "Validation: |          | 0/? [00:00<?, ?it/s]"
      ]
     },
     "metadata": {},
     "output_type": "display_data"
    },
    {
     "data": {
      "application/vnd.jupyter.widget-view+json": {
       "model_id": "c8f63718608943e183ca2ed196807f1e",
       "version_major": 2,
       "version_minor": 0
      },
      "text/plain": [
       "Validation: |          | 0/? [00:00<?, ?it/s]"
      ]
     },
     "metadata": {},
     "output_type": "display_data"
    },
    {
     "data": {
      "application/vnd.jupyter.widget-view+json": {
       "model_id": "e06ab2d366fe4c57af6b6ac38368c703",
       "version_major": 2,
       "version_minor": 0
      },
      "text/plain": [
       "Validation: |          | 0/? [00:00<?, ?it/s]"
      ]
     },
     "metadata": {},
     "output_type": "display_data"
    },
    {
     "data": {
      "application/vnd.jupyter.widget-view+json": {
       "model_id": "4c48a7fdd0a9452aab319bc74e037d6f",
       "version_major": 2,
       "version_minor": 0
      },
      "text/plain": [
       "Validation: |          | 0/? [00:00<?, ?it/s]"
      ]
     },
     "metadata": {},
     "output_type": "display_data"
    },
    {
     "data": {
      "application/vnd.jupyter.widget-view+json": {
       "model_id": "f9c80b25993c4fbba48741e534cd8180",
       "version_major": 2,
       "version_minor": 0
      },
      "text/plain": [
       "Validation: |          | 0/? [00:00<?, ?it/s]"
      ]
     },
     "metadata": {},
     "output_type": "display_data"
    },
    {
     "data": {
      "application/vnd.jupyter.widget-view+json": {
       "model_id": "30d998a7bb5640d6be4ca1a11aa66cbb",
       "version_major": 2,
       "version_minor": 0
      },
      "text/plain": [
       "Validation: |          | 0/? [00:00<?, ?it/s]"
      ]
     },
     "metadata": {},
     "output_type": "display_data"
    },
    {
     "data": {
      "application/vnd.jupyter.widget-view+json": {
       "model_id": "277aac3aab8b4d74a982e46b17fe250e",
       "version_major": 2,
       "version_minor": 0
      },
      "text/plain": [
       "Validation: |          | 0/? [00:00<?, ?it/s]"
      ]
     },
     "metadata": {},
     "output_type": "display_data"
    },
    {
     "data": {
      "application/vnd.jupyter.widget-view+json": {
       "model_id": "d95aafa0d6104de7838efc41e6f4f13b",
       "version_major": 2,
       "version_minor": 0
      },
      "text/plain": [
       "Validation: |          | 0/? [00:00<?, ?it/s]"
      ]
     },
     "metadata": {},
     "output_type": "display_data"
    },
    {
     "data": {
      "application/vnd.jupyter.widget-view+json": {
       "model_id": "2a0dac6889494a53933be6faef7e4cfc",
       "version_major": 2,
       "version_minor": 0
      },
      "text/plain": [
       "Validation: |          | 0/? [00:00<?, ?it/s]"
      ]
     },
     "metadata": {},
     "output_type": "display_data"
    },
    {
     "name": "stderr",
     "output_type": "stream",
     "text": [
      "`Trainer.fit` stopped: `max_epochs=70` reached.\n"
     ]
    },
    {
     "name": "stdout",
     "output_type": "stream",
     "text": [
      "torch.Size([25088, 2])\n",
      "torch.Size([25088, 2])\n",
      "torch.Size([25088])\n",
      "torch.Size([25088])\n"
     ]
    },
    {
     "name": "stderr",
     "output_type": "stream",
     "text": [
      "100%|██████████| 112/112 [00:13<00:00,  8.02it/s]\n"
     ]
    },
    {
     "name": "stdout",
     "output_type": "stream",
     "text": [
      "classification report: \n",
      "               precision    recall  f1-score   support\n",
      "\n",
      "           0     0.9371    0.8616    0.8978     12544\n",
      "           1     0.8719    0.9422    0.9057     12544\n",
      "\n",
      "    accuracy                         0.9019     25088\n",
      "   macro avg     0.9045    0.9019    0.9017     25088\n",
      "weighted avg     0.9045    0.9019    0.9017     25088\n",
      "\n",
      "confusion matrix:\n",
      " tensor([[10808,  1736],\n",
      "        [  725, 11819]])\n",
      "================================\n"
     ]
    },
    {
     "name": "stderr",
     "output_type": "stream",
     "text": [
      "c:\\Users\\fardin\\AppData\\Local\\Programs\\Python\\Python311\\Lib\\site-packages\\lightning\\pytorch\\utilities\\parsing.py:208: Attribute 'model' is an instance of `nn.Module` and is already saved during checkpointing. It is recommended to ignore them using `self.save_hyperparameters(ignore=['model'])`.\n",
      "c:\\Users\\fardin\\AppData\\Local\\Programs\\Python\\Python311\\Lib\\site-packages\\lightning\\pytorch\\utilities\\parsing.py:208: Attribute 'loss_func' is an instance of `nn.Module` and is already saved during checkpointing. It is recommended to ignore them using `self.save_hyperparameters(ignore=['loss_func'])`.\n"
     ]
    },
    {
     "name": "stdout",
     "output_type": "stream",
     "text": [
      "torch.Size([25088, 2])\n",
      "torch.Size([25088, 2])\n",
      "torch.Size([25088])\n",
      "torch.Size([25088])\n"
     ]
    },
    {
     "data": {
      "image/png": "[encoded data removed]",
      "text/plain": [
       "<Figure size 640x480 with 1 Axes>"
      ]
     },
     "metadata": {},
     "output_type": "display_data"
    }
   ],
   "source": [
    "model_manager = train_model(70, 0.2, 0.000012, 0.0032, use_positional_encoder=[False, False, False])"
   ]
  },
  {
   "cell_type": "code",
   "execution_count": 113,
   "metadata": {},
   "outputs": [],
   "source": [
    "def calculatge_metrics(chpt_path, target_data_loader):\n",
    "        classifier_torch_model = CNN_for_Text_No_Positional_Encoding(num_embedding=num_embedding, hidden_dim=hidden_dim, embedding_dim=embedding_dim, pos_emb_size=4096, dropout=0.2, num_out_features=len(class_id), seed=seed, random_edges=4, lattice_edges=8, lattice_step=2, virtual_nodes=0, lattice_start_distance=2)\n",
    "        classfier_lightning_model = CnnGnnClassifierLightningModel.load_from_checkpoint(chpt_path, model=classifier_torch_model, num_classes=len(class_id)).eval()\n",
    "        mean_infer_acc = []\n",
    "        mean_infer_f1 = []\n",
    "        mean_infer_prec = []\n",
    "        mean_infer_rec = []\n",
    "        for i in range(5):\n",
    "            all_ys = []\n",
    "            all_y_preds = []\n",
    "            for X, y in target_data_loader:\n",
    "                with torch.no_grad():\n",
    "                    y_pred = classfier_lightning_model(X.to(device))\n",
    "                all_ys.append(torch.argmax(y,dim=1))\n",
    "                all_y_preds.append(torch.argmax(y_pred.cpu(), dim=1))\n",
    "            all_ys = torch.concat(all_ys)\n",
    "            all_y_preds = torch.concat(all_y_preds)\n",
    "            \n",
    "            cm = confusion_matrix(all_ys, all_y_preds)\n",
    "            \n",
    "            accuracy = np.sum(np.diag(cm))/ np.sum(cm)\n",
    "            precision = np.mean(np.diag(cm) / np.sum(cm, axis=0))\n",
    "            recall = np.mean(np.diag(cm) / np.sum(cm, axis=1))\n",
    "            f1_score = (2*precision*recall)/(precision + recall)\n",
    "            \n",
    "            mean_infer_acc.append(accuracy)\n",
    "            mean_infer_f1.append(f1_score)\n",
    "            mean_infer_prec.append(precision)\n",
    "            mean_infer_rec.append(recall)\n",
    "        mean_infer_acc = torch.mean(torch.tensor(mean_infer_acc))\n",
    "        mean_infer_f1 = torch.mean(torch.tensor(mean_infer_f1))\n",
    "        mean_infer_prec = torch.mean(torch.tensor(mean_infer_prec))\n",
    "        mean_infer_rec = torch.mean(torch.tensor(mean_infer_rec))\n",
    "        return mean_infer_acc, mean_infer_f1, mean_infer_prec, mean_infer_rec"
   ]
  },
  {
   "cell_type": "code",
   "execution_count": 114,
   "metadata": {},
   "outputs": [],
   "source": [
    "from os import listdir\n",
    "from os.path import isfile, join\n",
    "def get_best_chpt(metrics_path, epoch_numbers):\n",
    "    epoch_data = pd.read_csv(metrics_path)\n",
    "    if 'val_acc_epoch' in epoch_data.columns and epoch_data['val_acc_epoch'].notna().any():\n",
    "        best_chpt = epoch_data.loc[epoch_data['val_acc_epoch'].idxmax()]\n",
    "    elif 'val_loss_epoch' in epoch_data.columns and epoch_data['val_loss_epoch'].notna().any():\n",
    "        best_chpt = epoch_data.loc[epoch_data['val_loss_epoch'].idxmin()]\n",
    "    else:\n",
    "        raise ValueError(f\"No valid validation metrics available for epoch {epoch_numbers}.\")\n",
    "    return np.argwhere(np.array(epoch_numbers)==best_chpt['epoch']).item(), best_chpt['val_loss_epoch']"
   ]
  },
  {
   "cell_type": "code",
   "execution_count": 115,
   "metadata": {},
   "outputs": [],
   "source": [
    "def calculate_average_metrics_mean(base_path = 'logs\\CNN-GNN18_mr2k_seeds'):\n",
    "    total_accuracy = []\n",
    "    total_f1 = []\n",
    "    total_prec = []\n",
    "    total_rec = []\n",
    "    total_loss = []\n",
    "    \n",
    "    for i in range(1):\n",
    "        version_path = join(base_path, f'version_{i}')\n",
    "        checkpoint_path = join(version_path, f'checkpoints')\n",
    "        onlyfiles  = [f for f in listdir(checkpoint_path) if (isfile(join(checkpoint_path, f)) and 'epoch' in f) ]\n",
    "        epoch_numbers = [int(re.search(r'\\d+', f).group()) for f in onlyfiles]\n",
    "        best_chpt_id, loss = get_best_chpt(join(version_path, 'metrics.csv'), epoch_numbers)\n",
    "        print(onlyfiles[best_chpt_id])\n",
    "        mean_infer_acc, mean_infer_f1, mean_infer_prec, mean_infer_rec = calculatge_metrics(join(checkpoint_path, f'{onlyfiles[best_chpt_id]}'), test_dataloader)\n",
    "            \n",
    "        total_accuracy.append(mean_infer_acc)\n",
    "        total_f1.append(mean_infer_f1)\n",
    "        total_prec.append(mean_infer_prec)\n",
    "        total_rec.append(mean_infer_rec)\n",
    "        total_loss.append(loss)\n",
    "\n",
    "    total_accuracy = torch.mean(torch.tensor(total_accuracy))\n",
    "    total_f1 = torch.mean(torch.tensor(total_f1))\n",
    "    total_prec = torch.mean(torch.tensor(total_prec))\n",
    "    total_rec = torch.mean(torch.tensor(total_rec))\n",
    "    total_loss = torch.mean(torch.tensor(total_loss))\n",
    "    print(f'total_accuracy: {total_accuracy}')\n",
    "    print(f'total_f1: {total_f1}')\n",
    "    print(f'total_prec: {total_prec}')\n",
    "    print(f'total_rec: {total_rec}')\n",
    "    print(f'total_loss: {total_loss}')"
   ]
  },
  {
   "cell_type": "code",
   "execution_count": 117,
   "metadata": {},
   "outputs": [
    {
     "name": "stdout",
     "output_type": "stream",
     "text": [
      "epoch=19-step=2240.ckpt\n"
     ]
    },
    {
     "name": "stderr",
     "output_type": "stream",
     "text": [
      "c:\\Users\\fardin\\AppData\\Local\\Programs\\Python\\Python311\\Lib\\site-packages\\lightning\\pytorch\\utilities\\parsing.py:208: Attribute 'model' is an instance of `nn.Module` and is already saved during checkpointing. It is recommended to ignore them using `self.save_hyperparameters(ignore=['model'])`.\n",
      "c:\\Users\\fardin\\AppData\\Local\\Programs\\Python\\Python311\\Lib\\site-packages\\lightning\\pytorch\\utilities\\parsing.py:208: Attribute 'loss_func' is an instance of `nn.Module` and is already saved during checkpointing. It is recommended to ignore them using `self.save_hyperparameters(ignore=['loss_func'])`.\n"
     ]
    },
    {
     "name": "stdout",
     "output_type": "stream",
     "text": [
      "total_accuracy: 0.9084024234693878\n",
      "total_f1: 0.9084767725069568\n",
      "total_prec: 0.9085511339076053\n",
      "total_rec: 0.9084024234693878\n",
      "total_loss: 0.2442921549081802\n"
     ]
    }
   ],
   "source": [
    "calculate_average_metrics_mean(r'logs\\CNN-GNN_False_False_False')"
   ]
  },
  {
   "cell_type": "code",
   "execution_count": 208,
   "metadata": {},
   "outputs": [],
   "source": [
    "import captum\n",
    "\n",
    "\n",
    "import torch.nn as nn\n",
    "import torch.nn.functional as F\n",
    "\n",
    "\n",
    "from captum.attr import LayerIntegratedGradients, TokenReferenceBase, visualization, IntegratedGradients\n",
    "from torch_geometric.nn.models.captum import to_captum_model, CaptumModel\n",
    "from torch_geometric.explain.algorithm import CaptumExplainer"
   ]
  },
  {
   "cell_type": "code",
   "execution_count": null,
   "metadata": {},
   "outputs": [],
   "source": []
  },
  {
   "cell_type": "code",
   "execution_count": 194,
   "metadata": {},
   "outputs": [],
   "source": [
    "def load_model(base_path = 'logs\\CNN-GNN18_mr2k_seeds', version=0):\n",
    "        version_path = join(base_path, f'version_{version}')\n",
    "        checkpoint_path = join(version_path, f'checkpoints')\n",
    "        onlyfiles  = [f for f in listdir(checkpoint_path) if (isfile(join(checkpoint_path, f)) and 'epoch' in f) ]\n",
    "        epoch_numbers = [int(re.search(r'\\d+', f).group()) for f in onlyfiles]\n",
    "        best_chpt_id, loss = get_best_chpt(join(version_path, 'metrics.csv'), epoch_numbers)\n",
    "        chpt_path = join(checkpoint_path, f'{onlyfiles[best_chpt_id]}')\n",
    "        classifier_torch_model = CNN_for_Text_No_Positional_Encoding(num_embedding=num_embedding, hidden_dim=hidden_dim, embedding_dim=embedding_dim, pos_emb_size=4096, dropout=0.2, num_out_features=len(class_id), seed=seed, random_edges=4, lattice_edges=8, lattice_step=2, virtual_nodes=0, lattice_start_distance=2)\n",
    "        classfier_lightning_model = CnnGnnClassifierLightningModel.load_from_checkpoint(chpt_path, model=classifier_torch_model, num_classes=len(class_id)).eval()\n",
    "        return classfier_lightning_model"
   ]
  },
  {
   "cell_type": "code",
   "execution_count": 119,
   "metadata": {},
   "outputs": [
    {
     "name": "stderr",
     "output_type": "stream",
     "text": [
      "c:\\Users\\fardin\\AppData\\Local\\Programs\\Python\\Python311\\Lib\\site-packages\\lightning\\pytorch\\utilities\\parsing.py:208: Attribute 'model' is an instance of `nn.Module` and is already saved during checkpointing. It is recommended to ignore them using `self.save_hyperparameters(ignore=['model'])`.\n",
      "c:\\Users\\fardin\\AppData\\Local\\Programs\\Python\\Python311\\Lib\\site-packages\\lightning\\pytorch\\utilities\\parsing.py:208: Attribute 'loss_func' is an instance of `nn.Module` and is already saved during checkpointing. It is recommended to ignore them using `self.save_hyperparameters(ignore=['loss_func'])`.\n"
     ]
    }
   ],
   "source": [
    "model = load_model(r'logs\\CNN-GNN_False_False_False', 0)"
   ]
  },
  {
   "cell_type": "code",
   "execution_count": 121,
   "metadata": {},
   "outputs": [],
   "source": [
    "model = model.model"
   ]
  },
  {
   "cell_type": "code",
   "execution_count": null,
   "metadata": {},
   "outputs": [],
   "source": [
    "CaptumModel"
   ]
  },
  {
   "cell_type": "code",
   "execution_count": 205,
   "metadata": {},
   "outputs": [],
   "source": [
    "captum_model = to_captum_model(model)"
   ]
  },
  {
   "cell_type": "code",
   "execution_count": 195,
   "metadata": {},
   "outputs": [],
   "source": [
    "lig = LayerIntegratedGradients(model, model.embedding)"
   ]
  },
  {
   "cell_type": "code",
   "execution_count": 215,
   "metadata": {},
   "outputs": [],
   "source": [
    "\n",
    "captum_exp = CaptumExplainer(IntegratedGradients)"
   ]
  },
  {
   "cell_type": "code",
   "execution_count": null,
   "metadata": {},
   "outputs": [],
   "source": [
    "captum_exp()"
   ]
  },
  {
   "cell_type": "code",
   "execution_count": 213,
   "metadata": {},
   "outputs": [],
   "source": [
    "# accumalate couple samples in this array for visualization purposes\n",
    "\n",
    "def prepare_input_indices(graph, id_char_dict):\n",
    "    \n",
    "    characters = [id_char_dict[i.item()] for i in graph.x]\n",
    "    tokens = ['']*len(graph.token_indices)\n",
    "    for i, j in enumerate(graph.token_indices):\n",
    "        j = j.item()\n",
    "        tokens[j] += id_char_dict[graph.x[i].item()]\n",
    "    ref_graph = deepcopy(graph)\n",
    "    ref_graph.x = torch.ones_like(graph.x) * list(id_char_dict.keys())[-1]\n",
    "\n",
    "    return graph, ref_graph, tokens, characters\n",
    "\n",
    "\n",
    "token_reference = TokenReferenceBase(reference_token_idx=211)\n",
    "vis_data_records_ig = []\n",
    "\n",
    "def interpret_sentence(model, target_dataset, id_char_dict, min_len = 7, label = 0, visualize_on_tokens=False):\n",
    "    graph, label = next(iter(target_dataset))\n",
    "    label = label.argmax().item()\n",
    "    graph.cumulative_token_indices = graph.token_indices\n",
    "\n",
    "    graph, ref_graph, tokens, characters = prepare_input_indices(graph, id_char_dict)\n",
    "    #[tok.text for tok in tokenizer(sentence.lower())]\n",
    "    \n",
    "    graph = Batch.from_data_list([graph])\n",
    "    \n",
    "    model.zero_grad()\n",
    "    # predict\n",
    "    pred = torch.softmax(model.model(graph.to(device)), dim=1).detach()\n",
    "    pred_ind = torch.argmax(pred).item()\n",
    "\n",
    "    seq_length = min_len\n",
    "    # generate reference indices for each sample\n",
    "    reference_indices = token_reference.generate_reference(seq_length, device=device).unsqueeze(0)\n",
    "\n",
    "    # compute attributions and approximation delta using layer integrated gradients\n",
    "    attributions_ig, delta = lig.attribute(graph, ref_graph.x, \\\n",
    "                                           n_steps=500, return_convergence_delta=True,\n",
    "                                           target=label)\n",
    "    \n",
    "    captum_exp = CaptumExplainer(IntegratedGradients)\n",
    "\n",
    "    print(f'true: {id_class[label]}({label}), pred: {id_class[pred_ind]}({pred_ind}), max delta: {delta}')\n",
    "    \n",
    "    print(f'text: {tokens}, attributions_ig: {attributions_ig.shape}, label: {label}, delta: {delta}')\n",
    "\n",
    "    \n",
    "    if visualize_on_tokens:\n",
    "        add_attributions_to_visualizer(attributions_ig, tokens, pred[0,pred_ind], pred_ind, label, delta, vis_data_records_ig)\n",
    "    else:\n",
    "        add_attributions_to_visualizer(attributions_ig, characters, pred[0,pred_ind], pred_ind, label, delta, vis_data_records_ig)\n",
    "            \n",
    "def add_attributions_to_visualizer(attributions, text, pred, pred_ind, label, delta, vis_data_records):\n",
    "    attributions = attributions.sum(dim=2).squeeze(0)\n",
    "    attributions = attributions / torch.norm(attributions)\n",
    "    attributions = attributions.cpu().detach().numpy()\n",
    "\n",
    "    # storing couple samples in an array for visualization purposes\n",
    "    vis_data_records.append(visualization.VisualizationDataRecord(\n",
    "                            attributions,\n",
    "                            pred,\n",
    "                            id_class[pred_ind],\n",
    "                            id_class[label],\n",
    "                            id_class[1],\n",
    "                            attributions.sum(),\n",
    "                            text,\n",
    "                            delta))"
   ]
  },
  {
   "cell_type": "code",
   "execution_count": 214,
   "metadata": {},
   "outputs": [
    {
     "ename": "AssertionError",
     "evalue": "`inputs` must be a torch.Tensor or a tuple[torch.Tensor] but found: <class 'torch_geometric.data.batch.DataBatch'>",
     "output_type": "error",
     "traceback": [
      "\u001b[1;31m---------------------------------------------------------------------------\u001b[0m",
      "\u001b[1;31mAssertionError\u001b[0m                            Traceback (most recent call last)",
      "\u001b[1;32mc:\\Users\\fardin\\Projects\\CGNet\\FindBestModel\\5_LayersAttributionOnOutput\\with_positional_encoding.ipynb Cell 68\u001b[0m line \u001b[0;36m1\n\u001b[1;32m----> <a href='vscode-notebook-cell:/c%3A/Users/fardin/Projects/CGNet/FindBestModel/5_LayersAttributionOnOutput/with_positional_encoding.ipynb#Y213sZmlsZQ%3D%3D?line=0'>1</a>\u001b[0m interpret_sentence(captum_model, test_dataset, vocab_dict_rev, \u001b[39m7\u001b[39;49m, \u001b[39m1\u001b[39;49m)\n",
      "\u001b[1;32mc:\\Users\\fardin\\Projects\\CGNet\\FindBestModel\\5_LayersAttributionOnOutput\\with_positional_encoding.ipynb Cell 68\u001b[0m line \u001b[0;36m3\n\u001b[0;32m     <a href='vscode-notebook-cell:/c%3A/Users/fardin/Projects/CGNet/FindBestModel/5_LayersAttributionOnOutput/with_positional_encoding.ipynb#Y213sZmlsZQ%3D%3D?line=35'>36</a>\u001b[0m reference_indices \u001b[39m=\u001b[39m token_reference\u001b[39m.\u001b[39mgenerate_reference(seq_length, device\u001b[39m=\u001b[39mdevice)\u001b[39m.\u001b[39munsqueeze(\u001b[39m0\u001b[39m)\n\u001b[0;32m     <a href='vscode-notebook-cell:/c%3A/Users/fardin/Projects/CGNet/FindBestModel/5_LayersAttributionOnOutput/with_positional_encoding.ipynb#Y213sZmlsZQ%3D%3D?line=37'>38</a>\u001b[0m \u001b[39m# compute attributions and approximation delta using layer integrated gradients\u001b[39;00m\n\u001b[1;32m---> <a href='vscode-notebook-cell:/c%3A/Users/fardin/Projects/CGNet/FindBestModel/5_LayersAttributionOnOutput/with_positional_encoding.ipynb#Y213sZmlsZQ%3D%3D?line=38'>39</a>\u001b[0m attributions_ig, delta \u001b[39m=\u001b[39m lig\u001b[39m.\u001b[39;49mattribute(graph, ref_graph\u001b[39m.\u001b[39;49mx, \\\n\u001b[0;32m     <a href='vscode-notebook-cell:/c%3A/Users/fardin/Projects/CGNet/FindBestModel/5_LayersAttributionOnOutput/with_positional_encoding.ipynb#Y213sZmlsZQ%3D%3D?line=39'>40</a>\u001b[0m                                        n_steps\u001b[39m=\u001b[39;49m\u001b[39m500\u001b[39;49m, return_convergence_delta\u001b[39m=\u001b[39;49m\u001b[39mTrue\u001b[39;49;00m,\n\u001b[0;32m     <a href='vscode-notebook-cell:/c%3A/Users/fardin/Projects/CGNet/FindBestModel/5_LayersAttributionOnOutput/with_positional_encoding.ipynb#Y213sZmlsZQ%3D%3D?line=40'>41</a>\u001b[0m                                        target\u001b[39m=\u001b[39;49mlabel)\n\u001b[0;32m     <a href='vscode-notebook-cell:/c%3A/Users/fardin/Projects/CGNet/FindBestModel/5_LayersAttributionOnOutput/with_positional_encoding.ipynb#Y213sZmlsZQ%3D%3D?line=42'>43</a>\u001b[0m \u001b[39mprint\u001b[39m(\u001b[39mf\u001b[39m\u001b[39m'\u001b[39m\u001b[39mtrue: \u001b[39m\u001b[39m{\u001b[39;00mid_class[label]\u001b[39m}\u001b[39;00m\u001b[39m(\u001b[39m\u001b[39m{\u001b[39;00mlabel\u001b[39m}\u001b[39;00m\u001b[39m), pred: \u001b[39m\u001b[39m{\u001b[39;00mid_class[pred_ind]\u001b[39m}\u001b[39;00m\u001b[39m(\u001b[39m\u001b[39m{\u001b[39;00mpred_ind\u001b[39m}\u001b[39;00m\u001b[39m), max delta: \u001b[39m\u001b[39m{\u001b[39;00mdelta\u001b[39m}\u001b[39;00m\u001b[39m'\u001b[39m)\n\u001b[0;32m     <a href='vscode-notebook-cell:/c%3A/Users/fardin/Projects/CGNet/FindBestModel/5_LayersAttributionOnOutput/with_positional_encoding.ipynb#Y213sZmlsZQ%3D%3D?line=44'>45</a>\u001b[0m \u001b[39mprint\u001b[39m(\u001b[39mf\u001b[39m\u001b[39m'\u001b[39m\u001b[39mtext: \u001b[39m\u001b[39m{\u001b[39;00mtokens\u001b[39m}\u001b[39;00m\u001b[39m, attributions_ig: \u001b[39m\u001b[39m{\u001b[39;00mattributions_ig\u001b[39m.\u001b[39mshape\u001b[39m}\u001b[39;00m\u001b[39m, label: \u001b[39m\u001b[39m{\u001b[39;00mlabel\u001b[39m}\u001b[39;00m\u001b[39m, delta: \u001b[39m\u001b[39m{\u001b[39;00mdelta\u001b[39m}\u001b[39;00m\u001b[39m'\u001b[39m)\n",
      "File \u001b[1;32mc:\\Users\\fardin\\AppData\\Local\\Programs\\Python\\Python311\\Lib\\site-packages\\captum\\log\\__init__.py:42\u001b[0m, in \u001b[0;36mlog_usage.<locals>._log_usage.<locals>.wrapper\u001b[1;34m(*args, **kwargs)\u001b[0m\n\u001b[0;32m     40\u001b[0m \u001b[39m@wraps\u001b[39m(func)\n\u001b[0;32m     41\u001b[0m \u001b[39mdef\u001b[39;00m \u001b[39mwrapper\u001b[39m(\u001b[39m*\u001b[39margs, \u001b[39m*\u001b[39m\u001b[39m*\u001b[39mkwargs):\n\u001b[1;32m---> 42\u001b[0m     \u001b[39mreturn\u001b[39;00m func(\u001b[39m*\u001b[39;49margs, \u001b[39m*\u001b[39;49m\u001b[39m*\u001b[39;49mkwargs)\n",
      "File \u001b[1;32mc:\\Users\\fardin\\AppData\\Local\\Programs\\Python\\Python311\\Lib\\site-packages\\captum\\attr\\_core\\layer\\layer_integrated_gradients.py:355\u001b[0m, in \u001b[0;36mLayerIntegratedGradients.attribute\u001b[1;34m(self, inputs, baselines, target, additional_forward_args, n_steps, method, internal_batch_size, return_convergence_delta, attribute_to_layer_input)\u001b[0m\n\u001b[0;32m    162\u001b[0m \u001b[39m@log_usage\u001b[39m()\n\u001b[0;32m    163\u001b[0m \u001b[39mdef\u001b[39;00m \u001b[39mattribute\u001b[39m(\n\u001b[0;32m    164\u001b[0m     \u001b[39mself\u001b[39m,\n\u001b[1;32m   (...)\u001b[0m\n\u001b[0;32m    179\u001b[0m     ],\n\u001b[0;32m    180\u001b[0m ]:\n\u001b[0;32m    181\u001b[0m \u001b[39m    \u001b[39m\u001b[39mr\u001b[39m\u001b[39m\"\"\"\u001b[39;00m\n\u001b[0;32m    182\u001b[0m \u001b[39m    This method attributes the output of the model with given target index\u001b[39;00m\n\u001b[0;32m    183\u001b[0m \u001b[39m    (in case it is provided, otherwise it assumes that output is a\u001b[39;00m\n\u001b[1;32m   (...)\u001b[0m\n\u001b[0;32m    353\u001b[0m \u001b[39m        >>> attribution = lig.attribute(input, target=3)\u001b[39;00m\n\u001b[0;32m    354\u001b[0m \u001b[39m    \"\"\"\u001b[39;00m\n\u001b[1;32m--> 355\u001b[0m     inps, baselines \u001b[39m=\u001b[39m _format_input_baseline(inputs, baselines)\n\u001b[0;32m    356\u001b[0m     _validate_input(inps, baselines, n_steps, method)\n\u001b[0;32m    358\u001b[0m     baselines \u001b[39m=\u001b[39m _tensorize_baseline(inps, baselines)\n",
      "File \u001b[1;32mc:\\Users\\fardin\\AppData\\Local\\Programs\\Python\\Python311\\Lib\\site-packages\\captum\\attr\\_utils\\common.py:88\u001b[0m, in \u001b[0;36m_format_input_baseline\u001b[1;34m(inputs, baselines)\u001b[0m\n\u001b[0;32m     85\u001b[0m \u001b[39mdef\u001b[39;00m \u001b[39m_format_input_baseline\u001b[39m(\n\u001b[0;32m     86\u001b[0m     inputs: Union[Tensor, Tuple[Tensor, \u001b[39m.\u001b[39m\u001b[39m.\u001b[39m\u001b[39m.\u001b[39m]], baselines: BaselineType\n\u001b[0;32m     87\u001b[0m ) \u001b[39m-\u001b[39m\u001b[39m>\u001b[39m Tuple[Tuple[Tensor, \u001b[39m.\u001b[39m\u001b[39m.\u001b[39m\u001b[39m.\u001b[39m], Tuple[Union[Tensor, \u001b[39mint\u001b[39m, \u001b[39mfloat\u001b[39m], \u001b[39m.\u001b[39m\u001b[39m.\u001b[39m\u001b[39m.\u001b[39m]]:\n\u001b[1;32m---> 88\u001b[0m     inputs \u001b[39m=\u001b[39m _format_tensor_into_tuples(inputs)\n\u001b[0;32m     89\u001b[0m     baselines \u001b[39m=\u001b[39m _format_baseline(baselines, inputs)\n\u001b[0;32m     90\u001b[0m     \u001b[39mreturn\u001b[39;00m inputs, baselines\n",
      "File \u001b[1;32mc:\\Users\\fardin\\AppData\\Local\\Programs\\Python\\Python311\\Lib\\site-packages\\captum\\_utils\\common.py:227\u001b[0m, in \u001b[0;36m_format_tensor_into_tuples\u001b[1;34m(inputs)\u001b[0m\n\u001b[0;32m    225\u001b[0m     \u001b[39mreturn\u001b[39;00m \u001b[39mNone\u001b[39;00m\n\u001b[0;32m    226\u001b[0m \u001b[39mif\u001b[39;00m \u001b[39mnot\u001b[39;00m \u001b[39misinstance\u001b[39m(inputs, \u001b[39mtuple\u001b[39m):\n\u001b[1;32m--> 227\u001b[0m     \u001b[39massert\u001b[39;00m \u001b[39misinstance\u001b[39m(inputs, torch\u001b[39m.\u001b[39mTensor), (\n\u001b[0;32m    228\u001b[0m         \u001b[39m\"\u001b[39m\u001b[39m`inputs` must be a torch.Tensor or a tuple[torch.Tensor] \u001b[39m\u001b[39m\"\u001b[39m\n\u001b[0;32m    229\u001b[0m         \u001b[39mf\u001b[39m\u001b[39m\"\u001b[39m\u001b[39mbut found: \u001b[39m\u001b[39m{\u001b[39;00m\u001b[39mtype\u001b[39m(inputs)\u001b[39m}\u001b[39;00m\u001b[39m\"\u001b[39m\n\u001b[0;32m    230\u001b[0m     )\n\u001b[0;32m    231\u001b[0m     inputs \u001b[39m=\u001b[39m (inputs,)\n\u001b[0;32m    232\u001b[0m \u001b[39mreturn\u001b[39;00m inputs\n",
      "\u001b[1;31mAssertionError\u001b[0m: `inputs` must be a torch.Tensor or a tuple[torch.Tensor] but found: <class 'torch_geometric.data.batch.DataBatch'>"
     ]
    }
   ],
   "source": [
    "interpret_sentence(captum_model, test_dataset, vocab_dict_rev, 7, 1)"
   ]
  },
  {
   "cell_type": "code",
   "execution_count": 189,
   "metadata": {},
   "outputs": [
    {
     "data": {
      "text/plain": [
       "1"
      ]
     },
     "execution_count": 189,
     "metadata": {},
     "output_type": "execute_result"
    }
   ],
   "source": [
    "test_dataset[0][1].argmax().item()"
   ]
  },
  {
   "cell_type": "code",
   "execution_count": 172,
   "metadata": {},
   "outputs": [],
   "source": [
    "graph = test_dataset[0][1]"
   ]
  },
  {
   "cell_type": "code",
   "execution_count": 180,
   "metadata": {},
   "outputs": [
    {
     "data": {
      "text/plain": [
       "Data(x=[4988], token_positions=[924], character_length=4988, num_tokens=924, token_indices=[4988], token_lengths=[924], token_embeddings=[924, 64], token_sentiments=[924, 2])"
      ]
     },
     "execution_count": 180,
     "metadata": {},
     "output_type": "execute_result"
    }
   ],
   "source": [
    "graph"
   ]
  },
  {
   "cell_type": "code",
   "execution_count": 179,
   "metadata": {},
   "outputs": [
    {
     "data": {
      "text/plain": [
       "tensor([211, 211, 211,  ..., 211, 211, 211])"
      ]
     },
     "execution_count": 179,
     "metadata": {},
     "output_type": "execute_result"
    }
   ],
   "source": []
  },
  {
   "cell_type": "code",
   "execution_count": 168,
   "metadata": {},
   "outputs": [],
   "source": [
    "graph = test_dataset[0][0]\n",
    "graph.cumulative_token_indices = graph.token_indices\n",
    "graph = Batch.from_data_list([graph])\n",
    "pred = torch.softmax(model(graph.to(device)), dim=1).detach()\n",
    "pred_ind = torch.argmax(pred).item()"
   ]
  },
  {
   "cell_type": "code",
   "execution_count": 170,
   "metadata": {},
   "outputs": [
    {
     "data": {
      "text/plain": [
       "tensor([[0.6096, 0.3904]], device='cuda:0')"
      ]
     },
     "execution_count": 170,
     "metadata": {},
     "output_type": "execute_result"
    }
   ],
   "source": [
    "pred"
   ]
  },
  {
   "cell_type": "code",
   "execution_count": 156,
   "metadata": {},
   "outputs": [
    {
     "data": {
      "text/plain": [
       "Data(x=[326], token_positions=[59], character_length=326, num_tokens=59, token_indices=[326], token_lengths=[59], token_embeddings=[59, 64], token_sentiments=[59, 2])"
      ]
     },
     "execution_count": 156,
     "metadata": {},
     "output_type": "execute_result"
    }
   ],
   "source": [
    "test_dataset[0][0]"
   ]
  },
  {
   "cell_type": "code",
   "execution_count": 157,
   "metadata": {},
   "outputs": [
    {
     "name": "stdout",
     "output_type": "stream",
     "text": [
      "0 tensor(0)\n",
      "1 tensor(0)\n",
      "2 tensor(0)\n",
      "3 tensor(0)\n",
      "4 tensor(0)\n",
      "5 tensor(0)\n",
      "6 tensor(1)\n",
      "7 tensor(1)\n",
      "8 tensor(1)\n",
      "9 tensor(1)\n",
      "10 tensor(1)\n",
      "11 tensor(1)\n",
      "12 tensor(1)\n",
      "13 tensor(2)\n",
      "14 tensor(2)\n",
      "15 tensor(2)\n",
      "16 tensor(2)\n",
      "17 tensor(2)\n",
      "18 tensor(2)\n",
      "19 tensor(2)\n",
      "20 tensor(3)\n",
      "21 tensor(3)\n",
      "22 tensor(3)\n",
      "23 tensor(3)\n",
      "24 tensor(3)\n",
      "25 tensor(4)\n",
      "26 tensor(4)\n",
      "27 tensor(4)\n",
      "28 tensor(4)\n",
      "29 tensor(4)\n",
      "30 tensor(4)\n",
      "31 tensor(5)\n",
      "32 tensor(5)\n",
      "33 tensor(5)\n",
      "34 tensor(5)\n",
      "35 tensor(5)\n",
      "36 tensor(5)\n",
      "37 tensor(6)\n",
      "38 tensor(6)\n",
      "39 tensor(6)\n",
      "40 tensor(6)\n",
      "41 tensor(6)\n",
      "42 tensor(6)\n",
      "43 tensor(6)\n",
      "44 tensor(7)\n",
      "45 tensor(7)\n",
      "46 tensor(7)\n",
      "47 tensor(7)\n",
      "48 tensor(7)\n",
      "49 tensor(8)\n",
      "50 tensor(8)\n",
      "51 tensor(8)\n",
      "52 tensor(8)\n",
      "53 tensor(8)\n",
      "54 tensor(9)\n",
      "55 tensor(9)\n",
      "56 tensor(9)\n",
      "57 tensor(9)\n",
      "58 tensor(9)\n",
      "59 tensor(9)\n",
      "60 tensor(10)\n",
      "61 tensor(10)\n",
      "62 tensor(10)\n",
      "63 tensor(11)\n",
      "64 tensor(11)\n",
      "65 tensor(11)\n",
      "66 tensor(11)\n",
      "67 tensor(11)\n",
      "68 tensor(11)\n",
      "69 tensor(12)\n",
      "70 tensor(12)\n",
      "71 tensor(13)\n",
      "72 tensor(13)\n",
      "73 tensor(13)\n",
      "74 tensor(13)\n",
      "75 tensor(13)\n",
      "76 tensor(14)\n",
      "77 tensor(14)\n",
      "78 tensor(14)\n",
      "79 tensor(14)\n",
      "80 tensor(15)\n",
      "81 tensor(15)\n",
      "82 tensor(15)\n",
      "83 tensor(15)\n",
      "84 tensor(15)\n",
      "85 tensor(16)\n",
      "86 tensor(16)\n",
      "87 tensor(16)\n",
      "88 tensor(16)\n",
      "89 tensor(16)\n",
      "90 tensor(17)\n",
      "91 tensor(17)\n",
      "92 tensor(17)\n",
      "93 tensor(17)\n",
      "94 tensor(17)\n",
      "95 tensor(17)\n",
      "96 tensor(17)\n",
      "97 tensor(17)\n",
      "98 tensor(18)\n",
      "99 tensor(18)\n",
      "100 tensor(18)\n",
      "101 tensor(19)\n",
      "102 tensor(19)\n",
      "103 tensor(20)\n",
      "104 tensor(20)\n",
      "105 tensor(20)\n",
      "106 tensor(21)\n",
      "107 tensor(21)\n",
      "108 tensor(21)\n",
      "109 tensor(21)\n",
      "110 tensor(21)\n",
      "111 tensor(21)\n",
      "112 tensor(22)\n",
      "113 tensor(22)\n",
      "114 tensor(22)\n",
      "115 tensor(22)\n",
      "116 tensor(22)\n",
      "117 tensor(22)\n",
      "118 tensor(22)\n",
      "119 tensor(22)\n",
      "120 tensor(23)\n",
      "121 tensor(23)\n",
      "122 tensor(23)\n",
      "123 tensor(23)\n",
      "124 tensor(23)\n",
      "125 tensor(24)\n",
      "126 tensor(24)\n",
      "127 tensor(24)\n",
      "128 tensor(24)\n",
      "129 tensor(25)\n",
      "130 tensor(25)\n",
      "131 tensor(26)\n",
      "132 tensor(26)\n",
      "133 tensor(26)\n",
      "134 tensor(26)\n",
      "135 tensor(27)\n",
      "136 tensor(27)\n",
      "137 tensor(28)\n",
      "138 tensor(28)\n",
      "139 tensor(29)\n",
      "140 tensor(29)\n",
      "141 tensor(29)\n",
      "142 tensor(29)\n",
      "143 tensor(29)\n",
      "144 tensor(29)\n",
      "145 tensor(30)\n",
      "146 tensor(30)\n",
      "147 tensor(30)\n",
      "148 tensor(30)\n",
      "149 tensor(30)\n",
      "150 tensor(30)\n",
      "151 tensor(31)\n",
      "152 tensor(31)\n",
      "153 tensor(31)\n",
      "154 tensor(31)\n",
      "155 tensor(32)\n",
      "156 tensor(32)\n",
      "157 tensor(32)\n",
      "158 tensor(32)\n",
      "159 tensor(32)\n",
      "160 tensor(32)\n",
      "161 tensor(32)\n",
      "162 tensor(33)\n",
      "163 tensor(33)\n",
      "164 tensor(33)\n",
      "165 tensor(33)\n",
      "166 tensor(34)\n",
      "167 tensor(34)\n",
      "168 tensor(34)\n",
      "169 tensor(35)\n",
      "170 tensor(35)\n",
      "171 tensor(35)\n",
      "172 tensor(35)\n",
      "173 tensor(35)\n",
      "174 tensor(35)\n",
      "175 tensor(35)\n",
      "176 tensor(36)\n",
      "177 tensor(36)\n",
      "178 tensor(36)\n",
      "179 tensor(36)\n",
      "180 tensor(36)\n",
      "181 tensor(36)\n",
      "182 tensor(36)\n",
      "183 tensor(37)\n",
      "184 tensor(37)\n",
      "185 tensor(37)\n",
      "186 tensor(37)\n",
      "187 tensor(37)\n",
      "188 tensor(37)\n",
      "189 tensor(38)\n",
      "190 tensor(38)\n",
      "191 tensor(38)\n",
      "192 tensor(38)\n",
      "193 tensor(38)\n",
      "194 tensor(38)\n",
      "195 tensor(39)\n",
      "196 tensor(39)\n",
      "197 tensor(39)\n",
      "198 tensor(39)\n",
      "199 tensor(39)\n",
      "200 tensor(40)\n",
      "201 tensor(40)\n",
      "202 tensor(40)\n",
      "203 tensor(40)\n",
      "204 tensor(40)\n",
      "205 tensor(40)\n",
      "206 tensor(41)\n",
      "207 tensor(41)\n",
      "208 tensor(41)\n",
      "209 tensor(41)\n",
      "210 tensor(41)\n",
      "211 tensor(41)\n",
      "212 tensor(41)\n",
      "213 tensor(41)\n",
      "214 tensor(42)\n",
      "215 tensor(42)\n",
      "216 tensor(43)\n",
      "217 tensor(43)\n",
      "218 tensor(43)\n",
      "219 tensor(43)\n",
      "220 tensor(43)\n",
      "221 tensor(43)\n",
      "222 tensor(44)\n",
      "223 tensor(44)\n",
      "224 tensor(45)\n",
      "225 tensor(45)\n",
      "226 tensor(46)\n",
      "227 tensor(46)\n",
      "228 tensor(47)\n",
      "229 tensor(47)\n",
      "230 tensor(47)\n",
      "231 tensor(48)\n",
      "232 tensor(48)\n",
      "233 tensor(48)\n",
      "234 tensor(48)\n",
      "235 tensor(48)\n",
      "236 tensor(48)\n",
      "237 tensor(48)\n",
      "238 tensor(48)\n",
      "239 tensor(48)\n",
      "240 tensor(49)\n",
      "241 tensor(49)\n",
      "242 tensor(49)\n",
      "243 tensor(49)\n",
      "244 tensor(49)\n",
      "245 tensor(49)\n",
      "246 tensor(49)\n",
      "247 tensor(49)\n",
      "248 tensor(50)\n",
      "249 tensor(50)\n",
      "250 tensor(50)\n",
      "251 tensor(50)\n",
      "252 tensor(50)\n",
      "253 tensor(50)\n",
      "254 tensor(50)\n",
      "255 tensor(51)\n",
      "256 tensor(51)\n",
      "257 tensor(51)\n",
      "258 tensor(51)\n",
      "259 tensor(52)\n",
      "260 tensor(52)\n",
      "261 tensor(53)\n",
      "262 tensor(53)\n",
      "263 tensor(53)\n",
      "264 tensor(53)\n",
      "265 tensor(53)\n",
      "266 tensor(54)\n",
      "267 tensor(54)\n",
      "268 tensor(54)\n",
      "269 tensor(54)\n",
      "270 tensor(54)\n",
      "271 tensor(55)\n",
      "272 tensor(55)\n",
      "273 tensor(55)\n",
      "274 tensor(55)\n",
      "275 tensor(55)\n",
      "276 tensor(55)\n",
      "277 tensor(55)\n",
      "278 tensor(56)\n",
      "279 tensor(56)\n",
      "280 tensor(57)\n"
     ]
    },
    {
     "data": {
      "text/plain": [
       "\"▁This ▁movie ▁makes ▁you ▁wish ▁imdb ▁would ▁let ▁you ▁vote ▁a ▁zero . ▁One ▁of ▁the ▁two ▁movies ▁I ' ve ▁ever ▁walked ▁out ▁of . ▁It ' s ▁very ▁hard ▁to ▁think ▁of ▁a ▁worse ▁movie ▁with ▁such ▁big ▁name ▁actors . ▁Well . . . Ar mageddon ▁almost ▁takes ▁it , ▁but ▁not ▁quite . \\x01\""
      ]
     },
     "execution_count": 157,
     "metadata": {},
     "output_type": "execute_result"
    }
   ],
   "source": [
    "graph = test_dataset[0][0]\n",
    "tokens = ['']*len(graph.token_indices)\n",
    "for i, j in enumerate(graph.token_indices):\n",
    "    print(i, j)\n",
    "    j = j.item()\n",
    "    tokens[j] += vocab_dict_rev[graph.x[i].item()]\n",
    "''.join(tokens)\n",
    "# test_dataset[0][0].x\n",
    "# test_dataset[0][0].token_indices"
   ]
  },
  {
   "cell_type": "code",
   "execution_count": 146,
   "metadata": {},
   "outputs": [
    {
     "data": {
      "text/plain": [
       "tensor([157,  56, 129,  ..., 141,  70, 211])"
      ]
     },
     "execution_count": 146,
     "metadata": {},
     "output_type": "execute_result"
    }
   ],
   "source": [
    "test_dataset[0][0].x"
   ]
  },
  {
   "cell_type": "code",
   "execution_count": 137,
   "metadata": {},
   "outputs": [
    {
     "data": {
      "text/plain": [
       "'▁When ▁the ▁Romulan s ▁come , ▁they ▁will ▁not ▁be ▁bearing ▁gifts ; ▁no , ▁they ▁bring ▁with ▁them ▁war ▁- ▁war ▁and ▁conquest . ▁As ▁any ▁familiar ▁with ▁this ▁episode ▁know , ▁it ▁is ▁a ▁red ux ▁of ▁the ▁war ▁film ▁\" The ▁Enemy ▁Below \" ▁from ▁the ▁fifties . ▁The ▁obvious ▁difference ▁is ▁that ▁instead ▁of ▁a ▁battleship ▁and ▁a ▁submarine ▁( or ▁an ▁American ▁Destroyer ▁& ▁German ▁U - boat ) ▁engaged ▁in ▁lethal ▁war ▁games , ▁it ▁is ▁two ▁starship s ▁in ▁outer ▁space . ▁In ▁Trek ▁history , ▁about ▁100 ▁years ▁before ▁the ▁events ▁here , ▁according ▁to ▁this ▁episode , ▁Earth ▁fought ▁the ▁Romulan ▁Wars . ▁After ▁about ▁5 ▁years ▁of ▁conflict , ▁a ▁stalemate ▁brought ▁about ▁a ▁treaty ▁and ▁the ▁institution ▁of ▁the ▁Neutral ▁Zone , ▁a ▁boundary ▁between ▁us ▁and ▁the ▁Romulan ▁Empire . ▁Now , ▁on ▁this ▁star date , ▁the ▁treaty ▁appears ▁to ▁be ▁broken , ▁as ▁our ▁outposts ▁are ▁being ▁attacked ▁and ▁destroyed ▁by ▁some ▁weapon ▁of ▁immense ▁power . ▁Yes , ▁the ▁Romulan s ▁are ▁back , ▁testing ▁their ▁new ▁war ▁toy , ▁and ▁Kirk ▁must ▁now ▁earn ▁his ▁pay : ▁he ▁must ▁make ▁decisions ▁that ▁would ▁affect ▁this ▁sector ▁of ▁the ▁galaxy , ▁such ▁as ▁figuring ▁out ▁how ▁to ▁avoid ▁a . . . oh , ▁I ▁dunno ▁- ▁an ▁interstellar ▁war , ▁maybe ? ▁< br ▁/ > < br ▁/ > I ▁think ▁what ▁makes ▁this ▁episode ▁so ▁effective ▁is ▁that ▁it ▁doesn \\' t ▁shy ▁away ▁from ▁the ▁grim ▁aspects ▁of ▁war , ▁as ▁one ▁would ▁expect ▁of ▁a ▁mere ▁TV ▁episode ▁from ▁the ▁sixties ▁- ▁especially ▁an ▁episode ▁from ▁a ▁science ▁fiction ▁show . ▁It \\' s ▁all ▁very ▁tense ▁and ▁gripping , ▁like ▁the ▁best ▁war ▁films , ▁such ▁as ▁when ▁Kirk ▁sits ▁down ▁with ▁his ▁key ▁officers ▁for ▁what ▁amounts ▁to ▁a ▁war ▁council . ▁The ▁writers ▁and ▁the ▁actors ▁aren \\' t ▁kidding ▁around ▁here : ▁this ▁is ▁all ▁preparation ▁for ▁a ▁ghastly ▁conflict , ▁potentially ▁the ▁beginning ▁of ▁another ▁years - long ▁battleground . ▁In ▁the ▁final ▁analysis , ▁Kirk \\' s ▁aim ▁is ▁to ▁keep ▁this ▁battleground ▁to ▁just ▁the ▁two ▁ships ▁- ▁but ▁even ▁then ▁it \\' s ▁an ▁endeavor ▁fraught ▁with ▁peril ▁and ▁probable ▁casualties . ▁In ▁fact , ▁I ▁believe ▁this ▁episode ▁holds ▁the ▁record ▁for ▁ship ▁casualties ▁by ▁the ▁end ▁of ▁it . ▁Right ▁at ▁the ▁start ▁of ▁the ▁episode , ▁we ▁see ▁the ▁devastation ▁such ▁battle ▁can ▁produce , ▁in ▁that ▁supposedly ▁well - protected ▁outpost . ▁Then ▁begin ▁the ▁cat - and - mouse ▁war ▁games ▁between ▁the ▁Enterprise ▁and ▁the ▁Romulan ▁ship ▁- ▁it \\' s ▁as ▁exciting ▁as ▁any ▁conflict ▁we \\' ve ▁seen ▁on ▁the ▁big ▁screen . ▁Of ▁course , ▁if ▁you \\' re ▁not ▁into ▁war ▁films , ▁you \\' d ▁have ▁to ▁look ▁for ▁other ▁things ▁to ▁admire ▁in ▁this ▁episode . < br ▁/ > < br ▁/ > What ▁elevates ▁this ▁episode ▁even ▁further ▁is ▁the ▁revelation ▁of ▁just ▁what ▁and ▁who ▁the ▁Romulan s ▁are ▁- ▁it \\' s ▁an ▁electric ▁shock ▁of ▁a ▁sort . ▁Now ▁we ▁have ▁even ▁further ▁inter - crew ▁conflict ▁on ▁the ▁bridge ▁of ▁the ▁Enterprise ▁- ▁war ▁does ▁tend ▁to ▁bring ▁out ▁the ▁worst ▁in ▁some ▁people . ▁Due ▁to ▁still ▁nasty ▁attitudes ▁about ▁race ▁in ▁this ▁future , ▁the ▁tension ▁is ▁ratcheted ▁up ▁even ▁further ▁- ▁Kirk ▁has ▁his ▁hands ▁full ▁in ▁this ▁one . ▁I ▁suppose ▁the ▁one ▁weakness ▁in ▁the ▁story ▁is ▁the ▁convenient ▁relent ing ▁of ▁the ▁bigotry ▁issue ▁by ▁the ▁conclusion . ▁On ▁the ▁Romulan ▁side , ▁actor ▁Lena rd ▁makes ▁his ▁first ▁appearance ▁in ▁the ▁Trek ▁universe ▁as ▁the ▁Romulan ▁commander ; ▁he \\' s ▁terrific ▁in ▁the ▁role , ▁the ▁flip ▁side ▁of ▁Capt . ▁Kirk ▁or ▁Capt . ▁Pike , ▁take ▁your ▁pick , ▁done ▁up ▁to ▁resemble ▁Spock ▁more ▁than ▁a ▁little . ▁Surprisingly , ▁his ▁character ▁is ▁not ▁war ▁hungry ▁as ▁we ▁would ▁expect , ▁another ▁eye - opener ▁for ▁this ▁episode . ▁The ▁actor ▁would ▁next ▁return ▁to ▁this ▁universe ▁as ▁S arek , ▁Spock \\' s ▁father , ▁so ▁he \\' s ▁nothing ▁if ▁not ▁versatile . ▁It \\' s ▁also ▁telling ▁how ▁the ▁first ▁appearance ▁of ▁such ▁characters ▁as ▁the ▁Romulan s ▁is ▁usually ▁their ▁best ▁shot , ▁as ▁it ▁is ▁here . ▁They ▁showed ▁up ▁in ▁\" The ▁Enterprise ▁Incident \" ▁next . \\x01'"
      ]
     },
     "execution_count": 137,
     "metadata": {},
     "output_type": "execute_result"
    }
   ],
   "source": [
    "''.join([vocab_dict_rev[i.item()] for i in test_dataset[0][0].x])"
   ]
  },
  {
   "cell_type": "code",
   "execution_count": null,
   "metadata": {},
   "outputs": [],
   "source": []
  }
 ],
 "metadata": {
  "kernelspec": {
   "display_name": "Python 3",
   "language": "python",
   "name": "python3"
  },
  "language_info": {
   "codemirror_mode": {
    "name": "ipython",
    "version": 3
   },
   "file_extension": ".py",
   "mimetype": "text/x-python",
   "name": "python",
   "nbconvert_exporter": "python",
   "pygments_lexer": "ipython3",
   "version": "3.11.7"
  }
 },
 "nbformat": 4,
 "nbformat_minor": 2
}
