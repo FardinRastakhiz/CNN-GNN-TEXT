{
 "cells": [
  {
   "cell_type": "markdown",
   "id": "5262913c",
   "metadata": {},
   "source": [
    "Kaggle link: https://www.kaggle.com/code/mohsinsial/ag-news-classifications"
   ]
  }
 ],
 "metadata": {
  "language_info": {
   "name": "python"
  }
 },
 "nbformat": 4,
 "nbformat_minor": 5
}
