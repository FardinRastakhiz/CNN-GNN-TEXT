{
 "cells": [
  {
   "cell_type": "code",
   "execution_count": 53,
   "metadata": {},
   "outputs": [],
   "source": [
    "import os\n",
    "import pandas as pd\n",
    "from bs4 import BeautifulSoup\n",
    "from pypdf import PdfReader\n",
    "from pptx import Presentation\n",
    "import gzip\n",
    "import json\n",
    "from nltk.tokenize import word_tokenize, TweetTokenizer"
   ]
  },
  {
   "cell_type": "code",
   "execution_count": 54,
   "metadata": {},
   "outputs": [],
   "source": [
    "def extract_other_texts(html_path):\n",
    "    with open(html_path, 'rt') as f:\n",
    "        html_str = f.read()\n",
    "    soup = BeautifulSoup(html_str, features=\"html.parser\")\n",
    "\n",
    "    # kill all script and style elements\n",
    "    for script in soup([\"script\", \"style\"]):\n",
    "        script.extract()    # rip it out\n",
    "\n",
    "    # get text\n",
    "    text = soup.get_text()\n",
    "\n",
    "    # break into lines and remove leading and trailing space on each\n",
    "    lines = (line.strip() for line in text.splitlines())\n",
    "    # break multi-headlines into a line each\n",
    "    chunks = (phrase.strip() for line in lines for phrase in line.split(\"  \"))\n",
    "    # drop blank lines\n",
    "    text = '\\n'.join(chunk for chunk in chunks if chunk)\n",
    "    return text"
   ]
  },
  {
   "cell_type": "code",
   "execution_count": 55,
   "metadata": {},
   "outputs": [],
   "source": [
    "from bs4 import BeautifulSoup\n",
    "\n",
    "def extract_html_texts(html_path):\n",
    "    with open(html_path, 'rt', encoding='utf-8') as f:\n",
    "        html_str = f.read()\n",
    "    soup = BeautifulSoup(html_str, \"html.parser\")\n",
    "\n",
    "    # Remove irrelevant elements\n",
    "    for element in soup([\"script\", \"style\", \"header\", \"footer\", \"nav\", \"aside\", \"form\"]):\n",
    "        element.extract()\n",
    "    \n",
    "    # Collect text from main content-bearing tags\n",
    "    content_texts = []\n",
    "    \n",
    "    # Search within common content-bearing tags\n",
    "    for tag in ['main', 'article', 'section', 'div', 'p']:\n",
    "        for element in soup.find_all(tag):\n",
    "            text = element.get_text(separator=\" \", strip=True)\n",
    "            # Filter for significant content (e.g., longer than 50 characters to exclude small chunks)\n",
    "            if len(text) > 50:\n",
    "                content_texts.append((text, len(text)))\n",
    "\n",
    "    # Sort blocks by length to get the most likely main content at the top\n",
    "    content_texts.sort(key=lambda x: x[1], reverse=True)\n",
    "    \n",
    "    # Concatenate the top content blocks\n",
    "    # You can adjust the number of top blocks to include\n",
    "    top_content = \"\\n\\n\".join([text for text, length in content_texts[:5]])\n",
    "\n",
    "    # Clean up extra whitespace and line breaks\n",
    "    lines = (line.strip() for line in top_content.splitlines())\n",
    "    cleaned_text = '\\n'.join(line for line in lines if line)\n",
    "    \n",
    "    return cleaned_text\n",
    "\n"
   ]
  },
  {
   "cell_type": "code",
   "execution_count": 56,
   "metadata": {},
   "outputs": [],
   "source": [
    "def extract_pdf(pdf_path):\n",
    "    reader = PdfReader(pdf_path)\n",
    "    page_texts = []\n",
    "    for page in reader.pages:\n",
    "        page_texts.append(page.extract_text())\n",
    "    return ' '.join(page_texts)"
   ]
  },
  {
   "cell_type": "code",
   "execution_count": 57,
   "metadata": {},
   "outputs": [],
   "source": [
    "def extract_pptx(pptx_path):\n",
    "    prs = Presentation(pptx_path)\n",
    "    text_runs = []\n",
    "    for slide in prs.slides:\n",
    "        for shape in slide.shapes:\n",
    "            if not shape.has_text_frame:\n",
    "                continue\n",
    "            for paragraph in shape.text_frame.paragraphs:\n",
    "                for run in paragraph.runs:\n",
    "                    text_runs.append(run.text)\n",
    "    return ' '.join(text_runs)"
   ]
  },
  {
   "cell_type": "code",
   "execution_count": 58,
   "metadata": {},
   "outputs": [],
   "source": [
    "urls_df = pd.read_csv(r'contents\\url_classes2.csv')\n",
    "htmls_path = r'htmls'\n",
    "contents_dict = {}"
   ]
  },
  {
   "cell_type": "code",
   "execution_count": 72,
   "metadata": {},
   "outputs": [],
   "source": [
    "def extract_saved_web_data(index:int):\n",
    "    filename = os.path.join(htmls_path, f'link_{index}')\n",
    "    data_type = ''\n",
    "    if True:\n",
    "        if os.path.isfile(filename+'.html'):\n",
    "            data_type = 'html'\n",
    "            file_path = filename+'.html'\n",
    "        elif os.path.isfile(filename+'.aspx'):\n",
    "            data_type = 'aspx'\n",
    "            file_path = filename+'.aspx'\n",
    "        elif os.path.isfile(filename+'.x_empty'):\n",
    "            data_type = ''\n",
    "            file_path = filename+'.x_empty'\n",
    "        elif os.path.isfile(filename+'.octet_stream'):\n",
    "            data_type = 'octet_stream'\n",
    "            file_path = filename+'.octet_stream'\n",
    "        elif os.path.isfile(filename+'.xml'):\n",
    "            data_type = 'xml'\n",
    "            file_path = filename+'.xml'\n",
    "        elif os.path.isfile(filename+'.cpp'):\n",
    "            data_type = 'cpp'\n",
    "            file_path = filename+'.cpp'\n",
    "        elif os.path.isfile(filename+'.c'):\n",
    "            data_type = 'c'\n",
    "            file_path = filename+'.c'\n",
    "        elif os.path.isfile(filename+'.cfm'):\n",
    "            data_type = 'cfm'\n",
    "            file_path = filename+'.cfm'\n",
    "        elif os.path.isfile(filename+'.cgi'):\n",
    "            data_type = 'cgi'\n",
    "            file_path = filename+'.cgi'\n",
    "        elif os.path.isfile(filename+'.ashx'):\n",
    "            data_type = 'ashx'\n",
    "            file_path = filename+'.ashx'\n",
    "        elif os.path.isfile(filename+'.asp'):\n",
    "            data_type = 'asp'\n",
    "            file_path = filename+'.asp'\n",
    "        elif os.path.isfile(filename+'.cgi'):\n",
    "            data_type = 'cgi'\n",
    "            file_path = filename+'.cgi'\n",
    "        elif os.path.isfile(filename+'.txt'):\n",
    "            data_type = 'txt'\n",
    "            file_path = filename+'.txt'\n",
    "        elif os.path.isfile(filename+'.x_appleworks3'):\n",
    "            data_type = 'x_appleworks3'\n",
    "            file_path = filename+'.x_appleworks3'\n",
    "        elif os.path.isfile(filename+'.page'):\n",
    "            data_type = 'page'\n",
    "            file_path = filename+'.page'\n",
    "        elif os.path.isfile(filename+'.php'):\n",
    "            data_type = 'php'\n",
    "            file_path = filename+'.php'\n",
    "        elif os.path.isfile(filename+'.rxml'):\n",
    "            data_type = 'rxml'\n",
    "            file_path = filename+'.rxml'\n",
    "        elif os.path.isfile(filename+'.com'):\n",
    "            data_type = 'com'\n",
    "            file_path = filename+'.com'\n",
    "        elif os.path.isfile(filename+'.cat'):\n",
    "            data_type = 'cat'\n",
    "            file_path = filename+'.cat'\n",
    "        elif os.path.isfile(filename+'.txt'):\n",
    "            data_type = 'txt'\n",
    "            file_path = filename+'.txt'\n",
    "        elif os.path.isfile(filename+'.xsp'):\n",
    "            data_type = 'xsp'\n",
    "            file_path = filename+'.xsp'\n",
    "        elif os.path.isfile(filename + '.pptx'):\n",
    "            data_type = 'pptx'\n",
    "            file_path = filename+'.pptx'\n",
    "        elif os.path.isfile(filename+'.pdf'):\n",
    "            data_type = 'pdf'\n",
    "            file_path = filename+'.pdf'\n",
    "    try:\n",
    "        if data_type=='':\n",
    "            return ''\n",
    "        elif data_type == 'pdf':\n",
    "            return extract_pdf(file_path)\n",
    "        elif data_type == 'pptx':\n",
    "            return extract_pptx(file_path)\n",
    "        elif data_type == 'html':\n",
    "            output = extract_html_texts(file_path)\n",
    "            if(len(output) > 20000):\n",
    "                print(f\"length {len(output)} for data_type {data_type} in position {index}\")\n",
    "            return output\n",
    "        else:\n",
    "            output = extract_other_texts(file_path)\n",
    "            if(len(output) > 20000):\n",
    "                print(f\"length {len(output)} for data_type {data_type} in position {index}\")\n",
    "            return output\n",
    "    except:\n",
    "        print(f'Error on {index}')\n",
    "        return ''"
   ]
  },
  {
   "cell_type": "code",
   "execution_count": 73,
   "metadata": {},
   "outputs": [
    {
     "data": {
      "text/plain": [
       "'https://community.hubspot.com/t5/Lists-Lead-Scoring-Workflows/Lead-Scoring-Cumulative-Form-Submissions/m-p/185948'"
      ]
     },
     "execution_count": 73,
     "metadata": {},
     "output_type": "execute_result"
    }
   ],
   "source": [
    "urls_df.iloc[134].Address"
   ]
  },
  {
   "cell_type": "code",
   "execution_count": 74,
   "metadata": {},
   "outputs": [],
   "source": [
    "cnt = extract_saved_web_data(35485)"
   ]
  },
  {
   "cell_type": "code",
   "execution_count": 77,
   "metadata": {},
   "outputs": [
    {
     "data": {
      "text/plain": [
       "'Averaging Techniques in Long-Range Weather Forecasting in: Monthly Weather Review Volume 109 Issue 7 (1981)\\nJump to Content\\nThis site uses cookies, tags, and tracking settings to store information that help give you the very best browsing experience.\\nDismiss this warning\\nJOURNALS\\nArtificial Intelligence for the Earth Systems\\nBulletin of the American Meteorological Society\\nCommunity Science\\nEarth Interactions\\nJournal of Applied Meteorology and Climatology\\nJournal of Atmospheric and Oceanic Techno'"
      ]
     },
     "execution_count": 77,
     "metadata": {},
     "output_type": "execute_result"
    }
   ],
   "source": [
    "cnt[0:500]"
   ]
  },
  {
   "cell_type": "code",
   "execution_count": 76,
   "metadata": {},
   "outputs": [
    {
     "data": {
      "text/plain": [
       "17897"
      ]
     },
     "execution_count": 76,
     "metadata": {},
     "output_type": "execute_result"
    }
   ],
   "source": [
    "len(cnt)"
   ]
  },
  {
   "cell_type": "code",
   "execution_count": 78,
   "metadata": {},
   "outputs": [
    {
     "name": "stdout",
     "output_type": "stream",
     "text": [
      "0\n",
      "length 29265 for data_type html in position 1\n",
      "length 31885 for data_type html in position 3\n",
      "length 25912 for data_type html in position 5\n",
      "length 176023 for data_type html in position 11\n",
      "length 28564 for data_type html in position 16\n",
      "length 31097 for data_type html in position 17\n",
      "length 147699 for data_type html in position 33\n",
      "length 24557 for data_type html in position 34\n",
      "length 60958 for data_type html in position 36\n",
      "length 52028 for data_type html in position 37\n",
      "length 31344 for data_type html in position 38\n",
      "length 21416 for data_type html in position 44\n",
      "length 30150 for data_type html in position 45\n",
      "length 23857 for data_type html in position 47\n",
      "length 44280 for data_type html in position 50\n",
      "length 70121 for data_type html in position 60\n",
      "length 72896 for data_type html in position 61\n",
      "length 66704 for data_type html in position 62\n",
      "length 64684 for data_type html in position 63\n",
      "length 28843 for data_type html in position 64\n",
      "length 36248 for data_type html in position 65\n",
      "length 55429 for data_type html in position 71\n",
      "length 26040 for data_type html in position 72\n",
      "length 89937 for data_type html in position 73\n",
      "length 54459 for data_type html in position 74\n",
      "length 41298 for data_type html in position 80\n",
      "length 24139 for data_type html in position 81\n",
      "length 37247 for data_type html in position 83\n",
      "length 345069 for data_type html in position 84\n",
      "length 26569 for data_type html in position 85\n",
      "length 109734 for data_type html in position 86\n",
      "length 20290 for data_type html in position 88\n",
      "length 25815 for data_type html in position 90\n",
      "length 208084 for data_type html in position 92\n",
      "length 40070 for data_type html in position 93\n",
      "length 120924 for data_type html in position 94\n",
      "length 366868 for data_type html in position 95\n",
      "length 21929 for data_type html in position 96\n",
      "length 31834 for data_type html in position 97\n",
      "length 136284 for data_type html in position 100\n",
      "length 20275 for data_type html in position 101\n",
      "length 61491 for data_type html in position 108\n",
      "length 304144 for data_type html in position 111\n",
      "length 27835 for data_type html in position 112\n",
      "length 41994 for data_type html in position 113\n",
      "length 21600 for data_type html in position 117\n",
      "length 79725 for data_type html in position 118\n",
      "length 22525 for data_type html in position 121\n",
      "length 23660 for data_type html in position 122\n",
      "length 112680 for data_type html in position 125\n",
      "length 35700 for data_type html in position 127\n",
      "length 42357 for data_type html in position 134\n",
      "length 34928 for data_type html in position 136\n",
      "length 64057 for data_type html in position 137\n",
      "length 123476 for data_type html in position 140\n",
      "length 34745 for data_type html in position 141\n",
      "length 31186 for data_type html in position 142\n",
      "length 28076 for data_type html in position 146\n",
      "length 33855 for data_type html in position 147\n",
      "length 36500 for data_type xml in position 148\n",
      "length 161794 for data_type html in position 149\n",
      "length 42832 for data_type html in position 151\n",
      "length 47821 for data_type html in position 155\n",
      "length 50209 for data_type html in position 160\n",
      "length 27494 for data_type html in position 161\n",
      "length 92809 for data_type html in position 162\n",
      "length 124679 for data_type html in position 170\n",
      "length 48309 for data_type html in position 171\n",
      "length 70519 for data_type html in position 175\n",
      "length 31961 for data_type html in position 178\n",
      "length 73749 for data_type html in position 180\n",
      "length 20576 for data_type html in position 183\n",
      "length 21086 for data_type html in position 184\n",
      "length 81266 for data_type html in position 186\n",
      "length 35669 for data_type html in position 187\n",
      "length 50629 for data_type html in position 190\n",
      "length 44413 for data_type html in position 191\n",
      "length 24697 for data_type html in position 194\n",
      "length 63276 for data_type html in position 195\n",
      "length 43005 for data_type html in position 196\n",
      "length 22785 for data_type html in position 201\n",
      "length 27959 for data_type html in position 203\n",
      "length 22014 for data_type html in position 205\n",
      "length 59573 for data_type html in position 207\n",
      "length 49944 for data_type html in position 210\n",
      "length 22846 for data_type html in position 212\n",
      "length 72796 for data_type html in position 213\n",
      "length 25815 for data_type html in position 215\n",
      "length 21306 for data_type html in position 220\n",
      "length 52514 for data_type html in position 221\n",
      "length 39526 for data_type html in position 222\n",
      "length 23732 for data_type html in position 223\n",
      "length 679352 for data_type html in position 224\n",
      "length 33820 for data_type html in position 227\n",
      "length 48764 for data_type html in position 230\n",
      "length 40334 for data_type html in position 237\n",
      "length 72011 for data_type html in position 241\n",
      "length 44929 for data_type html in position 243\n",
      "length 147239 for data_type html in position 245\n",
      "length 35749 for data_type html in position 251\n",
      "length 35964 for data_type html in position 253\n",
      "length 20160 for data_type html in position 256\n",
      "length 119209 for data_type html in position 261\n",
      "length 31314 for data_type html in position 263\n",
      "length 41104 for data_type html in position 264\n",
      "length 22629 for data_type html in position 270\n",
      "length 72964 for data_type html in position 272\n",
      "length 20560 for data_type html in position 278\n",
      "length 23767 for data_type html in position 280\n",
      "length 22053 for data_type html in position 283\n",
      "length 225687 for data_type html in position 288\n",
      "length 314199 for data_type html in position 291\n",
      "length 21020 for data_type html in position 292\n",
      "length 34381 for data_type html in position 293\n",
      "length 53435 for data_type html in position 294\n",
      "length 87300 for data_type html in position 297\n",
      "length 87601 for data_type html in position 298\n",
      "length 21423 for data_type html in position 305\n",
      "length 381929 for data_type html in position 306\n",
      "length 33929 for data_type html in position 309\n",
      "length 253424 for data_type html in position 310\n",
      "length 199139 for data_type html in position 312\n",
      "length 25286 for data_type html in position 313\n",
      "length 62636 for data_type html in position 315\n"
     ]
    }
   ],
   "source": [
    "# Loop through all files in the folder\n",
    "j=0\n",
    "for i in range(j, 35631):#urls_df.shape[0]):\n",
    "    if i%1000 == 0:\n",
    "        print(i)\n",
    "    content = extract_saved_web_data(i)\n",
    "    if content == '':\n",
    "        continue\n",
    "    contents_dict[i] = content\n",
    "            \n",
    "with gzip.open(rf'contents\\web_contents33.json.gz', 'wt') as file:\n",
    "    json.dump(contents_dict, file)"
   ]
  },
  {
   "cell_type": "code",
   "execution_count": 34,
   "metadata": {},
   "outputs": [
    {
     "data": {
      "text/plain": [
       "'htmls\\\\link_3065.pdf'"
      ]
     },
     "execution_count": 34,
     "metadata": {},
     "output_type": "execute_result"
    }
   ],
   "source": [
    "file_path"
   ]
  },
  {
   "cell_type": "code",
   "execution_count": 39,
   "metadata": {},
   "outputs": [
    {
     "data": {
      "text/plain": [
       "9599"
      ]
     },
     "execution_count": 39,
     "metadata": {},
     "output_type": "execute_result"
    }
   ],
   "source": [
    "with gzip.open(rf'contents\\web_contents.json.gz', 'r') as file:\n",
    "    web_contents2 = json.load(file)\n",
    "len(web_contents2['5'])"
   ]
  },
  {
   "cell_type": "code",
   "execution_count": 43,
   "metadata": {},
   "outputs": [
    {
     "data": {
      "text/plain": [
       "9599"
      ]
     },
     "execution_count": 43,
     "metadata": {},
     "output_type": "execute_result"
    }
   ],
   "source": [
    "len(contents_dict[5])"
   ]
  },
  {
   "cell_type": "code",
   "execution_count": 19,
   "metadata": {},
   "outputs": [
    {
     "data": {
      "text/plain": [
       "\"DUNKING | English meaning - Cambridge Dictionary\\nDictionary\\nTranslate\\nGrammar\\nThesaurus\\n+Plus\\nCambridge Dictionary +Plus\\nShop\\nCambridge Dictionary +Plus\\nMy profile\\n+Plus help\\nLog out\\nCambridge Dictionary +Plus\\nMy profile\\n+Plus help\\nLog out\\nLog in\\n/\\nSign up\\nEnglish (UK)\\nSearch\\nSearch\\nEnglish\\nMeaning of dunking in English\\ndunking\\nAdd to word list\\nAdd to word list\\npresent participle of\\ndunk\\ndunkverb [ T ] uk\\nYour browser doesn't support HTML5 audio\\n/dʌŋk/ us\\nYour browser doesn't support HTML5 audio\\n/dʌŋk/\\ndunk verb [T]\\n(INTO LIQUID)\\nto put a biscuit, piece of bread, etc. into a liquid such as tea, coffee, or soup for a short time before eating it:\\nShe dunked a biscuit in her coffee.\\ninformal to put something into liquid for a short time:\\nDunk the sponge in water every once in a while to stop it from drying out.\\nSMART Vocabulary: related words and phrases\\nBiting, chewing & swallowing\\nbit\\nbite\\nbiter\\nchamp\\nchew\\nchew on something\\nchomp\\ncrunch\\ndunk\\ngnaw\\nmasticate\\nmastication\\nmunch\\nnibble\\npeck\\npeck at something\\nrumination\\nsuck\\nunbitten\\nunchewable\\nSee more results »\\nYou can also find related words, phrases, and synonyms in the topics:\\nEnclosing, surrounding and immersing\\ndunk verb [T]\\n(BASKETBALL)\\nUS to slam-dunk\\nSMART Vocabulary: related words and phrases\\nBasketball, netball & volleyball\\nairball\\nalley-oop\\nb-ball\\nbackcourt\\nbackfield\\ncatch\\nfoul trouble\\nfree-throw lane\\nfree-throw line\\nfrontcourt\\nfull-court press\\nguard\\nlay\\npalm\\nrebound\\nrebounder\\nrebounding\\nrun-and-gun\\nset shot\\nshoot\\nSee more results »\\n(Definition of dunking from the Cambridge Advanced Learner's Dictionary & Thesaurus © Cambridge University Press)\\nExamples of dunking\\ndunking\\nIn English, many past and present participles of verbs can be used as adjectives. Some of these examples may show the adjective use.\\nThere are hull-mounted asdics, variable depth asdics, dunking asdics, sono buoys, and these, and many other devices, all add to the chances of detection.\\nFrom the Hansard archive\\nExample from the Hansard archive. Contains Parliamentary information licensed under the Open Parliament Licence v3.0\\nIt has always been my view that when trying to make a horse drink, we should offer encouragement before dunking its head in.\\nFrom the Hansard archive\\nExample from the Hansard archive. Contains Parliamentary information licensed under the Open Parliament Licence v3.0\\nReusing the components involved a process of dunking the entire model in a large bowl of warm water.\\nFrom Wikipedia\\nThis example is from Wikipedia and may be reused under a CC BY-SA license.\\nPulla is used instead to refer to a biscotti-like double-baked bread stick for dunking in coffee that is often made from leftover nisu.\\nFrom Wikipedia\\nThis example is from Wikipedia and may be reused under a CC BY-SA license.\\nIn many ways, the mechanism of volleyball spiking is not altogether different from the act of slam dunking in the sport of basketball.\\nFrom Wikipedia\\nThis example is from Wikipedia and may be reused under a CC BY-SA license.\\nThe soft, spongy consistency of the madeleine could seem like an odd choice as dunking is more common with crisp baked products, such as biscuits.\\nFrom Wikipedia\\nThis example is from Wikipedia and may be reused under a CC BY-SA license.\\nHe was known for his above-average dunking ability, and tenacious defense.\\nFrom Wikipedia\\nThis example is from Wikipedia and may be reused under a CC BY-SA license.\\nHis first dunk of the second round was an alley-oop from behind the basket which he put between his legs before dunking.\\nFrom Wikipedia\\nThis example is from Wikipedia and may be reused under a CC BY-SA license.\\nThe park also plays host to the annual town festival that has a 5k, dunking booth and food stands.\\nFrom Wikipedia\\nThis example is from Wikipedia and may be reused under a CC BY-SA license.\\nThis poor sap of a show feels as eager to be walloped as a clown in a carnival dunking booth.\\nFrom Wikipedia\\nThis example is from Wikipedia and may be reused under a CC BY-SA license.\\nA less idyllic tradition, but nevertheless integral to campus life at the time, was the practice of millrace dunking.\\nFrom Wikipedia\\nThis example is from Wikipedia and may be reused under a CC BY-SA license.\\nThe physics of dunking is driven by the porosity of the biscuit and the surface tension of the beverage.\\nFrom Wikipedia\\nThis example is from Wikipedia and may be reused under a CC BY-SA license.\\nThe anti-submarine version of the helicopter is fitted with dunking sonar, torpedoes, depth charges.\\nFrom Wikipedia\\nThis example is from Wikipedia and may be reused under a CC BY-SA license.\\nAttractions include the haunted houses and the dunking station in which prominent members of the student body and the faculty participate.\\nFrom Wikipedia\\nThis example is from Wikipedia and may be reused under a CC BY-SA license.\\nIn one of his dunks, he jumped over a painting of himself dunking, which he himself painted.\\nFrom Wikipedia\\nThis example is from Wikipedia and may be reused under a CC BY-SA license.\\nThese examples are from corpora and from sources on the web. Any opinions in the examples do not represent the opinion of the Cambridge Dictionary editors or of Cambridge University Press or its licensors.\\nC1\\nBrowse\\ndunite\\nBETA\\ndunk\\ndunk shot\\ndunked\\ndunking\\nDunkirk\\nDunkirk spirit\\nDunlop\\ndunnage\\nBETA\\nMore meanings of dunking\\nAll\\ndunk\\nslam-dunk\\nSee all meanings\\nWord of the Day\\nflexitarian\\nA flexitarian way of eating consists mainly of vegetarian food but with some meat.\\nAbout this\\nBlog\\nForget doing it or forget to do it? Avoiding common mistakes with verb patterns (2)\\nMarch 06, 2024\\nRead More\\nNew Words\\nstochastic parrot\\nMarch 04, 2024\\nMore new words\\nhas been added to list\\nTo top\\nContents\\nEnglishExamples\\n© Cambridge University Press & Assessment 2024\\nLearn\\nLearn\\nLearn\\nNew Words\\nHelp\\nIn Print\\nWord of the Year 2021\\nWord of the Year 2022\\nWord of the Year 2023\\nDevelop\\nDevelop\\nDevelop\\nDictionary API\\nDouble-Click Lookup\\nSearch Widgets\\nLicense Data\\nAbout\\nAbout\\nAbout\\nAccessibility\\nCambridge English\\nCambridge University Press & Assessment\\nConsent Management\\nCookies and Privacy\\nCorpus\\nTerms of Use\\n© Cambridge University Press & Assessment 2024\\nCambridge Dictionary +Plus\\nMy profile\\n+Plus help\\nLog out\\nDictionary\\nDefinitions\\nClear explanations of natural written and spoken English\\nEnglish\\nLearner’s Dictionary\\nEssential British English\\nEssential American English\\nTranslations\\nClick on the arrows to change the translation direction.\\nBilingual Dictionaries\\nEnglish–Chinese (Simplified)\\nChinese (Simplified)–English\\nEnglish–Chinese (Traditional)\\nChinese (Traditional)–English\\nEnglish–Dutch\\nDutch–English\\nEnglish–French\\nFrench–English\\nEnglish–German\\nGerman–English\\nEnglish–Indonesian\\nIndonesian–English\\nEnglish–Italian\\nItalian–English\\nEnglish–Japanese\\nJapanese–English\\nEnglish–Norwegian\\nNorwegian–English\\nEnglish–Polish\\nPolish–English\\nEnglish–Portuguese\\nPortuguese–English\\nEnglish–Spanish\\nSpanish–English\\nEnglish–Swedish\\nSwedish–English\\nSemi-bilingual Dictionaries\\nEnglish–Arabic\\nEnglish–Bengali\\nEnglish–Catalan\\nEnglish–Czech\\nEnglish–Danish\\nEnglish–Gujarati\\nEnglish–Hindi\\nEnglish–Korean\\nEnglish–Malay\\nEnglish–Marathi\\nEnglish–Russian\\nEnglish–Tamil\\nEnglish–Telugu\\nEnglish–Thai\\nEnglish–Turkish\\nEnglish–Ukrainian\\nEnglish–Urdu\\nEnglish–Vietnamese\\nTranslate\\nGrammar\\nThesaurus\\nPronunciation\\nCambridge Dictionary +Plus\\nShop\\nCambridge Dictionary +Plus\\nMy profile\\n+Plus help\\nLog out\\nLog in\\n/\\nSign up\\nEnglish (UK)\\nChange\\nEnglish (UK)\\nEnglish (US)\\nEspañol\\nРусский\\nPortuguês\\nDeutsch\\nFrançais\\nItaliano\\n中文 (简体)\\n正體中文 (繁體)\\nPolski\\n한국어\\nTürkçe\\n日本語\\nTiếng Việt\\nNederlands\\nSvenska\\nDansk\\nNorsk\\nहिंदी\\nবাঙ্গালি\\nमराठी\\nગુજરાતી\\nதமிழ்\\nతెలుగు\\nУкраїнська\\nFollow us\\nChoose a dictionary\\nRecent and Recommended\\nDefinitions\\nClear explanations of natural written and spoken English\\nEnglish\\nLearner’s Dictionary\\nEssential British English\\nEssential American English\\nGrammar and thesaurus\\nUsage explanations of natural written and spoken English\\nGrammar\\nThesaurus\\nPronunciation\\nBritish and American pronunciations with audio\\nEnglish Pronunciation\\nTranslation\\nClick on the arrows to change the translation direction.\\nBilingual Dictionaries\\nEnglish–Chinese (Simplified)\\nChinese (Simplified)–English\\nEnglish–Chinese (Traditional)\\nChinese (Traditional)–English\\nEnglish–Dutch\\nDutch–English\\nEnglish–French\\nFrench–English\\nEnglish–German\\nGerman–English\\nEnglish–Indonesian\\nIndonesian–English\\nEnglish–Italian\\nItalian–English\\nEnglish–Japanese\\nJapanese–English\\nEnglish–Norwegian\\nNorwegian–English\\nEnglish–Polish\\nPolish–English\\nEnglish–Portuguese\\nPortuguese–English\\nEnglish–Spanish\\nSpanish–English\\nEnglish–Swedish\\nSwedish–English\\nSemi-bilingual Dictionaries\\nEnglish–Arabic\\nEnglish–Bengali\\nEnglish–Catalan\\nEnglish–Czech\\nEnglish–Danish\\nEnglish–Gujarati\\nEnglish–Hindi\\nEnglish–Korean\\nEnglish–Malay\\nEnglish–Marathi\\nEnglish–Russian\\nEnglish–Tamil\\nEnglish–Telugu\\nEnglish–Thai\\nEnglish–Turkish\\nEnglish–Ukrainian\\nEnglish–Urdu\\nEnglish–Vietnamese\\nDictionary +Plus\\nWord Lists\\nChoose your language\\nEnglish (UK)\\nEnglish (US)\\nEspañol\\nРусский\\nPortuguês\\nDeutsch\\nFrançais\\nItaliano\\n中文 (简体)\\n正體中文 (繁體)\\nPolski\\n한국어\\nTürkçe\\n日本語\\nTiếng Việt\\nNederlands\\nSvenska\\nDansk\\nNorsk\\nहिंदी\\nবাঙ্গালি\\nमराठी\\nગુજરાતી\\nதமிழ்\\nతెలుగు\\nУкраїнська\\nContents\\nEnglish\\nVerb\\ndunk (INTO LIQUID)\\ndunk (BASKETBALL)\\nExamples\\nGrammar\\nAll translations\\nMy word lists\\nAdd dunking to one of your lists below, or create a new one.\\nMore\\nGo to your word lists\\nTell us about this example sentence:\\nThe word in the example sentence does not match the entry word.\\nThe sentence contains offensive content.\\nCancel\\nSubmit\\nThe word in the example sentence does not match the entry word.\\nThe sentence contains offensive content.\\nCancel\\nSubmit\""
      ]
     },
     "execution_count": 19,
     "metadata": {},
     "output_type": "execute_result"
    }
   ],
   "source": [
    "contents_dict[5]"
   ]
  }
 ],
 "metadata": {
  "kernelspec": {
   "display_name": "nlp1venv",
   "language": "python",
   "name": "python3"
  },
  "language_info": {
   "codemirror_mode": {
    "name": "ipython",
    "version": 3
   },
   "file_extension": ".py",
   "mimetype": "text/x-python",
   "name": "python",
   "nbconvert_exporter": "python",
   "pygments_lexer": "ipython3",
   "version": "3.11.7"
  }
 },
 "nbformat": 4,
 "nbformat_minor": 2
}
