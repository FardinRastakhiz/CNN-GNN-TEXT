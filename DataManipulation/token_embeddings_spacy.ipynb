{
 "cells": [
  {
   "cell_type": "code",
   "execution_count": 132,
   "metadata": {},
   "outputs": [],
   "source": [
    "import numpy as np\n",
    "import spacy\n",
    "from umap import UMAP"
   ]
  },
  {
   "cell_type": "code",
   "execution_count": 133,
   "metadata": {},
   "outputs": [],
   "source": [
    "nlp = spacy.load('en_core_web_lg', disable=['tok2vec','tagger', 'parser', 'attribute_ruler', 'lemmatizer', 'ner'])"
   ]
  },
  {
   "cell_type": "code",
   "execution_count": 134,
   "metadata": {},
   "outputs": [],
   "source": [
    "new_vocab_str = []\n",
    "vocab_vecs = []\n",
    "vector_keys = list(nlp.vocab.vectors.keys())\n",
    "for i in range(len(vector_keys)):\n",
    "    try:\n",
    "        t = nlp.vocab.strings[vector_keys[i]]\n",
    "        new_vocab_str.append(t)\n",
    "        vocab_vecs.append(nlp.vocab.vectors[t])\n",
    "    except:\n",
    "        continue"
   ]
  },
  {
   "cell_type": "code",
   "execution_count": 141,
   "metadata": {},
   "outputs": [
    {
     "name": "stdout",
     "output_type": "stream",
     "text": [
      "UMAP(n_components=128, verbose=True)\n",
      "Thu Nov 14 15:35:51 2024 Construct fuzzy simplicial set\n",
      "Thu Nov 14 15:35:52 2024 Finding Nearest Neighbors\n",
      "Thu Nov 14 15:35:52 2024 Building RP forest with 41 trees\n",
      "Thu Nov 14 15:37:45 2024 NN descent for 19 iterations\n",
      "\t 1  /  19\n",
      "\t 2  /  19\n",
      "\t 3  /  19\n",
      "\t 4  /  19\n",
      "\t 5  /  19\n",
      "\t 6  /  19\n",
      "\tStopping threshold met -- exiting after 6 iterations\n",
      "Thu Nov 14 15:38:39 2024 Finished Nearest Neighbor Search\n",
      "Thu Nov 14 15:39:05 2024 Construct embedding\n"
     ]
    },
    {
     "data": {
      "application/vnd.jupyter.widget-view+json": {
       "model_id": "d9fc6a28e0834eb5911c711149003e9e",
       "version_major": 2,
       "version_minor": 0
      },
      "text/plain": [
       "Epochs completed:   0%|            0/200 [00:00]"
      ]
     },
     "metadata": {},
     "output_type": "display_data"
    },
    {
     "name": "stdout",
     "output_type": "stream",
     "text": [
      "\tcompleted  0  /  200 epochs\n",
      "\tcompleted  20  /  200 epochs\n",
      "\tcompleted  40  /  200 epochs\n",
      "\tcompleted  60  /  200 epochs\n",
      "\tcompleted  80  /  200 epochs\n",
      "\tcompleted  100  /  200 epochs\n",
      "\tcompleted  120  /  200 epochs\n",
      "\tcompleted  140  /  200 epochs\n",
      "\tcompleted  160  /  200 epochs\n",
      "\tcompleted  180  /  200 epochs\n",
      "Thu Nov 14 17:00:48 2024 Finished embedding\n"
     ]
    },
    {
     "data": {
      "text/plain": [
       "(514157, 128)"
      ]
     },
     "execution_count": 141,
     "metadata": {},
     "output_type": "execute_result"
    }
   ],
   "source": [
    "reducer = UMAP(n_neighbors=15, n_components=128, verbose=True)\n",
    "embeddings = reducer.fit_transform(vocab_vecs)\n",
    "embeddings.shape"
   ]
  },
  {
   "cell_type": "code",
   "execution_count": 142,
   "metadata": {},
   "outputs": [],
   "source": [
    "with open(r'data\\ReducedEmbeddings\\spacy_lg_reduced_embeddings_128.npy', 'wb') as f:\n",
    "    np.save(f, embeddings, False)"
   ]
  },
  {
   "cell_type": "code",
   "execution_count": null,
   "metadata": {},
   "outputs": [],
   "source": []
  }
 ],
 "metadata": {
  "kernelspec": {
   "display_name": "Python 3",
   "language": "python",
   "name": "python3"
  },
  "language_info": {
   "codemirror_mode": {
    "name": "ipython",
    "version": 3
   },
   "file_extension": ".py",
   "mimetype": "text/x-python",
   "name": "python",
   "nbconvert_exporter": "python",
   "pygments_lexer": "ipython3",
   "version": "3.11.7"
  }
 },
 "nbformat": 4,
 "nbformat_minor": 2
}
